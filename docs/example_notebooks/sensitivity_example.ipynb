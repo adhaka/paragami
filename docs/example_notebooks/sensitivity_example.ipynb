{
 "cells": [
  {
   "cell_type": "code",
   "execution_count": 1,
   "metadata": {},
   "outputs": [],
   "source": [
    "import paragami\n",
    "\n",
    "import autograd\n",
    "from autograd import numpy as np\n",
    "import copy\n",
    "\n",
    "# Use the original scipy for functions we don't need to differentiate.\n",
    "import scipy as osp"
   ]
  },
  {
   "cell_type": "code",
   "execution_count": 2,
   "metadata": {},
   "outputs": [],
   "source": [
    "np.random.seed(42)\n",
    "\n",
    "num_obs = 500\n",
    "data_dim = 3\n",
    "\n",
    "# True values of parameters\n",
    "true_sigma = \\\n",
    "    np.eye(3) * np.diag(np.arange(0, data_dim)) + \\\n",
    "    np.random.random((data_dim, data_dim)) * 0.1\n",
    "true_sigma = 0.5 * (true_sigma + true_sigma.T)\n",
    "true_mu = np.arange(0, data_dim)\n",
    "\n",
    "true_norm_param_dict = dict()\n",
    "true_norm_param_dict['mu'] = true_mu\n",
    "true_norm_param_dict['sigma'] = true_sigma\n",
    "\n",
    "# Data\n",
    "data = np.random.multivariate_normal(\n",
    "    mean=true_norm_param_dict['mu'],\n",
    "    cov=true_norm_param_dict['sigma'],\n",
    "    size=(num_obs, ))"
   ]
  },
  {
   "cell_type": "code",
   "execution_count": 20,
   "metadata": {},
   "outputs": [
    {
     "name": "stdout",
     "output_type": "stream",
     "text": [
      "Loss at true parameter: 66.51345919899458\n"
     ]
    }
   ],
   "source": [
    "def get_mvn_log_probs(obs, mean, cov):\n",
    "    cov_inv = np.linalg.inv(cov)\n",
    "    cov_det_sign, cov_log_det = np.linalg.slogdet(cov)\n",
    "    if cov_det_sign <= 0:\n",
    "        return np.full(float('inf'), obs.shape[0])\n",
    "    else:\n",
    "        obs_centered = obs - np.expand_dims(mean, axis=0)\n",
    "        return -0.5 * (\n",
    "            np.einsum('ni,ij,nj->n', obs_centered, cov_inv, obs_centered) + \\\n",
    "            cov_log_det)\n",
    "\n",
    "def get_data_lp(data, norm_param_dict, weights):\n",
    "    data_lp = np.sum(weights *\n",
    "                     get_mvn_log_probs(\n",
    "                         data,\n",
    "                         mean=norm_param_dict['mu'],\n",
    "                         cov=norm_param_dict['sigma']))\n",
    "    return data_lp\n",
    "\n",
    "def get_prior_lp(norm_param_dict, prior_param_dict):\n",
    "    data_dim = len(prior_param_dict['prior_mean']) \n",
    "    prior_cov = np.eye(data_dim) * prior_param_dict['prior_sd']\n",
    "    prior_lp = get_mvn_log_probs(\n",
    "        obs=np.expand_dims(norm_param_dict['mu'], axis=0),\n",
    "        mean=prior_param_dict['prior_mean'],\n",
    "        cov=prior_cov)\n",
    "\n",
    "    # Sum so as to return a scalar.\n",
    "    return np.sum(prior_lp)\n",
    "\n",
    "def get_loss(data, norm_param_dict, prior_param_dict, weights):\n",
    "    return -1 * (get_prior_lp(norm_param_dict, prior_param_dict) +\n",
    "                 get_data_lp(data, norm_param_dict, weights))\n",
    "    \n",
    "class NormalModel():\n",
    "    def __init__(self, data):\n",
    "        self.data = data\n",
    "        self.num_obs = self.data.shape[0]\n",
    "        self.data_dim = self.data.shape[1]\n",
    "                \n",
    "        # Reasonable defaults for the priors and weights.\n",
    "        self.set_prior(np.full(self.data_dim, 0.), 10)\n",
    "        self.set_weights(np.full(self.num_obs, 1.0))\n",
    "                \n",
    "    def set_weights(self, weights):\n",
    "        self.weights = weights\n",
    "    \n",
    "    def set_prior(self, prior_mean, prior_sd):\n",
    "        self.prior_dict = dict()\n",
    "        self.prior_dict['prior_mean'] = prior_mean\n",
    "        self.prior_dict['prior_sd'] = prior_sd\n",
    "\n",
    "    def get_loss_for_opt(self, norm_param_dict):\n",
    "        return get_loss(\n",
    "            self.data, norm_param_dict, self.prior_dict, self.weights)\n",
    "    \n",
    "    def get_loss_by_prior(self, norm_param_dict, prior_dict):\n",
    "        return get_loss(\n",
    "            self.data, norm_param_dict, prior_dict, self.weights)\n",
    "\n",
    "    def get_loss_by_weights(self, norm_param_dict, weights):\n",
    "        return get_loss(\n",
    "            self.data, norm_param_dict, self.prior_dict, weights)\n",
    "\n",
    "    \n",
    "model = NormalModel(data)\n",
    "orig_prior_dict = copy.deepcopy(model.prior_dict)\n",
    "print('Loss at true parameter: {}'.format(model.get_loss_for_opt(true_norm_param_dict)))"
   ]
  },
  {
   "cell_type": "markdown",
   "metadata": {},
   "source": [
    "Define patterns."
   ]
  },
  {
   "cell_type": "code",
   "execution_count": 25,
   "metadata": {},
   "outputs": [],
   "source": [
    "norm_pattern = paragami.PatternDict()\n",
    "norm_pattern['mu'] = paragami.NumericArrayPattern(shape=(data_dim, ))\n",
    "norm_pattern['sigma'] = paragami.PSDMatrixPattern(size=data_dim)\n",
    "\n",
    "prior_pattern = paragami.PatternDict()\n",
    "prior_pattern['prior_mean'] = paragami.NumericArrayPattern(shape=(data_dim, ))\n",
    "prior_pattern['prior_sd'] = paragami.NumericArrayPattern(shape=(1, ), lb=0.0)\n",
    "\n",
    "weight_pattern = paragami.NumericArrayPattern(shape=(num_obs, ))"
   ]
  },
  {
   "cell_type": "code",
   "execution_count": 26,
   "metadata": {
    "scrolled": false
   },
   "outputs": [
    {
     "name": "stdout",
     "output_type": "stream",
     "text": [
      "Warning: A bad approximation caused failure to predict improvement.\n",
      "         Current function value: 61.949845\n",
      "         Iterations: 18\n",
      "         Function evaluations: 20\n",
      "         Gradient evaluations: 17\n",
      "         Hessian evaluations: 17\n"
     ]
    }
   ],
   "source": [
    "# Optimize.\n",
    "opt_fun = paragami.FlattenedFunction(\n",
    "    original_fun=model.get_loss_for_opt,\n",
    "    patterns=norm_pattern,\n",
    "    free=True)\n",
    "opt_fun_grad = autograd.grad(opt_fun)\n",
    "opt_fun_hessian = autograd.hessian(opt_fun)\n",
    "\n",
    "def get_optimum(init_param):\n",
    "    return osp.optimize.minimize(\n",
    "        method='trust-ncg',\n",
    "        x0=init_param,\n",
    "        fun=opt_fun,\n",
    "        jac=opt_fun_grad,\n",
    "        hess=opt_fun_hessian,\n",
    "        options={'gtol': 1e-8, 'disp': True})\n",
    "\n",
    "# Initialize with zeros.\n",
    "init_param = np.zeros(norm_pattern.flat_length(free=True))\n",
    "mle_opt = get_optimum(init_param)"
   ]
  },
  {
   "cell_type": "code",
   "execution_count": 27,
   "metadata": {},
   "outputs": [
    {
     "name": "stdout",
     "output_type": "stream",
     "text": [
      "OrderedDict([('mu', array([0.00834318, 0.95331727, 1.89785702])), ('sigma', array([[0.03865699, 0.08549517, 0.03813799],\n",
      "       [0.08549517, 1.05532374, 0.09781211],\n",
      "       [0.03813799, 0.09781211, 1.91488878]]))])\n",
      "{'sigma': array([[0.03745401, 0.07746864, 0.03950388],\n",
      "       [0.07746864, 1.01560186, 0.05110853],\n",
      "       [0.03950388, 0.05110853, 2.0601115 ]]), 'mu': array([0, 1, 2])}\n"
     ]
    }
   ],
   "source": [
    "opt_norm_param_dict = norm_pattern.fold(mle_opt.x, free=True)\n",
    "print(opt_norm_param_dict)\n",
    "print(true_norm_param_dict)"
   ]
  },
  {
   "cell_type": "code",
   "execution_count": 28,
   "metadata": {},
   "outputs": [
    {
     "ename": "AttributeError",
     "evalue": "'int' object has no attribute 'flatten'",
     "output_type": "error",
     "traceback": [
      "\u001b[0;31m---------------------------------------------------------------------------\u001b[0m",
      "\u001b[0;31mAttributeError\u001b[0m                            Traceback (most recent call last)",
      "\u001b[0;32m<ipython-input-28-3a7a184c98fa>\u001b[0m in \u001b[0;36m<module>\u001b[0;34m\u001b[0m\n\u001b[1;32m      8\u001b[0m         \u001b[0mvalidate_optimum\u001b[0m\u001b[0;34m=\u001b[0m\u001b[0;32mFalse\u001b[0m\u001b[0;34m,\u001b[0m\u001b[0;34m\u001b[0m\u001b[0m\n\u001b[1;32m      9\u001b[0m         \u001b[0mopt_par_is_free\u001b[0m\u001b[0;34m=\u001b[0m\u001b[0;32mTrue\u001b[0m\u001b[0;34m,\u001b[0m\u001b[0;34m\u001b[0m\u001b[0m\n\u001b[0;32m---> 10\u001b[0;31m         hyper_par_is_free=False)\n\u001b[0m",
      "\u001b[0;32m~/Documents/git_repos/paragami/paragami/optimization_lib.py\u001b[0m in \u001b[0;36m__init__\u001b[0;34m(self, objective_fun, opt_par_pattern, hyper_par_pattern, opt_par_folded_value, hyper_par_folded_value, opt_par_is_free, hyper_par_is_free, validate_optimum, hessian_at_opt, factorize_hessian, hyper_par_objective_fun)\u001b[0m\n\u001b[1;32m     54\u001b[0m         self.set_base_values(\n\u001b[1;32m     55\u001b[0m             \u001b[0mopt_par_folded_value\u001b[0m\u001b[0;34m,\u001b[0m \u001b[0mhyper_par_folded_value\u001b[0m\u001b[0;34m,\u001b[0m\u001b[0;34m\u001b[0m\u001b[0m\n\u001b[0;32m---> 56\u001b[0;31m             hessian_at_opt, factorize_hessian, validate=validate_optimum)\n\u001b[0m\u001b[1;32m     57\u001b[0m \u001b[0;34m\u001b[0m\u001b[0m\n\u001b[1;32m     58\u001b[0m     def set_base_values(self,\n",
      "\u001b[0;32m~/Documents/git_repos/paragami/paragami/optimization_lib.py\u001b[0m in \u001b[0;36mset_base_values\u001b[0;34m(self, opt_par_folded_value, hyper_par_folded_value, hessian_at_opt, factorize_hessian, validate, grad_tol)\u001b[0m\n\u001b[1;32m     65\u001b[0m             opt_par_folded_value, free=self._opt_par_is_free)\n\u001b[1;32m     66\u001b[0m         self._hyper0 = self._hyper_par_pattern.flatten(\n\u001b[0;32m---> 67\u001b[0;31m             hyper_par_folded_value, free=self._hyper_par_is_free)\n\u001b[0m\u001b[1;32m     68\u001b[0m \u001b[0;34m\u001b[0m\u001b[0m\n\u001b[1;32m     69\u001b[0m         \u001b[0;32mif\u001b[0m \u001b[0mvalidate\u001b[0m\u001b[0;34m:\u001b[0m\u001b[0;34m\u001b[0m\u001b[0m\n",
      "\u001b[0;32m~/Documents/git_repos/paragami/paragami/pattern_containers.py\u001b[0m in \u001b[0;36mflatten\u001b[0;34m(self, folded_val, free, validate)\u001b[0m\n\u001b[1;32m    148\u001b[0m             \u001b[0mflat_val\u001b[0m\u001b[0;34m[\u001b[0m\u001b[0moffset\u001b[0m\u001b[0;34m:\u001b[0m\u001b[0;34m(\u001b[0m\u001b[0moffset\u001b[0m \u001b[0;34m+\u001b[0m \u001b[0mpattern_flat_length\u001b[0m\u001b[0;34m)\u001b[0m\u001b[0;34m]\u001b[0m \u001b[0;34m=\u001b[0m\u001b[0;31m \u001b[0m\u001b[0;31m\\\u001b[0m\u001b[0;34m\u001b[0m\u001b[0m\n\u001b[1;32m    149\u001b[0m                 pattern.flatten(\n\u001b[0;32m--> 150\u001b[0;31m                     folded_val[pattern_name], free=free, validate=validate)\n\u001b[0m\u001b[1;32m    151\u001b[0m             \u001b[0moffset\u001b[0m \u001b[0;34m+=\u001b[0m \u001b[0mpattern_flat_length\u001b[0m\u001b[0;34m\u001b[0m\u001b[0m\n\u001b[1;32m    152\u001b[0m         \u001b[0;32mreturn\u001b[0m \u001b[0mflat_val\u001b[0m\u001b[0;34m\u001b[0m\u001b[0m\n",
      "\u001b[0;32m~/Documents/git_repos/paragami/paragami/numeric_array_patterns.py\u001b[0m in \u001b[0;36mflatten\u001b[0;34m(self, folded_val, free, validate)\u001b[0m\n\u001b[1;32m    180\u001b[0m             \u001b[0;32mreturn\u001b[0m \u001b[0mself\u001b[0m\u001b[0;34m.\u001b[0m\u001b[0m_free_flatten\u001b[0m\u001b[0;34m(\u001b[0m\u001b[0mfolded_val\u001b[0m\u001b[0;34m,\u001b[0m \u001b[0mvalidate\u001b[0m\u001b[0;34m)\u001b[0m\u001b[0;34m\u001b[0m\u001b[0m\n\u001b[1;32m    181\u001b[0m         \u001b[0;32melse\u001b[0m\u001b[0;34m:\u001b[0m\u001b[0;34m\u001b[0m\u001b[0m\n\u001b[0;32m--> 182\u001b[0;31m             \u001b[0;32mreturn\u001b[0m \u001b[0mself\u001b[0m\u001b[0;34m.\u001b[0m\u001b[0m_notfree_flatten\u001b[0m\u001b[0;34m(\u001b[0m\u001b[0mfolded_val\u001b[0m\u001b[0;34m,\u001b[0m \u001b[0mvalidate\u001b[0m\u001b[0;34m)\u001b[0m\u001b[0;34m\u001b[0m\u001b[0m\n\u001b[0m\u001b[1;32m    183\u001b[0m \u001b[0;34m\u001b[0m\u001b[0m\n\u001b[1;32m    184\u001b[0m     \u001b[0;32mdef\u001b[0m \u001b[0mshape\u001b[0m\u001b[0;34m(\u001b[0m\u001b[0mself\u001b[0m\u001b[0;34m)\u001b[0m\u001b[0;34m:\u001b[0m\u001b[0;34m\u001b[0m\u001b[0m\n",
      "\u001b[0;32m~/Documents/git_repos/paragami/paragami/numeric_array_patterns.py\u001b[0m in \u001b[0;36m_notfree_flatten\u001b[0;34m(self, folded_val, validate)\u001b[0m\n\u001b[1;32m    165\u001b[0m     \u001b[0;32mdef\u001b[0m \u001b[0m_notfree_flatten\u001b[0m\u001b[0;34m(\u001b[0m\u001b[0mself\u001b[0m\u001b[0;34m,\u001b[0m \u001b[0mfolded_val\u001b[0m\u001b[0;34m,\u001b[0m \u001b[0mvalidate\u001b[0m\u001b[0;34m=\u001b[0m\u001b[0;32mNone\u001b[0m\u001b[0;34m)\u001b[0m\u001b[0;34m:\u001b[0m\u001b[0;34m\u001b[0m\u001b[0m\n\u001b[1;32m    166\u001b[0m         \u001b[0mself\u001b[0m\u001b[0;34m.\u001b[0m\u001b[0mcheck_folded\u001b[0m\u001b[0;34m(\u001b[0m\u001b[0mfolded_val\u001b[0m\u001b[0;34m,\u001b[0m \u001b[0mvalidate\u001b[0m\u001b[0;34m)\u001b[0m\u001b[0;34m\u001b[0m\u001b[0m\n\u001b[0;32m--> 167\u001b[0;31m         \u001b[0;32mreturn\u001b[0m \u001b[0mfolded_val\u001b[0m\u001b[0;34m.\u001b[0m\u001b[0mflatten\u001b[0m\u001b[0;34m(\u001b[0m\u001b[0;34m)\u001b[0m\u001b[0;34m\u001b[0m\u001b[0m\n\u001b[0m\u001b[1;32m    168\u001b[0m \u001b[0;34m\u001b[0m\u001b[0m\n\u001b[1;32m    169\u001b[0m     \u001b[0;32mdef\u001b[0m \u001b[0mfold\u001b[0m\u001b[0;34m(\u001b[0m\u001b[0mself\u001b[0m\u001b[0;34m,\u001b[0m \u001b[0mflat_val\u001b[0m\u001b[0;34m,\u001b[0m \u001b[0mfree\u001b[0m\u001b[0;34m,\u001b[0m \u001b[0mvalidate\u001b[0m\u001b[0;34m=\u001b[0m\u001b[0;32mNone\u001b[0m\u001b[0;34m)\u001b[0m\u001b[0;34m:\u001b[0m\u001b[0;34m\u001b[0m\u001b[0m\n",
      "\u001b[0;31mAttributeError\u001b[0m: 'int' object has no attribute 'flatten'"
     ]
    }
   ],
   "source": [
    "prior_sens = \\\n",
    "    paragami.HyperparameterSensitivityLinearApproximation(\n",
    "        objective_fun=model.get_loss_by_prior,\n",
    "        opt_par_pattern=norm_pattern,\n",
    "        hyper_par_pattern=prior_pattern,\n",
    "        opt_par_folded_value=opt_norm_param_dict,\n",
    "        hyper_par_folded_value=model.prior_dict,\n",
    "        validate_optimum=False,\n",
    "        opt_par_is_free=True,\n",
    "        hyper_par_is_free=False)"
   ]
  },
  {
   "cell_type": "code",
   "execution_count": 8,
   "metadata": {
    "collapsed": true
   },
   "outputs": [],
   "source": [
    "# This helper function lets us easily see the differences in parameters.\n",
    "def get_norm_param_diff(par1, par2):\n",
    "    diff = \\\n",
    "        norm_pattern.flatten(par1, free=False, validate=False) - \\\n",
    "        norm_pattern.flatten(par2, free=False, validate=False)\n",
    "    return norm_pattern.fold(diff, free=False, validate=False)"
   ]
  },
  {
   "cell_type": "code",
   "execution_count": 9,
   "metadata": {},
   "outputs": [
    {
     "name": "stdout",
     "output_type": "stream",
     "text": [
      "Warning: A bad approximation caused failure to predict improvement.\n",
      "         Current function value: 212.694887\n",
      "         Iterations: 12\n",
      "         Function evaluations: 14\n",
      "         Gradient evaluations: 13\n",
      "         Hessian evaluations: 13\n"
     ]
    }
   ],
   "source": [
    "# Change the prior.\n",
    "new_prior_dict = copy.deepcopy(orig_prior_dict)\n",
    "change_mean = False\n",
    "change_cov = True\n",
    "if change_mean:\n",
    "    new_prior_dict['prior_mean'] = orig_prior_dict['prior_mean'] + 10\n",
    "if change_cov:\n",
    "    new_prior_dict['prior_cov'] = 0.001 * orig_prior_dict['prior_cov']\n",
    "\n",
    "# Get the linear prediction at the new prior.\n",
    "pred_norm_param_dict = \\\n",
    "    prior_sens.predict_opt_par_from_hyper_par(new_prior_dict)\n",
    "\n",
    "# Re-optimize to check the prior sensitivity.\n",
    "model.prior_dict = new_prior_dict\n",
    "new_opt_par = get_optimum(norm_pattern.flatten(opt_norm_param_dict, free=True))\n",
    "new_norm_param_dict = norm_pattern.fold(new_opt_par.x, free=True)\n"
   ]
  },
  {
   "cell_type": "code",
   "execution_count": 10,
   "metadata": {},
   "outputs": [
    {
     "name": "stdout",
     "output_type": "stream",
     "text": [
      "Predicted mu differences:\n",
      "[-3.08005884e-05 -2.38177322e-04 -7.44514769e-04]\n",
      "Actual mu differences:\n",
      "[-0.02730183 -0.22125823 -0.62122988]\n",
      "Predicted sigma differences:\n",
      "[[1.89986626e-09 1.46910782e-08 4.59252342e-08]\n",
      " [1.46910782e-08 1.13601566e-07 3.55125641e-07]\n",
      " [4.59252342e-08 3.55125641e-07 1.11014540e-06]]\n",
      "Actual sigma differences:\n",
      "[[0.00074707 0.00605409 0.01700023]\n",
      " [0.00605409 0.04906074 0.13776533]\n",
      " [0.01700023 0.13776533 0.38685287]]\n"
     ]
    }
   ],
   "source": [
    "# Look at the differences.\n",
    "pred_diff = get_norm_param_diff(\n",
    "    pred_norm_param_dict, opt_norm_param_dict)\n",
    "true_diff = get_norm_param_diff(\n",
    "    new_norm_param_dict, opt_norm_param_dict)\n",
    "for param in ['mu', 'sigma']:\n",
    "    print('Predicted {} differences:\\n{}'.format(param, pred_diff[param]))\n",
    "    print('Actual {} differences:\\n{}'.format(param, true_diff[param]))\n"
   ]
  },
  {
   "cell_type": "code",
   "execution_count": 19,
   "metadata": {},
   "outputs": [
    {
     "name": "stdout",
     "output_type": "stream",
     "text": [
      "OrderedDict:\n",
      "\t[prior_mean] = Array (3,) (lb=-inf, ub=inf)\n",
      "\t[prior_cov] = PDMatrix 3x3 (diag_lb = 0.0)\n",
      "OrderedDict:\n",
      "\t[mu] = Array (3,) (lb=-inf, ub=inf)\n",
      "\t[sigma] = PDMatrix 3x3 (diag_lb = 0.0)\n"
     ]
    },
    {
     "data": {
      "image/png": "[encoded data removed]",
      "text/plain": [
       "<Figure size 288x288 with 1 Axes>"
      ]
     },
     "metadata": {},
     "output_type": "display_data"
    }
   ],
   "source": [
    "cross_hess = prior_sens._hyper_obj_cross_hess(prior_sens._opt0, prior_sens._hyper0)\n",
    "plt.matshow(cross_hess == 0)\n",
    "print(prior_pattern)\n",
    "print(norm_pattern)"
   ]
  },
  {
   "cell_type": "code",
   "execution_count": 11,
   "metadata": {},
   "outputs": [
    {
     "name": "stdout",
     "output_type": "stream",
     "text": [
      "[[ 7.73098959e-06  1.70951517e-05  7.62429175e-06  6.45010172e-09\n",
      "   7.51271374e-07  1.62971032e-06  1.47359237e-06  3.97125225e-06\n",
      "   1.44698156e-06]\n",
      " [ 1.70951517e-05  2.11019615e-04  1.95507177e-05  1.42627882e-08\n",
      "   1.80576773e-06  2.01168643e-05  3.26072686e-06  4.19123095e-05\n",
      "   3.71044667e-06]\n",
      " [ 7.62429175e-06  1.95507177e-05  3.82830937e-04  6.36108182e-09\n",
      "   7.43148407e-07  1.86380367e-06  1.76638420e-06  4.02063809e-05\n",
      "   7.26558381e-05]\n",
      " [-6.16795395e-09 -1.36388889e-08 -6.08282805e-09 -5.14603337e-12\n",
      "  -5.99380867e-10 -1.30021883e-09 -1.17566448e-09 -3.16835260e-09\n",
      "  -1.15443379e-09]\n",
      " [-9.37677144e-09 -4.79058450e-08 -9.66955615e-09 -7.82320670e-12\n",
      "  -9.33872507e-10 -4.56694692e-09 -1.78764463e-09 -1.00136599e-08\n",
      "  -1.83514350e-09]\n",
      " [ 5.85992030e-13 -3.40470418e-08 -5.28473198e-10  4.88903543e-16\n",
      "  -2.83501871e-11 -3.24576328e-09 -3.29701652e-13 -6.51202198e-09\n",
      "  -1.00296657e-10]\n",
      " [-2.93150572e-08 -6.52451202e-08 -8.77829502e-08 -2.44580721e-11\n",
      "  -2.84909018e-09 -6.21992996e-09 -5.63681757e-09 -2.07510911e-08\n",
      "  -1.66599488e-08]\n",
      " [ 2.81343850e-12 -1.33086245e-07 -7.07192571e-08  2.34730163e-15\n",
      "  -1.10768005e-10 -1.26873416e-08 -5.84683799e-11 -3.19996554e-08\n",
      "  -1.34215038e-08]\n",
      " [ 1.08476606e-12  2.77307834e-12 -1.42440604e-07  9.05039565e-16\n",
      "   1.05726250e-13  2.64362346e-13 -1.18634849e-10 -1.35785824e-08\n",
      "  -2.70331900e-08]]\n"
     ]
    },
    {
     "data": {
      "text/plain": [
       "<matplotlib.colorbar.Colorbar at 0x7f4fb906ca20>"
      ]
     },
     "execution_count": 11,
     "metadata": {},
     "output_type": "execute_result"
    },
    {
     "data": {
      "image/png": "[encoded data removed]",
      "text/plain": [
       "<Figure size 432x288 with 2 Axes>"
      ]
     },
     "metadata": {},
     "output_type": "display_data"
    }
   ],
   "source": [
    "import matplotlib.pyplot as plt\n",
    "%matplotlib inline\n",
    "\n",
    "# Note: it does not seem to be working for sigma.\n",
    "\n",
    "print(prior_sens.get_dopt_dhyper())\n",
    "\n",
    "plt.imshow(prior_sens.get_dopt_dhyper())\n",
    "plt.colorbar()\n"
   ]
  }
 ],
 "metadata": {
  "kernelspec": {
   "display_name": "Python 3",
   "language": "python",
   "name": "python3"
  },
  "language_info": {
   "codemirror_mode": {
    "name": "ipython",
    "version": 3
   },
   "file_extension": ".py",
   "mimetype": "text/x-python",
   "name": "python",
   "nbconvert_exporter": "python",
   "pygments_lexer": "ipython3",
   "version": "3.5.2"
  }
 },
 "nbformat": 4,
 "nbformat_minor": 2
}
