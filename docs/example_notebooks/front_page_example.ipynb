{
 "cells": [
  {
   "cell_type": "code",
   "execution_count": 1,
   "metadata": {
    "collapsed": true
   },
   "outputs": [],
   "source": [
    "import paragami\n",
    "\n",
    "import autograd\n",
    "from autograd import numpy as np\n",
    "\n",
    "# Use the original scipy for functions we don't need to differentiate.\n",
    "import scipy as osp"
   ]
  },
  {
   "cell_type": "markdown",
   "metadata": {},
   "source": [
    "For illustration, let's consider a simple example: a Gaussian maximum likelihood estimator.\n",
    "\n",
    "$$\n",
    "x_n \\overset{iid}\\sim \\mathcal{N}(\\mu, \\Sigma)\\textrm{, for }n=1,...,N.\n",
    "$$\n",
    "\n",
    "Let $X = (x_1, ..., x_N)$.  We will minimize the loss\n",
    "\n",
    "$$\n",
    "\\ell(X, \\mu, \\Sigma) = \\frac{1}{2}\\sum_{n=1}^N \\left((x_n - \\mu)^T \\Sigma^{-1} (x_n - \\mu) + \\log |\\Sigma| \\right).\n",
    "$$\n",
    "\n"
   ]
  },
  {
   "cell_type": "code",
   "execution_count": 2,
   "metadata": {},
   "outputs": [
    {
     "name": "stdout",
     "output_type": "stream",
     "text": [
      "X shape: (1000, 3)\n",
      "dict mu:  [0 1 2]\n",
      "mu:  [0 1 2]\n",
      "Loss at true parameter: 2392.751922600241\n"
     ]
    }
   ],
   "source": [
    "np.random.seed(42)\n",
    "\n",
    "num_obs = 1000\n",
    "\n",
    "# True values of parameters\n",
    "true_sigma = \\\n",
    "    np.eye(3) * np.diag(np.array([1, 2, 3])) + \\\n",
    "    np.random.random((3, 3)) * 0.1\n",
    "true_sigma = 0.5 * (true_sigma + true_sigma.T)\n",
    "\n",
    "true_mu = np.array([0, 1, 2])\n",
    "\n",
    "# Data\n",
    "def draw_data(num_obs, true_sigma, true_mu):\n",
    "    return np.random.multivariate_normal(\n",
    "        mean=true_mu, cov=true_sigma, size=(num_obs, ))\n",
    "\n",
    "x = draw_data(num_obs, true_sigma, true_mu)\n",
    "print('X shape: {}'.format(x.shape))\n",
    "\n",
    "# It will be useful later to have a function that evalutes the loss at each datapoint.\n",
    "# The loss is the negative log likelihood.\n",
    "def get_observation_loss(x, sigma, mu):\n",
    "    sigma_inv = np.linalg.inv(sigma)\n",
    "    sigma_det_sign, sigma_log_det = np.linalg.slogdet(sigma)\n",
    "    if sigma_det_sign <= 0:\n",
    "        return np.full(float('inf'), x.shape[0])\n",
    "    else:\n",
    "        x_centered = x - np.expand_dims(mu, axis=0)\n",
    "        return 0.5 * (\n",
    "            np.einsum('ni,ij,nj->n', x_centered, sigma_inv, x_centered) + \\\n",
    "            sigma_log_det)\n",
    "\n",
    "def get_loss(x, norm_param_dict):\n",
    "    return np.sum(\n",
    "        get_observation_loss(\n",
    "            x, norm_param_dict['sigma'], norm_param_dict['mu']))\n",
    "\n",
    "true_norm_param_dict = dict()\n",
    "true_norm_param_dict['sigma'] = true_sigma\n",
    "true_norm_param_dict['mu'] = true_mu\n",
    "\n",
    "print('Loss at true parameter: {}'.format(get_loss(x, true_norm_param_dict)))"
   ]
  },
  {
   "cell_type": "markdown",
   "metadata": {},
   "source": [
    "Note that we have written our loss as a function of a *dictionary of parameters*.  We can use `paragami` to convert such a dictionary to and from a flat, unconstrained parameterization for optimization and sensitivity analysis."
   ]
  },
  {
   "cell_type": "code",
   "execution_count": 3,
   "metadata": {},
   "outputs": [
    {
     "name": "stdout",
     "output_type": "stream",
     "text": [
      "Here is the pattern definition: OrderedDict:\n",
      "\t[sigma] = PDMatrix 3x3 (diag_lb = 0.0)\n",
      "\t[mu] = Array (3,) (lb=-inf, ub=inf)\n",
      "The flat parameter has shape: (9,)\n",
      "The flat parameter has value: [0.01838482 0.0760574  0.34902187 0.03878424 0.03397008 0.55879116\n",
      " 0.         1.         2.        ]\n"
     ]
    }
   ],
   "source": [
    "# We make a pattern that matches the input to `get_loss`.\n",
    "norm_param_pattern = paragami.PatternDict()\n",
    "norm_param_pattern['sigma'] = paragami.PSDMatrixPattern(size=3)\n",
    "norm_param_pattern['mu'] = paragami.NumericArrayPattern(shape=(3, ))\n",
    "\n",
    "norm_param_freeflat = norm_param_pattern.flatten(true_norm_param_dict, free=True)\n",
    "\n",
    "print('Here is the pattern definition: {}'.format(norm_param_pattern))\n",
    "print('The flat parameter has shape: {}'.format(norm_param_freeflat.shape))\n",
    "print('The flat parameter has value: {}'.format(norm_param_freeflat))"
   ]
  },
  {
   "cell_type": "code",
   "execution_count": 4,
   "metadata": {},
   "outputs": [],
   "source": [
    "# def pack(free_vec):\n",
    "#     res_dict = norm_param_pattern.fold(free_vec, free=True)\n",
    "#     return np.sum(get_observation_loss(x, true_sigma, res_dict['mu']))\n",
    "\n",
    "# pack(init_param)\n",
    "# gradtest = autograd.jacobian(pack)\n",
    "# #gradtest(init_param)\n"
   ]
  },
  {
   "cell_type": "markdown",
   "metadata": {},
   "source": [
    "We can use this flat parameter to optimize the likelihood directly without worrying about the PSD constraint on $\\Sigma$."
   ]
  },
  {
   "cell_type": "code",
   "execution_count": 5,
   "metadata": {},
   "outputs": [
    {
     "name": "stdout",
     "output_type": "stream",
     "text": [
      "First, wrap the loss to be a function of the flat parameter.\n",
      "The resulting function: Function: <function get_loss at 0x7f3565211158>\n",
      "argnums: [1]\n",
      "free: [ True]\n",
      "patterns: [<paragami.pattern_containers.PatternDict object at 0x7f35652278d0>]\n",
      "\n",
      "Now, use the flattened function to optimize with autograd.\n",
      "\n",
      "dict mu:  Autograd ArrayBox with value [1. 1. 1.]\n",
      "mu:  Autograd ArrayBox with value [1. 1. 1.]\n",
      "dict mu:  Autograd ArrayBox with value Autograd ArrayBox with value [1. 1. 1.]\n",
      "mu:  Autograd ArrayBox with value Autograd ArrayBox with value [1. 1. 1.]\n",
      "dict mu:  [1. 1. 1.]\n",
      "mu:  [1. 1. 1.]\n",
      "dict mu:  [0.81348868 1.0019931  1.13976179]\n",
      "mu:  [0.81348868 1.0019931  1.13976179]\n",
      "dict mu:  Autograd ArrayBox with value [0.81348868 1.0019931  1.13976179]\n",
      "mu:  Autograd ArrayBox with value [0.81348868 1.0019931  1.13976179]\n",
      "dict mu:  Autograd ArrayBox with value Autograd ArrayBox with value [0.81348868 1.0019931  1.13976179]\n",
      "mu:  Autograd ArrayBox with value Autograd ArrayBox with value [0.81348868 1.0019931  1.13976179]\n",
      "dict mu:  [0.03585941 1.06709228 1.52043786]\n",
      "mu:  [0.03585941 1.06709228 1.52043786]\n",
      "dict mu:  Autograd ArrayBox with value [0.03585941 1.06709228 1.52043786]\n",
      "mu:  Autograd ArrayBox with value [0.03585941 1.06709228 1.52043786]\n",
      "dict mu:  Autograd ArrayBox with value Autograd ArrayBox with value [0.03585941 1.06709228 1.52043786]\n",
      "mu:  Autograd ArrayBox with value Autograd ArrayBox with value [0.03585941 1.06709228 1.52043786]\n",
      "dict mu:  [-0.31381154  0.75975009  2.18461024]\n",
      "mu:  [-0.31381154  0.75975009  2.18461024]\n",
      "dict mu:  [-0.0776435   1.01044489  1.64588463]\n",
      "mu:  [-0.0776435   1.01044489  1.64588463]\n",
      "dict mu:  Autograd ArrayBox with value [-0.0776435   1.01044489  1.64588463]\n",
      "mu:  Autograd ArrayBox with value [-0.0776435   1.01044489  1.64588463]\n",
      "dict mu:  Autograd ArrayBox with value Autograd ArrayBox with value [-0.0776435   1.01044489  1.64588463]\n",
      "mu:  Autograd ArrayBox with value Autograd ArrayBox with value [-0.0776435   1.01044489  1.64588463]\n",
      "dict mu:  [-0.03758971  0.96089415  1.8729028 ]\n",
      "mu:  [-0.03758971  0.96089415  1.8729028 ]\n",
      "dict mu:  Autograd ArrayBox with value [-0.03758971  0.96089415  1.8729028 ]\n",
      "mu:  Autograd ArrayBox with value [-0.03758971  0.96089415  1.8729028 ]\n",
      "dict mu:  Autograd ArrayBox with value Autograd ArrayBox with value [-0.03758971  0.96089415  1.8729028 ]\n",
      "mu:  Autograd ArrayBox with value Autograd ArrayBox with value [-0.03758971  0.96089415  1.8729028 ]\n",
      "dict mu:  [-0.0393534   0.97955093  1.87078855]\n",
      "mu:  [-0.0393534   0.97955093  1.87078855]\n",
      "dict mu:  Autograd ArrayBox with value [-0.0393534   0.97955093  1.87078855]\n",
      "mu:  Autograd ArrayBox with value [-0.0393534   0.97955093  1.87078855]\n",
      "dict mu:  Autograd ArrayBox with value Autograd ArrayBox with value [-0.0393534   0.97955093  1.87078855]\n",
      "mu:  Autograd ArrayBox with value Autograd ArrayBox with value [-0.0393534   0.97955093  1.87078855]\n",
      "dict mu:  [-0.04203061  0.99597693  1.86774698]\n",
      "mu:  [-0.04203061  0.99597693  1.86774698]\n",
      "dict mu:  Autograd ArrayBox with value [-0.04203061  0.99597693  1.86774698]\n",
      "mu:  Autograd ArrayBox with value [-0.04203061  0.99597693  1.86774698]\n",
      "dict mu:  Autograd ArrayBox with value Autograd ArrayBox with value [-0.04203061  0.99597693  1.86774698]\n",
      "mu:  Autograd ArrayBox with value Autograd ArrayBox with value [-0.04203061  0.99597693  1.86774698]\n",
      "dict mu:  [-0.04688188  1.0358582   1.85759809]\n",
      "mu:  [-0.04688188  1.0358582   1.85759809]\n",
      "dict mu:  Autograd ArrayBox with value [-0.04688188  1.0358582   1.85759809]\n",
      "mu:  Autograd ArrayBox with value [-0.04688188  1.0358582   1.85759809]\n",
      "dict mu:  Autograd ArrayBox with value Autograd ArrayBox with value [-0.04688188  1.0358582   1.85759809]\n",
      "mu:  Autograd ArrayBox with value Autograd ArrayBox with value [-0.04688188  1.0358582   1.85759809]\n",
      "dict mu:  [-0.04328125  1.03028112  1.85555419]\n",
      "mu:  [-0.04328125  1.03028112  1.85555419]\n",
      "dict mu:  Autograd ArrayBox with value [-0.04328125  1.03028112  1.85555419]\n",
      "mu:  Autograd ArrayBox with value [-0.04328125  1.03028112  1.85555419]\n",
      "dict mu:  Autograd ArrayBox with value Autograd ArrayBox with value [-0.04328125  1.03028112  1.85555419]\n",
      "mu:  Autograd ArrayBox with value Autograd ArrayBox with value [-0.04328125  1.03028112  1.85555419]\n",
      "dict mu:  [-0.04506597  1.03092922  1.85529214]\n",
      "mu:  [-0.04506597  1.03092922  1.85529214]\n",
      "dict mu:  Autograd ArrayBox with value [-0.04506597  1.03092922  1.85529214]\n",
      "mu:  Autograd ArrayBox with value [-0.04506597  1.03092922  1.85529214]\n",
      "dict mu:  Autograd ArrayBox with value Autograd ArrayBox with value [-0.04506597  1.03092922  1.85529214]\n",
      "mu:  Autograd ArrayBox with value Autograd ArrayBox with value [-0.04506597  1.03092922  1.85529214]\n",
      "dict mu:  [-0.0445544   1.03092526  1.85516405]\n",
      "mu:  [-0.0445544   1.03092526  1.85516405]\n",
      "dict mu:  Autograd ArrayBox with value [-0.0445544   1.03092526  1.85516405]\n",
      "mu:  Autograd ArrayBox with value [-0.0445544   1.03092526  1.85516405]\n",
      "dict mu:  Autograd ArrayBox with value Autograd ArrayBox with value [-0.0445544   1.03092526  1.85516405]\n",
      "mu:  Autograd ArrayBox with value Autograd ArrayBox with value [-0.0445544   1.03092526  1.85516405]\n",
      "dict mu:  [-0.04473079  1.03094328  1.85513595]\n",
      "mu:  [-0.04473079  1.03094328  1.85513595]\n",
      "dict mu:  Autograd ArrayBox with value [-0.04473079  1.03094328  1.85513595]\n",
      "mu:  Autograd ArrayBox with value [-0.04473079  1.03094328  1.85513595]\n",
      "dict mu:  Autograd ArrayBox with value Autograd ArrayBox with value [-0.04473079  1.03094328  1.85513595]\n",
      "mu:  Autograd ArrayBox with value Autograd ArrayBox with value [-0.04473079  1.03094328  1.85513595]\n",
      "dict mu:  [-0.04469438  1.0309402   1.85511869]\n",
      "mu:  [-0.04469438  1.0309402   1.85511869]\n",
      "dict mu:  Autograd ArrayBox with value [-0.04469438  1.0309402   1.85511869]\n",
      "mu:  Autograd ArrayBox with value [-0.04469438  1.0309402   1.85511869]\n",
      "dict mu:  Autograd ArrayBox with value Autograd ArrayBox with value [-0.04469438  1.0309402   1.85511869]\n",
      "mu:  Autograd ArrayBox with value Autograd ArrayBox with value [-0.04469438  1.0309402   1.85511869]\n",
      "dict mu:  [-0.04469438  1.03094019  1.85511868]\n",
      "mu:  [-0.04469438  1.03094019  1.85511868]\n",
      "dict mu:  Autograd ArrayBox with value [-0.04469438  1.03094019  1.85511868]\n",
      "mu:  Autograd ArrayBox with value [-0.04469438  1.03094019  1.85511868]\n",
      "dict mu:  Autograd ArrayBox with value Autograd ArrayBox with value [-0.04469438  1.03094019  1.85511868]\n",
      "mu:  Autograd ArrayBox with value Autograd ArrayBox with value [-0.04469438  1.03094019  1.85511868]\n",
      "dict mu:  [-0.04469438  1.03094019  1.85511868]\n",
      "mu:  [-0.04469438  1.03094019  1.85511868]\n",
      "Warning: A bad approximation caused failure to predict improvement.\n",
      "         Current function value: 2385.942776\n",
      "         Iterations: 14\n",
      "         Function evaluations: 16\n",
      "         Gradient evaluations: 14\n",
      "         Hessian evaluations: 14\n"
     ]
    }
   ],
   "source": [
    "print('First, wrap the loss to be a function of the flat parameter.')\n",
    "get_freeflat_loss = paragami.FlattenedFunction(\n",
    "    original_fun=get_loss,\n",
    "    patterns=norm_param_pattern,\n",
    "    free=True,\n",
    "    argnums=1)\n",
    "print('The resulting function: {}'.format(get_freeflat_loss))\n",
    "\n",
    "print('\\nNow, use the flattened function to optimize with autograd.\\n')\n",
    "\n",
    "get_freeflat_loss_grad = autograd.grad(get_freeflat_loss, argnum=1)\n",
    "get_freeflat_loss_hessian = autograd.hessian(get_freeflat_loss, argnum=1)\n",
    "\n",
    "def get_optimum(x, init_param):\n",
    "    loss_opt = osp.optimize.minimize(\n",
    "        method='trust-ncg',\n",
    "        x0=init_param,\n",
    "        fun=lambda par: get_freeflat_loss(x, par),\n",
    "        jac=lambda par: get_freeflat_loss_grad(x, par),\n",
    "        hess=lambda par: get_freeflat_loss_hessian(x, par),\n",
    "        options={'gtol': 1e-8, 'disp': True})\n",
    "    return loss_opt\n",
    "\n",
    "# Initialize with zeros as long as the flat length of the normal parameters.\n",
    "init_param = np.full(norm_param_pattern.flat_length(free=True), 1)\n",
    "mle_opt = get_optimum(x, init_param)"
   ]
  },
  {
   "cell_type": "code",
   "execution_count": 6,
   "metadata": {},
   "outputs": [
    {
     "name": "stdout",
     "output_type": "stream",
     "text": [
      "dict mu:  [1 5 1]\n",
      "mu:  [1 5 1]\n",
      "[-0.04469438  1.03094019  1.85511868]\n",
      "dict mu:  Autograd ArrayBox with value [1 5 1]\n",
      "mu:  Autograd ArrayBox with value [1 5 1]\n",
      "[  787  -224 -1496   144   489  -325    43   612  -346]\n",
      "OrderedDict([('sigma', array([[7.3890561 , 2.71828183, 2.71828183],\n",
      "       [2.71828183, 8.3890561 , 3.71828183],\n",
      "       [2.71828183, 3.71828183, 9.3890561 ]])), ('mu', array([1, 5, 1]))])\n"
     ]
    }
   ],
   "source": [
    "#print(mle_opt)\n",
    "init_param[7]= 5\n",
    "get_freeflat_loss(x, init_param)\n",
    "print(np.mean(x, axis=0))\n",
    "print(get_freeflat_loss_grad(x, init_param))\n",
    "\n",
    "print(norm_param_pattern.fold(init_param, free=True))"
   ]
  },
  {
   "cell_type": "markdown",
   "metadata": {},
   "source": [
    "We can now \"fold\" the optimum back into its original shape."
   ]
  },
  {
   "cell_type": "code",
   "execution_count": 7,
   "metadata": {},
   "outputs": [
    {
     "name": "stdout",
     "output_type": "stream",
     "text": [
      "Parmeter sigma\n",
      "Optimal:\n",
      "[[ 1.06683522  0.07910048  0.04229475]\n",
      " [ 0.07910048  1.89297797 -0.02650233]\n",
      " [ 0.04229475 -0.02650233  2.92376984]]\n",
      "\n",
      "True:\n",
      "[[1.03745401 0.07746864 0.03950388]\n",
      " [0.07746864 2.01560186 0.05110853]\n",
      " [0.03950388 0.05110853 3.0601115 ]]\n",
      "\n",
      "\n",
      "Parmeter mu\n",
      "Optimal:\n",
      "[-0.04469438  1.03094019  1.85511868]\n",
      "\n",
      "True:\n",
      "[0 1 2]\n",
      "\n",
      "\n"
     ]
    }
   ],
   "source": [
    "norm_param_opt = norm_param_pattern.fold(mle_opt.x, free=True)\n",
    "\n",
    "for param in ['sigma', 'mu']:\n",
    "    print('Parmeter {}\\nOptimal:\\n{}\\n\\nTrue:\\n{}\\n\\n'.format(\n",
    "        param, norm_param_opt[param], true_norm_param_dict[param]))"
   ]
  }
 ],
 "metadata": {
  "kernelspec": {
   "display_name": "Python 3",
   "language": "python",
   "name": "python3"
  },
  "language_info": {
   "codemirror_mode": {
    "name": "ipython",
    "version": 3
   },
   "file_extension": ".py",
   "mimetype": "text/x-python",
   "name": "python",
   "nbconvert_exporter": "python",
   "pygments_lexer": "ipython3",
   "version": "3.5.2"
  }
 },
 "nbformat": 4,
 "nbformat_minor": 2
}
