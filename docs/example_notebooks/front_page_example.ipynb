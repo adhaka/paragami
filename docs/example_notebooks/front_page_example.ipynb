{
 "cells": [
  {
   "cell_type": "code",
   "execution_count": 1,
   "metadata": {
    "collapsed": true
   },
   "outputs": [],
   "source": [
    "import paragami\n",
    "\n",
    "import autograd\n",
    "from autograd import numpy as np\n",
    "\n",
    "# Use the original scipy for functions we don't need to differentiate.\n",
    "import scipy as osp"
   ]
  },
  {
   "cell_type": "markdown",
   "metadata": {},
   "source": [
    "For illustration, let's consider a simple example: a Gaussian maximum likelihood estimator.\n",
    "\n",
    "$$\n",
    "x_n \\overset{iid}\\sim \\mathcal{N}(\\mu, \\Sigma)\\textrm{, for }n=1,...,N.\n",
    "$$\n",
    "\n",
    "Let $X = (x_1, ..., x_N)$.  We will minimize the loss\n",
    "\n",
    "$$\n",
    "\\ell(X, \\mu, \\Sigma) = \\frac{1}{2}\\sum_{n=1}^N \\left((x_n - \\mu)^T \\Sigma^{-1} (x_n - \\mu) + \\log |\\Sigma| \\right).\n",
    "$$\n",
    "\n"
   ]
  },
  {
   "cell_type": "code",
   "execution_count": 8,
   "metadata": {},
   "outputs": [
    {
     "name": "stdout",
     "output_type": "stream",
     "text": [
      "X shape: (1000, 3)\n",
      "dict mu:  [0 1 2]\n",
      "mu:  [0 1 2]\n",
      "Loss at true parameter: 2392.751922600241\n"
     ]
    }
   ],
   "source": [
    "np.random.seed(42)\n",
    "\n",
    "num_obs = 1000\n",
    "\n",
    "# True values of parameters\n",
    "true_sigma = \\\n",
    "    np.eye(3) * np.diag(np.array([1, 2, 3])) + \\\n",
    "    np.random.random((3, 3)) * 0.1\n",
    "true_sigma = 0.5 * (true_sigma + true_sigma.T)\n",
    "\n",
    "true_mu = np.array([0, 1, 2])\n",
    "\n",
    "# Data\n",
    "def draw_data(num_obs, true_sigma, true_mu):\n",
    "    return np.random.multivariate_normal(\n",
    "        mean=true_mu, cov=true_sigma, size=(num_obs, ))\n",
    "\n",
    "x = draw_data(num_obs, true_sigma, true_mu)\n",
    "print('X shape: {}'.format(x.shape))\n",
    "\n",
    "# It will be useful later to have a function that evalutes the loss at each datapoint.\n",
    "# The loss is the negative log likelihood.\n",
    "def get_observation_loss(x, sigma, mu):\n",
    "    print('mu: ', mu)\n",
    "    sigma_inv = np.linalg.inv(sigma)\n",
    "    sigma_det_sign, sigma_log_det = np.linalg.slogdet(sigma)\n",
    "    if sigma_det_sign <= 0:\n",
    "        return np.full(float('inf'), x.shape[0])\n",
    "    else:\n",
    "        x_centered = x - np.expand_dims(mu, axis=0)\n",
    "        return 0.5 * (\n",
    "            np.einsum('ni,ij,nj->n', x_centered, sigma_inv, x_centered) + \\\n",
    "            sigma_log_det)\n",
    "\n",
    "def get_loss(x, norm_param_dict):\n",
    "    print('dict mu: ', norm_param_dict['mu'])\n",
    "    return np.sum(\n",
    "        get_observation_loss(\n",
    "            x, norm_param_dict['sigma'], norm_param_dict['mu']))\n",
    "\n",
    "true_norm_param_dict = dict()\n",
    "true_norm_param_dict['sigma'] = true_sigma\n",
    "true_norm_param_dict['mu'] = true_mu\n",
    "\n",
    "print('Loss at true parameter: {}'.format(get_loss(x, true_norm_param_dict)))"
   ]
  },
  {
   "cell_type": "markdown",
   "metadata": {},
   "source": [
    "Note that we have written our loss as a function of a *dictionary of parameters*.  We can use `paragami` to convert such a dictionary to and from a flat, unconstrained parameterization for optimization and sensitivity analysis."
   ]
  },
  {
   "cell_type": "code",
   "execution_count": 3,
   "metadata": {},
   "outputs": [
    {
     "name": "stdout",
     "output_type": "stream",
     "text": [
      "Here is the pattern definition: OrderedDict:\n",
      "\t[sigma] = PDMatrix 3x3 (diag_lb = 0.0)\n",
      "\t[mu] = Array (3,) (lb=-inf, ub=inf)\n",
      "The flat parameter has shape: (9,)\n",
      "The flat parameter has value: [0.01838482 0.0760574  0.34902187 0.03878424 0.03397008 0.55879116\n",
      " 0.         1.         2.        ]\n"
     ]
    }
   ],
   "source": [
    "# We make a pattern that matches the input to `get_loss`.\n",
    "norm_param_pattern = paragami.PatternDict()\n",
    "norm_param_pattern['sigma'] = paragami.PSDMatrixPattern(size=3)\n",
    "norm_param_pattern['mu'] = paragami.NumericArrayPattern(shape=(3, ))\n",
    "\n",
    "norm_param_freeflat = norm_param_pattern.flatten(true_norm_param_dict, free=True)\n",
    "\n",
    "print('Here is the pattern definition: {}'.format(norm_param_pattern))\n",
    "print('The flat parameter has shape: {}'.format(norm_param_freeflat.shape))\n",
    "print('The flat parameter has value: {}'.format(norm_param_freeflat))"
   ]
  },
  {
   "cell_type": "code",
   "execution_count": 13,
   "metadata": {},
   "outputs": [
    {
     "name": "stdout",
     "output_type": "stream",
     "text": [
      "mu:  [1 5 1]\n",
      "mu:  Autograd ArrayBox with value [1 5 1]\n"
     ]
    },
    {
     "data": {
      "text/plain": [
       "array([   0,    0,    0,    0,    0,    0,  874, 1943, -323])"
      ]
     },
     "execution_count": 13,
     "metadata": {},
     "output_type": "execute_result"
    }
   ],
   "source": [
    "def pack(free_vec):\n",
    "    res_dict = norm_param_pattern.fold(free_vec, free=True)\n",
    "    return np.sum(get_observation_loss(x, true_sigma, res_dict['mu']))\n",
    "\n",
    "pack(init_param)\n",
    "gradtest = autograd.jacobian(pack)\n",
    "gradtest(init_param)\n"
   ]
  },
  {
   "cell_type": "markdown",
   "metadata": {},
   "source": [
    "We can use this flat parameter to optimize the likelihood direclty without worrying about the PSD constraint on $\\Sigma$."
   ]
  },
  {
   "cell_type": "code",
   "execution_count": 14,
   "metadata": {},
   "outputs": [
    {
     "name": "stdout",
     "output_type": "stream",
     "text": [
      "First, wrap the loss to be a function of the flat parameter.\n",
      "The resulting function: Function: <function get_loss at 0x7f5722113b70>\n",
      "argnums: [1]\n",
      "free: [ True]\n",
      "patterns: [<paragami.pattern_containers.PatternDict object at 0x7f575c573550>]\n",
      "\n",
      "Now, use the flattened function to optimize with autograd.\n",
      "\n",
      "dict mu:  Autograd ArrayBox with value [1. 1. 1.]\n",
      "mu:  Autograd ArrayBox with value [1. 1. 1.]\n",
      "dict mu:  Autograd ArrayBox with value Autograd ArrayBox with value [1. 1. 1.]\n",
      "mu:  Autograd ArrayBox with value Autograd ArrayBox with value [1. 1. 1.]\n",
      "dict mu:  [1. 1. 1.]\n",
      "mu:  [1. 1. 1.]\n",
      "dict mu:  [1. 1. 1.]\n",
      "mu:  [1. 1. 1.]\n",
      "dict mu:  Autograd ArrayBox with value [1. 1. 1.]\n",
      "mu:  Autograd ArrayBox with value [1. 1. 1.]\n",
      "dict mu:  Autograd ArrayBox with value Autograd ArrayBox with value [1. 1. 1.]\n",
      "mu:  Autograd ArrayBox with value Autograd ArrayBox with value [1. 1. 1.]\n",
      "dict mu:  [1. 1. 1.]\n",
      "mu:  [1. 1. 1.]\n",
      "dict mu:  Autograd ArrayBox with value [1. 1. 1.]\n",
      "mu:  Autograd ArrayBox with value [1. 1. 1.]\n",
      "dict mu:  Autograd ArrayBox with value Autograd ArrayBox with value [1. 1. 1.]\n",
      "mu:  Autograd ArrayBox with value Autograd ArrayBox with value [1. 1. 1.]\n",
      "dict mu:  [1. 1. 1.]\n",
      "mu:  [1. 1. 1.]\n",
      "dict mu:  Autograd ArrayBox with value [1. 1. 1.]\n",
      "mu:  Autograd ArrayBox with value [1. 1. 1.]\n",
      "dict mu:  Autograd ArrayBox with value Autograd ArrayBox with value [1. 1. 1.]\n",
      "mu:  Autograd ArrayBox with value Autograd ArrayBox with value [1. 1. 1.]\n",
      "dict mu:  [1. 1. 1.]\n",
      "mu:  [1. 1. 1.]\n",
      "dict mu:  [1. 1. 1.]\n",
      "mu:  [1. 1. 1.]\n",
      "dict mu:  Autograd ArrayBox with value [1. 1. 1.]\n",
      "mu:  Autograd ArrayBox with value [1. 1. 1.]\n",
      "dict mu:  Autograd ArrayBox with value Autograd ArrayBox with value [1. 1. 1.]\n",
      "mu:  Autograd ArrayBox with value Autograd ArrayBox with value [1. 1. 1.]\n",
      "dict mu:  [1. 1. 1.]\n",
      "mu:  [1. 1. 1.]\n",
      "dict mu:  Autograd ArrayBox with value [1. 1. 1.]\n",
      "mu:  Autograd ArrayBox with value [1. 1. 1.]\n",
      "dict mu:  Autograd ArrayBox with value Autograd ArrayBox with value [1. 1. 1.]\n",
      "mu:  Autograd ArrayBox with value Autograd ArrayBox with value [1. 1. 1.]\n",
      "dict mu:  [1. 1. 1.]\n",
      "mu:  [1. 1. 1.]\n",
      "dict mu:  Autograd ArrayBox with value [1. 1. 1.]\n",
      "mu:  Autograd ArrayBox with value [1. 1. 1.]\n",
      "dict mu:  Autograd ArrayBox with value Autograd ArrayBox with value [1. 1. 1.]\n",
      "mu:  Autograd ArrayBox with value Autograd ArrayBox with value [1. 1. 1.]\n",
      "dict mu:  [1. 1. 1.]\n",
      "mu:  [1. 1. 1.]\n",
      "dict mu:  Autograd ArrayBox with value [1. 1. 1.]\n",
      "mu:  Autograd ArrayBox with value [1. 1. 1.]\n",
      "dict mu:  Autograd ArrayBox with value Autograd ArrayBox with value [1. 1. 1.]\n",
      "mu:  Autograd ArrayBox with value Autograd ArrayBox with value [1. 1. 1.]\n",
      "dict mu:  [1. 1. 1.]\n",
      "mu:  [1. 1. 1.]\n",
      "dict mu:  Autograd ArrayBox with value [1. 1. 1.]\n",
      "mu:  Autograd ArrayBox with value [1. 1. 1.]\n",
      "dict mu:  Autograd ArrayBox with value Autograd ArrayBox with value [1. 1. 1.]\n",
      "mu:  Autograd ArrayBox with value Autograd ArrayBox with value [1. 1. 1.]\n",
      "dict mu:  [1. 1. 1.]\n",
      "mu:  [1. 1. 1.]\n",
      "dict mu:  Autograd ArrayBox with value [1. 1. 1.]\n",
      "mu:  Autograd ArrayBox with value [1. 1. 1.]\n",
      "dict mu:  Autograd ArrayBox with value Autograd ArrayBox with value [1. 1. 1.]\n",
      "mu:  Autograd ArrayBox with value Autograd ArrayBox with value [1. 1. 1.]\n",
      "dict mu:  [1. 1. 1.]\n",
      "mu:  [1. 1. 1.]\n",
      "dict mu:  Autograd ArrayBox with value [1. 1. 1.]\n",
      "mu:  Autograd ArrayBox with value [1. 1. 1.]\n",
      "dict mu:  Autograd ArrayBox with value Autograd ArrayBox with value [1. 1. 1.]\n",
      "mu:  Autograd ArrayBox with value Autograd ArrayBox with value [1. 1. 1.]\n",
      "dict mu:  [1. 1. 1.]\n",
      "mu:  [1. 1. 1.]\n",
      "dict mu:  Autograd ArrayBox with value [1. 1. 1.]\n",
      "mu:  Autograd ArrayBox with value [1. 1. 1.]\n",
      "dict mu:  Autograd ArrayBox with value Autograd ArrayBox with value [1. 1. 1.]\n",
      "mu:  Autograd ArrayBox with value Autograd ArrayBox with value [1. 1. 1.]\n",
      "dict mu:  [1. 1. 1.]\n",
      "mu:  [1. 1. 1.]\n",
      "dict mu:  Autograd ArrayBox with value [1. 1. 1.]\n",
      "mu:  Autograd ArrayBox with value [1. 1. 1.]\n",
      "dict mu:  Autograd ArrayBox with value Autograd ArrayBox with value [1. 1. 1.]\n",
      "mu:  Autograd ArrayBox with value Autograd ArrayBox with value [1. 1. 1.]\n",
      "dict mu:  [1. 1. 1.]\n",
      "mu:  [1. 1. 1.]\n",
      "dict mu:  Autograd ArrayBox with value [1. 1. 1.]\n",
      "mu:  Autograd ArrayBox with value [1. 1. 1.]\n",
      "dict mu:  Autograd ArrayBox with value Autograd ArrayBox with value [1. 1. 1.]\n",
      "mu:  Autograd ArrayBox with value Autograd ArrayBox with value [1. 1. 1.]\n",
      "dict mu:  [1. 1. 1.]\n",
      "mu:  [1. 1. 1.]\n",
      "Warning: A bad approximation caused failure to predict improvement.\n",
      "         Current function value: 2803.569437\n",
      "         Iterations: 14\n",
      "         Function evaluations: 16\n",
      "         Gradient evaluations: 14\n",
      "         Hessian evaluations: 14\n"
     ]
    }
   ],
   "source": [
    "print('First, wrap the loss to be a function of the flat parameter.')\n",
    "get_freeflat_loss = paragami.FlattenedFunction(\n",
    "    original_fun=get_loss,\n",
    "    patterns=norm_param_pattern,\n",
    "    free=True,\n",
    "    argnums=1)\n",
    "print('The resulting function: {}'.format(get_freeflat_loss))\n",
    "\n",
    "print('\\nNow, use the flattened function to optimize with autograd.\\n')\n",
    "\n",
    "get_freeflat_loss_grad = autograd.grad(get_freeflat_loss, argnum=1)\n",
    "get_freeflat_loss_hessian = autograd.hessian(get_freeflat_loss, argnum=1)\n",
    "\n",
    "def get_optimum(x, init_param):\n",
    "    loss_opt = osp.optimize.minimize(\n",
    "        method='trust-ncg',\n",
    "        x0=init_param,\n",
    "        fun=lambda par: get_freeflat_loss(x, par),\n",
    "        jac=lambda par: get_freeflat_loss_grad(x, par),\n",
    "        hess=lambda par: get_freeflat_loss_hessian(x, par),\n",
    "        options={'gtol': 1e-8, 'disp': True})\n",
    "    return loss_opt\n",
    "\n",
    "# Initialize with zeros as long as the flat length of the normal parameters.\n",
    "init_param = np.full(norm_param_pattern.flat_length(free=True), 1)\n",
    "mle_opt = get_optimum(x, init_param)"
   ]
  },
  {
   "cell_type": "code",
   "execution_count": 5,
   "metadata": {},
   "outputs": [
    {
     "name": "stdout",
     "output_type": "stream",
     "text": [
      "[1 5 1]\n",
      "[-0.04469438  1.03094019  1.85511868]\n",
      "Autograd ArrayBox with value [1 5 1]\n",
      "[  787  -224 -1496   144   489  -325     0     0     0]\n",
      "OrderedDict([('sigma', array([[7.3890561 , 2.71828183, 2.71828183],\n",
      "       [2.71828183, 8.3890561 , 3.71828183],\n",
      "       [2.71828183, 3.71828183, 9.3890561 ]])), ('mu', array([1, 5, 1]))])\n"
     ]
    }
   ],
   "source": [
    "#print(mle_opt)\n",
    "init_param[7]= 5\n",
    "get_freeflat_loss(x, init_param)\n",
    "print(np.mean(x, axis=0))\n",
    "print(get_freeflat_loss_grad(x, init_param))\n",
    "\n",
    "print(norm_param_pattern.fold(init_param, free=True))"
   ]
  },
  {
   "cell_type": "markdown",
   "metadata": {},
   "source": [
    "We can now \"fold\" the optimum back into its original shape."
   ]
  },
  {
   "cell_type": "code",
   "execution_count": 6,
   "metadata": {},
   "outputs": [
    {
     "ename": "NameError",
     "evalue": "name 'norm_param_dict' is not defined",
     "output_type": "error",
     "traceback": [
      "\u001b[0;31m---------------------------------------------------------------------------\u001b[0m",
      "\u001b[0;31mNameError\u001b[0m                                 Traceback (most recent call last)",
      "\u001b[0;32m<ipython-input-6-7d8dbe0b52ed>\u001b[0m in \u001b[0;36m<module>\u001b[0;34m\u001b[0m\n\u001b[1;32m      3\u001b[0m \u001b[0;32mfor\u001b[0m \u001b[0mparam\u001b[0m \u001b[0;32min\u001b[0m \u001b[0;34m[\u001b[0m\u001b[0;34m'sigma'\u001b[0m\u001b[0;34m,\u001b[0m \u001b[0;34m'mu'\u001b[0m\u001b[0;34m]\u001b[0m\u001b[0;34m:\u001b[0m\u001b[0;34m\u001b[0m\u001b[0m\n\u001b[1;32m      4\u001b[0m     print('Parmeter {}\\nOptimal:\\n{}\\n\\nTrue:\\n{}\\n\\n'.format(\n\u001b[0;32m----> 5\u001b[0;31m         param, norm_param_opt[param], norm_param_dict[param]))\n\u001b[0m",
      "\u001b[0;31mNameError\u001b[0m: name 'norm_param_dict' is not defined"
     ]
    }
   ],
   "source": [
    "norm_param_opt = norm_param_pattern.fold(mle_opt.x, free=True)\n",
    "\n",
    "for param in ['sigma', 'mu']:\n",
    "    print('Parmeter {}\\nOptimal:\\n{}\\n\\nTrue:\\n{}\\n\\n'.format(\n",
    "        param, norm_param_opt[param], norm_param_dict[param]))"
   ]
  }
 ],
 "metadata": {
  "kernelspec": {
   "display_name": "Python 3",
   "language": "python",
   "name": "python3"
  },
  "language_info": {
   "codemirror_mode": {
    "name": "ipython",
    "version": 3
   },
   "file_extension": ".py",
   "mimetype": "text/x-python",
   "name": "python",
   "nbconvert_exporter": "python",
   "pygments_lexer": "ipython3",
   "version": "3.5.2"
  }
 },
 "nbformat": 4,
 "nbformat_minor": 2
}
