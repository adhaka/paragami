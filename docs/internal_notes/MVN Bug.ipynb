{
 "cells": [
  {
   "cell_type": "code",
   "execution_count": 5,
   "metadata": {},
   "outputs": [
    {
     "name": "stdout",
     "output_type": "stream",
     "text": [
      "Differentiation succeeds\n",
      "Can evaluate the function:  -5135.146812235187\n",
      "Differentiation fails:\n",
      "test_util.py 31:\tassert vspace(vjp_y) == x_vs\n",
      "Can evaluate the function:  -5135.146812235187\n",
      "Differentiation fails: Can't differentiate w.r.t. type <class 'numpy.int64'>\n"
     ]
    }
   ],
   "source": [
    "import autograd\n",
    "import autograd.numpy as np\n",
    "import autograd.scipy as sp\n",
    "from autograd.test_util import check_grads\n",
    "\n",
    "num_obs = 1000\n",
    "\n",
    "# Some valid values\n",
    "true_sigma = \\\n",
    "    np.eye(3) * np.diag(np.array([1, 2, 3])) + \\\n",
    "    np.random.random((3, 3)) * 0.1\n",
    "true_sigma = 0.5 * (true_sigma + true_sigma.T)\n",
    "\n",
    "true_mu = np.array([0, 1, 2])\n",
    "\n",
    "x = np.random.multivariate_normal(\n",
    "    mean=true_mu, cov=true_sigma, size=(num_obs, ))\n",
    "\n",
    "# Succeeds\n",
    "print('Differentiation succeeds')\n",
    "check_grads(autograd.scipy.stats.multivariate_normal.logpdf, modes=['rev'])(x, true_mu, true_sigma)\n",
    "\n",
    "# Fails\n",
    "try:\n",
    "    def logpdf_mu(mu):\n",
    "        return np.sum(autograd.scipy.stats.multivariate_normal.logpdf(x, mu, true_sigma))\n",
    "    print('Can evaluate the function: ', logpdf_mu(true_mu))\n",
    "    check_grads(logpdf_mu, modes=['rev'])(true_mu)\n",
    "except AssertionError as err:\n",
    "    print('Differentiation fails:\\ntest_util.py 31:\\tassert vspace(vjp_y) == x_vs')\n",
    "\n",
    "try:\n",
    "    def logpdf_mu(mu):\n",
    "        return np.sum(autograd.scipy.stats.multivariate_normal.logpdf(x, mean=mu, cov=true_sigma))\n",
    "    print('Can evaluate the function: ', logpdf_mu(true_mu))\n",
    "    check_grads(logpdf_mu, modes=['rev'])(true_mu)\n",
    "except TypeError as err:\n",
    "    print('Differentiation fails: ' + str(err))\n",
    "\n",
    "\n"
   ]
  },
  {
   "cell_type": "code",
   "execution_count": 6,
   "metadata": {},
   "outputs": [
    {
     "name": "stdout",
     "output_type": "stream",
     "text": [
      "[[ 0.37957388  0.27230804  0.04135152]\n",
      " [ 0.27230804 -0.45748685 -0.13267569]\n",
      " [ 0.04135152 -0.13267569  0.14400415]]\n",
      "[-0.49025091  1.1833296   0.21333178]\n",
      "-5.2780275801618695\n",
      "-5.2780275801618695\n"
     ]
    }
   ],
   "source": [
    "model_logpdf_params_mu_grad = autograd.grad(autograd.scipy.stats.multivariate_normal.logpdf, argnum=2)\n",
    "print(model_logpdf_params_mu_grad(x[0, :], true_mu, true_sigma))\n",
    "\n",
    "model_logpdf_params_mu_grad = autograd.grad(autograd.scipy.stats.multivariate_normal.logpdf, argnum=1)\n",
    "print(model_logpdf_params_mu_grad(x[0, :], true_mu, true_sigma))\n",
    "\n",
    "print(autograd.scipy.stats.multivariate_normal.logpdf(x[0, :], true_mu, true_sigma))\n",
    "print(autograd.scipy.stats.multivariate_normal.logpdf(x[0, :], mean=true_mu, cov=true_sigma))"
   ]
  }
 ],
 "metadata": {
  "kernelspec": {
   "display_name": "Python 3",
   "language": "python",
   "name": "python3"
  },
  "language_info": {
   "codemirror_mode": {
    "name": "ipython",
    "version": 3
   },
   "file_extension": ".py",
   "mimetype": "text/x-python",
   "name": "python",
   "nbconvert_exporter": "python",
   "pygments_lexer": "ipython3",
   "version": "3.5.2"
  }
 },
 "nbformat": 4,
 "nbformat_minor": 2
}
