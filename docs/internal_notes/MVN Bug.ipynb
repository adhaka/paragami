{
 "cells": [
  {
   "cell_type": "code",
   "execution_count": 11,
   "metadata": {
    "collapsed": true
   },
   "outputs": [],
   "source": [
    "import autograd\n",
    "import autograd.numpy as np\n",
    "import autograd.scipy as sp\n",
    "from autograd.test_util import check_grads"
   ]
  },
  {
   "cell_type": "code",
   "execution_count": 13,
   "metadata": {},
   "outputs": [
    {
     "data": {
      "text/plain": [
       "'/home/rgiordan/Documents/git_repos/autograd/autograd/__init__.py'"
      ]
     },
     "execution_count": 13,
     "metadata": {},
     "output_type": "execute_result"
    }
   ],
   "source": [
    "import pkg_resources\n",
    "pkg_resources.get_distribution('autograd').version\n",
    "\n",
    "import inspect\n",
    "inspect.getsourcefile(autograd)"
   ]
  },
  {
   "cell_type": "markdown",
   "metadata": {},
   "source": [
    "# Direct from github issue https://github.com/HIPS/autograd/issues/460"
   ]
  },
  {
   "cell_type": "code",
   "execution_count": 20,
   "metadata": {},
   "outputs": [
    {
     "name": "stdout",
     "output_type": "stream",
     "text": [
      "Differentiation succeeds\n",
      "Can evaluate the function:  -5236.396067015383\n",
      "Differentiation fails:\n",
      "test_util.py 31:\tassert vspace(vjp_y) == x_vs\n",
      "Can evaluate the function:  -5236.396067015383\n",
      "Differentiation fails: Can't differentiate w.r.t. type <class 'numpy.int64'>\n"
     ]
    }
   ],
   "source": [
    "import autograd\n",
    "import autograd.numpy as np\n",
    "import autograd.scipy as sp\n",
    "from autograd.test_util import check_grads\n",
    "\n",
    "num_obs = 1000\n",
    "\n",
    "# Some valid values\n",
    "true_sigma = \\\n",
    "    np.eye(3) * np.diag(np.array([1, 2, 3])) + \\\n",
    "    np.random.random((3, 3)) * 0.1\n",
    "true_sigma = 0.5 * (true_sigma + true_sigma.T)\n",
    "\n",
    "true_mu = np.array([0, 1, 2])\n",
    "\n",
    "x = np.random.multivariate_normal(\n",
    "    mean=true_mu, cov=true_sigma, size=(num_obs, ))\n",
    "\n",
    "# Succeeds\n",
    "print('Differentiation succeeds')\n",
    "check_grads(autograd.scipy.stats.multivariate_normal.logpdf, modes=['rev'])(x, true_mu, true_sigma)\n",
    "\n",
    "# Fails\n",
    "try:\n",
    "    def logpdf_mu(mu):\n",
    "        return np.sum(autograd.scipy.stats.multivariate_normal.logpdf(x, mu, true_sigma))\n",
    "    print('Can evaluate the function: ', logpdf_mu(true_mu))\n",
    "    check_grads(logpdf_mu, modes=['rev'])(true_mu)\n",
    "except AssertionError as err:\n",
    "    print('Differentiation fails:\\ntest_util.py 31:\\tassert vspace(vjp_y) == x_vs')\n",
    "\n",
    "try:\n",
    "    def logpdf_mu(mu):\n",
    "        return np.sum(autograd.scipy.stats.multivariate_normal.logpdf(x, mean=mu, cov=true_sigma))\n",
    "    print('Can evaluate the function: ', logpdf_mu(true_mu))\n",
    "    check_grads(logpdf_mu, modes=['rev'])(true_mu)\n",
    "except TypeError as err:\n",
    "    print('Differentiation fails: ' + str(err))"
   ]
  },
  {
   "cell_type": "code",
   "execution_count": 22,
   "metadata": {},
   "outputs": [
    {
     "name": "stdout",
     "output_type": "stream",
     "text": [
      "Differentiation succeeds\n"
     ]
    }
   ],
   "source": [
    "def sym_logpdf(sigma):\n",
    "    sigma_sym = 0.5 * (sigma + sigma.T)\n",
    "    return np.sum(\n",
    "        autograd.scipy.stats.multivariate_normal.logpdf(\n",
    "            x, true_mu, sigma_sym))\n",
    "\n",
    "try:\n",
    "    check_grads(sym_logpdf, modes=['rev'])(true_sigma)\n",
    "    print('Differentiation succeeds')\n",
    "except AssertionError as err:\n",
    "    print('Differentiation fails: {}'.format(err))"
   ]
  },
  {
   "cell_type": "code",
   "execution_count": 31,
   "metadata": {},
   "outputs": [
    {
     "name": "stdout",
     "output_type": "stream",
     "text": [
      "Differentiation succeeds\n"
     ]
    }
   ],
   "source": [
    "def model_logpdf(mu, sigma, x):\n",
    "    sigma_sym = 0.5 * (sigma + sigma.T)\n",
    "    data_lpdf = autograd.scipy.stats.multivariate_normal.logpdf(\n",
    "        x, mu, sigma_sym)\n",
    "    return np.sum(data_lpdf)\n",
    "\n",
    "def model_logpdf_sigma(sigma):\n",
    "    return model_logpdf(true_mu, sigma, x)\n",
    "\n",
    "try:\n",
    "    check_grads(model_logpdf_sigma, modes=['rev'])(true_sigma)\n",
    "    print('Differentiation succeeds')\n",
    "except AssertionError as err:\n",
    "    print('Differentiation fails: {}'.format(err))"
   ]
  },
  {
   "cell_type": "markdown",
   "metadata": {},
   "source": [
    "# Manual stuff below:"
   ]
  },
  {
   "cell_type": "code",
   "execution_count": 24,
   "metadata": {},
   "outputs": [
    {
     "name": "stdout",
     "output_type": "stream",
     "text": [
      "Differentiation succeeds\n",
      "Can evaluate the function:  -5152.106572743378\n",
      "Differentiation succeeds\n",
      "Differentiation succeeds\n"
     ]
    }
   ],
   "source": [
    "num_obs = 1000\n",
    "\n",
    "# Some valid values\n",
    "true_sigma = \\\n",
    "    np.eye(3) * np.diag(np.array([1, 2, 3])) + \\\n",
    "    np.random.random((3, 3)) * 0.1\n",
    "true_sigma = 0.5 * (true_sigma + true_sigma.T)\n",
    "\n",
    "true_mu = np.array([0., 1., 2.])\n",
    "\n",
    "x = np.random.multivariate_normal(\n",
    "    mean=true_mu, cov=true_sigma, size=(num_obs, ))\n",
    "\n",
    "# Succeeds\n",
    "print('Differentiation succeeds')\n",
    "check_grads(autograd.scipy.stats.multivariate_normal.logpdf, modes=['rev'])(x, true_mu, true_sigma)\n",
    "\n",
    "# Succeeds\n",
    "try:\n",
    "    def logpdf_mu(mu):\n",
    "        return np.sum(autograd.scipy.stats.multivariate_normal.logpdf(x, mu, true_sigma))\n",
    "    print('Can evaluate the function: ', logpdf_mu(true_mu))\n",
    "    check_grads(logpdf_mu, modes=['rev'])(true_mu)\n",
    "    print('Differentiation succeeds')\n",
    "except AssertionError as err:\n",
    "    print('Differentiation fails:\\ntest_util.py 31:\\tassert vspace(vjp_y) == x_vs')\n",
    "\n",
    "    \n",
    "def sym_logpdf(sigma):\n",
    "    sigma_sym = 0.5 * (sigma + sigma.T)\n",
    "    return np.sum(\n",
    "        autograd.scipy.stats.multivariate_normal.logpdf(\n",
    "            x, true_mu, sigma_sym))\n",
    "\n",
    "try:\n",
    "    print('Differentiation succeeds')\n",
    "    check_grads(sym_logpdf, modes=['rev'])(true_sigma)\n",
    "except AssertionError as err:\n",
    "    print('Differentiation fails: {}'.format(err))\n",
    "\n",
    "# try:\n",
    "#     def logpdf_mu(mu):\n",
    "#         return np.sum(autograd.scipy.stats.multivariate_normal.logpdf(x, mean=mu, cov=true_sigma))\n",
    "#     print('Can evaluate the function: ', logpdf_mu(true_mu))\n",
    "#     check_grads(logpdf_mu, modes=['rev'])(true_mu)\n",
    "# except TypeError as err:\n",
    "#     print('Differentiation fails: ' + str(err))\n",
    "\n",
    "\n"
   ]
  },
  {
   "cell_type": "code",
   "execution_count": 25,
   "metadata": {},
   "outputs": [
    {
     "name": "stdout",
     "output_type": "stream",
     "text": [
      "2.8284271247461903\n",
      "-5152.106572743378\n",
      "-5152.106572743378\n"
     ]
    }
   ],
   "source": [
    "# Asymmetric sigmas are allowed apparently.\n",
    "\n",
    "import copy\n",
    "import scipy as osp\n",
    "bad_sigma = copy.deepcopy(true_sigma)\n",
    "bad_sigma[1, 2] += 2\n",
    "print(np.linalg.norm(bad_sigma - bad_sigma.T))\n",
    "\n",
    "print(np.sum(autograd.scipy.stats.multivariate_normal.logpdf(x, true_mu, bad_sigma)))\n",
    "print(np.sum(osp.stats.multivariate_normal.logpdf(x, true_mu, bad_sigma)))"
   ]
  },
  {
   "cell_type": "code",
   "execution_count": 26,
   "metadata": {},
   "outputs": [],
   "source": [
    "def sigma_logpdf(sigma):\n",
    "    return np.sum(autograd.scipy.stats.multivariate_normal.logpdf(x, true_mu, sigma))\n",
    "\n",
    "# Taken from tests\n",
    "def symmetrize_matrix_arg(fun, argnum):\n",
    "    def T(X): return np.swapaxes(X, -1, -2) if np.ndim(X) > 1 else X\n",
    "    def symmetrize(X): return 0.5 * (X + T(X))\n",
    "    def symmetrized_fun(*args, **kwargs):\n",
    "        args = list(args)\n",
    "        args[argnum] = symmetrize(args[argnum])\n",
    "        return fun(*args, **kwargs)\n",
    "    return symmetrized_fun\n",
    "\n",
    "sigma_logpdf_sym = symmetrize_matrix_arg(sigma_logpdf, 0)\n",
    "sigma_logpdf_sym(bad_sigma) - \\\n",
    "    sigma_logpdf_sym(0.5 * (bad_sigma + bad_sigma.T))\n",
    "    \n",
    "check_grads(sigma_logpdf_sym, modes=['rev'])(true_sigma)"
   ]
  },
  {
   "cell_type": "code",
   "execution_count": 28,
   "metadata": {
    "collapsed": true
   },
   "outputs": [],
   "source": [
    "def sym_logpdf(sigma):\n",
    "    sigma_sym = 0.5 * (sigma + sigma.T)\n",
    "    return np.sum(autograd.scipy.stats.multivariate_normal.logpdf(x, true_mu, sigma_sym))\n",
    "\n",
    "check_grads(sym_logpdf, modes=['rev'])(true_sigma)"
   ]
  },
  {
   "cell_type": "code",
   "execution_count": 32,
   "metadata": {},
   "outputs": [],
   "source": [
    "def model_logpdf(mu, sigma, x):\n",
    "    sigma_sym = 0.5 * (sigma + sigma.T)\n",
    "    data_lpdf = autograd.scipy.stats.multivariate_normal.logpdf(\n",
    "        x, mu, sigma_sym)\n",
    "    return np.sum(data_lpdf)\n",
    "\n",
    "def model_logpdf_sigma(sigma):\n",
    "    return model_logpdf(true_mu, sigma, x)\n",
    "\n",
    "check_grads(model_logpdf_sigma, modes=['rev'])(true_sigma)"
   ]
  },
  {
   "cell_type": "code",
   "execution_count": 33,
   "metadata": {},
   "outputs": [
    {
     "name": "stdout",
     "output_type": "stream",
     "text": [
      "[[-0.16676418  0.00309269  0.14193447]\n",
      " [ 0.00309269 -0.24008802 -0.00058696]\n",
      " [ 0.14193447 -0.00058696 -0.10984043]]\n",
      "[ 0.81563858 -0.00722529  0.32893988]\n",
      "-4.193433622482122\n",
      "-4.193433622482122\n"
     ]
    }
   ],
   "source": [
    "model_logpdf_params_mu_grad = autograd.grad(autograd.scipy.stats.multivariate_normal.logpdf, argnum=2)\n",
    "print(model_logpdf_params_mu_grad(x[0, :], true_mu, true_sigma))\n",
    "\n",
    "model_logpdf_params_mu_grad = autograd.grad(autograd.scipy.stats.multivariate_normal.logpdf, argnum=1)\n",
    "print(model_logpdf_params_mu_grad(x[0, :], true_mu, true_sigma))\n",
    "\n",
    "print(autograd.scipy.stats.multivariate_normal.logpdf(x[0, :], true_mu, true_sigma))\n",
    "print(autograd.scipy.stats.multivariate_normal.logpdf(x[0, :], mean=true_mu, cov=true_sigma))"
   ]
  },
  {
   "cell_type": "code",
   "execution_count": 37,
   "metadata": {
    "collapsed": true
   },
   "outputs": [],
   "source": [
    "def model_logpdf(mu, sigma, x):\n",
    "    sigma_sym = 0.5 * (sigma + sigma.T)\n",
    "    data_lpdf = autograd.scipy.stats.multivariate_normal.logpdf(\n",
    "        x, mu, sigma_sym)\n",
    "    return np.sum(data_lpdf)\n",
    "\n",
    "model_logpdf(true_mu, true_sigma, x)\n",
    "check_grads(model_logpdf, modes=['rev'])(true_mu, true_sigma, x)\n",
    "\n",
    "\n",
    "def model_logpdf_mu(mu):\n",
    "    return model_logpdf(mu, true_sigma, x)\n",
    "check_grads(model_logpdf_mu, modes=['rev'])(true_mu)"
   ]
  },
  {
   "cell_type": "code",
   "execution_count": 38,
   "metadata": {
    "collapsed": true
   },
   "outputs": [],
   "source": [
    "import paragami\n",
    "mu_pattern = paragami.NumericVectorPattern(length=3)\n",
    "objective_flat = paragami.FlattenFunctionInput(\n",
    "    model_logpdf_mu,\n",
    "    patterns=mu_pattern,\n",
    "    free=True)\n",
    "\n",
    "objective_flat(true_mu)\n",
    "check_grads(objective_flat, modes=['rev'])(true_mu)\n"
   ]
  },
  {
   "cell_type": "code",
   "execution_count": 39,
   "metadata": {},
   "outputs": [],
   "source": [
    "def model_logpdf_sigma(sigma):\n",
    "    return model_logpdf(true_mu, sigma, x)\n",
    "\n",
    "check_grads(model_logpdf_sigma, modes=['rev'])(true_sigma)"
   ]
  }
 ],
 "metadata": {
  "kernelspec": {
   "display_name": "Python 3",
   "language": "python",
   "name": "python3"
  },
  "language_info": {
   "codemirror_mode": {
    "name": "ipython",
    "version": 3
   },
   "file_extension": ".py",
   "mimetype": "text/x-python",
   "name": "python",
   "nbconvert_exporter": "python",
   "pygments_lexer": "ipython3",
   "version": "3.5.2"
  }
 },
 "nbformat": 4,
 "nbformat_minor": 2
}
