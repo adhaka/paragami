{
 "cells": [
  {
   "cell_type": "code",
   "execution_count": 1,
   "metadata": {},
   "outputs": [],
   "source": [
    "import autograd\n",
    "import autograd.numpy as np\n"
   ]
  },
  {
   "cell_type": "markdown",
   "metadata": {},
   "source": [
    "# Paragami debugging"
   ]
  },
  {
   "cell_type": "code",
   "execution_count": 19,
   "metadata": {},
   "outputs": [],
   "source": [
    "import paragami\n",
    "import copy\n",
    "import unittest\n",
    "from numpy.testing import assert_array_almost_equal\n",
    "import scipy as sp\n",
    "import scipy as osp\n",
    "\n",
    "import itertools\n",
    "import json\n",
    "import collections\n",
    "import time"
   ]
  },
  {
   "cell_type": "markdown",
   "metadata": {},
   "source": [
    "#  Profiling"
   ]
  },
  {
   "cell_type": "code",
   "execution_count": 127,
   "metadata": {
    "scrolled": false
   },
   "outputs": [],
   "source": [
    "class DummyTest(unittest.TestCase):\n",
    "    pass\n",
    "testcase = DummyTest()\n",
    "self = DummyTest()\n",
    "check_equal = assert_array_almost_equal\n",
    "\n",
    "# array_pattern = paragami.NumericArrayPattern(\n",
    "#     shape=(4, ), lb=-1, ub=10.0)\n",
    "# pattern = paragami.PatternArray((2, 3), array_pattern)\n",
    "\n",
    "pattern = paragami.PSDSymmetricMatrixPattern(100)\n",
    "\n",
    "#pattern = paragami.NumericArrayPattern(shape=(500, 10, 10), lb=-1, ub=10.0)\n",
    "\n"
   ]
  },
  {
   "cell_type": "code",
   "execution_count": 137,
   "metadata": {},
   "outputs": [
    {
     "name": "stdout",
     "output_type": "stream",
     "text": [
      "0.3919086456298828\n"
     ]
    }
   ],
   "source": [
    "import cProfile\n",
    "import pstats\n",
    "valid_value = pattern.random()\n",
    "\n",
    "# Execute required methods.\n",
    "empty_val = pattern.empty(valid=True)\n",
    "flat_vale = pattern.flatten(empty_val, free=True)\n",
    "profile = True\n",
    "\n",
    "if profile:\n",
    "    pr = cProfile.Profile()\n",
    "    pr.enable()\n",
    "\n",
    "tic = time.time()\n",
    "for _ in range(500):\n",
    "    pattern.flatten(empty_val, free=True, validate_value=False)\n",
    "tic = time.time() - tic; print(tic)\n",
    "\n",
    "if profile:\n",
    "    pr.disable()"
   ]
  },
  {
   "cell_type": "code",
   "execution_count": 138,
   "metadata": {
    "scrolled": false
   },
   "outputs": [
    {
     "name": "stdout",
     "output_type": "stream",
     "text": [
      "         75152 function calls (74152 primitive calls) in 0.393 seconds\n",
      "\n",
      "   Ordered by: cumulative time\n",
      "\n",
      "   ncalls  tottime  percall  cumtime  percall filename:lineno(function)\n",
      "        5    0.000    0.000    0.392    0.078 interactiveshell.py:3281(run_code)\n",
      "        5    0.000    0.000    0.392    0.078 {built-in method builtins.exec}\n",
      "        1    0.001    0.001    0.392    0.392 <ipython-input-137-23e209e8308e>:15(<module>)\n",
      "      500    0.002    0.000    0.390    0.001 psdmatrix_patterns.py:291(flatten)\n",
      "      500    0.011    0.000    0.387    0.001 psdmatrix_patterns.py:141(_pack_posdef_matrix)\n",
      "     4500    0.011    0.000    0.309    0.000 tracer.py:35(f_wrapped)\n",
      "5500/4500    0.007    0.000    0.232    0.000 {built-in method numpy.core._multiarray_umath.implement_array_function}\n",
      "      500    0.046    0.000    0.143    0.000 psdmatrix_patterns.py:35(_vectorize_ld_matrix)\n",
      "      500    0.001    0.000    0.139    0.000 <__array_function__ internals>:2(cholesky)\n",
      "      500    0.120    0.000    0.137    0.000 linalg.py:674(cholesky)\n",
      "      500    0.002    0.000    0.091    0.000 twodim_base.py:790(tril_indices)\n",
      "      500    0.001    0.000    0.069    0.000 <__array_function__ internals>:2(nonzero)\n",
      "      500    0.001    0.000    0.067    0.000 fromnumeric.py:1804(nonzero)\n",
      "      500    0.001    0.000    0.067    0.000 fromnumeric.py:55(_wrapfunc)\n",
      "      500    0.017    0.000    0.066    0.000 psdmatrix_patterns.py:132(_log_matrix_diagonal)\n",
      "      500    0.066    0.000    0.066    0.000 {method 'nonzero' of 'numpy.ndarray' objects}\n",
      "     1500    0.012    0.000    0.034    0.000 numpy_wrapper.py:130(make_diagonal)\n",
      "      500    0.003    0.000    0.021    0.000 twodim_base.py:348(tri)\n",
      "     2500    0.004    0.000    0.020    0.000 <__array_function__ internals>:2(diagonal)\n",
      "     1000    0.001    0.000    0.015    0.000 <__array_function__ internals>:2(diag)\n",
      "     2500    0.005    0.000    0.014    0.000 fromnumeric.py:1490(diagonal)\n",
      "     1000    0.003    0.000    0.013    0.000 twodim_base.py:216(diag)\n",
      "     4500    0.008    0.000    0.010    0.000 tracer.py:65(find_top_boxed_args)\n",
      "     1500    0.009    0.000    0.009    0.000 {built-in method numpy.zeros}\n",
      "      500    0.009    0.000    0.009    0.000 {method 'outer' of 'numpy.ufunc' objects}\n",
      "      500    0.007    0.000    0.008    0.000 linalg.py:144(_commonType)\n",
      "      500    0.002    0.000    0.008    0.000 numeric.py:283(full)\n",
      "     1000    0.005    0.000    0.005    0.000 {method 'astype' of 'numpy.ndarray' objects}\n",
      "     2500    0.005    0.000    0.005    0.000 {method 'diagonal' of 'numpy.ndarray' objects}\n",
      "     1000    0.004    0.000    0.004    0.000 {built-in method numpy.arange}\n",
      "      500    0.002    0.000    0.004    0.000 tracer.py:58(f_wrapped)\n",
      "     3500    0.002    0.000    0.004    0.000 _asarray.py:88(asanyarray)\n",
      "     4500    0.004    0.000    0.004    0.000 {built-in method numpy.array}\n",
      "     1000    0.002    0.000    0.004    0.000 twodim_base.py:33(_min_int)\n",
      "      500    0.001    0.000    0.003    0.000 <__array_function__ internals>:2(copyto)\n",
      "     5500    0.003    0.000    0.003    0.000 tracer.py:123(<lambda>)\n",
      "      500    0.002    0.000    0.002    0.000 {built-in method numpy.empty}\n",
      "      500    0.001    0.000    0.002    0.000 linalg.py:116(_makearray)\n",
      "      500    0.001    0.000    0.002    0.000 <__array_function__ internals>:2(shape)\n",
      "      500    0.001    0.000    0.001    0.000 psdmatrix_patterns.py:246(validate_folded)\n",
      "     2502    0.001    0.000    0.001    0.000 {built-in method builtins.isinstance}\n",
      "     1000    0.001    0.000    0.001    0.000 linalg.py:121(isComplexType)\n",
      "      500    0.001    0.000    0.001    0.000 linalg.py:111(get_linalg_error_extobj)\n",
      "     1000    0.001    0.000    0.001    0.000 getlimits.py:508(min)\n",
      "      500    0.001    0.000    0.001    0.000 psdmatrix_patterns.py:238(_validate_folded_shape)\n",
      "     1000    0.001    0.000    0.001    0.000 getlimits.py:521(max)\n",
      "      500    0.000    0.000    0.001    0.000 _asarray.py:16(asarray)\n",
      "     2500    0.001    0.000    0.001    0.000 fromnumeric.py:1486(_diagonal_dispatcher)\n",
      "      500    0.000    0.000    0.001    0.000 tracer.py:124(<lambda>)\n",
      "      500    0.001    0.000    0.001    0.000 linalg.py:209(_assert_stacked_square)\n",
      "      500    0.000    0.000    0.001    0.000 linalg.py:134(_realType)\n",
      "      500    0.001    0.000    0.001    0.000 linalg.py:203(_assert_stacked_2d)\n",
      "        1    0.000    0.000    0.001    0.001 <ipython-input-137-23e209e8308e>:17(<module>)\n",
      "        1    0.000    0.000    0.000    0.000 {built-in method builtins.print}\n",
      "     1010    0.000    0.000    0.000    0.000 {built-in method builtins.getattr}\n",
      "     2000    0.000    0.000    0.000    0.000 {built-in method builtins.len}\n",
      "        2    0.000    0.000    0.000    0.000 iostream.py:384(write)\n",
      "     1500    0.000    0.000    0.000    0.000 {built-in method builtins.issubclass}\n",
      "        3    0.000    0.000    0.000    0.000 iostream.py:197(schedule)\n",
      "        3    0.000    0.000    0.000    0.000 socket.py:342(send)\n",
      "      500    0.000    0.000    0.000    0.000 fromnumeric.py:1903(shape)\n",
      "        5    0.000    0.000    0.000    0.000 codeop.py:132(__call__)\n",
      "        5    0.000    0.000    0.000    0.000 {built-in method builtins.compile}\n",
      "     1000    0.000    0.000    0.000    0.000 twodim_base.py:212(_diag_dispatcher)\n",
      "      500    0.000    0.000    0.000    0.000 {method '__array_prepare__' of 'numpy.ndarray' objects}\n",
      "      500    0.000    0.000    0.000    0.000 base_patterns.py:159(_free_with_default)\n",
      "      500    0.000    0.000    0.000    0.000 {method 'get' of 'dict' objects}\n",
      "      500    0.000    0.000    0.000    0.000 linalg.py:478(_unary_dispatcher)\n",
      "      500    0.000    0.000    0.000    0.000 multiarray.py:1043(copyto)\n",
      "      500    0.000    0.000    0.000    0.000 fromnumeric.py:1800(_nonzero_dispatcher)\n",
      "      500    0.000    0.000    0.000    0.000 fromnumeric.py:1899(_shape_dispatcher)\n",
      "        2    0.000    0.000    0.000    0.000 iostream.py:322(_schedule_flush)\n",
      "        5    0.000    0.000    0.000    0.000 contextlib.py:157(helper)\n",
      "       10    0.000    0.000    0.000    0.000 {built-in method builtins.next}\n",
      "        5    0.000    0.000    0.000    0.000 contextlib.py:85(__exit__)\n",
      "        5    0.000    0.000    0.000    0.000 contextlib.py:59(__init__)\n",
      "        5    0.000    0.000    0.000    0.000 contextlib.py:79(__enter__)\n",
      "        3    0.000    0.000    0.000    0.000 threading.py:1104(is_alive)\n",
      "       10    0.000    0.000    0.000    0.000 compilerop.py:138(extra_flags)\n",
      "        5    0.000    0.000    0.000    0.000 traitlets.py:545(__get__)\n",
      "        5    0.000    0.000    0.000    0.000 hooks.py:142(__call__)\n",
      "        5    0.000    0.000    0.000    0.000 interactiveshell.py:117(<lambda>)\n",
      "        3    0.000    0.000    0.000    0.000 threading.py:1062(_wait_for_tstate_lock)\n",
      "        5    0.000    0.000    0.000    0.000 ipstruct.py:125(__getattr__)\n",
      "        2    0.000    0.000    0.000    0.000 iostream.py:309(_is_master_process)\n",
      "        1    0.000    0.000    0.000    0.000 <ipython-input-137-23e209e8308e>:14(<module>)\n",
      "        5    0.000    0.000    0.000    0.000 traitlets.py:526(get)\n",
      "        1    0.000    0.000    0.000    0.000 <ipython-input-137-23e209e8308e>:19(<module>)\n",
      "        3    0.000    0.000    0.000    0.000 {method 'acquire' of '_thread.lock' objects}\n",
      "        3    0.000    0.000    0.000    0.000 iostream.py:93(_event_pipe)\n",
      "        5    0.000    0.000    0.000    0.000 interactiveshell.py:1266(user_global_ns)\n",
      "        2    0.000    0.000    0.000    0.000 {built-in method time.time}\n",
      "        2    0.000    0.000    0.000    0.000 {built-in method posix.getpid}\n",
      "        5    0.000    0.000    0.000    0.000 interactiveshell.py:3223(compare)\n",
      "        3    0.000    0.000    0.000    0.000 {method 'append' of 'collections.deque' objects}\n",
      "        1    0.000    0.000    0.000    0.000 {method 'disable' of '_lsprof.Profiler' objects}\n",
      "        5    0.000    0.000    0.000    0.000 hooks.py:207(pre_run_code_hook)\n",
      "        3    0.000    0.000    0.000    0.000 threading.py:506(is_set)\n",
      "\n",
      "\n"
     ]
    },
    {
     "data": {
      "text/plain": [
       "<pstats.Stats at 0x7faaad3544e0>"
      ]
     },
     "execution_count": 138,
     "metadata": {},
     "output_type": "execute_result"
    }
   ],
   "source": [
    "ps = pstats.Stats(pr).strip_dirs().sort_stats('cumulative')\n",
    "ps.print_stats()"
   ]
  },
  {
   "cell_type": "code",
   "execution_count": null,
   "metadata": {},
   "outputs": [],
   "source": [
    "empty_val = pattern.empty(valid=False)\n",
    "\n",
    "random_val = pattern.random()\n",
    "pattern.flatten(random_val, free=False)\n",
    "\n",
    "str(pattern)\n",
    "\n",
    "pattern.empty_bool(True)\n",
    "\n",
    "# Make sure to test != using a custom test.\n",
    "testcase.assertTrue(pattern == pattern)\n",
    "\n",
    "###############################\n",
    "# Test folding and unfolding.\n",
    "for free in [True, False, None]:\n",
    "    for free_default in [True, False, None]:\n",
    "        pattern.free_default = free_default\n",
    "        if (free_default is None) and (free is None):\n",
    "            with testcase.assertRaises(ValueError):\n",
    "                flat_val = pattern.flatten(valid_value, free=free)\n",
    "            with testcase.assertRaises(ValueError):\n",
    "                folded_val = pattern.fold(flat_val, free=free)\n",
    "        else:\n",
    "            flat_val = pattern.flatten(valid_value, free=free)\n",
    "            testcase.assertEqual(len(flat_val), pattern.flat_length(free))\n",
    "            folded_val = pattern.fold(flat_val, free=free)\n",
    "            check_equal(valid_value, folded_val)\n",
    "            if hasattr(valid_value, 'shape'):\n",
    "                testcase.assertEqual(valid_value.shape, folded_val.shape)\n",
    "\n"
   ]
  },
  {
   "cell_type": "code",
   "execution_count": null,
   "metadata": {},
   "outputs": [],
   "source": []
  },
  {
   "cell_type": "markdown",
   "metadata": {},
   "source": [
    "# PSD profiling"
   ]
  },
  {
   "cell_type": "code",
   "execution_count": 123,
   "metadata": {},
   "outputs": [
    {
     "name": "stdout",
     "output_type": "stream",
     "text": [
      "0.4727363586425781\n"
     ]
    }
   ],
   "source": [
    "import cProfile\n",
    "import pstats\n",
    "valid_value = pattern.random()\n",
    "\n",
    "# Execute required methods.\n",
    "profile = True\n",
    "\n",
    "if profile:\n",
    "    pr = cProfile.Profile()\n",
    "    pr.enable()\n",
    "\n",
    "from paragami.psdmatrix_patterns import \\\n",
    "    _vectorize_ld_matrix, _unvectorize_ld_matrix, \\\n",
    "    _pack_posdef_matrix, _unpack_posdef_matrix\n",
    "\n",
    "mat = np.random.random((30, 30))\n",
    "mat = mat @ mat + 100 * np.eye(30)\n",
    "\n",
    "val = _vectorize_ld_matrix(mat)\n",
    "#jit_fun = _vectorize_ld_matrix\n",
    "#jit_fun = _unvectorize_ld_matrix\n",
    "#jit_fun = _pack_posdef_matrix\n",
    "jit_fun = _unpack_posdef_matrix\n",
    "\n",
    "tic = time.time()\n",
    "for _ in range(100):\n",
    "    jit_fun(val)\n",
    "    \n",
    "tic = time.time() - tic; print(tic)\n",
    "\n",
    "if profile:\n",
    "    pr.disable()"
   ]
  },
  {
   "cell_type": "code",
   "execution_count": null,
   "metadata": {},
   "outputs": [],
   "source": [
    "ps = pstats.Stats(pr).strip_dirs().sort_stats('cumulative')\n",
    "ps.print_stats()"
   ]
  }
 ],
 "metadata": {
  "kernelspec": {
   "display_name": "Python 3",
   "language": "python",
   "name": "python3"
  },
  "language_info": {
   "codemirror_mode": {
    "name": "ipython",
    "version": 3
   },
   "file_extension": ".py",
   "mimetype": "text/x-python",
   "name": "python",
   "nbconvert_exporter": "python",
   "pygments_lexer": "ipython3",
   "version": "3.6.9"
  }
 },
 "nbformat": 4,
 "nbformat_minor": 4
}
