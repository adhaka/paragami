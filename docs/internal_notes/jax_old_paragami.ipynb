{
 "cells": [
  {
   "cell_type": "code",
   "execution_count": 1,
   "metadata": {},
   "outputs": [],
   "source": [
    "import autograd\n",
    "import autograd.numpy as np\n"
   ]
  },
  {
   "cell_type": "markdown",
   "metadata": {},
   "source": [
    "# Paragami debugging"
   ]
  },
  {
   "cell_type": "code",
   "execution_count": 19,
   "metadata": {},
   "outputs": [],
   "source": [
    "import paragami\n",
    "import copy\n",
    "import unittest\n",
    "from numpy.testing import assert_array_almost_equal\n",
    "import scipy as sp\n",
    "import scipy as osp\n",
    "\n",
    "import itertools\n",
    "import json\n",
    "import collections\n",
    "import time"
   ]
  },
  {
   "cell_type": "code",
   "execution_count": 83,
   "metadata": {
    "scrolled": false
   },
   "outputs": [],
   "source": [
    "class DummyTest(unittest.TestCase):\n",
    "    pass\n",
    "testcase = DummyTest()\n",
    "self = DummyTest()\n",
    "check_equal = assert_array_almost_equal\n",
    "\n",
    "array_pattern = paragami.NumericArrayPattern(\n",
    "    shape=(4, ), lb=-1, ub=10.0)\n",
    "pattern = paragami.PatternArray((2, 3), array_pattern)\n",
    "\n",
    "#pattern = paragami.NumericArrayPattern(shape=(500, 10, 10), lb=-1, ub=10.0)\n",
    "\n",
    "# pattern = paragami.PSDSymmetricMatrixPattern(10)\n"
   ]
  },
  {
   "cell_type": "code",
   "execution_count": 84,
   "metadata": {},
   "outputs": [
    {
     "name": "stdout",
     "output_type": "stream",
     "text": [
      "0.19181370735168457\n"
     ]
    }
   ],
   "source": [
    "import cProfile\n",
    "import pstats\n",
    "valid_value = pattern.random()\n",
    "\n",
    "# Execute required methods.\n",
    "empty_val = pattern.empty(valid=True)\n",
    "profile = True\n",
    "\n",
    "if profile:\n",
    "    pr = cProfile.Profile()\n",
    "    pr.enable()\n",
    "\n",
    "tic = time.time()\n",
    "for _ in range(1000):\n",
    "    pattern.flatten(empty_val, free=False, validate_value=False)\n",
    "tic = time.time() - tic; print(tic)\n",
    "\n",
    "if profile:\n",
    "    pr.disable()"
   ]
  },
  {
   "cell_type": "code",
   "execution_count": 85,
   "metadata": {},
   "outputs": [
    {
     "name": "stdout",
     "output_type": "stream",
     "text": [
      "         422152 function calls (416152 primitive calls) in 0.192 seconds\n",
      "\n",
      "   Ordered by: cumulative time\n",
      "\n",
      "   ncalls  tottime  percall  cumtime  percall filename:lineno(function)\n",
      "        5    0.000    0.000    0.192    0.038 interactiveshell.py:3281(run_code)\n",
      "        5    0.000    0.000    0.192    0.038 {built-in method builtins.exec}\n",
      "        1    0.001    0.001    0.191    0.191 <ipython-input-84-4629c68d8416>:14(<module>)\n",
      "     1000    0.005    0.000    0.190    0.000 pattern_containers.py:582(flatten)\n",
      "    32000    0.018    0.000    0.121    0.000 tracer.py:35(f_wrapped)\n",
      "     1000    0.006    0.000    0.069    0.000 pattern_containers.py:590(<listcomp>)\n",
      "     6000    0.008    0.000    0.063    0.000 numeric_array_patterns.py:236(flatten)\n",
      "    12000    0.009    0.000    0.059    0.000 numeric_array_patterns.py:196(validate_folded)\n",
      "    24000    0.012    0.000    0.057    0.000 <__array_function__ internals>:2(atleast_1d)\n",
      "    25000    0.011    0.000    0.045    0.000 {built-in method numpy.core._multiarray_umath.implement_array_function}\n",
      "7000/1000    0.010    0.000    0.042    0.000 numpy_wrapper.py:55(array)\n",
      "     1000    0.007    0.000    0.038    0.000 pattern_containers.py:507(validate_folded)\n",
      "     1000    0.001    0.000    0.037    0.000 numpy_wrapper.py:40(hstack)\n",
      "    24000    0.019    0.000    0.034    0.000 shape_base.py:25(atleast_1d)\n",
      "    32000    0.021    0.000    0.030    0.000 tracer.py:65(find_top_boxed_args)\n",
      "     1000    0.004    0.000    0.026    0.000 numpy_wrapper.py:41(<listcomp>)\n",
      "    31000    0.014    0.000    0.014    0.000 {built-in method numpy.array}\n",
      "    24000    0.005    0.000    0.011    0.000 _asarray.py:88(asanyarray)\n",
      "    64000    0.010    0.000    0.010    0.000 tracer.py:123(<lambda>)\n",
      "     1000    0.001    0.000    0.009    0.000 numpy_wrapper.py:38(<lambda>)\n",
      "     7000    0.004    0.000    0.007    0.000 tracer.py:58(f_wrapped)\n",
      "    12000    0.005    0.000    0.006    0.000 numeric_array_patterns.py:187(_validate_folded_shape)\n",
      "     6000    0.002    0.000    0.006    0.000 numpy_wrapper.py:71(_array_from_scalar_or_array)\n",
      "     1000    0.000    0.000    0.005    0.000 numpy_wrapper.py:75(array_from_args)\n",
      "     1000    0.001    0.000    0.005    0.000 numpy_wrapper.py:35(concatenate_args)\n",
      "     6000    0.004    0.000    0.004    0.000 {method 'flatten' of 'numpy.ndarray' objects}\n",
      "     1000    0.001    0.000    0.004    0.000 <__array_function__ internals>:2(concatenate)\n",
      "     7000    0.002    0.000    0.003    0.000 tracer.py:124(<lambda>)\n",
      "    24000    0.002    0.000    0.002    0.000 shape_base.py:21(_atleast_1d_dispatcher)\n",
      "    24000    0.002    0.000    0.002    0.000 {method 'append' of 'list' objects}\n",
      "    25000    0.002    0.000    0.002    0.000 {built-in method builtins.len}\n",
      "    12000    0.002    0.000    0.002    0.000 numeric_array_patterns.py:248(shape)\n",
      "     7000    0.001    0.000    0.001    0.000 base_patterns.py:159(_free_with_default)\n",
      "     1000    0.000    0.000    0.000    0.000 {method 'view' of 'numpy.ndarray' objects}\n",
      "        5    0.000    0.000    0.000    0.000 codeop.py:132(__call__)\n",
      "        5    0.000    0.000    0.000    0.000 {built-in method builtins.compile}\n",
      "     1000    0.000    0.000    0.000    0.000 multiarray.py:145(concatenate)\n",
      "        1    0.000    0.000    0.000    0.000 <ipython-input-84-4629c68d8416>:16(<module>)\n",
      "        1    0.000    0.000    0.000    0.000 {built-in method builtins.print}\n",
      "        2    0.000    0.000    0.000    0.000 iostream.py:384(write)\n",
      "        3    0.000    0.000    0.000    0.000 iostream.py:197(schedule)\n",
      "        5    0.000    0.000    0.000    0.000 contextlib.py:157(helper)\n",
      "       10    0.000    0.000    0.000    0.000 {built-in method builtins.next}\n",
      "        5    0.000    0.000    0.000    0.000 contextlib.py:85(__exit__)\n",
      "        5    0.000    0.000    0.000    0.000 contextlib.py:59(__init__)\n",
      "        5    0.000    0.000    0.000    0.000 contextlib.py:79(__enter__)\n",
      "        3    0.000    0.000    0.000    0.000 socket.py:342(send)\n",
      "       10    0.000    0.000    0.000    0.000 {built-in method builtins.getattr}\n",
      "       10    0.000    0.000    0.000    0.000 compilerop.py:138(extra_flags)\n",
      "        5    0.000    0.000    0.000    0.000 hooks.py:142(__call__)\n",
      "        5    0.000    0.000    0.000    0.000 traitlets.py:545(__get__)\n",
      "        5    0.000    0.000    0.000    0.000 interactiveshell.py:117(<lambda>)\n",
      "        5    0.000    0.000    0.000    0.000 ipstruct.py:125(__getattr__)\n",
      "        3    0.000    0.000    0.000    0.000 threading.py:1104(is_alive)\n",
      "        1    0.000    0.000    0.000    0.000 <ipython-input-84-4629c68d8416>:13(<module>)\n",
      "        2    0.000    0.000    0.000    0.000 iostream.py:322(_schedule_flush)\n",
      "        2    0.000    0.000    0.000    0.000 iostream.py:309(_is_master_process)\n",
      "        5    0.000    0.000    0.000    0.000 interactiveshell.py:1266(user_global_ns)\n",
      "        5    0.000    0.000    0.000    0.000 traitlets.py:526(get)\n",
      "        3    0.000    0.000    0.000    0.000 threading.py:1062(_wait_for_tstate_lock)\n",
      "        2    0.000    0.000    0.000    0.000 {built-in method time.time}\n",
      "        2    0.000    0.000    0.000    0.000 {built-in method posix.getpid}\n",
      "        1    0.000    0.000    0.000    0.000 <ipython-input-84-4629c68d8416>:18(<module>)\n",
      "        3    0.000    0.000    0.000    0.000 {method 'acquire' of '_thread.lock' objects}\n",
      "        3    0.000    0.000    0.000    0.000 iostream.py:93(_event_pipe)\n",
      "        5    0.000    0.000    0.000    0.000 hooks.py:207(pre_run_code_hook)\n",
      "        5    0.000    0.000    0.000    0.000 interactiveshell.py:3223(compare)\n",
      "        3    0.000    0.000    0.000    0.000 threading.py:506(is_set)\n",
      "        1    0.000    0.000    0.000    0.000 {method 'disable' of '_lsprof.Profiler' objects}\n",
      "        3    0.000    0.000    0.000    0.000 {method 'append' of 'collections.deque' objects}\n",
      "        2    0.000    0.000    0.000    0.000 {built-in method builtins.isinstance}\n",
      "\n",
      "\n"
     ]
    },
    {
     "data": {
      "text/plain": [
       "<pstats.Stats at 0x7faaad455748>"
      ]
     },
     "execution_count": 85,
     "metadata": {},
     "output_type": "execute_result"
    }
   ],
   "source": [
    "ps = pstats.Stats(pr).strip_dirs().sort_stats('cumulative')\n",
    "ps.print_stats()"
   ]
  },
  {
   "cell_type": "code",
   "execution_count": null,
   "metadata": {},
   "outputs": [],
   "source": [
    "empty_val = pattern.empty(valid=False)\n",
    "\n",
    "random_val = pattern.random()\n",
    "pattern.flatten(random_val, free=False)\n",
    "\n",
    "str(pattern)\n",
    "\n",
    "pattern.empty_bool(True)\n",
    "\n",
    "# Make sure to test != using a custom test.\n",
    "testcase.assertTrue(pattern == pattern)\n",
    "\n",
    "###############################\n",
    "# Test folding and unfolding.\n",
    "for free in [True, False, None]:\n",
    "    for free_default in [True, False, None]:\n",
    "        pattern.free_default = free_default\n",
    "        if (free_default is None) and (free is None):\n",
    "            with testcase.assertRaises(ValueError):\n",
    "                flat_val = pattern.flatten(valid_value, free=free)\n",
    "            with testcase.assertRaises(ValueError):\n",
    "                folded_val = pattern.fold(flat_val, free=free)\n",
    "        else:\n",
    "            flat_val = pattern.flatten(valid_value, free=free)\n",
    "            testcase.assertEqual(len(flat_val), pattern.flat_length(free))\n",
    "            folded_val = pattern.fold(flat_val, free=free)\n",
    "            check_equal(valid_value, folded_val)\n",
    "            if hasattr(valid_value, 'shape'):\n",
    "                testcase.assertEqual(valid_value.shape, folded_val.shape)\n",
    "\n"
   ]
  },
  {
   "cell_type": "code",
   "execution_count": null,
   "metadata": {},
   "outputs": [],
   "source": []
  }
 ],
 "metadata": {
  "kernelspec": {
   "display_name": "Python 3",
   "language": "python",
   "name": "python3"
  },
  "language_info": {
   "codemirror_mode": {
    "name": "ipython",
    "version": 3
   },
   "file_extension": ".py",
   "mimetype": "text/x-python",
   "name": "python",
   "nbconvert_exporter": "python",
   "pygments_lexer": "ipython3",
   "version": "3.6.9"
  }
 },
 "nbformat": 4,
 "nbformat_minor": 4
}
