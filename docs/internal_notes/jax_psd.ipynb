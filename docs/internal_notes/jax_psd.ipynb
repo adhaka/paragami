{
 "cells": [
  {
   "cell_type": "code",
   "execution_count": 1,
   "metadata": {},
   "outputs": [
    {
     "name": "stderr",
     "output_type": "stream",
     "text": [
      "/home/rgiordan/Documents/git_repos/paragami/venv/lib/python3.6/site-packages/jax/lib/xla_bridge.py:130: UserWarning: No GPU/TPU found, falling back to CPU.\n",
      "  warnings.warn('No GPU/TPU found, falling back to CPU.')\n"
     ]
    }
   ],
   "source": [
    "from paragami.base_patterns import Pattern\n",
    "from paragami.pattern_containers import register_pattern_json\n",
    "\n",
    "import jax\n",
    "import jax.numpy as np\n",
    "import numpy as onp\n",
    "\n",
    "import math\n",
    "\n",
    "import time\n",
    "import timeit\n",
    "#from jax import custom_jvp\n"
   ]
  },
  {
   "cell_type": "code",
   "execution_count": 2,
   "metadata": {},
   "outputs": [],
   "source": [
    "\n",
    "def assert_equal(x, y, tol=1e-12):\n",
    "    assert(onp.max(onp.abs(x - y)) < tol)\n",
    "    \n",
    "def time_jit(f):\n",
    "    tic = time.time()\n",
    "    f()\n",
    "    print('1st time: ', time.time() - tic)\n",
    "\n",
    "    tic = time.time()\n",
    "    f()\n",
    "    print('2nd time: ', time.time() - tic)\n",
    "\n",
    "    \n",
    "def mark_tic(tic, op):\n",
    "    print(f'{op}:\\t{time.time() - tic}')\n",
    "    return time.time()"
   ]
  },
  {
   "cell_type": "markdown",
   "metadata": {},
   "source": [
    "## Pattern array"
   ]
  },
  {
   "cell_type": "code",
   "execution_count": 3,
   "metadata": {
    "scrolled": false
   },
   "outputs": [
    {
     "name": "stdout",
     "output_type": "stream",
     "text": [
      "(30, 4, 4)\n"
     ]
    },
    {
     "ename": "ValueError",
     "evalue": "The matrix is not of shape (4, 4)",
     "output_type": "error",
     "traceback": [
      "\u001b[0;31m---------------------------------------------------------------------------\u001b[0m",
      "\u001b[0;31mValueError\u001b[0m                                Traceback (most recent call last)",
      "\u001b[0;32m<ipython-input-3-c7bf38272658>\u001b[0m in \u001b[0;36m<module>\u001b[0;34m\u001b[0m\n\u001b[1;32m     11\u001b[0m \u001b[0mcovar_array\u001b[0m \u001b[0;34m=\u001b[0m \u001b[0mcovar_array_pattern\u001b[0m\u001b[0;34m.\u001b[0m\u001b[0mrandom\u001b[0m\u001b[0;34m(\u001b[0m\u001b[0;34m)\u001b[0m\u001b[0;34m\u001b[0m\u001b[0;34m\u001b[0m\u001b[0m\n\u001b[1;32m     12\u001b[0m \u001b[0mprint\u001b[0m\u001b[0;34m(\u001b[0m\u001b[0mcovar_array\u001b[0m\u001b[0;34m.\u001b[0m\u001b[0mshape\u001b[0m\u001b[0;34m)\u001b[0m\u001b[0;34m\u001b[0m\u001b[0;34m\u001b[0m\u001b[0m\n\u001b[0;32m---> 13\u001b[0;31m \u001b[0mcovar_array_flattened\u001b[0m \u001b[0;34m=\u001b[0m \u001b[0mcovar_array_pattern\u001b[0m\u001b[0;34m.\u001b[0m\u001b[0mflatten\u001b[0m\u001b[0;34m(\u001b[0m\u001b[0mcovar_array\u001b[0m\u001b[0;34m,\u001b[0m \u001b[0mfree\u001b[0m \u001b[0;34m=\u001b[0m \u001b[0;32mFalse\u001b[0m\u001b[0;34m)\u001b[0m\u001b[0;34m\u001b[0m\u001b[0;34m\u001b[0m\u001b[0m\n\u001b[0m\u001b[1;32m     14\u001b[0m \u001b[0;31m#covar_array_flattened_free = covar_array_pattern.flatten(covar_array, free = True)\u001b[0m\u001b[0;34m\u001b[0m\u001b[0;34m\u001b[0m\u001b[0;34m\u001b[0m\u001b[0m\n",
      "\u001b[0;32m~/Documents/git_repos/paragami/paragami/pattern_containers.py\u001b[0m in \u001b[0;36mflatten\u001b[0;34m(self, folded_val, free, validate_value)\u001b[0m\n\u001b[1;32m    637\u001b[0m                 self.__base_pattern.flatten(\n\u001b[1;32m    638\u001b[0m                     folded_val[item], free=free, validate_value=validate_value),\n\u001b[0;32m--> 639\u001b[0;31m             \u001b[0mself\u001b[0m\u001b[0;34m.\u001b[0m\u001b[0m__array_indices\u001b[0m\u001b[0;34m\u001b[0m\u001b[0;34m\u001b[0m\u001b[0m\n\u001b[0m\u001b[1;32m    640\u001b[0m         )\n\u001b[1;32m    641\u001b[0m \u001b[0;34m\u001b[0m\u001b[0m\n",
      "\u001b[0;32m~/Documents/git_repos/paragami/venv/lib/python3.6/site-packages/jax/lax/lax_control_flow.py\u001b[0m in \u001b[0;36mmap\u001b[0;34m(f, xs)\u001b[0m\n\u001b[1;32m   1846\u001b[0m   \"\"\"\n\u001b[1;32m   1847\u001b[0m   \u001b[0mg\u001b[0m \u001b[0;34m=\u001b[0m \u001b[0;32mlambda\u001b[0m \u001b[0m_\u001b[0m\u001b[0;34m,\u001b[0m \u001b[0mx\u001b[0m\u001b[0;34m:\u001b[0m \u001b[0;34m(\u001b[0m\u001b[0;34m(\u001b[0m\u001b[0;34m)\u001b[0m\u001b[0;34m,\u001b[0m \u001b[0mf\u001b[0m\u001b[0;34m(\u001b[0m\u001b[0mx\u001b[0m\u001b[0;34m)\u001b[0m\u001b[0;34m)\u001b[0m\u001b[0;34m\u001b[0m\u001b[0;34m\u001b[0m\u001b[0m\n\u001b[0;32m-> 1848\u001b[0;31m   \u001b[0m_\u001b[0m\u001b[0;34m,\u001b[0m \u001b[0mys\u001b[0m \u001b[0;34m=\u001b[0m \u001b[0mscan\u001b[0m\u001b[0;34m(\u001b[0m\u001b[0mg\u001b[0m\u001b[0;34m,\u001b[0m \u001b[0;34m(\u001b[0m\u001b[0;34m)\u001b[0m\u001b[0;34m,\u001b[0m \u001b[0mxs\u001b[0m\u001b[0;34m)\u001b[0m\u001b[0;34m\u001b[0m\u001b[0;34m\u001b[0m\u001b[0m\n\u001b[0m\u001b[1;32m   1849\u001b[0m   \u001b[0;32mreturn\u001b[0m \u001b[0mys\u001b[0m\u001b[0;34m\u001b[0m\u001b[0;34m\u001b[0m\u001b[0m\n\u001b[1;32m   1850\u001b[0m \u001b[0;34m\u001b[0m\u001b[0m\n",
      "\u001b[0;32m~/Documents/git_repos/paragami/venv/lib/python3.6/site-packages/jax/lax/lax_control_flow.py\u001b[0m in \u001b[0;36mscan\u001b[0;34m(f, init, xs, length, reverse, unroll)\u001b[0m\n\u001b[1;32m   1230\u001b[0m   \u001b[0mx_dtypes\u001b[0m \u001b[0;34m=\u001b[0m \u001b[0;34m[\u001b[0m\u001b[0mx\u001b[0m\u001b[0;34m.\u001b[0m\u001b[0mdtype\u001b[0m \u001b[0;32mfor\u001b[0m \u001b[0mx\u001b[0m \u001b[0;32min\u001b[0m \u001b[0mxs_flat\u001b[0m\u001b[0;34m]\u001b[0m\u001b[0;34m\u001b[0m\u001b[0;34m\u001b[0m\u001b[0m\n\u001b[1;32m   1231\u001b[0m   \u001b[0mx_avals\u001b[0m \u001b[0;34m=\u001b[0m \u001b[0mtuple\u001b[0m\u001b[0;34m(\u001b[0m\u001b[0m_map\u001b[0m\u001b[0;34m(\u001b[0m\u001b[0mShapedArray\u001b[0m\u001b[0;34m,\u001b[0m \u001b[0mx_shapes\u001b[0m\u001b[0;34m,\u001b[0m \u001b[0mx_dtypes\u001b[0m\u001b[0;34m)\u001b[0m\u001b[0;34m)\u001b[0m\u001b[0;34m\u001b[0m\u001b[0;34m\u001b[0m\u001b[0m\n\u001b[0;32m-> 1232\u001b[0;31m   \u001b[0mjaxpr\u001b[0m\u001b[0;34m,\u001b[0m \u001b[0mconsts\u001b[0m\u001b[0;34m,\u001b[0m \u001b[0mout_tree\u001b[0m \u001b[0;34m=\u001b[0m \u001b[0m_initial_style_jaxpr\u001b[0m\u001b[0;34m(\u001b[0m\u001b[0mf\u001b[0m\u001b[0;34m,\u001b[0m \u001b[0min_tree\u001b[0m\u001b[0;34m,\u001b[0m \u001b[0mcarry_avals\u001b[0m \u001b[0;34m+\u001b[0m \u001b[0mx_avals\u001b[0m\u001b[0;34m)\u001b[0m\u001b[0;34m\u001b[0m\u001b[0;34m\u001b[0m\u001b[0m\n\u001b[0m\u001b[1;32m   1233\u001b[0m   \u001b[0mout_tree_children\u001b[0m \u001b[0;34m=\u001b[0m \u001b[0mout_tree\u001b[0m\u001b[0;34m.\u001b[0m\u001b[0mchildren\u001b[0m\u001b[0;34m(\u001b[0m\u001b[0;34m)\u001b[0m\u001b[0;34m\u001b[0m\u001b[0;34m\u001b[0m\u001b[0m\n\u001b[1;32m   1234\u001b[0m   \u001b[0;32mif\u001b[0m \u001b[0mlen\u001b[0m\u001b[0;34m(\u001b[0m\u001b[0mout_tree_children\u001b[0m\u001b[0;34m)\u001b[0m \u001b[0;34m!=\u001b[0m \u001b[0;36m2\u001b[0m\u001b[0;34m:\u001b[0m\u001b[0;34m\u001b[0m\u001b[0;34m\u001b[0m\u001b[0m\n",
      "\u001b[0;32m~/Documents/git_repos/paragami/venv/lib/python3.6/site-packages/jax/lax/lax_control_flow.py\u001b[0m in \u001b[0;36m_initial_style_jaxpr\u001b[0;34m(fun, in_tree, in_avals)\u001b[0m\n\u001b[1;32m     72\u001b[0m \u001b[0;32mdef\u001b[0m \u001b[0m_initial_style_jaxpr\u001b[0m\u001b[0;34m(\u001b[0m\u001b[0mfun\u001b[0m\u001b[0;34m:\u001b[0m \u001b[0mCallable\u001b[0m\u001b[0;34m,\u001b[0m \u001b[0min_tree\u001b[0m\u001b[0;34m,\u001b[0m \u001b[0min_avals\u001b[0m\u001b[0;34m)\u001b[0m\u001b[0;34m:\u001b[0m\u001b[0;34m\u001b[0m\u001b[0;34m\u001b[0m\u001b[0m\n\u001b[1;32m     73\u001b[0m   jaxpr, out_pvals, consts, out_tree = _initial_style_untyped_jaxpr(\n\u001b[0;32m---> 74\u001b[0;31m       fun, in_tree, in_avals)\n\u001b[0m\u001b[1;32m     75\u001b[0m   \u001b[0mout_avals\u001b[0m \u001b[0;34m=\u001b[0m \u001b[0m_map\u001b[0m\u001b[0;34m(\u001b[0m\u001b[0mraise_to_shaped\u001b[0m\u001b[0;34m,\u001b[0m \u001b[0munzip2\u001b[0m\u001b[0;34m(\u001b[0m\u001b[0mout_pvals\u001b[0m\u001b[0;34m)\u001b[0m\u001b[0;34m[\u001b[0m\u001b[0;36m0\u001b[0m\u001b[0;34m]\u001b[0m\u001b[0;34m)\u001b[0m\u001b[0;34m\u001b[0m\u001b[0;34m\u001b[0m\u001b[0m\n\u001b[1;32m     76\u001b[0m   \u001b[0mconst_avals\u001b[0m \u001b[0;34m=\u001b[0m \u001b[0mtuple\u001b[0m\u001b[0;34m(\u001b[0m\u001b[0mraise_to_shaped\u001b[0m\u001b[0;34m(\u001b[0m\u001b[0mcore\u001b[0m\u001b[0;34m.\u001b[0m\u001b[0mget_aval\u001b[0m\u001b[0;34m(\u001b[0m\u001b[0mc\u001b[0m\u001b[0;34m)\u001b[0m\u001b[0;34m)\u001b[0m \u001b[0;32mfor\u001b[0m \u001b[0mc\u001b[0m \u001b[0;32min\u001b[0m \u001b[0mconsts\u001b[0m\u001b[0;34m)\u001b[0m\u001b[0;34m\u001b[0m\u001b[0;34m\u001b[0m\u001b[0m\n",
      "\u001b[0;32m~/Documents/git_repos/paragami/venv/lib/python3.6/site-packages/jax/lax/lax_control_flow.py\u001b[0m in \u001b[0;36m_initial_style_untyped_jaxpr\u001b[0;34m(fun, in_tree, in_avals)\u001b[0m\n\u001b[1;32m     66\u001b[0m   \u001b[0;32mwith\u001b[0m \u001b[0mcore\u001b[0m\u001b[0;34m.\u001b[0m\u001b[0minitial_style_staging\u001b[0m\u001b[0;34m(\u001b[0m\u001b[0;34m)\u001b[0m\u001b[0;34m:\u001b[0m\u001b[0;34m\u001b[0m\u001b[0;34m\u001b[0m\u001b[0m\n\u001b[1;32m     67\u001b[0m     jaxpr, out_pvals, consts = pe.trace_to_jaxpr(\n\u001b[0;32m---> 68\u001b[0;31m       wrapped_fun, in_pvals, instantiate=True, stage_out=False)\n\u001b[0m\u001b[1;32m     69\u001b[0m   \u001b[0;32mreturn\u001b[0m \u001b[0mjaxpr\u001b[0m\u001b[0;34m,\u001b[0m \u001b[0mout_pvals\u001b[0m\u001b[0;34m,\u001b[0m \u001b[0mconsts\u001b[0m\u001b[0;34m,\u001b[0m \u001b[0mout_tree\u001b[0m\u001b[0;34m\u001b[0m\u001b[0;34m\u001b[0m\u001b[0m\n\u001b[1;32m     70\u001b[0m \u001b[0;34m\u001b[0m\u001b[0m\n",
      "\u001b[0;32m~/Documents/git_repos/paragami/venv/lib/python3.6/site-packages/jax/interpreters/partial_eval.py\u001b[0m in \u001b[0;36mtrace_to_jaxpr\u001b[0;34m(fun, pvals, instantiate, stage_out, bottom, trace_type)\u001b[0m\n\u001b[1;32m    421\u001b[0m   \u001b[0;32mwith\u001b[0m \u001b[0mcore\u001b[0m\u001b[0;34m.\u001b[0m\u001b[0mnew_master\u001b[0m\u001b[0;34m(\u001b[0m\u001b[0mtrace_type\u001b[0m\u001b[0;34m,\u001b[0m \u001b[0mbottom\u001b[0m\u001b[0;34m=\u001b[0m\u001b[0mbottom\u001b[0m\u001b[0;34m)\u001b[0m \u001b[0;32mas\u001b[0m \u001b[0mmaster\u001b[0m\u001b[0;34m:\u001b[0m\u001b[0;34m\u001b[0m\u001b[0;34m\u001b[0m\u001b[0m\n\u001b[1;32m    422\u001b[0m     \u001b[0mfun\u001b[0m \u001b[0;34m=\u001b[0m \u001b[0mtrace_to_subjaxpr\u001b[0m\u001b[0;34m(\u001b[0m\u001b[0mfun\u001b[0m\u001b[0;34m,\u001b[0m \u001b[0mmaster\u001b[0m\u001b[0;34m,\u001b[0m \u001b[0minstantiate\u001b[0m\u001b[0;34m)\u001b[0m\u001b[0;34m\u001b[0m\u001b[0;34m\u001b[0m\u001b[0m\n\u001b[0;32m--> 423\u001b[0;31m     \u001b[0mjaxpr\u001b[0m\u001b[0;34m,\u001b[0m \u001b[0;34m(\u001b[0m\u001b[0mout_pvals\u001b[0m\u001b[0;34m,\u001b[0m \u001b[0mconsts\u001b[0m\u001b[0;34m,\u001b[0m \u001b[0menv\u001b[0m\u001b[0;34m)\u001b[0m \u001b[0;34m=\u001b[0m \u001b[0mfun\u001b[0m\u001b[0;34m.\u001b[0m\u001b[0mcall_wrapped\u001b[0m\u001b[0;34m(\u001b[0m\u001b[0mpvals\u001b[0m\u001b[0;34m)\u001b[0m\u001b[0;34m\u001b[0m\u001b[0;34m\u001b[0m\u001b[0m\n\u001b[0m\u001b[1;32m    424\u001b[0m     \u001b[0;32massert\u001b[0m \u001b[0;32mnot\u001b[0m \u001b[0menv\u001b[0m\u001b[0;34m\u001b[0m\u001b[0;34m\u001b[0m\u001b[0m\n\u001b[1;32m    425\u001b[0m     \u001b[0;32mdel\u001b[0m \u001b[0mmaster\u001b[0m\u001b[0;34m\u001b[0m\u001b[0;34m\u001b[0m\u001b[0m\n",
      "\u001b[0;32m~/Documents/git_repos/paragami/venv/lib/python3.6/site-packages/jax/linear_util.py\u001b[0m in \u001b[0;36mcall_wrapped\u001b[0;34m(self, *args, **kwargs)\u001b[0m\n\u001b[1;32m    148\u001b[0m     \u001b[0mgen\u001b[0m \u001b[0;34m=\u001b[0m \u001b[0;32mNone\u001b[0m\u001b[0;34m\u001b[0m\u001b[0;34m\u001b[0m\u001b[0m\n\u001b[1;32m    149\u001b[0m \u001b[0;34m\u001b[0m\u001b[0m\n\u001b[0;32m--> 150\u001b[0;31m     \u001b[0mans\u001b[0m \u001b[0;34m=\u001b[0m \u001b[0mself\u001b[0m\u001b[0;34m.\u001b[0m\u001b[0mf\u001b[0m\u001b[0;34m(\u001b[0m\u001b[0;34m*\u001b[0m\u001b[0margs\u001b[0m\u001b[0;34m,\u001b[0m \u001b[0;34m**\u001b[0m\u001b[0mdict\u001b[0m\u001b[0;34m(\u001b[0m\u001b[0mself\u001b[0m\u001b[0;34m.\u001b[0m\u001b[0mparams\u001b[0m\u001b[0;34m,\u001b[0m \u001b[0;34m**\u001b[0m\u001b[0mkwargs\u001b[0m\u001b[0;34m)\u001b[0m\u001b[0;34m)\u001b[0m\u001b[0;34m\u001b[0m\u001b[0;34m\u001b[0m\u001b[0m\n\u001b[0m\u001b[1;32m    151\u001b[0m     \u001b[0;32mdel\u001b[0m \u001b[0margs\u001b[0m\u001b[0;34m\u001b[0m\u001b[0;34m\u001b[0m\u001b[0m\n\u001b[1;32m    152\u001b[0m     \u001b[0;32mwhile\u001b[0m \u001b[0mstack\u001b[0m\u001b[0;34m:\u001b[0m\u001b[0;34m\u001b[0m\u001b[0;34m\u001b[0m\u001b[0m\n",
      "\u001b[0;32m~/Documents/git_repos/paragami/venv/lib/python3.6/site-packages/jax/lax/lax_control_flow.py\u001b[0m in \u001b[0;36m<lambda>\u001b[0;34m(_, x)\u001b[0m\n\u001b[1;32m   1845\u001b[0m     \u001b[0mMapped\u001b[0m \u001b[0mvalues\u001b[0m\u001b[0;34m.\u001b[0m\u001b[0;34m\u001b[0m\u001b[0;34m\u001b[0m\u001b[0m\n\u001b[1;32m   1846\u001b[0m   \"\"\"\n\u001b[0;32m-> 1847\u001b[0;31m   \u001b[0mg\u001b[0m \u001b[0;34m=\u001b[0m \u001b[0;32mlambda\u001b[0m \u001b[0m_\u001b[0m\u001b[0;34m,\u001b[0m \u001b[0mx\u001b[0m\u001b[0;34m:\u001b[0m \u001b[0;34m(\u001b[0m\u001b[0;34m(\u001b[0m\u001b[0;34m)\u001b[0m\u001b[0;34m,\u001b[0m \u001b[0mf\u001b[0m\u001b[0;34m(\u001b[0m\u001b[0mx\u001b[0m\u001b[0;34m)\u001b[0m\u001b[0;34m)\u001b[0m\u001b[0;34m\u001b[0m\u001b[0;34m\u001b[0m\u001b[0m\n\u001b[0m\u001b[1;32m   1848\u001b[0m   \u001b[0m_\u001b[0m\u001b[0;34m,\u001b[0m \u001b[0mys\u001b[0m \u001b[0;34m=\u001b[0m \u001b[0mscan\u001b[0m\u001b[0;34m(\u001b[0m\u001b[0mg\u001b[0m\u001b[0;34m,\u001b[0m \u001b[0;34m(\u001b[0m\u001b[0;34m)\u001b[0m\u001b[0;34m,\u001b[0m \u001b[0mxs\u001b[0m\u001b[0;34m)\u001b[0m\u001b[0;34m\u001b[0m\u001b[0;34m\u001b[0m\u001b[0m\n\u001b[1;32m   1849\u001b[0m   \u001b[0;32mreturn\u001b[0m \u001b[0mys\u001b[0m\u001b[0;34m\u001b[0m\u001b[0;34m\u001b[0m\u001b[0m\n",
      "\u001b[0;32m~/Documents/git_repos/paragami/paragami/pattern_containers.py\u001b[0m in \u001b[0;36m<lambda>\u001b[0;34m(item)\u001b[0m\n\u001b[1;32m    636\u001b[0m             \u001b[0;32mlambda\u001b[0m \u001b[0mitem\u001b[0m\u001b[0;34m:\u001b[0m\u001b[0;34m\u001b[0m\u001b[0;34m\u001b[0m\u001b[0m\n\u001b[1;32m    637\u001b[0m                 self.__base_pattern.flatten(\n\u001b[0;32m--> 638\u001b[0;31m                     folded_val[item], free=free, validate_value=validate_value),\n\u001b[0m\u001b[1;32m    639\u001b[0m             \u001b[0mself\u001b[0m\u001b[0;34m.\u001b[0m\u001b[0m__array_indices\u001b[0m\u001b[0;34m\u001b[0m\u001b[0;34m\u001b[0m\u001b[0m\n\u001b[1;32m    640\u001b[0m         )\n",
      "\u001b[0;32m~/Documents/git_repos/paragami/paragami/psdmatrix_patterns.py\u001b[0m in \u001b[0;36mflatten\u001b[0;34m(self, folded_val, free, validate_value)\u001b[0m\n\u001b[1;32m    302\u001b[0m     \u001b[0;32mdef\u001b[0m \u001b[0mflatten\u001b[0m\u001b[0;34m(\u001b[0m\u001b[0mself\u001b[0m\u001b[0;34m,\u001b[0m \u001b[0mfolded_val\u001b[0m\u001b[0;34m,\u001b[0m \u001b[0mfree\u001b[0m\u001b[0;34m=\u001b[0m\u001b[0;32mNone\u001b[0m\u001b[0;34m,\u001b[0m \u001b[0mvalidate_value\u001b[0m\u001b[0;34m=\u001b[0m\u001b[0;32mNone\u001b[0m\u001b[0;34m)\u001b[0m\u001b[0;34m:\u001b[0m\u001b[0;34m\u001b[0m\u001b[0;34m\u001b[0m\u001b[0m\n\u001b[1;32m    303\u001b[0m         \u001b[0mfree\u001b[0m \u001b[0;34m=\u001b[0m \u001b[0mself\u001b[0m\u001b[0;34m.\u001b[0m\u001b[0m_free_with_default\u001b[0m\u001b[0;34m(\u001b[0m\u001b[0mfree\u001b[0m\u001b[0;34m)\u001b[0m\u001b[0;34m\u001b[0m\u001b[0;34m\u001b[0m\u001b[0m\n\u001b[0;32m--> 304\u001b[0;31m         \u001b[0mvalid\u001b[0m\u001b[0;34m,\u001b[0m \u001b[0mmsg\u001b[0m \u001b[0;34m=\u001b[0m \u001b[0mself\u001b[0m\u001b[0;34m.\u001b[0m\u001b[0mvalidate_folded\u001b[0m\u001b[0;34m(\u001b[0m\u001b[0mfolded_val\u001b[0m\u001b[0;34m,\u001b[0m \u001b[0mvalidate_value\u001b[0m\u001b[0;34m)\u001b[0m\u001b[0;34m\u001b[0m\u001b[0;34m\u001b[0m\u001b[0m\n\u001b[0m\u001b[1;32m    305\u001b[0m         \u001b[0;32mif\u001b[0m \u001b[0;32mnot\u001b[0m \u001b[0mvalid\u001b[0m\u001b[0;34m:\u001b[0m\u001b[0;34m\u001b[0m\u001b[0;34m\u001b[0m\u001b[0m\n\u001b[1;32m    306\u001b[0m             \u001b[0;32mraise\u001b[0m \u001b[0mValueError\u001b[0m\u001b[0;34m(\u001b[0m\u001b[0mmsg\u001b[0m\u001b[0;34m)\u001b[0m\u001b[0;34m\u001b[0m\u001b[0;34m\u001b[0m\u001b[0m\n",
      "\u001b[0;32m~/Documents/git_repos/paragami/paragami/psdmatrix_patterns.py\u001b[0m in \u001b[0;36mvalidate_folded\u001b[0;34m(self, folded_val, validate_value)\u001b[0m\n\u001b[1;32m    284\u001b[0m         \u001b[0mshape_ok\u001b[0m\u001b[0;34m,\u001b[0m \u001b[0merr_msg\u001b[0m \u001b[0;34m=\u001b[0m \u001b[0mself\u001b[0m\u001b[0;34m.\u001b[0m\u001b[0m_validate_folded_shape\u001b[0m\u001b[0;34m(\u001b[0m\u001b[0mfolded_val\u001b[0m\u001b[0;34m)\u001b[0m\u001b[0;34m\u001b[0m\u001b[0;34m\u001b[0m\u001b[0m\n\u001b[1;32m    285\u001b[0m         \u001b[0;32mif\u001b[0m \u001b[0;32mnot\u001b[0m \u001b[0mshape_ok\u001b[0m\u001b[0;34m:\u001b[0m\u001b[0;34m\u001b[0m\u001b[0;34m\u001b[0m\u001b[0m\n\u001b[0;32m--> 286\u001b[0;31m             \u001b[0;32mraise\u001b[0m \u001b[0mValueError\u001b[0m\u001b[0;34m(\u001b[0m\u001b[0merr_msg\u001b[0m\u001b[0;34m)\u001b[0m\u001b[0;34m\u001b[0m\u001b[0;34m\u001b[0m\u001b[0m\n\u001b[0m\u001b[1;32m    287\u001b[0m \u001b[0;34m\u001b[0m\u001b[0m\n\u001b[1;32m    288\u001b[0m         \u001b[0;32mif\u001b[0m \u001b[0mvalidate_value\u001b[0m \u001b[0;32mis\u001b[0m \u001b[0;32mNone\u001b[0m\u001b[0;34m:\u001b[0m\u001b[0;34m\u001b[0m\u001b[0;34m\u001b[0m\u001b[0m\n",
      "\u001b[0;31mValueError\u001b[0m: The matrix is not of shape (4, 4)"
     ]
    }
   ],
   "source": [
    "import paragami\n",
    "\n",
    "k_approx = 30\n",
    "dim = 4\n",
    "\n",
    "base_pattern = paragami.PSDSymmetricMatrixPattern(size=dim)\n",
    "covar_array_pattern = \\\n",
    "        paragami.PatternArray(array_shape = (k_approx, ), \\\n",
    "                    base_pattern = base_pattern)\n",
    "\n",
    "covar_array = covar_array_pattern.random()\n",
    "print(covar_array.shape)\n",
    "covar_array_flattened = covar_array_pattern.flatten(covar_array, free = False)\n",
    "#covar_array_flattened_free = covar_array_pattern.flatten(covar_array, free = True)"
   ]
  },
  {
   "cell_type": "code",
   "execution_count": null,
   "metadata": {},
   "outputs": [],
   "source": [
    "def fun(covar_array): \n",
    "    return (covar_array**2).sum()\n",
    "\n",
    "# flattened function\n",
    "fun_flattened = paragami.FlattenFunctionInput(original_fun=fun, \n",
    "                                patterns = covar_array_pattern,\n",
    "                                free = False,\n",
    "                                argnums = 0) \n",
    "\n",
    "# flattened and freed function\n",
    "fun_flattened_free = paragami.FlattenFunctionInput(original_fun=fun, \n",
    "                                patterns = covar_array_pattern,\n",
    "                                free = True,\n",
    "                               argnums = 0) \n",
    "\n",
    "assert_equal(\n",
    "    fun_flattened(covar_array_flattened),\n",
    "    fun_flattened_free(covar_array_flattened_free))\n"
   ]
  },
  {
   "cell_type": "code",
   "execution_count": null,
   "metadata": {},
   "outputs": [],
   "source": [
    "grad_fun_flattened = jax.jit(jax.grad(fun_flattened))\n",
    "grad_fun_flattened_free = jax.jit(jax.grad(fun_flattened_free))\n",
    "\n",
    "time_jit(lambda: grad_fun_flattened(covar_array_flattened))\n",
    "time_jit(lambda: grad_fun_flattened_free(covar_array_flattened_free))"
   ]
  },
  {
   "cell_type": "code",
   "execution_count": null,
   "metadata": {},
   "outputs": [],
   "source": [
    "print(jax.lax.map(lambda x: x + 1, np.arange(0, 10)))"
   ]
  },
  {
   "cell_type": "code",
   "execution_count": null,
   "metadata": {},
   "outputs": [],
   "source": [
    "\n",
    "import itertools\n",
    "\n",
    "__array_shape = (2, 3)\n",
    "__array_ranges = [range(0, t) for t in __array_shape]\n",
    "__array_ranges\n",
    "\n",
    "\n",
    "empty_pattern = base_pattern.empty(valid=True)\n",
    "__shape = tuple(__array_shape) + empty_pattern.shape\n",
    "\n",
    "repeated_array = np.array(\n",
    "    [empty_pattern\n",
    "     for item in itertools.product(*__array_ranges)])\n",
    "empty_orig = np.reshape(repeated_array, __shape)\n"
   ]
  },
  {
   "cell_type": "code",
   "execution_count": null,
   "metadata": {},
   "outputs": [],
   "source": [
    "# Works but inefficient, you don't want to create the entries array.\n",
    "__array_indices = np.array([ i for i in itertools.product(*__array_ranges) ])\n",
    "repeated_array = jax.lax.map(lambda x: empty_pattern, __array_indices)\n",
    "empty_jax = np.reshape(repeated_array, __shape)\n",
    "assert_equal(empty_jax, empty_orig)"
   ]
  },
  {
   "cell_type": "code",
   "execution_count": null,
   "metadata": {},
   "outputs": [],
   "source": [
    "_stacked_obs_slice(__array_indices[2], flat_length)"
   ]
  },
  {
   "cell_type": "code",
   "execution_count": null,
   "metadata": {},
   "outputs": [],
   "source": [
    "foo = np.array(onp.random.random(10))\n",
    "bar = np.arange(2, 5)\n",
    "foo[bar]"
   ]
  },
  {
   "cell_type": "code",
   "execution_count": null,
   "metadata": {},
   "outputs": [],
   "source": [
    "__array_indices = onp.array([ i for i in itertools.product(*__array_ranges) ])\n",
    "\n",
    "\n",
    "def _stacked_obs_slice(item, flat_length):\n",
    "    assert len(item) == len(__array_shape)\n",
    "    # Man maybe we just need to do this ourselves\n",
    "    linear_item = onp.ravel_multi_index(item, __array_shape) * flat_length\n",
    "    return np.arange(linear_item, linear_item + flat_length)\n",
    "    #return slice(linear_item, linear_item + flat_length)\n",
    "\n",
    "\n",
    "flat_length = base_pattern.flat_length(True)\n",
    "flat_val = onp.random.random(flat_length * onp.prod(__array_shape))\n",
    "flat_val = np.array(flat_val)\n",
    "__slices = [ _stacked_obs_slice(item, flat_length) for item in __array_indices ]\n",
    "print(__slices[0])\n",
    "print(type(__slices[0]))\n",
    "print(flat_val[__slices[0]])\n",
    "print('----------------')\n",
    "\n",
    "\n",
    "def fold_item(item):\n",
    "    print('type in fold: ', type(item))\n",
    "    item_slice = _stacked_obs_slice(item, flat_length)\n",
    "    #print(flat_val[item_slice])\n",
    "    return base_pattern.fold(\n",
    "        flat_val[item_slice],\n",
    "        free=True, validate_value=False),\n",
    "\n",
    "print(type(__array_indices[2]))\n",
    "fold_item(__array_indices[2])\n",
    "print('----------------')\n",
    "\n",
    "\n",
    "# folded_array = jax.lax.map(\n",
    "#     fold_item,\n",
    "#     __array_indices\n",
    "# )\n",
    "\n",
    "\n",
    "def fold_item2(flat_val, item_slice):\n",
    "#     print('type in fold: ', type(item_slice))\n",
    "#     print('val in fold:  ', flat_val[item_slice])\n",
    "#     print('len in fold:  ', len(flat_val[item_slice]), len(item_slice))\n",
    "    return base_pattern.fold(\n",
    "        flat_val[item_slice],\n",
    "        free=True, validate_value=False),\n",
    "\n",
    "#fold_item2(flat_val, __slices[0])\n",
    "\n",
    "def fold_with_map(flat_val):\n",
    "    folded_array = jax.lax.map(\n",
    "        lambda item_slice: fold_item2(flat_val, item_slice),\n",
    "        np.array(__slices))\n",
    "    return folded_array\n",
    "\n",
    "\n",
    "def fold_with_for(flat_val):\n",
    "    folded_array = np.array([\n",
    "            fold_item2(flat_val, item_slice)\n",
    "            for item_slice in __slices ])\n",
    "    return folded_array\n",
    "\n",
    "# Same speed. :(\n",
    "\n",
    "fold_with_map_jit = jax.jit(fold_with_map)\n",
    "time_jit(lambda: fold_with_map_jit)\n",
    "\n",
    "fold_with_for_jit = jax.jit(fold_with_for)\n",
    "time_jit(lambda: fold_with_for_jit)\n",
    "\n"
   ]
  },
  {
   "cell_type": "markdown",
   "metadata": {},
   "source": [
    "## PSD patterns"
   ]
  },
  {
   "cell_type": "code",
   "execution_count": null,
   "metadata": {},
   "outputs": [],
   "source": [
    "assert False"
   ]
  },
  {
   "cell_type": "code",
   "execution_count": null,
   "metadata": {},
   "outputs": [],
   "source": [
    "\n",
    "def _sym_index(k1, k2):\n",
    "    \"\"\"\n",
    "    Get the index of an entry in a folded symmetric array.\n",
    "\n",
    "    Parameters\n",
    "    ------------\n",
    "    k1, k2: int\n",
    "        0-based indices into a symmetric matrix.\n",
    "\n",
    "    Returns\n",
    "    --------\n",
    "    int\n",
    "        Return the linear index of the (k1, k2) element of a symmetric\n",
    "        matrix where the triangular part has been stacked into a vector.\n",
    "    \"\"\"\n",
    "    def ld_ind(k1, k2):\n",
    "        return int(k2 + k1 * (k1 + 1) / 2)\n",
    "\n",
    "    if k2 <= k1:\n",
    "        return ld_ind(k1, k2)\n",
    "    else:\n",
    "        return ld_ind(k2, k1)\n",
    "\n",
    "\n",
    "def _vectorize_ld_matrix(mat):\n",
    "    \"\"\"\n",
    "    Linearize the lower diagonal of a square matrix.\n",
    "    \"\"\"\n",
    "    nrow, ncol = np.shape(mat)\n",
    "    if nrow != ncol:\n",
    "        raise ValueError('mat must be square')\n",
    "    return mat[np.tril_indices(nrow)]\n",
    "\n",
    "\n",
    "def _unvectorize_ld_matrix(vec):\n",
    "    \"\"\"\n",
    "    Invert the mapping of `_vectorize_ld_matrix`.\n",
    "    \"\"\"\n",
    "    mat_size = int(0.5 * (math.sqrt(1 + 8 * vec.size) - 1))\n",
    "    if mat_size * (mat_size + 1) / 2 != vec.size:\n",
    "        raise ValueError('Vector is an impossible size')\n",
    "\n",
    "    mat = np.zeros((mat_size, mat_size))\n",
    "    inds = np.tril_indices(mat_size)\n",
    "    return(jax.ops.index_update(mat, inds, vec))\n",
    "\n",
    "\n",
    "def _exp_matrix_diagonal(mat):\n",
    "    assert mat.shape[0] == mat.shape[1]\n",
    "    dim = mat.shape[0]\n",
    "    diag_inds = (np.arange(dim), np.arange(dim))\n",
    "    exp_diags = np.exp(np.diag(mat))\n",
    "    return(jax.ops.index_update(mat, diag_inds, exp_diags))\n",
    "\n",
    "\n",
    "def _log_matrix_diagonal(mat):\n",
    "    assert mat.shape[0] == mat.shape[1]\n",
    "    dim = mat.shape[0]\n",
    "    diag_inds = (np.arange(dim), np.arange(dim))\n",
    "    log_diags = np.log(np.diag(mat))\n",
    "    return(jax.ops.index_update(mat, diag_inds, log_diags))\n",
    "\n",
    "\n",
    "def _pack_posdef_matrix(mat, diag_lb=0.0):\n",
    "    k = mat.shape[0]\n",
    "    # mat_lb = mat - np.make_diagonal(\n",
    "    #     np.full(k, diag_lb), offset=0, axis1=-1, axis2=-2)\n",
    "    mat_lb = mat - np.diag(np.full(k, diag_lb))\n",
    "    return _vectorize_ld_matrix(\n",
    "        _log_matrix_diagonal(np.linalg.cholesky(mat_lb)))\n",
    "\n",
    "\n",
    "def _unpack_posdef_matrix(free_vec, diag_lb=0.0):\n",
    "    mat_raw = _unvectorize_ld_matrix(free_vec)\n",
    "    #return mat_raw # 0.20\n",
    "\n",
    "    mat_chol = _exp_matrix_diagonal(mat_raw)\n",
    "    #return mat_chol # 0.60\n",
    "    #mat_chol = mat_raw\n",
    "\n",
    "    # Doesn't seem to matter much what you do\n",
    "    #mat = np.einsum('ik,jk->ij', mat_chol, mat_chol)\n",
    "    mat = np.matmul(mat_chol, np.transpose(mat_chol))\n",
    "    #return mat # 1.3\n",
    "\n",
    "    dim = mat.shape[0]\n",
    "    diag_inds = (np.arange(dim), np.arange(dim))\n",
    "    new_mat = jax.ops.index_update(mat, diag_inds, np.diag(mat) + diag_lb)\n",
    "    return new_mat # 1.1 ?!\n",
    "\n",
    "    \n",
    "# Convert a vector containing the lower diagonal portion of a symmetric\n",
    "# matrix into the full symmetric matrix.\n",
    "#\n",
    "# This is not currently used but could be useful for a symmetric matrix type.\n",
    "def _unvectorize_symmetric_matrix(vec_val):\n",
    "    ld_mat = _unvectorize_ld_matrix(vec_val)\n",
    "    mat_val = ld_mat + ld_mat.transpose()\n",
    "    # We have double counted the diagonal.  For some reason the autograd\n",
    "    # diagonal functions require axis1=-1 and axis2=-2\n",
    "    # mat_val = mat_val - \\\n",
    "    #     np.make_diagonal(np.diagonal(ld_mat, axis1=-1, axis2=-2),\n",
    "    #                      axis1=-1, axis2=-2)\n",
    "    mat_val = mat_val - np.diag(np.diagonal(ld_mat))\n",
    "\n",
    "    return mat_val\n"
   ]
  },
  {
   "cell_type": "code",
   "execution_count": null,
   "metadata": {},
   "outputs": [],
   "source": [
    "dim = 50\n",
    "#mat = np.eye(dim) * dim + np.full((dim, dim), 0.1)\n",
    "foo = onp.random.random((dim, dim))\n",
    "mat = np.eye(dim) * dim + foo + foo.T\n",
    "mat = np.array(mat)\n",
    "vec = _pack_posdef_matrix(mat)\n",
    "assert_equal(_unpack_posdef_matrix(vec), mat)\n"
   ]
  },
  {
   "cell_type": "code",
   "execution_count": null,
   "metadata": {
    "scrolled": false
   },
   "outputs": [],
   "source": [
    "pack_grad = jax.jit(jax.jacobian(_pack_posdef_matrix))\n",
    "\n",
    "unpack_grad = jax.jit(jax.jacobian(\n",
    "    lambda x, diag_lb: _unpack_posdef_matrix(x, diag_lb=diag_lb)),\n",
    "                      static_argnums=1)\n",
    "time_jit(lambda: unpack_grad(vec, 0.0))\n",
    "\n",
    "tic = time.time()\n",
    "unpack_grad(vec, 0.0)\n",
    "tic = mark_tic(tic, 'subsequent')\n",
    "unpack_grad(vec, 0.1)\n",
    "tic = mark_tic(tic, 'subsequent but new par')\n",
    "unpack_grad(vec, 0.1)\n",
    "tic = mark_tic(tic, 'subsequent 0.0')\n",
    "unpack_grad(vec, 0.0);\n",
    "tic = mark_tic(tic, 'subsequent 0.1')\n",
    "unpack_grad(vec, 0.1);\n"
   ]
  },
  {
   "cell_type": "code",
   "execution_count": null,
   "metadata": {},
   "outputs": [],
   "source": [
    "exp_grad = jax.jit(jax.jacobian(_exp_matrix_diagonal))\n",
    "\n",
    "print('Exp')\n",
    "time_jit(lambda: exp_grad(mat))\n",
    "\n",
    "time_jit(lambda: np.matmul(mat, mat.T))\n",
    "time_jit(lambda: np.matmul(mat, np.transpose(mat)))\n",
    "\n",
    "\n",
    "pack_grad = jax.jit(jax.jacobian(_vectorize_ld_matrix))\n",
    "unpack_grad = jax.jit(jax.jacobian(_unvectorize_ld_matrix))\n",
    "\n",
    "print('Pack')\n",
    "time_jit(lambda: pack_grad(mat))\n",
    "\n",
    "print('Unpack')\n",
    "time_jit(lambda: unpack_grad(vec))"
   ]
  }
 ],
 "metadata": {
  "kernelspec": {
   "display_name": "paragami_sandbox",
   "language": "python",
   "name": "paragami_sandbox"
  },
  "language_info": {
   "codemirror_mode": {
    "name": "ipython",
    "version": 3
   },
   "file_extension": ".py",
   "mimetype": "text/x-python",
   "name": "python",
   "nbconvert_exporter": "python",
   "pygments_lexer": "ipython3",
   "version": "3.6.9"
  }
 },
 "nbformat": 4,
 "nbformat_minor": 4
}
