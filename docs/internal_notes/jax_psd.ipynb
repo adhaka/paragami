{
 "cells": [
  {
   "cell_type": "code",
   "execution_count": 1,
   "metadata": {},
   "outputs": [
    {
     "name": "stderr",
     "output_type": "stream",
     "text": [
      "/home/rgiordan/Documents/git_repos/paragami/venv/lib/python3.6/site-packages/jax/lib/xla_bridge.py:130: UserWarning: No GPU/TPU found, falling back to CPU.\n",
      "  warnings.warn('No GPU/TPU found, falling back to CPU.')\n"
     ]
    }
   ],
   "source": [
    "from paragami.base_patterns import Pattern\n",
    "from paragami.pattern_containers import register_pattern_json\n",
    "\n",
    "import jax\n",
    "import jax.numpy as np\n",
    "import numpy as onp\n",
    "\n",
    "import math\n",
    "\n",
    "import time\n",
    "import timeit\n",
    "#from jax import custom_jvp\n",
    "\n",
    "import itertools\n",
    "\n",
    "import paragami\n"
   ]
  },
  {
   "cell_type": "code",
   "execution_count": 2,
   "metadata": {},
   "outputs": [],
   "source": [
    "\n",
    "def assert_equal(x, y, tol=1e-12):\n",
    "    assert(onp.max(onp.abs(x - y)) < tol)\n",
    "    \n",
    "def time_jit(f):\n",
    "    tic = time.time()\n",
    "    f()\n",
    "    print('1st time: ', time.time() - tic)\n",
    "\n",
    "    tic = time.time()\n",
    "    f()\n",
    "    print('2nd time: ', time.time() - tic)\n",
    "\n",
    "    \n",
    "def mark_tic(tic, op):\n",
    "    print(f'{op}:\\t{time.time() - tic}')\n",
    "    return time.time()"
   ]
  },
  {
   "cell_type": "code",
   "execution_count": 6,
   "metadata": {},
   "outputs": [
    {
     "data": {
      "text/plain": [
       "''"
      ]
     },
     "execution_count": 6,
     "metadata": {},
     "output_type": "execute_result"
    }
   ],
   "source": []
  },
  {
   "cell_type": "markdown",
   "metadata": {},
   "source": [
    "# Selective removal"
   ]
  },
  {
   "cell_type": "code",
   "execution_count": 3,
   "metadata": {
    "scrolled": false
   },
   "outputs": [
    {
     "name": "stdout",
     "output_type": "stream",
     "text": [
      "(30, 4, 4)\n"
     ]
    },
    {
     "ename": "TypeError",
     "evalue": "'NoneType' object is not iterable",
     "output_type": "error",
     "traceback": [
      "\u001b[0;31m---------------------------------------------------------------------------\u001b[0m",
      "\u001b[0;31mTypeError\u001b[0m                                 Traceback (most recent call last)",
      "\u001b[0;32m<ipython-input-3-e9a94492689d>\u001b[0m in \u001b[0;36m<module>\u001b[0;34m\u001b[0m\n\u001b[1;32m      9\u001b[0m \u001b[0mcovar_array\u001b[0m \u001b[0;34m=\u001b[0m \u001b[0mcovar_array_pattern\u001b[0m\u001b[0;34m.\u001b[0m\u001b[0mrandom\u001b[0m\u001b[0;34m(\u001b[0m\u001b[0;34m)\u001b[0m\u001b[0;34m\u001b[0m\u001b[0;34m\u001b[0m\u001b[0m\n\u001b[1;32m     10\u001b[0m \u001b[0mprint\u001b[0m\u001b[0;34m(\u001b[0m\u001b[0mcovar_array\u001b[0m\u001b[0;34m.\u001b[0m\u001b[0mshape\u001b[0m\u001b[0;34m)\u001b[0m\u001b[0;34m\u001b[0m\u001b[0;34m\u001b[0m\u001b[0m\n\u001b[0;32m---> 11\u001b[0;31m \u001b[0mcovar_array_flattened\u001b[0m \u001b[0;34m=\u001b[0m \u001b[0mcovar_array_pattern\u001b[0m\u001b[0;34m.\u001b[0m\u001b[0mflatten\u001b[0m\u001b[0;34m(\u001b[0m\u001b[0mcovar_array\u001b[0m\u001b[0;34m,\u001b[0m \u001b[0mfree\u001b[0m \u001b[0;34m=\u001b[0m \u001b[0;32mFalse\u001b[0m\u001b[0;34m)\u001b[0m\u001b[0;34m\u001b[0m\u001b[0;34m\u001b[0m\u001b[0m\n\u001b[0m\u001b[1;32m     12\u001b[0m \u001b[0mcovar_array_flattened_free\u001b[0m \u001b[0;34m=\u001b[0m \u001b[0mcovar_array_pattern\u001b[0m\u001b[0;34m.\u001b[0m\u001b[0mflatten\u001b[0m\u001b[0;34m(\u001b[0m\u001b[0mcovar_array\u001b[0m\u001b[0;34m,\u001b[0m \u001b[0mfree\u001b[0m \u001b[0;34m=\u001b[0m \u001b[0;32mTrue\u001b[0m\u001b[0;34m)\u001b[0m\u001b[0;34m\u001b[0m\u001b[0;34m\u001b[0m\u001b[0m\n",
      "\u001b[0;32m~/Documents/git_repos/paragami/paragami/pattern_containers.py\u001b[0m in \u001b[0;36mflatten\u001b[0;34m(self, folded_val, free, validate_value)\u001b[0m\n\u001b[1;32m    644\u001b[0m         \u001b[0mfree\u001b[0m \u001b[0;34m=\u001b[0m \u001b[0mself\u001b[0m\u001b[0;34m.\u001b[0m\u001b[0m_free_with_default\u001b[0m\u001b[0;34m(\u001b[0m\u001b[0mfree\u001b[0m\u001b[0;34m)\u001b[0m\u001b[0;34m\u001b[0m\u001b[0;34m\u001b[0m\u001b[0m\n\u001b[1;32m    645\u001b[0m         valid, msg = self.validate_folded(\n\u001b[0;32m--> 646\u001b[0;31m             folded_val, validate_value=validate_value)\n\u001b[0m\u001b[1;32m    647\u001b[0m         \u001b[0;32mif\u001b[0m \u001b[0;32mnot\u001b[0m \u001b[0mvalid\u001b[0m\u001b[0;34m:\u001b[0m\u001b[0;34m\u001b[0m\u001b[0;34m\u001b[0m\u001b[0m\n\u001b[1;32m    648\u001b[0m             \u001b[0;32mraise\u001b[0m \u001b[0mValueError\u001b[0m\u001b[0;34m(\u001b[0m\u001b[0mmsg\u001b[0m\u001b[0;34m)\u001b[0m\u001b[0;34m\u001b[0m\u001b[0;34m\u001b[0m\u001b[0m\n",
      "\u001b[0;32m~/Documents/git_repos/paragami/paragami/pattern_containers.py\u001b[0m in \u001b[0;36mvalidate_folded\u001b[0;34m(self, folded_val, validate_value)\u001b[0m\n\u001b[1;32m    537\u001b[0m         \u001b[0;32mfor\u001b[0m \u001b[0mitem\u001b[0m \u001b[0;32min\u001b[0m \u001b[0mitertools\u001b[0m\u001b[0;34m.\u001b[0m\u001b[0mproduct\u001b[0m\u001b[0;34m(\u001b[0m\u001b[0;34m*\u001b[0m\u001b[0mself\u001b[0m\u001b[0;34m.\u001b[0m\u001b[0m__array_ranges\u001b[0m\u001b[0;34m)\u001b[0m\u001b[0;34m:\u001b[0m\u001b[0;34m\u001b[0m\u001b[0;34m\u001b[0m\u001b[0m\n\u001b[1;32m    538\u001b[0m             valid, msg = self.__base_pattern.validate_folded(\n\u001b[0;32m--> 539\u001b[0;31m                 folded_val[item], validate_value=validate_value)\n\u001b[0m\u001b[1;32m    540\u001b[0m             \u001b[0;32mif\u001b[0m \u001b[0;32mnot\u001b[0m \u001b[0mvalid\u001b[0m\u001b[0;34m:\u001b[0m\u001b[0;34m\u001b[0m\u001b[0;34m\u001b[0m\u001b[0m\n\u001b[1;32m    541\u001b[0m                 \u001b[0merr_msg\u001b[0m \u001b[0;34m=\u001b[0m \u001b[0;34m'Bad value in location {}: {}'\u001b[0m\u001b[0;34m.\u001b[0m\u001b[0mformat\u001b[0m\u001b[0;34m(\u001b[0m\u001b[0mitem\u001b[0m\u001b[0;34m,\u001b[0m \u001b[0mmsg\u001b[0m\u001b[0;34m)\u001b[0m\u001b[0;34m\u001b[0m\u001b[0;34m\u001b[0m\u001b[0m\n",
      "\u001b[0;31mTypeError\u001b[0m: 'NoneType' object is not iterable"
     ]
    }
   ],
   "source": [
    "k_approx = 30\n",
    "dim = 4\n",
    "\n",
    "base_pattern = paragami.PSDSymmetricMatrixPattern(size=dim)\n",
    "covar_array_pattern = \\\n",
    "        paragami.PatternArray(array_shape = (k_approx, ), \\\n",
    "                    base_pattern = base_pattern)\n",
    "\n",
    "covar_array = covar_array_pattern.random()\n",
    "print(covar_array.shape)\n",
    "covar_array_flattened = covar_array_pattern.flatten(covar_array, free = False)\n",
    "covar_array_flattened_free = covar_array_pattern.flatten(covar_array, free = True)"
   ]
  },
  {
   "cell_type": "code",
   "execution_count": null,
   "metadata": {},
   "outputs": [],
   "source": [
    "def fun(covar_array): \n",
    "    return (covar_array**2).sum()\n",
    "\n",
    "# flattened function\n",
    "fun_flattened = paragami.FlattenFunctionInput(original_fun=fun, \n",
    "                                patterns = covar_array_pattern,\n",
    "                                free = False,\n",
    "                                argnums = 0) \n",
    "\n",
    "# flattened and freed function\n",
    "fun_flattened_free = paragami.FlattenFunctionInput(original_fun=fun, \n",
    "                                patterns = covar_array_pattern,\n",
    "                                free = True,\n",
    "                                argnums = 0) \n",
    "\n",
    "assert_equal(\n",
    "    fun_flattened(covar_array_flattened),\n",
    "    fun_flattened_free(covar_array_flattened_free))\n"
   ]
  },
  {
   "cell_type": "code",
   "execution_count": null,
   "metadata": {},
   "outputs": [],
   "source": [
    "grad_fun_flattened = jax.jit(jax.grad(fun_flattened))\n",
    "grad_fun_flattened_free = jax.jit(jax.grad(fun_flattened_free))\n",
    "\n",
    "time_jit(lambda: grad_fun_flattened(covar_array_flattened))\n",
    "time_jit(lambda: grad_fun_flattened_free(covar_array_flattened_free))"
   ]
  },
  {
   "cell_type": "markdown",
   "metadata": {},
   "source": [
    "# Previous output:\n",
    "\n",
    "```\n",
    "grad_fun_flattened = jax.jit(jax.grad(fun_flattened))\n",
    "grad_fun_flattened_free = jax.jit(jax.grad(fun_flattened_free))\n",
    "\n",
    "time_jit(lambda: grad_fun_flattened(covar_array_flattened))\n",
    "time_jit(lambda: grad_fun_flattened_free(covar_array_flattened_free))\n",
    "\n",
    "1st time:  0.9008519649505615\n",
    "2nd time:  0.0002048015594482422\n",
    "1st time:  16.830384492874146\n",
    "2nd time:  0.0010187625885009766\n",
    "```"
   ]
  },
  {
   "cell_type": "code",
   "execution_count": null,
   "metadata": {},
   "outputs": [],
   "source": [
    "assert False"
   ]
  },
  {
   "cell_type": "markdown",
   "metadata": {},
   "source": [
    "# Conditional"
   ]
  },
  {
   "cell_type": "code",
   "execution_count": null,
   "metadata": {
    "scrolled": false
   },
   "outputs": [],
   "source": [
    "@jax.jit\n",
    "def foo(x):\n",
    "    # Fails\n",
    "    #if x > 10:\n",
    "    #    return 20\n",
    "    #else:\n",
    "    #    return 5\n",
    "    return jax.lax.cond(x > 10,\n",
    "                        true_fun=lambda _: (True, 20),\n",
    "                        false_fun=lambda _: (False, 5), operand=[])\n",
    "\n",
    "( foo(6), foo(25))"
   ]
  },
  {
   "cell_type": "code",
   "execution_count": 20,
   "metadata": {
    "scrolled": false
   },
   "outputs": [],
   "source": [
    "# Fails\n",
    "# @jax.jit\n",
    "# def foo(x):\n",
    "#     def check(x):\n",
    "#         if x > 10:\n",
    "#             return 20\n",
    "#         else:\n",
    "#             return 5\n",
    "#     #check(jax.lax.stop_gradient(x))\n",
    "#     jax.lax.stop_gradient(check(x))\n",
    "# ( foo(6), foo(25))"
   ]
  },
  {
   "cell_type": "code",
   "execution_count": 26,
   "metadata": {
    "scrolled": false
   },
   "outputs": [
    {
     "ename": "AssertionError",
     "evalue": "",
     "output_type": "error",
     "traceback": [
      "\u001b[0;31m---------------------------------------------------------------------------\u001b[0m",
      "\u001b[0;31mAssertionError\u001b[0m                            Traceback (most recent call last)",
      "\u001b[0;32m<ipython-input-26-a960db75bdf1>\u001b[0m in \u001b[0;36m<module>\u001b[0;34m\u001b[0m\n\u001b[1;32m      9\u001b[0m                         operand=[])\n\u001b[1;32m     10\u001b[0m \u001b[0;34m\u001b[0m\u001b[0m\n\u001b[0;32m---> 11\u001b[0;31m \u001b[0mfoo\u001b[0m\u001b[0;34m(\u001b[0m\u001b[0;36m5\u001b[0m\u001b[0;34m)\u001b[0m\u001b[0;34m\u001b[0m\u001b[0;34m\u001b[0m\u001b[0m\n\u001b[0m",
      "\u001b[0;32m~/Documents/git_repos/paragami/venv/lib/python3.6/site-packages/jax/api.py\u001b[0m in \u001b[0;36mf_jitted\u001b[0;34m(*args, **kwargs)\u001b[0m\n\u001b[1;32m    169\u001b[0m     \u001b[0mflat_fun\u001b[0m\u001b[0;34m,\u001b[0m \u001b[0mout_tree\u001b[0m \u001b[0;34m=\u001b[0m \u001b[0mflatten_fun\u001b[0m\u001b[0;34m(\u001b[0m\u001b[0mf\u001b[0m\u001b[0;34m,\u001b[0m \u001b[0min_tree\u001b[0m\u001b[0;34m)\u001b[0m\u001b[0;34m\u001b[0m\u001b[0;34m\u001b[0m\u001b[0m\n\u001b[1;32m    170\u001b[0m     out = xla.xla_call(flat_fun, *args_flat, device=device, backend=backend,\n\u001b[0;32m--> 171\u001b[0;31m                        name=flat_fun.__name__, donated_invars=donated_invars)\n\u001b[0m\u001b[1;32m    172\u001b[0m     \u001b[0;32mreturn\u001b[0m \u001b[0mtree_unflatten\u001b[0m\u001b[0;34m(\u001b[0m\u001b[0mout_tree\u001b[0m\u001b[0;34m(\u001b[0m\u001b[0;34m)\u001b[0m\u001b[0;34m,\u001b[0m \u001b[0mout\u001b[0m\u001b[0;34m)\u001b[0m\u001b[0;34m\u001b[0m\u001b[0;34m\u001b[0m\u001b[0m\n\u001b[1;32m    173\u001b[0m \u001b[0;34m\u001b[0m\u001b[0m\n",
      "\u001b[0;32m~/Documents/git_repos/paragami/venv/lib/python3.6/site-packages/jax/core.py\u001b[0m in \u001b[0;36mbind\u001b[0;34m(self, fun, *args, **params)\u001b[0m\n\u001b[1;32m   1132\u001b[0m \u001b[0;34m\u001b[0m\u001b[0m\n\u001b[1;32m   1133\u001b[0m   \u001b[0;32mdef\u001b[0m \u001b[0mbind\u001b[0m\u001b[0;34m(\u001b[0m\u001b[0mself\u001b[0m\u001b[0;34m,\u001b[0m \u001b[0mfun\u001b[0m\u001b[0;34m,\u001b[0m \u001b[0;34m*\u001b[0m\u001b[0margs\u001b[0m\u001b[0;34m,\u001b[0m \u001b[0;34m**\u001b[0m\u001b[0mparams\u001b[0m\u001b[0;34m)\u001b[0m\u001b[0;34m:\u001b[0m\u001b[0;34m\u001b[0m\u001b[0;34m\u001b[0m\u001b[0m\n\u001b[0;32m-> 1134\u001b[0;31m     \u001b[0;32mreturn\u001b[0m \u001b[0mcall_bind\u001b[0m\u001b[0;34m(\u001b[0m\u001b[0mself\u001b[0m\u001b[0;34m,\u001b[0m \u001b[0mfun\u001b[0m\u001b[0;34m,\u001b[0m \u001b[0;34m*\u001b[0m\u001b[0margs\u001b[0m\u001b[0;34m,\u001b[0m \u001b[0;34m**\u001b[0m\u001b[0mparams\u001b[0m\u001b[0;34m)\u001b[0m\u001b[0;34m\u001b[0m\u001b[0;34m\u001b[0m\u001b[0m\n\u001b[0m\u001b[1;32m   1135\u001b[0m \u001b[0;34m\u001b[0m\u001b[0m\n\u001b[1;32m   1136\u001b[0m   \u001b[0;32mdef\u001b[0m \u001b[0mprocess\u001b[0m\u001b[0;34m(\u001b[0m\u001b[0mself\u001b[0m\u001b[0;34m,\u001b[0m \u001b[0mtrace\u001b[0m\u001b[0;34m,\u001b[0m \u001b[0mfun\u001b[0m\u001b[0;34m,\u001b[0m \u001b[0mtracers\u001b[0m\u001b[0;34m,\u001b[0m \u001b[0mparams\u001b[0m\u001b[0;34m)\u001b[0m\u001b[0;34m:\u001b[0m\u001b[0;34m\u001b[0m\u001b[0;34m\u001b[0m\u001b[0m\n",
      "\u001b[0;32m~/Documents/git_repos/paragami/venv/lib/python3.6/site-packages/jax/core.py\u001b[0m in \u001b[0;36mcall_bind\u001b[0;34m(primitive, fun, *args, **params)\u001b[0m\n\u001b[1;32m   1121\u001b[0m   \u001b[0;32mif\u001b[0m \u001b[0mtop_trace\u001b[0m \u001b[0;32mis\u001b[0m \u001b[0;32mNone\u001b[0m\u001b[0;34m:\u001b[0m\u001b[0;34m\u001b[0m\u001b[0;34m\u001b[0m\u001b[0m\n\u001b[1;32m   1122\u001b[0m     \u001b[0;32mwith\u001b[0m \u001b[0mnew_sublevel\u001b[0m\u001b[0;34m(\u001b[0m\u001b[0;34m)\u001b[0m\u001b[0;34m:\u001b[0m\u001b[0;34m\u001b[0m\u001b[0;34m\u001b[0m\u001b[0m\n\u001b[0;32m-> 1123\u001b[0;31m       \u001b[0mouts\u001b[0m \u001b[0;34m=\u001b[0m \u001b[0mprimitive\u001b[0m\u001b[0;34m.\u001b[0m\u001b[0mimpl\u001b[0m\u001b[0;34m(\u001b[0m\u001b[0mfun\u001b[0m\u001b[0;34m,\u001b[0m \u001b[0;34m*\u001b[0m\u001b[0margs\u001b[0m\u001b[0;34m,\u001b[0m \u001b[0;34m**\u001b[0m\u001b[0mparams\u001b[0m\u001b[0;34m)\u001b[0m\u001b[0;34m\u001b[0m\u001b[0;34m\u001b[0m\u001b[0m\n\u001b[0m\u001b[1;32m   1124\u001b[0m   \u001b[0;32melse\u001b[0m\u001b[0;34m:\u001b[0m\u001b[0;34m\u001b[0m\u001b[0;34m\u001b[0m\u001b[0m\n\u001b[1;32m   1125\u001b[0m     \u001b[0mtracers\u001b[0m \u001b[0;34m=\u001b[0m \u001b[0mmap\u001b[0m\u001b[0;34m(\u001b[0m\u001b[0mtop_trace\u001b[0m\u001b[0;34m.\u001b[0m\u001b[0mfull_raise\u001b[0m\u001b[0;34m,\u001b[0m \u001b[0margs\u001b[0m\u001b[0;34m)\u001b[0m\u001b[0;34m\u001b[0m\u001b[0;34m\u001b[0m\u001b[0m\n",
      "\u001b[0;32m~/Documents/git_repos/paragami/venv/lib/python3.6/site-packages/jax/interpreters/xla.py\u001b[0m in \u001b[0;36m_xla_call_impl\u001b[0;34m(fun, device, backend, name, donated_invars, *args)\u001b[0m\n\u001b[1;32m    525\u001b[0m \u001b[0;32mdef\u001b[0m \u001b[0m_xla_call_impl\u001b[0m\u001b[0;34m(\u001b[0m\u001b[0mfun\u001b[0m\u001b[0;34m:\u001b[0m \u001b[0mlu\u001b[0m\u001b[0;34m.\u001b[0m\u001b[0mWrappedFun\u001b[0m\u001b[0;34m,\u001b[0m \u001b[0;34m*\u001b[0m\u001b[0margs\u001b[0m\u001b[0;34m,\u001b[0m \u001b[0mdevice\u001b[0m\u001b[0;34m,\u001b[0m \u001b[0mbackend\u001b[0m\u001b[0;34m,\u001b[0m \u001b[0mname\u001b[0m\u001b[0;34m,\u001b[0m \u001b[0mdonated_invars\u001b[0m\u001b[0;34m)\u001b[0m\u001b[0;34m:\u001b[0m\u001b[0;34m\u001b[0m\u001b[0;34m\u001b[0m\u001b[0m\n\u001b[1;32m    526\u001b[0m   compiled_fun = _xla_callable(fun, device, backend, name, donated_invars,\n\u001b[0;32m--> 527\u001b[0;31m                                *unsafe_map(arg_spec, args))\n\u001b[0m\u001b[1;32m    528\u001b[0m   \u001b[0;32mtry\u001b[0m\u001b[0;34m:\u001b[0m\u001b[0;34m\u001b[0m\u001b[0;34m\u001b[0m\u001b[0m\n\u001b[1;32m    529\u001b[0m     \u001b[0;32mreturn\u001b[0m \u001b[0mcompiled_fun\u001b[0m\u001b[0;34m(\u001b[0m\u001b[0;34m*\u001b[0m\u001b[0margs\u001b[0m\u001b[0;34m)\u001b[0m\u001b[0;34m\u001b[0m\u001b[0;34m\u001b[0m\u001b[0m\n",
      "\u001b[0;32m~/Documents/git_repos/paragami/venv/lib/python3.6/site-packages/jax/linear_util.py\u001b[0m in \u001b[0;36mmemoized_fun\u001b[0;34m(fun, *args)\u001b[0m\n\u001b[1;32m    222\u001b[0m       \u001b[0mfun\u001b[0m\u001b[0;34m.\u001b[0m\u001b[0mpopulate_stores\u001b[0m\u001b[0;34m(\u001b[0m\u001b[0mstores\u001b[0m\u001b[0;34m)\u001b[0m\u001b[0;34m\u001b[0m\u001b[0;34m\u001b[0m\u001b[0m\n\u001b[1;32m    223\u001b[0m     \u001b[0;32melse\u001b[0m\u001b[0;34m:\u001b[0m\u001b[0;34m\u001b[0m\u001b[0;34m\u001b[0m\u001b[0m\n\u001b[0;32m--> 224\u001b[0;31m       \u001b[0mans\u001b[0m \u001b[0;34m=\u001b[0m \u001b[0mcall\u001b[0m\u001b[0;34m(\u001b[0m\u001b[0mfun\u001b[0m\u001b[0;34m,\u001b[0m \u001b[0;34m*\u001b[0m\u001b[0margs\u001b[0m\u001b[0;34m)\u001b[0m\u001b[0;34m\u001b[0m\u001b[0;34m\u001b[0m\u001b[0m\n\u001b[0m\u001b[1;32m    225\u001b[0m       \u001b[0mcache\u001b[0m\u001b[0;34m[\u001b[0m\u001b[0mkey\u001b[0m\u001b[0;34m]\u001b[0m \u001b[0;34m=\u001b[0m \u001b[0;34m(\u001b[0m\u001b[0mans\u001b[0m\u001b[0;34m,\u001b[0m \u001b[0mfun\u001b[0m\u001b[0;34m.\u001b[0m\u001b[0mstores\u001b[0m\u001b[0;34m)\u001b[0m\u001b[0;34m\u001b[0m\u001b[0;34m\u001b[0m\u001b[0m\n\u001b[1;32m    226\u001b[0m     \u001b[0;32mreturn\u001b[0m \u001b[0mans\u001b[0m\u001b[0;34m\u001b[0m\u001b[0;34m\u001b[0m\u001b[0m\n",
      "\u001b[0;32m~/Documents/git_repos/paragami/venv/lib/python3.6/site-packages/jax/interpreters/xla.py\u001b[0m in \u001b[0;36m_xla_callable\u001b[0;34m(fun, device, backend, name, donated_invars, *arg_specs)\u001b[0m\n\u001b[1;32m    596\u001b[0m     \u001b[0mpvals\u001b[0m\u001b[0;34m:\u001b[0m \u001b[0mSequence\u001b[0m\u001b[0;34m[\u001b[0m\u001b[0mpe\u001b[0m\u001b[0;34m.\u001b[0m\u001b[0mPartialVal\u001b[0m\u001b[0;34m]\u001b[0m \u001b[0;34m=\u001b[0m \u001b[0;34m[\u001b[0m\u001b[0mpe\u001b[0m\u001b[0;34m.\u001b[0m\u001b[0mPartialVal\u001b[0m\u001b[0;34m.\u001b[0m\u001b[0munknown\u001b[0m\u001b[0;34m(\u001b[0m\u001b[0maval\u001b[0m\u001b[0;34m)\u001b[0m \u001b[0;32mfor\u001b[0m \u001b[0maval\u001b[0m \u001b[0;32min\u001b[0m \u001b[0mabstract_args\u001b[0m\u001b[0;34m]\u001b[0m\u001b[0;34m\u001b[0m\u001b[0;34m\u001b[0m\u001b[0m\n\u001b[1;32m    597\u001b[0m     jaxpr, pvals, consts = pe.trace_to_jaxpr(\n\u001b[0;32m--> 598\u001b[0;31m         fun, pvals, instantiate=False, stage_out=True, bottom=True)\n\u001b[0m\u001b[1;32m    599\u001b[0m   \u001b[0mmap\u001b[0m\u001b[0;34m(\u001b[0m\u001b[0mprefetch\u001b[0m\u001b[0;34m,\u001b[0m \u001b[0mit\u001b[0m\u001b[0;34m.\u001b[0m\u001b[0mchain\u001b[0m\u001b[0;34m(\u001b[0m\u001b[0mconsts\u001b[0m\u001b[0;34m,\u001b[0m \u001b[0mjaxpr_literals\u001b[0m\u001b[0;34m(\u001b[0m\u001b[0mjaxpr\u001b[0m\u001b[0;34m)\u001b[0m\u001b[0;34m)\u001b[0m\u001b[0;34m)\u001b[0m\u001b[0;34m\u001b[0m\u001b[0;34m\u001b[0m\u001b[0m\n\u001b[1;32m    600\u001b[0m   \u001b[0mjaxpr\u001b[0m \u001b[0;34m=\u001b[0m \u001b[0mapply_outfeed_rewriter\u001b[0m\u001b[0;34m(\u001b[0m\u001b[0mjaxpr\u001b[0m\u001b[0;34m)\u001b[0m\u001b[0;34m\u001b[0m\u001b[0;34m\u001b[0m\u001b[0m\n",
      "\u001b[0;32m~/Documents/git_repos/paragami/venv/lib/python3.6/site-packages/jax/interpreters/partial_eval.py\u001b[0m in \u001b[0;36mtrace_to_jaxpr\u001b[0;34m(fun, pvals, instantiate, stage_out, bottom, trace_type)\u001b[0m\n\u001b[1;32m    421\u001b[0m   \u001b[0;32mwith\u001b[0m \u001b[0mcore\u001b[0m\u001b[0;34m.\u001b[0m\u001b[0mnew_master\u001b[0m\u001b[0;34m(\u001b[0m\u001b[0mtrace_type\u001b[0m\u001b[0;34m,\u001b[0m \u001b[0mbottom\u001b[0m\u001b[0;34m=\u001b[0m\u001b[0mbottom\u001b[0m\u001b[0;34m)\u001b[0m \u001b[0;32mas\u001b[0m \u001b[0mmaster\u001b[0m\u001b[0;34m:\u001b[0m\u001b[0;34m\u001b[0m\u001b[0;34m\u001b[0m\u001b[0m\n\u001b[1;32m    422\u001b[0m     \u001b[0mfun\u001b[0m \u001b[0;34m=\u001b[0m \u001b[0mtrace_to_subjaxpr\u001b[0m\u001b[0;34m(\u001b[0m\u001b[0mfun\u001b[0m\u001b[0;34m,\u001b[0m \u001b[0mmaster\u001b[0m\u001b[0;34m,\u001b[0m \u001b[0minstantiate\u001b[0m\u001b[0;34m)\u001b[0m\u001b[0;34m\u001b[0m\u001b[0;34m\u001b[0m\u001b[0m\n\u001b[0;32m--> 423\u001b[0;31m     \u001b[0mjaxpr\u001b[0m\u001b[0;34m,\u001b[0m \u001b[0;34m(\u001b[0m\u001b[0mout_pvals\u001b[0m\u001b[0;34m,\u001b[0m \u001b[0mconsts\u001b[0m\u001b[0;34m,\u001b[0m \u001b[0menv\u001b[0m\u001b[0;34m)\u001b[0m \u001b[0;34m=\u001b[0m \u001b[0mfun\u001b[0m\u001b[0;34m.\u001b[0m\u001b[0mcall_wrapped\u001b[0m\u001b[0;34m(\u001b[0m\u001b[0mpvals\u001b[0m\u001b[0;34m)\u001b[0m\u001b[0;34m\u001b[0m\u001b[0;34m\u001b[0m\u001b[0m\n\u001b[0m\u001b[1;32m    424\u001b[0m     \u001b[0;32massert\u001b[0m \u001b[0;32mnot\u001b[0m \u001b[0menv\u001b[0m\u001b[0;34m\u001b[0m\u001b[0;34m\u001b[0m\u001b[0m\n\u001b[1;32m    425\u001b[0m     \u001b[0;32mdel\u001b[0m \u001b[0mmaster\u001b[0m\u001b[0;34m\u001b[0m\u001b[0;34m\u001b[0m\u001b[0m\n",
      "\u001b[0;32m~/Documents/git_repos/paragami/venv/lib/python3.6/site-packages/jax/linear_util.py\u001b[0m in \u001b[0;36mcall_wrapped\u001b[0;34m(self, *args, **kwargs)\u001b[0m\n\u001b[1;32m    148\u001b[0m     \u001b[0mgen\u001b[0m \u001b[0;34m=\u001b[0m \u001b[0;32mNone\u001b[0m\u001b[0;34m\u001b[0m\u001b[0;34m\u001b[0m\u001b[0m\n\u001b[1;32m    149\u001b[0m \u001b[0;34m\u001b[0m\u001b[0m\n\u001b[0;32m--> 150\u001b[0;31m     \u001b[0mans\u001b[0m \u001b[0;34m=\u001b[0m \u001b[0mself\u001b[0m\u001b[0;34m.\u001b[0m\u001b[0mf\u001b[0m\u001b[0;34m(\u001b[0m\u001b[0;34m*\u001b[0m\u001b[0margs\u001b[0m\u001b[0;34m,\u001b[0m \u001b[0;34m**\u001b[0m\u001b[0mdict\u001b[0m\u001b[0;34m(\u001b[0m\u001b[0mself\u001b[0m\u001b[0;34m.\u001b[0m\u001b[0mparams\u001b[0m\u001b[0;34m,\u001b[0m \u001b[0;34m**\u001b[0m\u001b[0mkwargs\u001b[0m\u001b[0;34m)\u001b[0m\u001b[0;34m)\u001b[0m\u001b[0;34m\u001b[0m\u001b[0;34m\u001b[0m\u001b[0m\n\u001b[0m\u001b[1;32m    151\u001b[0m     \u001b[0;32mdel\u001b[0m \u001b[0margs\u001b[0m\u001b[0;34m\u001b[0m\u001b[0;34m\u001b[0m\u001b[0m\n\u001b[1;32m    152\u001b[0m     \u001b[0;32mwhile\u001b[0m \u001b[0mstack\u001b[0m\u001b[0;34m:\u001b[0m\u001b[0;34m\u001b[0m\u001b[0;34m\u001b[0m\u001b[0m\n",
      "\u001b[0;32m<ipython-input-26-a960db75bdf1>\u001b[0m in \u001b[0;36mfoo\u001b[0;34m(x)\u001b[0m\n\u001b[1;32m      7\u001b[0m                         \u001b[0mtrue_fun\u001b[0m\u001b[0;34m=\u001b[0m\u001b[0;32mlambda\u001b[0m \u001b[0m_\u001b[0m\u001b[0;34m:\u001b[0m \u001b[0mraise_error\u001b[0m\u001b[0;34m(\u001b[0m\u001b[0;34m)\u001b[0m\u001b[0;34m,\u001b[0m\u001b[0;34m\u001b[0m\u001b[0;34m\u001b[0m\u001b[0m\n\u001b[1;32m      8\u001b[0m                         \u001b[0mfalse_fun\u001b[0m\u001b[0;34m=\u001b[0m\u001b[0;32mlambda\u001b[0m \u001b[0m_\u001b[0m\u001b[0;34m:\u001b[0m \u001b[0mx\u001b[0m\u001b[0;34m,\u001b[0m\u001b[0;34m\u001b[0m\u001b[0;34m\u001b[0m\u001b[0m\n\u001b[0;32m----> 9\u001b[0;31m                         operand=[])\n\u001b[0m\u001b[1;32m     10\u001b[0m \u001b[0;34m\u001b[0m\u001b[0m\n\u001b[1;32m     11\u001b[0m \u001b[0mfoo\u001b[0m\u001b[0;34m(\u001b[0m\u001b[0;36m5\u001b[0m\u001b[0;34m)\u001b[0m\u001b[0;34m\u001b[0m\u001b[0;34m\u001b[0m\u001b[0m\n",
      "\u001b[0;32m~/Documents/git_repos/paragami/venv/lib/python3.6/site-packages/jax/lax/lax_control_flow.py\u001b[0m in \u001b[0;36mcond\u001b[0;34m(*args, **kwargs)\u001b[0m\n\u001b[1;32m    663\u001b[0m     \u001b[0;32mreturn\u001b[0m \u001b[0m_cond_with_per_branch_args\u001b[0m\u001b[0;34m(\u001b[0m\u001b[0;34m*\u001b[0m\u001b[0mba\u001b[0m\u001b[0;34m.\u001b[0m\u001b[0margs\u001b[0m\u001b[0;34m)\u001b[0m\u001b[0;34m\u001b[0m\u001b[0;34m\u001b[0m\u001b[0m\n\u001b[1;32m    664\u001b[0m \u001b[0;34m\u001b[0m\u001b[0m\n\u001b[0;32m--> 665\u001b[0;31m   \u001b[0;32mreturn\u001b[0m \u001b[0m_cond\u001b[0m\u001b[0;34m(\u001b[0m\u001b[0;34m*\u001b[0m\u001b[0margs\u001b[0m\u001b[0;34m,\u001b[0m \u001b[0;34m**\u001b[0m\u001b[0mkwargs\u001b[0m\u001b[0;34m)\u001b[0m\u001b[0;34m\u001b[0m\u001b[0;34m\u001b[0m\u001b[0m\n\u001b[0m\u001b[1;32m    666\u001b[0m \u001b[0;34m\u001b[0m\u001b[0m\n\u001b[1;32m    667\u001b[0m \u001b[0;32mdef\u001b[0m \u001b[0m_cond\u001b[0m\u001b[0;34m(\u001b[0m\u001b[0mpred\u001b[0m\u001b[0;34m,\u001b[0m \u001b[0mtrue_fun\u001b[0m\u001b[0;34m:\u001b[0m \u001b[0mCallable\u001b[0m\u001b[0;34m,\u001b[0m \u001b[0mfalse_fun\u001b[0m\u001b[0;34m:\u001b[0m \u001b[0mCallable\u001b[0m\u001b[0;34m,\u001b[0m \u001b[0moperand\u001b[0m\u001b[0;34m)\u001b[0m\u001b[0;34m:\u001b[0m\u001b[0;34m\u001b[0m\u001b[0;34m\u001b[0m\u001b[0m\n",
      "\u001b[0;32m~/Documents/git_repos/paragami/venv/lib/python3.6/site-packages/jax/lax/lax_control_flow.py\u001b[0m in \u001b[0;36m_cond\u001b[0;34m(pred, true_fun, false_fun, operand)\u001b[0m\n\u001b[1;32m    693\u001b[0m \u001b[0;34m\u001b[0m\u001b[0m\n\u001b[1;32m    694\u001b[0m   jaxprs, consts, out_trees = _initial_style_jaxprs_with_common_consts(\n\u001b[0;32m--> 695\u001b[0;31m       (true_fun, false_fun), ops_tree, ops_avals)\n\u001b[0m\u001b[1;32m    696\u001b[0m   \u001b[0mtrue_jaxpr\u001b[0m\u001b[0;34m,\u001b[0m \u001b[0mfalse_jaxpr\u001b[0m \u001b[0;34m=\u001b[0m \u001b[0mjaxprs\u001b[0m\u001b[0;34m\u001b[0m\u001b[0;34m\u001b[0m\u001b[0m\n\u001b[1;32m    697\u001b[0m   \u001b[0mout_tree\u001b[0m\u001b[0;34m,\u001b[0m \u001b[0mfalse_out_tree\u001b[0m \u001b[0;34m=\u001b[0m \u001b[0mout_trees\u001b[0m\u001b[0;34m\u001b[0m\u001b[0;34m\u001b[0m\u001b[0m\n",
      "\u001b[0;32m~/Documents/git_repos/paragami/venv/lib/python3.6/site-packages/jax/lax/lax_control_flow.py\u001b[0m in \u001b[0;36m_initial_style_jaxprs_with_common_consts\u001b[0;34m(funs, in_tree, in_avals)\u001b[0m\n\u001b[1;32m     89\u001b[0m \u001b[0;34m\u001b[0m\u001b[0m\n\u001b[1;32m     90\u001b[0m   jaxprs, all_out_pvals, all_consts, all_out_trees = unzip4([\n\u001b[0;32m---> 91\u001b[0;31m       _initial_style_untyped_jaxpr(fun, in_tree, in_avals) for fun in funs])\n\u001b[0m\u001b[1;32m     92\u001b[0m \u001b[0;34m\u001b[0m\u001b[0m\n\u001b[1;32m     93\u001b[0m   \u001b[0mnewvar\u001b[0m \u001b[0;34m=\u001b[0m \u001b[0mcore\u001b[0m\u001b[0;34m.\u001b[0m\u001b[0mgensym\u001b[0m\u001b[0;34m(\u001b[0m\u001b[0mjaxprs\u001b[0m\u001b[0;34m,\u001b[0m \u001b[0msuffix\u001b[0m\u001b[0;34m=\u001b[0m\u001b[0;34m'_'\u001b[0m\u001b[0;34m)\u001b[0m\u001b[0;34m\u001b[0m\u001b[0;34m\u001b[0m\u001b[0m\n",
      "\u001b[0;32m~/Documents/git_repos/paragami/venv/lib/python3.6/site-packages/jax/lax/lax_control_flow.py\u001b[0m in \u001b[0;36m<listcomp>\u001b[0;34m(.0)\u001b[0m\n\u001b[1;32m     89\u001b[0m \u001b[0;34m\u001b[0m\u001b[0m\n\u001b[1;32m     90\u001b[0m   jaxprs, all_out_pvals, all_consts, all_out_trees = unzip4([\n\u001b[0;32m---> 91\u001b[0;31m       _initial_style_untyped_jaxpr(fun, in_tree, in_avals) for fun in funs])\n\u001b[0m\u001b[1;32m     92\u001b[0m \u001b[0;34m\u001b[0m\u001b[0m\n\u001b[1;32m     93\u001b[0m   \u001b[0mnewvar\u001b[0m \u001b[0;34m=\u001b[0m \u001b[0mcore\u001b[0m\u001b[0;34m.\u001b[0m\u001b[0mgensym\u001b[0m\u001b[0;34m(\u001b[0m\u001b[0mjaxprs\u001b[0m\u001b[0;34m,\u001b[0m \u001b[0msuffix\u001b[0m\u001b[0;34m=\u001b[0m\u001b[0;34m'_'\u001b[0m\u001b[0;34m)\u001b[0m\u001b[0;34m\u001b[0m\u001b[0;34m\u001b[0m\u001b[0m\n",
      "\u001b[0;32m~/Documents/git_repos/paragami/venv/lib/python3.6/site-packages/jax/lax/lax_control_flow.py\u001b[0m in \u001b[0;36m_initial_style_untyped_jaxpr\u001b[0;34m(fun, in_tree, in_avals)\u001b[0m\n\u001b[1;32m     66\u001b[0m   \u001b[0;32mwith\u001b[0m \u001b[0mcore\u001b[0m\u001b[0;34m.\u001b[0m\u001b[0minitial_style_staging\u001b[0m\u001b[0;34m(\u001b[0m\u001b[0;34m)\u001b[0m\u001b[0;34m:\u001b[0m\u001b[0;34m\u001b[0m\u001b[0;34m\u001b[0m\u001b[0m\n\u001b[1;32m     67\u001b[0m     jaxpr, out_pvals, consts = pe.trace_to_jaxpr(\n\u001b[0;32m---> 68\u001b[0;31m       wrapped_fun, in_pvals, instantiate=True, stage_out=False)\n\u001b[0m\u001b[1;32m     69\u001b[0m   \u001b[0;32mreturn\u001b[0m \u001b[0mjaxpr\u001b[0m\u001b[0;34m,\u001b[0m \u001b[0mout_pvals\u001b[0m\u001b[0;34m,\u001b[0m \u001b[0mconsts\u001b[0m\u001b[0;34m,\u001b[0m \u001b[0mout_tree\u001b[0m\u001b[0;34m\u001b[0m\u001b[0;34m\u001b[0m\u001b[0m\n\u001b[1;32m     70\u001b[0m \u001b[0;34m\u001b[0m\u001b[0m\n",
      "\u001b[0;32m~/Documents/git_repos/paragami/venv/lib/python3.6/site-packages/jax/interpreters/partial_eval.py\u001b[0m in \u001b[0;36mtrace_to_jaxpr\u001b[0;34m(fun, pvals, instantiate, stage_out, bottom, trace_type)\u001b[0m\n\u001b[1;32m    421\u001b[0m   \u001b[0;32mwith\u001b[0m \u001b[0mcore\u001b[0m\u001b[0;34m.\u001b[0m\u001b[0mnew_master\u001b[0m\u001b[0;34m(\u001b[0m\u001b[0mtrace_type\u001b[0m\u001b[0;34m,\u001b[0m \u001b[0mbottom\u001b[0m\u001b[0;34m=\u001b[0m\u001b[0mbottom\u001b[0m\u001b[0;34m)\u001b[0m \u001b[0;32mas\u001b[0m \u001b[0mmaster\u001b[0m\u001b[0;34m:\u001b[0m\u001b[0;34m\u001b[0m\u001b[0;34m\u001b[0m\u001b[0m\n\u001b[1;32m    422\u001b[0m     \u001b[0mfun\u001b[0m \u001b[0;34m=\u001b[0m \u001b[0mtrace_to_subjaxpr\u001b[0m\u001b[0;34m(\u001b[0m\u001b[0mfun\u001b[0m\u001b[0;34m,\u001b[0m \u001b[0mmaster\u001b[0m\u001b[0;34m,\u001b[0m \u001b[0minstantiate\u001b[0m\u001b[0;34m)\u001b[0m\u001b[0;34m\u001b[0m\u001b[0;34m\u001b[0m\u001b[0m\n\u001b[0;32m--> 423\u001b[0;31m     \u001b[0mjaxpr\u001b[0m\u001b[0;34m,\u001b[0m \u001b[0;34m(\u001b[0m\u001b[0mout_pvals\u001b[0m\u001b[0;34m,\u001b[0m \u001b[0mconsts\u001b[0m\u001b[0;34m,\u001b[0m \u001b[0menv\u001b[0m\u001b[0;34m)\u001b[0m \u001b[0;34m=\u001b[0m \u001b[0mfun\u001b[0m\u001b[0;34m.\u001b[0m\u001b[0mcall_wrapped\u001b[0m\u001b[0;34m(\u001b[0m\u001b[0mpvals\u001b[0m\u001b[0;34m)\u001b[0m\u001b[0;34m\u001b[0m\u001b[0;34m\u001b[0m\u001b[0m\n\u001b[0m\u001b[1;32m    424\u001b[0m     \u001b[0;32massert\u001b[0m \u001b[0;32mnot\u001b[0m \u001b[0menv\u001b[0m\u001b[0;34m\u001b[0m\u001b[0;34m\u001b[0m\u001b[0m\n\u001b[1;32m    425\u001b[0m     \u001b[0;32mdel\u001b[0m \u001b[0mmaster\u001b[0m\u001b[0;34m\u001b[0m\u001b[0;34m\u001b[0m\u001b[0m\n",
      "\u001b[0;32m~/Documents/git_repos/paragami/venv/lib/python3.6/site-packages/jax/linear_util.py\u001b[0m in \u001b[0;36mcall_wrapped\u001b[0;34m(self, *args, **kwargs)\u001b[0m\n\u001b[1;32m    148\u001b[0m     \u001b[0mgen\u001b[0m \u001b[0;34m=\u001b[0m \u001b[0;32mNone\u001b[0m\u001b[0;34m\u001b[0m\u001b[0;34m\u001b[0m\u001b[0m\n\u001b[1;32m    149\u001b[0m \u001b[0;34m\u001b[0m\u001b[0m\n\u001b[0;32m--> 150\u001b[0;31m     \u001b[0mans\u001b[0m \u001b[0;34m=\u001b[0m \u001b[0mself\u001b[0m\u001b[0;34m.\u001b[0m\u001b[0mf\u001b[0m\u001b[0;34m(\u001b[0m\u001b[0;34m*\u001b[0m\u001b[0margs\u001b[0m\u001b[0;34m,\u001b[0m \u001b[0;34m**\u001b[0m\u001b[0mdict\u001b[0m\u001b[0;34m(\u001b[0m\u001b[0mself\u001b[0m\u001b[0;34m.\u001b[0m\u001b[0mparams\u001b[0m\u001b[0;34m,\u001b[0m \u001b[0;34m**\u001b[0m\u001b[0mkwargs\u001b[0m\u001b[0;34m)\u001b[0m\u001b[0;34m)\u001b[0m\u001b[0;34m\u001b[0m\u001b[0;34m\u001b[0m\u001b[0m\n\u001b[0m\u001b[1;32m    151\u001b[0m     \u001b[0;32mdel\u001b[0m \u001b[0margs\u001b[0m\u001b[0;34m\u001b[0m\u001b[0;34m\u001b[0m\u001b[0m\n\u001b[1;32m    152\u001b[0m     \u001b[0;32mwhile\u001b[0m \u001b[0mstack\u001b[0m\u001b[0;34m:\u001b[0m\u001b[0;34m\u001b[0m\u001b[0;34m\u001b[0m\u001b[0m\n",
      "\u001b[0;32m<ipython-input-26-a960db75bdf1>\u001b[0m in \u001b[0;36m<lambda>\u001b[0;34m(_)\u001b[0m\n\u001b[1;32m      5\u001b[0m         \u001b[0;32massert\u001b[0m \u001b[0;32mFalse\u001b[0m\u001b[0;34m\u001b[0m\u001b[0;34m\u001b[0m\u001b[0m\n\u001b[1;32m      6\u001b[0m     return jax.lax.cond(x > 10,\n\u001b[0;32m----> 7\u001b[0;31m                         \u001b[0mtrue_fun\u001b[0m\u001b[0;34m=\u001b[0m\u001b[0;32mlambda\u001b[0m \u001b[0m_\u001b[0m\u001b[0;34m:\u001b[0m \u001b[0mraise_error\u001b[0m\u001b[0;34m(\u001b[0m\u001b[0;34m)\u001b[0m\u001b[0;34m,\u001b[0m\u001b[0;34m\u001b[0m\u001b[0;34m\u001b[0m\u001b[0m\n\u001b[0m\u001b[1;32m      8\u001b[0m                         \u001b[0mfalse_fun\u001b[0m\u001b[0;34m=\u001b[0m\u001b[0;32mlambda\u001b[0m \u001b[0m_\u001b[0m\u001b[0;34m:\u001b[0m \u001b[0mx\u001b[0m\u001b[0;34m,\u001b[0m\u001b[0;34m\u001b[0m\u001b[0;34m\u001b[0m\u001b[0m\n\u001b[1;32m      9\u001b[0m                         operand=[])\n",
      "\u001b[0;32m<ipython-input-26-a960db75bdf1>\u001b[0m in \u001b[0;36mraise_error\u001b[0;34m()\u001b[0m\n\u001b[1;32m      3\u001b[0m     \u001b[0;32mdef\u001b[0m \u001b[0mraise_error\u001b[0m\u001b[0;34m(\u001b[0m\u001b[0;34m)\u001b[0m\u001b[0;34m:\u001b[0m\u001b[0;34m\u001b[0m\u001b[0;34m\u001b[0m\u001b[0m\n\u001b[1;32m      4\u001b[0m         \u001b[0;31m#raise ValueError(\"x too big: \" + str(x))\u001b[0m\u001b[0;34m\u001b[0m\u001b[0;34m\u001b[0m\u001b[0;34m\u001b[0m\u001b[0m\n\u001b[0;32m----> 5\u001b[0;31m         \u001b[0;32massert\u001b[0m \u001b[0;32mFalse\u001b[0m\u001b[0;34m\u001b[0m\u001b[0;34m\u001b[0m\u001b[0m\n\u001b[0m\u001b[1;32m      6\u001b[0m     return jax.lax.cond(x > 10,\n\u001b[1;32m      7\u001b[0m                         \u001b[0mtrue_fun\u001b[0m\u001b[0;34m=\u001b[0m\u001b[0;32mlambda\u001b[0m \u001b[0m_\u001b[0m\u001b[0;34m:\u001b[0m \u001b[0mraise_error\u001b[0m\u001b[0;34m(\u001b[0m\u001b[0;34m)\u001b[0m\u001b[0;34m,\u001b[0m\u001b[0;34m\u001b[0m\u001b[0;34m\u001b[0m\u001b[0m\n",
      "\u001b[0;31mAssertionError\u001b[0m: "
     ]
    }
   ],
   "source": [
    "@jax.jit\n",
    "def foo(x):\n",
    "    def raise_error():\n",
    "        #raise ValueError(\"x too big: \" + str(x))\n",
    "        assert False\n",
    "    return jax.lax.cond(x > 10,\n",
    "                        true_fun=lambda _: raise_error(),\n",
    "                        false_fun=lambda _: x,\n",
    "                        operand=[])\n",
    "\n",
    "foo(5)"
   ]
  },
  {
   "cell_type": "markdown",
   "metadata": {},
   "source": [
    "## Pattern array"
   ]
  },
  {
   "cell_type": "code",
   "execution_count": null,
   "metadata": {},
   "outputs": [],
   "source": [
    "class EmptyClass():\n",
    "    def __init__(self):\n",
    "        pass\n",
    "\n",
    "    \n",
    "k_approx = 30\n",
    "dim = 4\n",
    "base_pattern = paragami.PSDSymmetricMatrixPattern(size=dim)\n",
    "base_pattern.default_validate = False\n",
    "\n",
    "############\n",
    "\n",
    "self = EmptyClass()\n",
    "\n",
    "self.__array_shape = (2, 3)\n",
    "self.__array_ranges = [range(0, t) for t in self.__array_shape]\n",
    "self.__array_indices = np.array([ i for i in itertools.product(*self.__array_ranges) ])\n",
    "\n",
    "self.__base_pattern = base_pattern\n",
    "\n",
    "empty_val = base_pattern.empty(valid=True)\n",
    "self.__shape = tuple(self.__array_shape) + empty_val.shape\n",
    "\n",
    "\n",
    "def _stacked_obs_slice(self, item, flat_length):\n",
    "    assert len(item) == len(self.__array_shape)\n",
    "    linear_item = onp.ravel_multi_index(item, self.__array_shape) * flat_length\n",
    "    return np.arange(linear_item, linear_item + flat_length)\n",
    "    #return slice(linear_item, linear_item + flat_length)\n",
    "\n",
    "free = True\n",
    "flat_length = base_pattern.flat_length(free=free)\n",
    "self.__slices_array = np.array([\n",
    "    _stacked_obs_slice(self, item, flat_length)\n",
    "    for item in self.__array_indices\n",
    "])\n",
    "\n",
    "\n",
    "def fold(self, flat_val, free=None, validate_value=False):\n",
    "    #free = self._free_with_default(free)\n",
    "    flat_val = np.atleast_1d(flat_val)\n",
    "    if len(flat_val.shape) != 1:\n",
    "        raise ValueError('The argument to fold must be a 1d vector.')\n",
    "\n",
    "    flat_length = self.__base_pattern.flat_length(free)\n",
    "#     if flat_val.size != self.flat_length(free):\n",
    "#        error_string = \\\n",
    "#            'Wrong size for parameter.  Expected {}, got {}'.format(\n",
    "#                str(self.flat_length(free)), str(flat_val.size))\n",
    "#        raise ValueError(error_string)\n",
    "\n",
    "    op = 1\n",
    "    print(f'op: {op}')\n",
    "    if (op == 1):\n",
    "        folded_array = np.array([\n",
    "            self.__base_pattern.fold(\n",
    "                flat_val[item_slice],\n",
    "                free=free, validate_value=validate_value)\n",
    "            for item_slice in self.__slices_array ])\n",
    "    if (op == 2):\n",
    "        folded_array = np.array([\n",
    "            self.__base_pattern.fold(\n",
    "                flat_val[_stacked_obs_slice(self, item, flat_length)],\n",
    "                free=free, validate_value=validate_value)\n",
    "            for item in itertools.product(*self.__array_ranges)])\n",
    "\n",
    "    folded_val = np.reshape(folded_array, self.__shape)\n",
    "\n",
    "    if not free:\n",
    "        valid, msg = self.validate_folded(\n",
    "            folded_val, validate_value=validate_value)\n",
    "        if not valid:\n",
    "            raise ValueError(msg)\n",
    "    return folded_val\n",
    "\n",
    "\n",
    "flat_val = onp.random.random(onp.prod(self.__array_shape) * flat_length)\n",
    "folded_val = fold(self, flat_val, free=True, validate_value=False);"
   ]
  },
  {
   "cell_type": "code",
   "execution_count": null,
   "metadata": {},
   "outputs": [],
   "source": [
    "fold_grad_jit = jax.jit(\n",
    "    jax.jacobian(lambda flat_val: fold(self, flat_val, free=True, validate_value=False)))\n",
    "\n",
    "time_jit(lambda: fold_grad_jit(flat_val))"
   ]
  },
  {
   "cell_type": "markdown",
   "metadata": {},
   "source": [
    "```\n",
    "op: 1\n",
    "1st time:  2.5252795219421387\n",
    "2nd time:  0.00039315223693847656\n",
    "\n",
    "op: 2\n",
    "1st time:  2.73453950881958\n",
    "2nd time:  0.0005466938018798828\n",
    "```"
   ]
  },
  {
   "cell_type": "code",
   "execution_count": null,
   "metadata": {},
   "outputs": [],
   "source": [
    "\n",
    "def validate_folded(self, folded_val, validate_value):\n",
    "    if folded_val.ndim != len(self.__shape):\n",
    "        return \\\n",
    "            False, \\\n",
    "            'Wrong number of dimensions.  Expected {}, got {}.'.format(\n",
    "                folded_val.ndim, len(self.__shape))\n",
    "    if folded_val.shape != self.__shape:\n",
    "        return \\\n",
    "            False, \\\n",
    "            'Wrong shape.  Expected {}, got {}.'.format(\n",
    "                folded_val.shape, self.__shape)\n",
    "\n",
    "    # Have to think more carefully how to do this with jax.\n",
    "    for item in itertools.product(*self.__array_ranges):\n",
    "        pass\n",
    "#         valid, msg = self.__base_pattern.validate_folded(\n",
    "#             folded_val[item], True)\n",
    "#         if not valid:\n",
    "#             err_msg = 'Bad value in location {}: {}'.format(item, msg)\n",
    "#             return False, err_msg\n",
    "    return True, ''"
   ]
  },
  {
   "cell_type": "code",
   "execution_count": null,
   "metadata": {},
   "outputs": [],
   "source": [
    "\n",
    "def flatten(self, folded_val, free, validate_value):\n",
    "    if free is None:\n",
    "        free = True\n",
    "#     free = self._free_with_default(free)\n",
    "    valid, msg = validate_folded(self, folded_val, validate_value)\n",
    "    if not valid:\n",
    "        raise ValueError(msg)\n",
    "\n",
    "    # flattened_array = jax.lax.map(\n",
    "    #     lambda item:\n",
    "    #         self.__base_pattern.flatten(\n",
    "    #             folded_val[item], free=free, validate_value=validate_value),\n",
    "    #     self.__array_indices\n",
    "    # )\n",
    "    return np.hstack(np.array([\n",
    "        self.__base_pattern.flatten(\n",
    "            folded_val[item], free=free, validate_value=validate_value)\n",
    "        for item in itertools.product(*self.__array_ranges)]))\n",
    "\n",
    "    return np.hstack(flattened_array)\n",
    "\n",
    "def self_flatten(folded_val, free, validate_value):\n",
    "    return flatten(self, folded_val, free, validate_value)\n"
   ]
  },
  {
   "cell_type": "code",
   "execution_count": null,
   "metadata": {
    "scrolled": false
   },
   "outputs": [],
   "source": [
    "# # flatten_grad_jit = jax.jit(\n",
    "# #     jax.jacobian(lambda folded_val: flatten(self, folded_val, True, True)))\n",
    "# # flatten_grad_jit = jax.jit(\n",
    "# #     jax.jacobian(lambda folded_val, free, validate_value: flatten(\n",
    "# #         self, folded_val, free, validate_value)), static_argnums=[1, 2])\n",
    "# # flatten_grad_jit = jax.jit(\n",
    "# #     jax.jacobian(lambda folded_val, free, validate_value: flatten(\n",
    "# #         self, folded_val, free, validate_value)))\n",
    "# flatten_grad_jit = jax.jit(jax.jacobian(self_flatten), static_argnums=[1, 2])\n",
    "# time_jit(lambda: flatten_grad_jit(folded_val, True, True))"
   ]
  },
  {
   "cell_type": "code",
   "execution_count": null,
   "metadata": {},
   "outputs": [],
   "source": [
    "assert False"
   ]
  },
  {
   "cell_type": "markdown",
   "metadata": {},
   "source": [
    "# Experiments"
   ]
  },
  {
   "cell_type": "code",
   "execution_count": null,
   "metadata": {},
   "outputs": [],
   "source": [
    "print(jax.lax.map(lambda x: x + 1, np.arange(0, 10)))"
   ]
  },
  {
   "cell_type": "code",
   "execution_count": null,
   "metadata": {},
   "outputs": [],
   "source": [
    "__array_shape = (2, 3)\n",
    "__array_ranges = [range(0, t) for t in __array_shape]\n",
    "__array_ranges\n",
    "\n",
    "\n",
    "empty_pattern = base_pattern.empty(valid=True)\n",
    "__shape = tuple(__array_shape) + empty_pattern.shape\n",
    "\n",
    "repeated_array = np.array(\n",
    "    [empty_pattern\n",
    "     for item in itertools.product(*__array_ranges)])\n",
    "empty_orig = np.reshape(repeated_array, __shape)\n"
   ]
  },
  {
   "cell_type": "code",
   "execution_count": null,
   "metadata": {},
   "outputs": [],
   "source": [
    "# Works but inefficient, you don't want to create the entries array.\n",
    "__array_indices = np.array([ i for i in itertools.product(*__array_ranges) ])\n",
    "repeated_array = jax.lax.map(lambda x: empty_pattern, __array_indices)\n",
    "empty_jax = np.reshape(repeated_array, __shape)\n",
    "assert_equal(empty_jax, empty_orig)"
   ]
  },
  {
   "cell_type": "code",
   "execution_count": null,
   "metadata": {},
   "outputs": [],
   "source": [
    "_stacked_obs_slice(__array_indices[2], flat_length)"
   ]
  },
  {
   "cell_type": "code",
   "execution_count": null,
   "metadata": {},
   "outputs": [],
   "source": [
    "foo = np.array(onp.random.random(10))\n",
    "bar = np.arange(2, 5)\n",
    "foo[bar]"
   ]
  },
  {
   "cell_type": "code",
   "execution_count": null,
   "metadata": {},
   "outputs": [],
   "source": [
    "__array_indices = onp.array([ i for i in itertools.product(*__array_ranges) ])\n",
    "\n",
    "\n",
    "def _stacked_obs_slice(item, flat_length):\n",
    "    assert len(item) == len(__array_shape)\n",
    "    # Man maybe we just need to do this ourselves\n",
    "    linear_item = onp.ravel_multi_index(item, __array_shape) * flat_length\n",
    "    return np.arange(linear_item, linear_item + flat_length)\n",
    "    #return slice(linear_item, linear_item + flat_length)\n",
    "\n",
    "\n",
    "flat_length = base_pattern.flat_length(True)\n",
    "flat_val = onp.random.random(flat_length * onp.prod(__array_shape))\n",
    "flat_val = np.array(flat_val)\n",
    "__slices = [ _stacked_obs_slice(item, flat_length) for item in __array_indices ]\n",
    "print(__slices[0])\n",
    "print(type(__slices[0]))\n",
    "print(flat_val[__slices[0]])\n",
    "print('----------------')\n",
    "\n",
    "\n",
    "def fold_item(item):\n",
    "    print('type in fold: ', type(item))\n",
    "    item_slice = _stacked_obs_slice(item, flat_length)\n",
    "    #print(flat_val[item_slice])\n",
    "    return base_pattern.fold(\n",
    "        flat_val[item_slice],\n",
    "        free=True, validate_value=False),\n",
    "\n",
    "print(type(__array_indices[2]))\n",
    "fold_item(__array_indices[2])\n",
    "print('----------------')\n",
    "\n",
    "\n",
    "# folded_array = jax.lax.map(\n",
    "#     fold_item,\n",
    "#     __array_indices\n",
    "# )\n",
    "\n",
    "\n",
    "def fold_item2(flat_val, item_slice):\n",
    "#     print('type in fold: ', type(item_slice))\n",
    "#     print('val in fold:  ', flat_val[item_slice])\n",
    "#     print('len in fold:  ', len(flat_val[item_slice]), len(item_slice))\n",
    "    return base_pattern.fold(\n",
    "        flat_val[item_slice],\n",
    "        free=True, validate_value=False),\n",
    "\n",
    "#fold_item2(flat_val, __slices[0])\n",
    "\n",
    "def fold_with_map(flat_val):\n",
    "    folded_array = jax.lax.map(\n",
    "        lambda item_slice: fold_item2(flat_val, item_slice),\n",
    "        np.array(__slices))\n",
    "    return folded_array\n",
    "\n",
    "\n",
    "def fold_with_for(flat_val):\n",
    "    folded_array = np.array([\n",
    "            fold_item2(flat_val, item_slice)\n",
    "            for item_slice in __slices ])\n",
    "    return folded_array\n",
    "\n",
    "# Same speed. :(\n",
    "\n",
    "fold_with_map_jit = jax.jit(fold_with_map)\n",
    "time_jit(lambda: fold_with_map_jit)\n",
    "\n",
    "fold_with_for_jit = jax.jit(fold_with_for)\n",
    "time_jit(lambda: fold_with_for_jit)\n",
    "\n"
   ]
  },
  {
   "cell_type": "markdown",
   "metadata": {},
   "source": [
    "## PSD patterns"
   ]
  },
  {
   "cell_type": "code",
   "execution_count": null,
   "metadata": {},
   "outputs": [],
   "source": [
    "assert False"
   ]
  },
  {
   "cell_type": "code",
   "execution_count": null,
   "metadata": {},
   "outputs": [],
   "source": [
    "\n",
    "def _sym_index(k1, k2):\n",
    "    \"\"\"\n",
    "    Get the index of an entry in a folded symmetric array.\n",
    "\n",
    "    Parameters\n",
    "    ------------\n",
    "    k1, k2: int\n",
    "        0-based indices into a symmetric matrix.\n",
    "\n",
    "    Returns\n",
    "    --------\n",
    "    int\n",
    "        Return the linear index of the (k1, k2) element of a symmetric\n",
    "        matrix where the triangular part has been stacked into a vector.\n",
    "    \"\"\"\n",
    "    def ld_ind(k1, k2):\n",
    "        return int(k2 + k1 * (k1 + 1) / 2)\n",
    "\n",
    "    if k2 <= k1:\n",
    "        return ld_ind(k1, k2)\n",
    "    else:\n",
    "        return ld_ind(k2, k1)\n",
    "\n",
    "\n",
    "def _vectorize_ld_matrix(mat):\n",
    "    \"\"\"\n",
    "    Linearize the lower diagonal of a square matrix.\n",
    "    \"\"\"\n",
    "    nrow, ncol = np.shape(mat)\n",
    "    if nrow != ncol:\n",
    "        raise ValueError('mat must be square')\n",
    "    return mat[np.tril_indices(nrow)]\n",
    "\n",
    "\n",
    "def _unvectorize_ld_matrix(vec):\n",
    "    \"\"\"\n",
    "    Invert the mapping of `_vectorize_ld_matrix`.\n",
    "    \"\"\"\n",
    "    mat_size = int(0.5 * (math.sqrt(1 + 8 * vec.size) - 1))\n",
    "    if mat_size * (mat_size + 1) / 2 != vec.size:\n",
    "        raise ValueError('Vector is an impossible size')\n",
    "\n",
    "    mat = np.zeros((mat_size, mat_size))\n",
    "    inds = np.tril_indices(mat_size)\n",
    "    return(jax.ops.index_update(mat, inds, vec))\n",
    "\n",
    "\n",
    "def _exp_matrix_diagonal(mat):\n",
    "    assert mat.shape[0] == mat.shape[1]\n",
    "    dim = mat.shape[0]\n",
    "    diag_inds = (np.arange(dim), np.arange(dim))\n",
    "    exp_diags = np.exp(np.diag(mat))\n",
    "    return(jax.ops.index_update(mat, diag_inds, exp_diags))\n",
    "\n",
    "\n",
    "def _log_matrix_diagonal(mat):\n",
    "    assert mat.shape[0] == mat.shape[1]\n",
    "    dim = mat.shape[0]\n",
    "    diag_inds = (np.arange(dim), np.arange(dim))\n",
    "    log_diags = np.log(np.diag(mat))\n",
    "    return(jax.ops.index_update(mat, diag_inds, log_diags))\n",
    "\n",
    "\n",
    "def _pack_posdef_matrix(mat, diag_lb=0.0):\n",
    "    k = mat.shape[0]\n",
    "    # mat_lb = mat - np.make_diagonal(\n",
    "    #     np.full(k, diag_lb), offset=0, axis1=-1, axis2=-2)\n",
    "    mat_lb = mat - np.diag(np.full(k, diag_lb))\n",
    "    return _vectorize_ld_matrix(\n",
    "        _log_matrix_diagonal(np.linalg.cholesky(mat_lb)))\n",
    "\n",
    "\n",
    "def _unpack_posdef_matrix(free_vec, diag_lb=0.0):\n",
    "    mat_raw = _unvectorize_ld_matrix(free_vec)\n",
    "    #return mat_raw # 0.20\n",
    "\n",
    "    mat_chol = _exp_matrix_diagonal(mat_raw)\n",
    "    #return mat_chol # 0.60\n",
    "    #mat_chol = mat_raw\n",
    "\n",
    "    # Doesn't seem to matter much what you do\n",
    "    #mat = np.einsum('ik,jk->ij', mat_chol, mat_chol)\n",
    "    mat = np.matmul(mat_chol, np.transpose(mat_chol))\n",
    "    #return mat # 1.3\n",
    "\n",
    "    dim = mat.shape[0]\n",
    "    diag_inds = (np.arange(dim), np.arange(dim))\n",
    "    new_mat = jax.ops.index_update(mat, diag_inds, np.diag(mat) + diag_lb)\n",
    "    return new_mat # 1.1 ?!\n",
    "\n",
    "    \n",
    "# Convert a vector containing the lower diagonal portion of a symmetric\n",
    "# matrix into the full symmetric matrix.\n",
    "#\n",
    "# This is not currently used but could be useful for a symmetric matrix type.\n",
    "def _unvectorize_symmetric_matrix(vec_val):\n",
    "    ld_mat = _unvectorize_ld_matrix(vec_val)\n",
    "    mat_val = ld_mat + ld_mat.transpose()\n",
    "    # We have double counted the diagonal.  For some reason the autograd\n",
    "    # diagonal functions require axis1=-1 and axis2=-2\n",
    "    # mat_val = mat_val - \\\n",
    "    #     np.make_diagonal(np.diagonal(ld_mat, axis1=-1, axis2=-2),\n",
    "    #                      axis1=-1, axis2=-2)\n",
    "    mat_val = mat_val - np.diag(np.diagonal(ld_mat))\n",
    "\n",
    "    return mat_val\n"
   ]
  },
  {
   "cell_type": "code",
   "execution_count": null,
   "metadata": {},
   "outputs": [],
   "source": [
    "dim = 50\n",
    "#mat = np.eye(dim) * dim + np.full((dim, dim), 0.1)\n",
    "foo = onp.random.random((dim, dim))\n",
    "mat = np.eye(dim) * dim + foo + foo.T\n",
    "mat = np.array(mat)\n",
    "vec = _pack_posdef_matrix(mat)\n",
    "assert_equal(_unpack_posdef_matrix(vec), mat)\n"
   ]
  },
  {
   "cell_type": "code",
   "execution_count": null,
   "metadata": {
    "scrolled": false
   },
   "outputs": [],
   "source": [
    "pack_grad = jax.jit(jax.jacobian(_pack_posdef_matrix))\n",
    "\n",
    "unpack_grad = jax.jit(jax.jacobian(\n",
    "    lambda x, diag_lb: _unpack_posdef_matrix(x, diag_lb=diag_lb)),\n",
    "                      static_argnums=1)\n",
    "time_jit(lambda: unpack_grad(vec, 0.0))\n",
    "\n",
    "tic = time.time()\n",
    "unpack_grad(vec, 0.0)\n",
    "tic = mark_tic(tic, 'subsequent')\n",
    "unpack_grad(vec, 0.1)\n",
    "tic = mark_tic(tic, 'subsequent but new par')\n",
    "unpack_grad(vec, 0.1)\n",
    "tic = mark_tic(tic, 'subsequent 0.0')\n",
    "unpack_grad(vec, 0.0);\n",
    "tic = mark_tic(tic, 'subsequent 0.1')\n",
    "unpack_grad(vec, 0.1);\n"
   ]
  },
  {
   "cell_type": "code",
   "execution_count": null,
   "metadata": {},
   "outputs": [],
   "source": [
    "exp_grad = jax.jit(jax.jacobian(_exp_matrix_diagonal))\n",
    "\n",
    "print('Exp')\n",
    "time_jit(lambda: exp_grad(mat))\n",
    "\n",
    "time_jit(lambda: np.matmul(mat, mat.T))\n",
    "time_jit(lambda: np.matmul(mat, np.transpose(mat)))\n",
    "\n",
    "\n",
    "pack_grad = jax.jit(jax.jacobian(_vectorize_ld_matrix))\n",
    "unpack_grad = jax.jit(jax.jacobian(_unvectorize_ld_matrix))\n",
    "\n",
    "print('Pack')\n",
    "time_jit(lambda: pack_grad(mat))\n",
    "\n",
    "print('Unpack')\n",
    "time_jit(lambda: unpack_grad(vec))"
   ]
  }
 ],
 "metadata": {
  "kernelspec": {
   "display_name": "paragami_sandbox",
   "language": "python",
   "name": "paragami_sandbox"
  },
  "language_info": {
   "codemirror_mode": {
    "name": "ipython",
    "version": 3
   },
   "file_extension": ".py",
   "mimetype": "text/x-python",
   "name": "python",
   "nbconvert_exporter": "python",
   "pygments_lexer": "ipython3",
   "version": "3.6.9"
  }
 },
 "nbformat": 4,
 "nbformat_minor": 4
}
