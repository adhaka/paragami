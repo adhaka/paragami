{
 "cells": [
  {
   "cell_type": "code",
   "execution_count": 10,
   "metadata": {},
   "outputs": [
    {
     "name": "stdout",
     "output_type": "stream",
     "text": [
      "Jax version\t 0.1.75\n",
      "Numpy version\t 1.18.1\n",
      "Python version\t 3.6.9 (default, Jul 17 2020, 12:50:27) \n",
      "[GCC 8.4.0]\n"
     ]
    }
   ],
   "source": [
    "import jax\n",
    "import jax.numpy as jnp\n",
    "import numpy as np\n",
    "import timeit\n",
    "import sys\n",
    "\n",
    "print('Jax version\\t', jax.__version__)\n",
    "print('Numpy version\\t', np.__version__)\n",
    "print('Python version\\t', sys.version)"
   ]
  },
  {
   "cell_type": "code",
   "execution_count": 111,
   "metadata": {},
   "outputs": [
    {
     "data": {
      "text/plain": [
       "False"
      ]
     },
     "execution_count": 111,
     "metadata": {},
     "output_type": "execute_result"
    }
   ],
   "source": [
    "foo = 5\n",
    "\n",
    "type(foo) is tuple"
   ]
  },
  {
   "cell_type": "code",
   "execution_count": 106,
   "metadata": {},
   "outputs": [
    {
     "name": "stdout",
     "output_type": "stream",
     "text": [
      "Jax:\t 0.030706538003869355\n",
      "Jit:\t 0.005390426005760673\n",
      "Np:\t 0.0008104130029096268\n"
     ]
    }
   ],
   "source": [
    "foo = [ np.random.random((1000, )) for _ in range(10) ]\n",
    "\n",
    "key = jax.random.PRNGKey(17)\n",
    "foo = [ jax.random.uniform(key, shape=(1000, ), dtype='float64') ]\n",
    "foo_np = np.array(foo)\n",
    "number = 100\n",
    "\n",
    "@jax.jit\n",
    "def hstack_jit(x):\n",
    "    return jnp.hstack(x)\n",
    "hstack_jit(foo)\n",
    "\n",
    "setup_str = \"from __main__ import jnp, np, foo, foo_np, hstack_jit\"\n",
    "print('Jax:\\t', timeit.timeit('y = jnp.hstack(foo)', setup=setup_str, number=number))\n",
    "print('Jit:\\t', timeit.timeit('y = hstack_jit(foo)', setup=setup_str, number=number))\n",
    "print('Np:\\t', timeit.timeit('y = np.hstack(foo_np)', setup=setup_str, number=number))"
   ]
  },
  {
   "cell_type": "code",
   "execution_count": 89,
   "metadata": {},
   "outputs": [
    {
     "name": "stdout",
     "output_type": "stream",
     "text": [
      "Jax:\t 0.03915699899516767\n",
      "Jit:\t 0.021554478000325616\n",
      "Np:\t 0.00048062700079753995\n"
     ]
    }
   ],
   "source": [
    "import timeit\n",
    "foo = np.random.random((100, 10, 7)) + 1\n",
    "number = 500\n",
    "\n",
    "key = jax.random.PRNGKey(17)\n",
    "foo = jax.random.uniform(key, shape=(3600, 30, 10), dtype='float64')\n",
    "foo_np = np.array(foo)\n",
    "\n",
    "@jax.jit\n",
    "def atleast_1d_jit(x):\n",
    "    return jnp.atleast_1d(x)\n",
    "atleast_1d_jit(foo)\n",
    "\n",
    "setup_str = \"from __main__ import jnp, np, foo, foo_np, atleast_1d_jit\"\n",
    "print('Jax:\\t', timeit.timeit('jnp.atleast_1d(foo)', setup=setup_str, number=number))\n",
    "print('Jit:\\t', timeit.timeit('atleast_1d_jit(foo)', setup=setup_str, number=number))\n",
    "print('Np:\\t', timeit.timeit('np.atleast_1d(foo_np)', setup=setup_str, number=number))"
   ]
  },
  {
   "cell_type": "code",
   "execution_count": 66,
   "metadata": {},
   "outputs": [
    {
     "name": "stdout",
     "output_type": "stream",
     "text": [
      "Jax:\t 0.022787617999711074\n",
      "Jit:\t 0.029165615000238176\n",
      "Np:\t 0.015201333997538313\n"
     ]
    }
   ],
   "source": [
    "import timeit\n",
    "key = jax.random.PRNGKey(17)\n",
    "foo = jax.random.uniform(key, shape=(3600, 30, 10), dtype='float64')\n",
    "foo_np = np.array(foo)\n",
    "\n",
    "@jax.jit\n",
    "def all_jit(x):\n",
    "    return jnp.all(x)\n",
    "all_jit(foo < 0.)\n",
    "\n",
    "setup_str = \"from __main__ import jnp, np, foo, foo_np, all_jit\"\n",
    "print('Jax:\\t', timeit.timeit('jnp.all(foo < 0.)', setup=setup_str, number=number))\n",
    "print('Jit:\\t', timeit.timeit('all_jit(foo < 0.)', setup=setup_str, number=number))\n",
    "print('Np:\\t', timeit.timeit('np.all(foo_np < 0.)', setup=setup_str, number=number))"
   ]
  }
 ],
 "metadata": {
  "kernelspec": {
   "display_name": "Python 3",
   "language": "python",
   "name": "python3"
  },
  "language_info": {
   "codemirror_mode": {
    "name": "ipython",
    "version": 3
   },
   "file_extension": ".py",
   "mimetype": "text/x-python",
   "name": "python",
   "nbconvert_exporter": "python",
   "pygments_lexer": "ipython3",
   "version": "3.6.9"
  }
 },
 "nbformat": 4,
 "nbformat_minor": 4
}
