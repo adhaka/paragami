{
 "cells": [
  {
   "cell_type": "code",
   "execution_count": 1,
   "metadata": {},
   "outputs": [],
   "source": [
    "import autograd\n",
    "from autograd import numpy as np\n",
    "import scipy as sp\n",
    "import paragami\n",
    "from paragami import autograd_supplement_lib\n",
    "\n",
    "from autograd.test_util import check_grads\n",
    "from numpy.testing import assert_array_almost_equal\n"
   ]
  },
  {
   "cell_type": "code",
   "execution_count": 16,
   "metadata": {},
   "outputs": [],
   "source": [
    "n_groups = 4\n",
    "n_per_group = 2\n",
    "n_obs = n_groups * n_per_group\n",
    "\n",
    "x = np.random.random(n_obs)\n",
    "groups = np.repeat(np.arange(0, n_groups), n_per_group)"
   ]
  },
  {
   "cell_type": "code",
   "execution_count": 17,
   "metadata": {},
   "outputs": [],
   "source": [
    "bincount_result = np.bincount(groups, x)"
   ]
  },
  {
   "cell_type": "code",
   "execution_count": 18,
   "metadata": {},
   "outputs": [],
   "source": [
    "# cols = np.arange(0, n_obs)\n",
    "# data = np.ones(n_obs)\n",
    "# rows = groups\n",
    "# grouping_mat = sp.sparse.csr_matrix((data, (rows, cols)), (np.max(groups) + 1, n_obs))\n",
    "# assert_array_almost_equal(grouping_mat @ x, bincount_result)"
   ]
  },
  {
   "cell_type": "code",
   "execution_count": 19,
   "metadata": {},
   "outputs": [],
   "source": [
    "# get_grouped_sum, _ = autograd_supplement_lib.get_sparse_product(grouping_mat) \n",
    "# assert_array_almost_equal(get_grouped_sum(x), bincount_result)\n",
    "\n",
    "aggregate = autograd_supplement_lib.get_grouped_aggregator(groups)"
   ]
  },
  {
   "cell_type": "code",
   "execution_count": 20,
   "metadata": {},
   "outputs": [],
   "source": [
    "check_grads(aggregate)(x)"
   ]
  },
  {
   "cell_type": "code",
   "execution_count": 21,
   "metadata": {},
   "outputs": [],
   "source": [
    "x2 = np.random.random((n_obs, 3))\n",
    "check_grads(aggregate)(x2)"
   ]
  },
  {
   "cell_type": "code",
   "execution_count": 28,
   "metadata": {
    "scrolled": false
   },
   "outputs": [
    {
     "name": "stdout",
     "output_type": "stream",
     "text": [
      "(8, 2, 2, 4, 2, 2)\n",
      "(8, 2, 2)\n",
      "(2, 2)\n"
     ]
    }
   ],
   "source": [
    "# Well, this works.\n",
    "\n",
    "groups\n",
    "def ungroup(x):\n",
    "    assert len(x) == n_groups\n",
    "    return x[groups, :]\n",
    "\n",
    "x = np.random.random((n_groups, 2, 2))\n",
    "print(autograd.jacobian(ungroup)(x).shape)\n",
    "print(ungroup(x).shape)\n",
    "print(x.shape[1:])"
   ]
  },
  {
   "cell_type": "code",
   "execution_count": 29,
   "metadata": {},
   "outputs": [
    {
     "data": {
      "text/plain": [
       "()"
      ]
     },
     "execution_count": 29,
     "metadata": {},
     "output_type": "execute_result"
    }
   ],
   "source": [
    "np.random.random(5).shape[1:]"
   ]
  },
  {
   "cell_type": "code",
   "execution_count": 40,
   "metadata": {},
   "outputs": [],
   "source": [
    "from autograd.core import primitive, defvjp, defjvp\n",
    "\n",
    "\n",
    "@primitive\n",
    "def grouped_sum(x, groups, num_groups=None):\n",
    "    x = np.atleast_1d(x)\n",
    "    groups = np.atleast_1d(groups).astype('int64')\n",
    "    if (groups.ndim > 1):\n",
    "        raise ValueError('groups must be a vector.')\n",
    "\n",
    "    n_obs = len(groups)\n",
    "    if x.shape[0] != n_obs:\n",
    "        raise ValueError('The first dimension of x must match the length of groups')\n",
    "    max_group = np.max(groups)\n",
    "    if num_groups is None:\n",
    "        num_groups = max_group + 1\n",
    "    else:\n",
    "        if max_group >= num_groups:\n",
    "            raise ValueError(\n",
    "                'The largest group is >= the number of groups.')\n",
    "\n",
    "    result = np.zeros((num_groups, ) + x.shape[1:])\n",
    "    for n in range(n_obs):\n",
    "        result[groups[n], :] += x[n, :]\n",
    "    return result\n",
    "\n",
    "\n",
    "assert_array_almost_equal(\n",
    "    grouped_sum(x2, groups),\n",
    "    np.array([np.bincount(groups, x2[:, d]) for d in range(x2.shape[1])]).T)\n",
    "\n"
   ]
  },
  {
   "cell_type": "code",
   "execution_count": 41,
   "metadata": {},
   "outputs": [],
   "source": [
    "def ungroup(v, groups):\n",
    "    return v[groups, :]\n",
    "\n",
    "def grouped_sum_vjp(ans, x, groups, num_groups=None):\n",
    "    def vjp(v):\n",
    "        return ungroup(v, groups)\n",
    "    return vjp\n",
    "defvjp(grouped_sum, grouped_sum_vjp)\n",
    "\n",
    "def grouped_sum_jvp(v, ans, x, groups, num_groups=None):\n",
    "    return grouped_sum(v, groups, num_groups=num_groups)\n",
    "defjvp(grouped_sum, grouped_sum_jvp)\n",
    "\n"
   ]
  },
  {
   "cell_type": "code",
   "execution_count": 43,
   "metadata": {},
   "outputs": [],
   "source": [
    "check_grads(grouped_sum)(x2, groups)\n",
    "check_grads(grouped_sum)(x2, groups, num_groups=n_groups + 4)"
   ]
  }
 ],
 "metadata": {
  "kernelspec": {
   "display_name": "Python 3",
   "language": "python",
   "name": "python3"
  },
  "language_info": {
   "codemirror_mode": {
    "name": "ipython",
    "version": 3
   },
   "file_extension": ".py",
   "mimetype": "text/x-python",
   "name": "python",
   "nbconvert_exporter": "python",
   "pygments_lexer": "ipython3",
   "version": "3.6.9"
  }
 },
 "nbformat": 4,
 "nbformat_minor": 4
}
