{
 "cells": [
  {
   "cell_type": "code",
   "execution_count": 1,
   "metadata": {},
   "outputs": [],
   "source": [
    "import autograd\n",
    "from autograd import numpy as np\n",
    "import scipy as sp\n",
    "import paragami\n",
    "from paragami import autograd_supplement_lib\n",
    "\n",
    "from autograd.test_util import check_grads\n",
    "from numpy.testing import assert_array_almost_equal\n"
   ]
  },
  {
   "cell_type": "code",
   "execution_count": 2,
   "metadata": {},
   "outputs": [],
   "source": [
    "n_groups = 10\n",
    "n_per_group = 5\n",
    "n_obs = n_groups * n_per_group\n",
    "\n",
    "x = np.random.random(n_obs)\n",
    "groups = np.repeat(np.arange(0, n_groups), n_per_group)"
   ]
  },
  {
   "cell_type": "code",
   "execution_count": 3,
   "metadata": {},
   "outputs": [],
   "source": [
    "bincount_result = np.bincount(groups, x)"
   ]
  },
  {
   "cell_type": "code",
   "execution_count": 4,
   "metadata": {},
   "outputs": [],
   "source": [
    "# cols = np.arange(0, n_obs)\n",
    "# data = np.ones(n_obs)\n",
    "# rows = groups\n",
    "# grouping_mat = sp.sparse.csr_matrix((data, (rows, cols)), (np.max(groups) + 1, n_obs))\n",
    "# assert_array_almost_equal(grouping_mat @ x, bincount_result)"
   ]
  },
  {
   "cell_type": "code",
   "execution_count": 5,
   "metadata": {},
   "outputs": [],
   "source": [
    "# get_grouped_sum, _ = autograd_supplement_lib.get_sparse_product(grouping_mat) \n",
    "# assert_array_almost_equal(get_grouped_sum(x), bincount_result)\n",
    "\n",
    "aggregate = autograd_supplement_lib.get_grouped_aggregator(groups)"
   ]
  },
  {
   "cell_type": "code",
   "execution_count": 7,
   "metadata": {},
   "outputs": [],
   "source": [
    "check_grads(aggregate)(x)"
   ]
  },
  {
   "cell_type": "code",
   "execution_count": 9,
   "metadata": {},
   "outputs": [],
   "source": [
    "x2 = np.random.random((n_obs, 3))\n",
    "check_grads(aggregate)(x2)"
   ]
  },
  {
   "cell_type": "code",
   "execution_count": 10,
   "metadata": {},
   "outputs": [
    {
     "data": {
      "text/plain": [
       "dtype('int64')"
      ]
     },
     "execution_count": 10,
     "metadata": {},
     "output_type": "execute_result"
    }
   ],
   "source": [
    "groups = np.atleast_1d(groups).astype('int64')\n",
    "groups.dtype\n"
   ]
  }
 ],
 "metadata": {
  "kernelspec": {
   "display_name": "Python 3",
   "language": "python",
   "name": "python3"
  },
  "language_info": {
   "codemirror_mode": {
    "name": "ipython",
    "version": 3
   },
   "file_extension": ".py",
   "mimetype": "text/x-python",
   "name": "python",
   "nbconvert_exporter": "python",
   "pygments_lexer": "ipython3",
   "version": "3.6.9"
  }
 },
 "nbformat": 4,
 "nbformat_minor": 4
}
