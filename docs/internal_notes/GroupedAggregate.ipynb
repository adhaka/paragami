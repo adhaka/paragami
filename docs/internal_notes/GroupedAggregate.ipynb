{
 "cells": [
  {
   "cell_type": "code",
   "execution_count": 1,
   "metadata": {},
   "outputs": [],
   "source": [
    "import autograd\n",
    "from autograd import numpy as np\n",
    "import scipy as sp\n",
    "import paragami\n",
    "from paragami import autograd_supplement_lib\n",
    "\n",
    "from autograd.test_util import check_grads\n",
    "from numpy.testing import assert_array_almost_equal\n"
   ]
  },
  {
   "cell_type": "code",
   "execution_count": 2,
   "metadata": {},
   "outputs": [],
   "source": [
    "n_groups = 4\n",
    "n_per_group = 2\n",
    "n_obs = n_groups * n_per_group\n",
    "\n",
    "x = np.random.random(n_obs)\n",
    "groups = np.repeat(np.arange(0, n_groups), n_per_group)"
   ]
  },
  {
   "cell_type": "code",
   "execution_count": 3,
   "metadata": {},
   "outputs": [],
   "source": [
    "bincount_result = np.bincount(groups, x)"
   ]
  },
  {
   "cell_type": "code",
   "execution_count": 4,
   "metadata": {},
   "outputs": [],
   "source": [
    "# cols = np.arange(0, n_obs)\n",
    "# data = np.ones(n_obs)\n",
    "# rows = groups\n",
    "# grouping_mat = sp.sparse.csr_matrix((data, (rows, cols)), (np.max(groups) + 1, n_obs))\n",
    "# assert_array_almost_equal(grouping_mat @ x, bincount_result)"
   ]
  },
  {
   "cell_type": "code",
   "execution_count": 6,
   "metadata": {},
   "outputs": [],
   "source": [
    "check_grads(aggregate)(x)"
   ]
  },
  {
   "cell_type": "code",
   "execution_count": 7,
   "metadata": {},
   "outputs": [],
   "source": [
    "x2 = np.random.random((n_obs, 3))\n",
    "check_grads(aggregate)(x2)"
   ]
  },
  {
   "cell_type": "code",
   "execution_count": 8,
   "metadata": {},
   "outputs": [
    {
     "data": {
      "text/plain": [
       "()"
      ]
     },
     "execution_count": 8,
     "metadata": {},
     "output_type": "execute_result"
    }
   ],
   "source": [
    "np.random.random(5).shape[1:]"
   ]
  },
  {
   "cell_type": "code",
   "execution_count": 9,
   "metadata": {},
   "outputs": [],
   "source": [
    "grouped_sum = autograd_supplement_lib.grouped_sum"
   ]
  },
  {
   "cell_type": "code",
   "execution_count": 10,
   "metadata": {},
   "outputs": [],
   "source": [
    "def check(x):\n",
    "    check_grads(grouped_sum)(x, groups)\n",
    "    check_grads(grouped_sum)(x, groups, num_groups=n_groups + 4)\n",
    "    \n",
    "check(np.random.random(n_obs))\n",
    "check(np.random.random((n_obs, 3)))\n",
    "check(np.random.random((n_obs, 3, 2)))\n"
   ]
  }
 ],
 "metadata": {
  "kernelspec": {
   "display_name": "Python 3",
   "language": "python",
   "name": "python3"
  },
  "language_info": {
   "codemirror_mode": {
    "name": "ipython",
    "version": 3
   },
   "file_extension": ".py",
   "mimetype": "text/x-python",
   "name": "python",
   "nbconvert_exporter": "python",
   "pygments_lexer": "ipython3",
   "version": "3.6.9"
  }
 },
 "nbformat": 4,
 "nbformat_minor": 4
}
