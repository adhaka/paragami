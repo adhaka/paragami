{
 "cells": [
  {
   "cell_type": "code",
   "execution_count": 1,
   "metadata": {
    "collapsed": true
   },
   "outputs": [],
   "source": [
    "import paragami\n",
    "import autograd\n",
    "import autograd.numpy as np"
   ]
  },
  {
   "cell_type": "code",
   "execution_count": 2,
   "metadata": {},
   "outputs": [
    {
     "name": "stdout",
     "output_type": "stream",
     "text": [
      "[[False False False]\n",
      " [False False False]]\n"
     ]
    },
    {
     "data": {
      "text/plain": [
       "array([4, 5])"
      ]
     },
     "execution_count": 2,
     "metadata": {},
     "output_type": "execute_result"
    }
   ],
   "source": [
    "pattern = paragami.NumericArrayPattern(shape=(2, 3), lb=0, ub=10)\n",
    "x = pattern.empty(valid=False)\n",
    "x_bool = np.full_like(x, False, dtype='bool')\n",
    "print(x_bool)\n",
    "x_bool[1, 2] = True\n",
    "x_bool[1, 1] = True\n",
    "pattern.flat_indices(x_bool, free=True)"
   ]
  },
  {
   "cell_type": "code",
   "execution_count": 3,
   "metadata": {},
   "outputs": [
    {
     "data": {
      "text/plain": [
       "array([False, False, False, False,  True,  True])"
      ]
     },
     "execution_count": 3,
     "metadata": {},
     "output_type": "execute_result"
    }
   ],
   "source": [
    "pattern.flatten(x_bool, free=False)"
   ]
  },
  {
   "cell_type": "code",
   "execution_count": 19,
   "metadata": {},
   "outputs": [
    {
     "name": "stdout",
     "output_type": "stream",
     "text": [
      "[[1. 0. 0. 0. 0. 0.]\n",
      " [0. 1. 0. 0. 0. 0.]\n",
      " [0. 0. 1. 0. 0. 0.]\n",
      " [0. 0. 0. 1. 0. 0.]\n",
      " [0. 0. 0. 0. 1. 0.]\n",
      " [0. 0. 0. 0. 0. 1.]]\n",
      "[[ True False False False False False]\n",
      " [False  True False False False False]\n",
      " [False False  True False False False]\n",
      " [False False False  True False False]\n",
      " [False False False False  True False]\n",
      " [False False False False False  True]]\n",
      "[[ True False False False False False]\n",
      " [False  True False False False False]\n",
      " [False False  True False False False]\n",
      " [False False False  True False False]\n",
      " [False False False False  True False]\n",
      " [False False False False False  True]]\n",
      "True\n"
     ]
    }
   ],
   "source": [
    "# it = np.nditer(x_bool, flags=['multi_index'])\n",
    "# while not it.finished:\n",
    "#     print(\"%s <%s>\" % (it[0], it.multi_index), end=' ')\n",
    "#     it.iternext()\n",
    "\n",
    "import itertools\n",
    "free_len = pattern.flat_length(free=True)\n",
    "flat_len = pattern.flat_length(free=False)\n",
    "manual_jac = np.zeros((free_len, flat_len))\n",
    "x_bool = np.full_like(x, False, dtype='bool')\n",
    "for ind in itertools.product(*(range(n) for n in x_bool.shape)):\n",
    "    x_bool[ind] = True\n",
    "    flat_ind = pattern.flat_indices(x_bool, free=False)\n",
    "    free_ind = pattern.flat_indices(x_bool, free=True)\n",
    "    manual_jac[np.ix_(flat_ind, free_ind)] = 1\n",
    "    x_bool[ind] = False\n",
    "\n",
    "print(manual_jac)\n",
    "\n",
    "def flat_to_free(flat_val):\n",
    "    return pattern.flatten(pattern.fold(flat_val, free=False), free=True)\n",
    "\n",
    "flat_to_free(np.ones(flat_len))\n",
    "\n",
    "flat_to_free_jac = autograd.jacobian(flat_to_free)\n",
    "print(flat_to_free_jac(np.ones(flat_len)) != 0)\n",
    "print(manual_jac != 0)\n",
    "print(np.all((manual_jac != 0) == (flat_to_free_jac(np.ones(flat_len)) != 0)))\n"
   ]
  }
 ],
 "metadata": {
  "kernelspec": {
   "display_name": "Python 3",
   "language": "python",
   "name": "python3"
  },
  "language_info": {
   "codemirror_mode": {
    "name": "ipython",
    "version": 3
   },
   "file_extension": ".py",
   "mimetype": "text/x-python",
   "name": "python",
   "nbconvert_exporter": "python",
   "pygments_lexer": "ipython3",
   "version": "3.5.2"
  }
 },
 "nbformat": 4,
 "nbformat_minor": 2
}
