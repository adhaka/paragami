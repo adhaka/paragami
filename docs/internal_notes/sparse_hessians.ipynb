{
 "cells": [
  {
   "cell_type": "code",
   "execution_count": 1,
   "metadata": {},
   "outputs": [],
   "source": [
    "import paragami\n",
    "import autograd\n",
    "import autograd.numpy as np\n",
    "\n",
    "import time"
   ]
  },
  {
   "cell_type": "code",
   "execution_count": 2,
   "metadata": {},
   "outputs": [
    {
     "name": "stdout",
     "output_type": "stream",
     "text": [
      "Hessian time:  0.011384963989257812\n"
     ]
    }
   ],
   "source": [
    "np.random.seed(42)\n",
    "\n",
    "group_size = 3\n",
    "num_groups = 10\n",
    "d = group_size * num_groups\n",
    "\n",
    "def get_pd_mat(d): \n",
    "    a = np.random.random((d, d))\n",
    "    a = a + a.T + np.eye(d)\n",
    "    return a\n",
    "\n",
    "group_mats = np.array([ get_pd_mat(group_size) for g in range(num_groups) ])\n",
    "pattern = paragami.NumericArrayPattern((num_groups, group_size))\n",
    "def f(x_array, w):\n",
    "    return 0.5 * np.einsum('n,nij,ni,nj', w, group_mats, x_array, x_array)\n",
    "\n",
    "f_flat = paragami.FlattenFunctionInput(\n",
    "    f, argnums=0, free=True, patterns=pattern)\n",
    "\n",
    "x = np.random.random((num_groups, group_size))\n",
    "x_flat = pattern.flatten(x, free=True)\n",
    "w = np.ones(num_groups)\n",
    "f(x, w)\n",
    "\n",
    "f_grad = autograd.grad(f_flat, argnum=0)\n",
    "f_hess = autograd.hessian(f_flat, argnum=0)\n",
    "\n",
    "hess_time = time.time()\n",
    "h0 = f_hess(x_flat, w)\n",
    "hess_time = time.time() - hess_time\n",
    "print('Hessian time: ', hess_time)"
   ]
  },
  {
   "cell_type": "code",
   "execution_count": 3,
   "metadata": {},
   "outputs": [],
   "source": [
    "inds = []\n",
    "for g in range(num_groups):\n",
    "    x_bool = pattern.empty_bool(False)\n",
    "    x_bool[g, :] = True\n",
    "    inds.append(pattern.flat_indices(x_bool, free=True))\n",
    "inds = np.array(inds)"
   ]
  },
  {
   "cell_type": "code",
   "execution_count": 6,
   "metadata": {
    "scrolled": false
   },
   "outputs": [
    {
     "data": {
      "text/plain": [
       "0.0"
      ]
     },
     "execution_count": 6,
     "metadata": {},
     "output_type": "execute_result"
    }
   ],
   "source": [
    "sparse_hess = paragami.SparseBlockHessian(f_flat, inds)\n",
    "block_hess = sparse_hess.get_block_hessian(x_flat, w)\n",
    "\n",
    "np.linalg.norm(block_hess - h0)"
   ]
  }
 ],
 "metadata": {
  "kernelspec": {
   "display_name": "Python 3",
   "language": "python",
   "name": "python3"
  },
  "language_info": {
   "codemirror_mode": {
    "name": "ipython",
    "version": 3
   },
   "file_extension": ".py",
   "mimetype": "text/x-python",
   "name": "python",
   "nbconvert_exporter": "python",
   "pygments_lexer": "ipython3",
   "version": "3.5.2"
  }
 },
 "nbformat": 4,
 "nbformat_minor": 2
}
