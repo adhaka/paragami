{
 "cells": [
  {
   "cell_type": "code",
   "execution_count": 1,
   "metadata": {
    "collapsed": true
   },
   "outputs": [],
   "source": [
    "import paragami\n",
    "import autograd\n",
    "import autograd.numpy as np"
   ]
  },
  {
   "cell_type": "code",
   "execution_count": 2,
   "metadata": {},
   "outputs": [
    {
     "name": "stdout",
     "output_type": "stream",
     "text": [
      "[[[False False False False]\n",
      "  [False False False False]\n",
      "  [False False False False]]\n",
      "\n",
      " [[False False False False]\n",
      "  [False False False False]\n",
      "  [False False False False]]]\n"
     ]
    },
    {
     "data": {
      "text/plain": [
       "array([16, 17, 18, 19, 20, 21, 22, 23])"
      ]
     },
     "execution_count": 2,
     "metadata": {},
     "output_type": "execute_result"
    }
   ],
   "source": [
    "pattern = paragami.NumericArrayPattern(shape=(2, 3, 4), lb=0, ub=10)\n",
    "x = pattern.empty(valid=False)\n",
    "x_bool = pattern.empty_bool(False)\n",
    "#np.full_like(x, False, dtype='bool')\n",
    "print(x_bool)\n",
    "x_bool[1, 2] = True\n",
    "x_bool[1, 1] = True\n",
    "pattern.flat_indices(x_bool, free=True)"
   ]
  },
  {
   "cell_type": "code",
   "execution_count": 3,
   "metadata": {},
   "outputs": [
    {
     "data": {
      "text/plain": [
       "array([False, False, False, False, False, False, False, False, False,\n",
       "       False, False, False, False, False, False, False,  True,  True,\n",
       "        True,  True,  True,  True,  True,  True])"
      ]
     },
     "execution_count": 3,
     "metadata": {},
     "output_type": "execute_result"
    }
   ],
   "source": [
    "pattern.flatten(x_bool, free=False)"
   ]
  },
  {
   "cell_type": "code",
   "execution_count": 15,
   "metadata": {
    "scrolled": false
   },
   "outputs": [
    {
     "name": "stdout",
     "output_type": "stream",
     "text": [
      "check\n",
      "check\n",
      "check\n",
      "check\n",
      "check\n",
      "check\n",
      "check\n",
      "check\n",
      "check\n",
      "check\n",
      "check\n",
      "check\n",
      "check\n",
      "check\n",
      "check\n",
      "check\n",
      "check\n",
      "check\n",
      "check\n",
      "check\n",
      "check\n",
      "check\n",
      "check\n",
      "check\n"
     ]
    }
   ],
   "source": [
    "# it = np.nditer(x_bool, flags=['multi_index'])\n",
    "# while not it.finished:\n",
    "#     print(\"%s <%s>\" % (it[0], it.multi_index), end=' ')\n",
    "#     it.iternext()\n",
    "\n",
    "import itertools\n",
    "free_len = pattern.flat_length(free=True)\n",
    "flat_len = pattern.flat_length(free=False)\n",
    "manual_jac = np.zeros((free_len, flat_len))\n",
    "x_bool = np.full_like(x, False, dtype='bool')\n",
    "for ind in itertools.product(*(range(n) for n in x_bool.shape)):\n",
    "    x_bool[ind] = True\n",
    "    flat_ind = pattern.flat_indices(x_bool, free=False)\n",
    "    free_ind = pattern.flat_indices(x_bool, free=True)\n",
    "    manual_jac[np.ix_(flat_ind, free_ind)] = 1\n",
    "    x_bool[ind] = False\n",
    "\n",
    "# print(manual_jac)\n",
    "\n",
    "def flat_to_free(flat_val):\n",
    "    return pattern.flatten(pattern.fold(flat_val, free=False), free=True)\n",
    "\n",
    "flat_to_free(np.ones(flat_len))\n",
    "\n",
    "get_flat_to_free_jac = autograd.jacobian(flat_to_free)\n",
    "# print(flat_to_free_jac(np.ones(flat_len)) != 0)\n",
    "# print(manual_jac != 0)\n",
    "flat_to_free_jac = get_flat_to_free_jac(np.ones(flat_len) + 0.1)\n",
    "\n",
    "#print(np.all((manual_jac != 0) == (flat_to_free_jac(np.ones(flat_len)) != 0)))\n",
    "it = np.nditer(flat_to_free_jac, flags=['multi_index'])\n",
    "while not it.finished:\n",
    "    if it[0] != 0:\n",
    "        assert manual_jac[it.multi_index] != 0\n",
    "    it.iternext()\n",
    "\n",
    "# it = np.nditer(x_bool, flags=['multi_index'])\n",
    "# while not it.finished:\n",
    "#     print(\"%s <%s>\" % (it[0], it.multi_index), end=' ')\n",
    "#     it.iternext()\n"
   ]
  }
 ],
 "metadata": {
  "kernelspec": {
   "display_name": "Python 3",
   "language": "python",
   "name": "python3"
  },
  "language_info": {
   "codemirror_mode": {
    "name": "ipython",
    "version": 3
   },
   "file_extension": ".py",
   "mimetype": "text/x-python",
   "name": "python",
   "nbconvert_exporter": "python",
   "pygments_lexer": "ipython3",
   "version": "3.5.2"
  }
 },
 "nbformat": 4,
 "nbformat_minor": 2
}
