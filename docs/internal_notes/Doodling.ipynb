{
 "cells": [
  {
   "cell_type": "code",
   "execution_count": 1,
   "metadata": {},
   "outputs": [
    {
     "ename": "ImportError",
     "evalue": "No module named 'example_utils'",
     "output_type": "error",
     "traceback": [
      "\u001b[0;31m---------------------------------------------------------------------------\u001b[0m",
      "\u001b[0;31mImportError\u001b[0m                               Traceback (most recent call last)",
      "\u001b[0;32m<ipython-input-1-0fded8220fbd>\u001b[0m in \u001b[0;36m<module>\u001b[0;34m\u001b[0m\n\u001b[1;32m      7\u001b[0m \u001b[0;32mimport\u001b[0m \u001b[0mscipy\u001b[0m \u001b[0;32mas\u001b[0m \u001b[0mosp\u001b[0m\u001b[0;34m\u001b[0m\u001b[0m\n\u001b[1;32m      8\u001b[0m \u001b[0;34m\u001b[0m\u001b[0m\n\u001b[0;32m----> 9\u001b[0;31m \u001b[0;32mimport\u001b[0m \u001b[0mexample_utils\u001b[0m\u001b[0;34m\u001b[0m\u001b[0m\n\u001b[0m",
      "\u001b[0;31mImportError\u001b[0m: No module named 'example_utils'"
     ]
    }
   ],
   "source": [
    "import autograd\n",
    "import autograd.numpy as np\n",
    "import autograd.scipy as sp\n",
    "from autograd.test_util import check_grads\n",
    "\n",
    "import paragami\n",
    "import scipy as osp\n",
    "\n",
    "import example_utils"
   ]
  },
  {
   "cell_type": "code",
   "execution_count": null,
   "metadata": {
    "collapsed": true
   },
   "outputs": [],
   "source": [
    "np.random.seed(42)\n",
    "\n",
    "num_obs = 1000\n",
    "\n",
    "# True values of parameters\n",
    "true_sigma = \\\n",
    "    np.eye(3) * np.diag(np.array([1, 2, 3])) + \\\n",
    "    np.random.random((3, 3)) * 0.1\n",
    "true_sigma = 0.5 * (true_sigma + true_sigma.T)\n",
    "\n",
    "true_mu = np.array([0, 1, 2])\n",
    "\n",
    "# Data\n",
    "x = np.random.multivariate_normal(\n",
    "    mean=true_mu, cov=true_sigma, size=(num_obs, ))\n",
    "\n",
    "# Original weights.\n",
    "original_weights = np.ones(num_obs)\n",
    "\n",
    "# Original regularizer.\n",
    "original_lam = 1.0"
   ]
  },
  {
   "cell_type": "code",
   "execution_count": null,
   "metadata": {},
   "outputs": [],
   "source": [
    "def model_logpdf(norm_par, weights, x):\n",
    "    data_lpdf = example_utils.get_normal_log_prob(\n",
    "        x, mu=norm_par['mu'], sigma=norm_par['sigma'])\n",
    "    return np.sum(weights * data_lpdf)\n",
    "\n",
    "def objective_fun(norm_par, weights, lam, x):\n",
    "    return \\\n",
    "        -model_logpdf(norm_par, weights, x) + \\\n",
    "        regularizer(norm_par, lam)\n",
    "\n",
    "norm_par = dict()\n",
    "norm_par['mu'] = true_mu\n",
    "norm_par['sigma'] = true_sigma\n",
    "\n",
    "objective_fun(norm_par, original_weights, original_lam, x)"
   ]
  },
  {
   "cell_type": "code",
   "execution_count": null,
   "metadata": {
    "collapsed": true
   },
   "outputs": [],
   "source": [
    "norm_param_pattern = paragami.PatternDict()\n",
    "norm_param_pattern['sigma'] = paragami.PSDSymmetricMatrixPattern(size=3)\n",
    "norm_param_pattern['mu'] = paragami.NumericArrayPattern(shape=(3, ))\n",
    "\n",
    "objective_flat = paragami.FlattenFunctionInput(\n",
    "    lambda par_dict: objective_fun(par_dict, original_weights, original_lam, x),\n",
    "    patterns=norm_param_pattern,\n",
    "    free=True)\n",
    "\n",
    "# It's always a good idea to double check for bugs.\n",
    "\n",
    "# This checks that the two functions return the same value.\n",
    "norm_par_flat = norm_param_pattern.flatten(norm_par, free=True)\n",
    "assert(\n",
    "    objective_flat(norm_par_flat) == \\\n",
    "    objective_fun(norm_par, original_weights, original_lam, x))\n",
    "\n",
    "# This verifies that the objective is being differentiated correctly.\n",
    "check_grads(objective_flat)(norm_par_flat)"
   ]
  },
  {
   "cell_type": "code",
   "execution_count": 2,
   "metadata": {
    "scrolled": false
   },
   "outputs": [
    {
     "ename": "NameError",
     "evalue": "name 'objective_flat' is not defined",
     "output_type": "error",
     "traceback": [
      "\u001b[0;31m---------------------------------------------------------------------------\u001b[0m",
      "\u001b[0;31mNameError\u001b[0m                                 Traceback (most recent call last)",
      "\u001b[0;32m<ipython-input-2-29fe30203a22>\u001b[0m in \u001b[0;36m<module>\u001b[0;34m\u001b[0m\n\u001b[0;32m----> 1\u001b[0;31m \u001b[0mobjective_wrapper\u001b[0m \u001b[0;34m=\u001b[0m \u001b[0mparagami\u001b[0m\u001b[0;34m.\u001b[0m\u001b[0mOptimizationObjective\u001b[0m\u001b[0;34m(\u001b[0m\u001b[0mobjective_flat\u001b[0m\u001b[0;34m)\u001b[0m\u001b[0;34m\u001b[0m\u001b[0m\n\u001b[0m\u001b[1;32m      2\u001b[0m \u001b[0mobjective_wrapper\u001b[0m\u001b[0;34m.\u001b[0m\u001b[0mset_print_every\u001b[0m\u001b[0;34m(\u001b[0m\u001b[0;36m5\u001b[0m\u001b[0;34m)\u001b[0m\u001b[0;34m\u001b[0m\u001b[0m\n\u001b[1;32m      3\u001b[0m \u001b[0;34m\u001b[0m\u001b[0m\n\u001b[1;32m      4\u001b[0m \u001b[0minit_param\u001b[0m \u001b[0;34m=\u001b[0m \u001b[0mnp\u001b[0m\u001b[0;34m.\u001b[0m\u001b[0mones\u001b[0m\u001b[0;34m(\u001b[0m\u001b[0mnorm_param_pattern\u001b[0m\u001b[0;34m.\u001b[0m\u001b[0mflat_length\u001b[0m\u001b[0;34m(\u001b[0m\u001b[0mfree\u001b[0m\u001b[0;34m=\u001b[0m\u001b[0;32mTrue\u001b[0m\u001b[0;34m)\u001b[0m\u001b[0;34m)\u001b[0m\u001b[0;34m\u001b[0m\u001b[0m\n\u001b[1;32m      5\u001b[0m mle_opt = osp.optimize.minimize(\n",
      "\u001b[0;31mNameError\u001b[0m: name 'objective_flat' is not defined"
     ]
    }
   ],
   "source": [
    "objective_wrapper = paragami.OptimizationObjective(objective_flat)\n",
    "objective_wrapper.set_print_every(5)\n",
    "\n",
    "init_param = np.ones(norm_param_pattern.flat_length(free=True))\n",
    "mle_opt = osp.optimize.minimize(\n",
    "    method='trust-ncg',\n",
    "    x0=init_param,\n",
    "    fun=objective_wrapper.f,\n",
    "    jac=objective_wrapper.grad,\n",
    "    hessp=objective_wrapper.hessp,\n",
    "    options={'gtol': 1e-12, 'disp': False})"
   ]
  },
  {
   "cell_type": "code",
   "execution_count": null,
   "metadata": {},
   "outputs": [],
   "source": [
    "print(mle_opt.x)\n",
    "norm_par_opt = norm_param_pattern.fold(mle_opt.x, free=True)\n",
    "print(norm_par_opt['sigma'])\n",
    "print(true_sigma)\n",
    "print(norm_par_opt['mu'])\n",
    "print(true_mu)"
   ]
  },
  {
   "cell_type": "code",
   "execution_count": null,
   "metadata": {
    "collapsed": true
   },
   "outputs": [],
   "source": [
    "# To evaluate the regularization parameter\n",
    "weight_objective_fun = \n",
    "\n",
    "weight_sens = paragami.ParametricSensitivityTaylorExpansion(\n",
    "    )"
   ]
  }
 ],
 "metadata": {
  "kernelspec": {
   "display_name": "Python 3",
   "language": "python",
   "name": "python3"
  },
  "language_info": {
   "codemirror_mode": {
    "name": "ipython",
    "version": 3
   },
   "file_extension": ".py",
   "mimetype": "text/x-python",
   "name": "python",
   "nbconvert_exporter": "python",
   "pygments_lexer": "ipython3",
   "version": "3.5.2"
  }
 },
 "nbformat": 4,
 "nbformat_minor": 2
}
