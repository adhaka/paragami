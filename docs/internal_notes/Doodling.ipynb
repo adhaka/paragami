{
 "cells": [
  {
   "cell_type": "code",
   "execution_count": 1,
   "metadata": {},
   "outputs": [],
   "source": [
    "import autograd\n",
    "import autograd.numpy as np\n",
    "import autograd.scipy as sp\n",
    "from autograd.test_util import check_grads\n",
    "\n",
    "import paragami\n",
    "import scipy as osp\n",
    "\n",
    "import copy\n",
    "import example_utils"
   ]
  },
  {
   "cell_type": "code",
   "execution_count": 2,
   "metadata": {
    "collapsed": true
   },
   "outputs": [],
   "source": [
    "np.random.seed(42)\n",
    "\n",
    "num_obs = 1000\n",
    "\n",
    "# True values of parameters\n",
    "true_sigma = \\\n",
    "    np.eye(3) * np.diag(np.array([1, 2, 3])) + \\\n",
    "    np.random.random((3, 3)) * 0.1\n",
    "true_sigma = 0.5 * (true_sigma + true_sigma.T)\n",
    "\n",
    "true_mu = np.array([0, 1, 2])\n",
    "\n",
    "# Data\n",
    "x = np.random.multivariate_normal(\n",
    "    mean=true_mu, cov=true_sigma, size=(num_obs, ))\n",
    "\n",
    "# Original weights.\n",
    "original_weights = np.ones(num_obs)\n",
    "\n",
    "# Original regularizer.\n",
    "original_lam = 1.0"
   ]
  },
  {
   "cell_type": "code",
   "execution_count": 3,
   "metadata": {},
   "outputs": [
    {
     "data": {
      "text/plain": [
       "2397.751922600241"
      ]
     },
     "execution_count": 3,
     "metadata": {},
     "output_type": "execute_result"
    }
   ],
   "source": [
    "def model_logpdf(norm_par, weights, x):\n",
    "    data_lpdf = example_utils.get_normal_log_prob(\n",
    "        x, mu=norm_par['mu'], sigma=norm_par['sigma'])\n",
    "    return np.sum(weights * data_lpdf)\n",
    "\n",
    "def objective_fun(norm_par, weights, lam, x):\n",
    "    return \\\n",
    "        -model_logpdf(norm_par, weights, x) + \\\n",
    "        example_utils.regularizer(norm_par, lam)\n",
    "\n",
    "norm_par = dict()\n",
    "norm_par['mu'] = true_mu\n",
    "norm_par['sigma'] = true_sigma\n",
    "\n",
    "objective_fun(norm_par, original_weights, original_lam, x)"
   ]
  },
  {
   "cell_type": "code",
   "execution_count": 4,
   "metadata": {
    "collapsed": true
   },
   "outputs": [],
   "source": [
    "norm_param_pattern = paragami.PatternDict()\n",
    "norm_param_pattern['sigma'] = paragami.PSDSymmetricMatrixPattern(size=3)\n",
    "norm_param_pattern['mu'] = paragami.NumericArrayPattern(shape=(3, ))\n",
    "\n",
    "objective_flat = paragami.FlattenFunctionInput(\n",
    "    lambda par_dict: objective_fun(par_dict, original_weights, original_lam, x),\n",
    "    patterns=norm_param_pattern,\n",
    "    free=True)\n",
    "\n",
    "# It's always a good idea to double check for bugs.\n",
    "\n",
    "# This checks that the two functions return the same value.\n",
    "norm_par_flat = norm_param_pattern.flatten(norm_par, free=True)\n",
    "assert(\n",
    "    objective_flat(norm_par_flat) == \\\n",
    "    objective_fun(norm_par, original_weights, original_lam, x))\n",
    "\n",
    "# This verifies that the objective is being differentiated correctly.\n",
    "check_grads(objective_flat)(norm_par_flat)"
   ]
  },
  {
   "cell_type": "code",
   "execution_count": 5,
   "metadata": {
    "scrolled": false
   },
   "outputs": [
    {
     "name": "stdout",
     "output_type": "stream",
     "text": [
      "Iter 0: f = 3594.52979620\n",
      "Iter 5: f = 2462.38498397\n",
      "Iter 10: f = 2390.42549495\n",
      "Iter 15: f = 2390.42528542\n"
     ]
    }
   ],
   "source": [
    "objective_wrapper = paragami.OptimizationObjective(objective_flat)\n",
    "objective_wrapper.set_print_every(5)\n",
    "\n",
    "init_param = np.ones(norm_param_pattern.flat_length(free=True))\n",
    "\n",
    "mle_opt = osp.optimize.minimize(\n",
    "    method='trust-ncg',\n",
    "    x0=init_param,\n",
    "    fun=objective_wrapper.f,\n",
    "    jac=objective_wrapper.grad,\n",
    "    hessp=objective_wrapper.hessian_vector_product,\n",
    "    options={'gtol': 1e-12, 'disp': False})"
   ]
  },
  {
   "cell_type": "code",
   "execution_count": 43,
   "metadata": {},
   "outputs": [
    {
     "name": "stdout",
     "output_type": "stream",
     "text": [
      "[ 0.03234828  0.07658348  0.31752785  0.04095079 -0.02154567  0.5360903\n",
      " -0.04491706  1.02715611  1.84439126]\n",
      "[[ 1.06683526  0.07910132  0.04229714]\n",
      " [ 0.07910132  1.89299228 -0.02646173]\n",
      " [ 0.04229714 -0.02646173  2.92388492]]\n",
      "[[1.03745401 0.07746864 0.03950388]\n",
      " [0.07746864 2.01560186 0.05110853]\n",
      " [0.03950388 0.05110853 3.0601115 ]]\n",
      "[-0.04491706  1.02715611  1.84439126]\n",
      "[0 1 2]\n"
     ]
    }
   ],
   "source": [
    "print(mle_opt.x)\n",
    "norm_par_opt = norm_param_pattern.fold(mle_opt.x, free=True)\n",
    "print(norm_par_opt['sigma'])\n",
    "print(true_sigma)\n",
    "print(norm_par_opt['mu'])\n",
    "print(true_mu)\n",
    "\n",
    "par_flat0 = copy.deepcopy(mle_opt.x)\n",
    "hess0 = objective_wrapper.hessian(par_flat0)"
   ]
  },
  {
   "cell_type": "code",
   "execution_count": 44,
   "metadata": {},
   "outputs": [
    {
     "ename": "AssertionError",
     "evalue": "",
     "output_type": "error",
     "traceback": [
      "\u001b[0;31m---------------------------------------------------------------------------\u001b[0m",
      "\u001b[0;31mAssertionError\u001b[0m                            Traceback (most recent call last)",
      "\u001b[0;32m<ipython-input-44-a41624354612>\u001b[0m in \u001b[0;36m<module>\u001b[0;34m\u001b[0m\n\u001b[1;32m     12\u001b[0m \u001b[0;31m# Sanity check\u001b[0m\u001b[0;34m\u001b[0m\u001b[0;34m\u001b[0m\u001b[0m\n\u001b[1;32m     13\u001b[0m assert(objective_reg_flat(par_flat0, lam_flat0) ==\n\u001b[0;32m---> 14\u001b[0;31m        objective_fun(norm_par_opt, original_weights, original_lam, x))\n\u001b[0m\u001b[1;32m     15\u001b[0m \u001b[0;34m\u001b[0m\u001b[0m\n\u001b[1;32m     16\u001b[0m weight_sens = paragami.ParametricSensitivityTaylorExpansion(\n",
      "\u001b[0;31mAssertionError\u001b[0m: "
     ]
    }
   ],
   "source": [
    "lam_free = False\n",
    "\n",
    "# To evaluate the regularization parameter\n",
    "lam_pattern = paragami.NumericScalarPattern(lb=0)\n",
    "objective_reg_flat = \\\n",
    "    objective_flat = paragami.FlattenFunctionInput(\n",
    "        lambda par_dict, lam: objective_fun(par_dict, original_weights, lam, x),\n",
    "    patterns=[norm_param_pattern, lam_pattern],\n",
    "    free=[True, lam_free])\n",
    "lam_flat0 = lam_pattern.flatten(original_lam, free=lam_free)\n",
    "\n",
    "# Sanity check\n",
    "assert(objective_reg_flat(par_flat0, lam_flat0) ==\n",
    "       objective_fun(norm_par_opt, original_weights, original_lam, x))\n",
    "\n",
    "weight_sens = paragami.ParametricSensitivityTaylorExpansion(\n",
    "    objective_reg_flat,\n",
    "    input_val0=par_flat0,\n",
    "    hyper_val0=lam_flat0,\n",
    "    hess0=hess0,\n",
    "    order=4)"
   ]
  },
  {
   "cell_type": "code",
   "execution_count": 14,
   "metadata": {
    "collapsed": true
   },
   "outputs": [],
   "source": [
    "\n",
    "def reoptimize(lam_flat1, print_every=10):\n",
    "    new_objective_wrapper = \\\n",
    "        paragami.OptimizationObjective(\n",
    "            lambda par_flat: objective_reg_flat(par_flat, lam_flat1))\n",
    "    new_objective_wrapper.set_print_every(10)\n",
    "    new_mle_opt = osp.optimize.minimize(\n",
    "        method='trust-ncg',\n",
    "        x0=par_flat0,\n",
    "        fun=new_objective_wrapper.f,\n",
    "        jac=new_objective_wrapper.grad,\n",
    "        hessp=new_objective_wrapper.hessian_vector_product,\n",
    "        options={'gtol': 1e-12, 'disp': False})\n",
    "    return new_mle_opt"
   ]
  },
  {
   "cell_type": "code",
   "execution_count": 24,
   "metadata": {
    "collapsed": true
   },
   "outputs": [],
   "source": [
    "import matplotlib.pyplot as plt\n",
    "%matplotlib inline\n",
    "def comparison_plot(x, y):\n",
    "    plt.plot(x, x, 'k')\n",
    "    plt.plot(x, y, 'r+')"
   ]
  },
  {
   "cell_type": "code",
   "execution_count": 39,
   "metadata": {},
   "outputs": [
    {
     "name": "stdout",
     "output_type": "stream",
     "text": [
      "dhyper norm 6.907755278982137\n",
      "Iter 0: f = 2385.97089793\n",
      "0.06679867373225637\n",
      "0.20026508604887275\n",
      "0.40165012278162693\n",
      "0.594900934347305\n"
     ]
    },
    {
     "data": {
      "image/png": "[encoded data removed]",
      "text/plain": [
       "<Figure size 432x288 with 1 Axes>"
      ]
     },
     "metadata": {},
     "output_type": "display_data"
    },
    {
     "data": {
      "image/png": "[encoded data removed]",
      "text/plain": [
       "<Figure size 432x288 with 1 Axes>"
      ]
     },
     "metadata": {},
     "output_type": "display_data"
    },
    {
     "data": {
      "image/png": "[encoded data removed]",
      "text/plain": [
       "<Figure size 432x288 with 1 Axes>"
      ]
     },
     "metadata": {},
     "output_type": "display_data"
    },
    {
     "data": {
      "image/png": "[encoded data removed]",
      "text/plain": [
       "<Figure size 432x288 with 1 Axes>"
      ]
     },
     "metadata": {},
     "output_type": "display_data"
    }
   ],
   "source": [
    "new_lam = 0.001\n",
    "lam_flat1 = lam_pattern.flatten(new_lam, free=lam_free)\n",
    "print('dhyper norm', np.linalg.norm(lam_flat1 - lam_flat0))\n",
    "par1 = reoptimize(lam_flat1).x\n",
    "\n",
    "plt.figure()\n",
    "par1_pred = weight_sens.evaluate_taylor_series(lam_flat1, max_order=1)\n",
    "comparison_plot(par1, par1_pred)\n",
    "print(np.linalg.norm(par1 - par1_pred))\n",
    "\n",
    "plt.figure()\n",
    "par1_pred = weight_sens.evaluate_taylor_series(lam_flat1, max_order=2)\n",
    "comparison_plot(par1, par1_pred)\n",
    "print(np.linalg.norm(par1 - par1_pred))\n",
    "\n",
    "plt.figure()\n",
    "par1_pred = weight_sens.evaluate_taylor_series(lam_flat1, max_order=3)\n",
    "comparison_plot(par1, par1_pred)\n",
    "print(np.linalg.norm(par1 - par1_pred))\n",
    "\n",
    "plt.figure()\n",
    "par1_pred = weight_sens.evaluate_taylor_series(lam_flat1, max_order=4)\n",
    "comparison_plot(par1, par1_pred)\n",
    "print(np.linalg.norm(par1 - par1_pred))\n"
   ]
  }
 ],
 "metadata": {
  "kernelspec": {
   "display_name": "Python 3",
   "language": "python",
   "name": "python3"
  },
  "language_info": {
   "codemirror_mode": {
    "name": "ipython",
    "version": 3
   },
   "file_extension": ".py",
   "mimetype": "text/x-python",
   "name": "python",
   "nbconvert_exporter": "python",
   "pygments_lexer": "ipython3",
   "version": "3.5.2"
  }
 },
 "nbformat": 4,
 "nbformat_minor": 2
}
