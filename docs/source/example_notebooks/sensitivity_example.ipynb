{
 "cells": [
  {
   "cell_type": "markdown",
   "metadata": {},
   "source": [
    "# Sensitivity Analysis."
   ]
  },
  {
   "cell_type": "code",
   "execution_count": 1,
   "metadata": {
    "collapsed": true
   },
   "outputs": [],
   "source": [
    "import paragami\n",
    "\n",
    "import autograd\n",
    "from autograd import numpy as np\n",
    "import copy\n",
    "\n",
    "# Use the original scipy for functions we don't need to differentiate.\n",
    "import scipy as osp\n",
    "\n",
    "import matplotlib.pyplot as plt\n",
    "%matplotlib inline"
   ]
  },
  {
   "cell_type": "code",
   "execution_count": 2,
   "metadata": {
    "collapsed": true
   },
   "outputs": [],
   "source": [
    "np.random.seed(42)\n",
    "\n",
    "num_obs = 500\n",
    "data_dim = 3\n",
    "\n",
    "# True values of parameters\n",
    "true_sigma = \\\n",
    "    np.eye(3) * np.diag(np.arange(0, data_dim)) + \\\n",
    "    np.random.random((data_dim, data_dim)) * 0.1\n",
    "true_sigma = 0.5 * (true_sigma + true_sigma.T)\n",
    "true_mu = np.arange(0, data_dim)\n",
    "\n",
    "true_norm_param_dict = dict()\n",
    "true_norm_param_dict['mu'] = true_mu\n",
    "true_norm_param_dict['sigma'] = true_sigma\n",
    "\n",
    "# Data\n",
    "data = np.random.multivariate_normal(\n",
    "    mean=true_norm_param_dict['mu'],\n",
    "    cov=true_norm_param_dict['sigma'],\n",
    "    size=(num_obs, ))"
   ]
  },
  {
   "cell_type": "code",
   "execution_count": 3,
   "metadata": {},
   "outputs": [
    {
     "name": "stdout",
     "output_type": "stream",
     "text": [
      "Loss at true parameter: 69.74233683848566\n"
     ]
    }
   ],
   "source": [
    "def get_mvn_log_probs(obs, mean, cov):\n",
    "    cov_inv = np.linalg.inv(cov)\n",
    "    cov_det_sign, cov_log_det = np.linalg.slogdet(cov)\n",
    "    if cov_det_sign <= 0:\n",
    "        return np.full(float('inf'), obs.shape[0])\n",
    "    else:\n",
    "        obs_centered = obs - np.expand_dims(mean, axis=0)\n",
    "        return -0.5 * (\n",
    "            np.einsum('ni,ij,nj->n', obs_centered, cov_inv, obs_centered) + \\\n",
    "            cov_log_det)\n",
    "\n",
    "def get_data_lp(data, norm_param_dict, weights):\n",
    "    data_lp = np.sum(weights *\n",
    "                     get_mvn_log_probs(\n",
    "                         data,\n",
    "                         mean=norm_param_dict['mu'],\n",
    "                         cov=norm_param_dict['sigma']))\n",
    "    return data_lp\n",
    "\n",
    "def get_prior_lp(norm_param_dict, prior_param_dict):\n",
    "    data_dim = len(prior_param_dict['prior_mean']) \n",
    "    prior_cov = np.eye(data_dim) * (prior_param_dict['prior_sd'] ** 2)\n",
    "    prior_lp = get_mvn_log_probs(\n",
    "        obs=np.expand_dims(norm_param_dict['mu'], axis=0),\n",
    "        mean=prior_param_dict['prior_mean'],\n",
    "        cov=prior_cov)\n",
    "\n",
    "    # Sum so as to return a scalar.\n",
    "    return np.sum(prior_lp)\n",
    "\n",
    "def get_loss(data, norm_param_dict, prior_param_dict, weights):\n",
    "    return -1 * (get_prior_lp(norm_param_dict, prior_param_dict) +\n",
    "                 get_data_lp(data, norm_param_dict, weights))\n",
    "    \n",
    "class NormalModel():\n",
    "    def __init__(self, data):\n",
    "        self.data = data\n",
    "        self.num_obs = self.data.shape[0]\n",
    "        self.data_dim = self.data.shape[1]\n",
    "                \n",
    "        # Reasonable defaults for the priors and weights.\n",
    "        self.set_prior(np.full(self.data_dim, 0.), 10)\n",
    "        self.set_weights(np.full(self.num_obs, 1.0))\n",
    "                \n",
    "    def set_weights(self, weights):\n",
    "        self.weights = weights\n",
    "    \n",
    "    def set_prior(self, prior_mean, prior_sd):\n",
    "        self.prior_dict = dict()\n",
    "        self.prior_dict['prior_mean'] = prior_mean\n",
    "        self.prior_dict['prior_sd'] = prior_sd\n",
    "\n",
    "    def get_loss_for_opt(self, norm_param_dict):\n",
    "        return get_loss(\n",
    "            self.data, norm_param_dict, self.prior_dict, self.weights)\n",
    "    \n",
    "    def get_loss_by_prior(self, norm_param_dict, prior_dict):\n",
    "        return get_loss(\n",
    "            self.data, norm_param_dict, prior_dict, self.weights)\n",
    "\n",
    "    def get_loss_by_weights(self, norm_param_dict, weights):\n",
    "        return get_loss(\n",
    "            self.data, norm_param_dict, self.prior_dict, weights)\n",
    "\n",
    "    \n",
    "model = NormalModel(data)\n",
    "orig_prior_dict = copy.deepcopy(model.prior_dict)\n",
    "orig_weights = copy.deepcopy(model.weights)\n",
    "print('Loss at true parameter: {}'.format(model.get_loss_for_opt(true_norm_param_dict)))"
   ]
  },
  {
   "cell_type": "markdown",
   "metadata": {},
   "source": [
    "Define patterns."
   ]
  },
  {
   "cell_type": "code",
   "execution_count": 4,
   "metadata": {
    "collapsed": true
   },
   "outputs": [],
   "source": [
    "norm_pattern = paragami.PatternDict()\n",
    "norm_pattern['mu'] = paragami.NumericArrayPattern(shape=(data_dim, ))\n",
    "norm_pattern['sigma'] = paragami.PSDSymmetricMatrixPattern(size=data_dim)\n",
    "\n",
    "prior_pattern = paragami.PatternDict()\n",
    "prior_pattern['prior_mean'] = paragami.NumericArrayPattern(shape=(data_dim, ))\n",
    "prior_pattern['prior_sd'] = paragami.NumericArrayPattern(shape=(1, ), lb=0.0)\n",
    "\n",
    "weight_pattern = paragami.NumericArrayPattern(shape=(num_obs, ))"
   ]
  },
  {
   "cell_type": "code",
   "execution_count": 5,
   "metadata": {
    "scrolled": false
   },
   "outputs": [
    {
     "name": "stdout",
     "output_type": "stream",
     "text": [
      "Warning: A bad approximation caused failure to predict improvement.\n",
      "         Current function value: 65.200672\n",
      "         Iterations: 18\n",
      "         Function evaluations: 20\n",
      "         Gradient evaluations: 17\n",
      "         Hessian evaluations: 17\n"
     ]
    }
   ],
   "source": [
    "# Optimize.\n",
    "opt_fun = paragami.FlattenedFunction(\n",
    "    original_fun=model.get_loss_for_opt,\n",
    "    patterns=norm_pattern,\n",
    "    free=True)\n",
    "opt_fun_grad = autograd.grad(opt_fun)\n",
    "opt_fun_hessian = autograd.hessian(opt_fun)\n",
    "\n",
    "def get_optimum(init_param):\n",
    "    return osp.optimize.minimize(\n",
    "        method='trust-ncg',\n",
    "        x0=init_param,\n",
    "        fun=opt_fun,\n",
    "        jac=opt_fun_grad,\n",
    "        hess=opt_fun_hessian,\n",
    "        options={'gtol': 1e-16, 'disp': True})\n",
    "\n",
    "# Initialize with zeros.\n",
    "init_param = np.zeros(norm_pattern.flat_length(free=True))\n",
    "mle_opt = get_optimum(init_param)"
   ]
  },
  {
   "cell_type": "code",
   "execution_count": 6,
   "metadata": {},
   "outputs": [
    {
     "name": "stdout",
     "output_type": "stream",
     "text": [
      "OrderedDict([('mu', array([0.00837093, 0.95353189, 1.89852799])), ('sigma', array([[0.03865698, 0.08549516, 0.03813797],\n",
      "       [0.08549516, 1.05532368, 0.09781193],\n",
      "       [0.03813797, 0.09781193, 1.91488823]]))])\n",
      "{'mu': array([0, 1, 2]), 'sigma': array([[0.03745401, 0.07746864, 0.03950388],\n",
      "       [0.07746864, 1.01560186, 0.05110853],\n",
      "       [0.03950388, 0.05110853, 2.0601115 ]])}\n"
     ]
    }
   ],
   "source": [
    "opt_norm_param_dict = norm_pattern.fold(mle_opt.x, free=True)\n",
    "print(opt_norm_param_dict)\n",
    "print(true_norm_param_dict)"
   ]
  },
  {
   "cell_type": "code",
   "execution_count": 7,
   "metadata": {
    "collapsed": true
   },
   "outputs": [],
   "source": [
    "model.prior_dict = orig_prior_dict\n",
    "model.weights = orig_weights\n",
    "prior_sens = \\\n",
    "    paragami.HyperparameterSensitivityLinearApproximation(\n",
    "        objective_fun=model.get_loss_by_prior,\n",
    "        opt_par_pattern=norm_pattern,\n",
    "        hyper_par_pattern=prior_pattern,\n",
    "        opt_par_folded_value=opt_norm_param_dict,\n",
    "        hyper_par_folded_value=orig_prior_dict,\n",
    "        validate_optimum=False,\n",
    "        opt_par_is_free=True,\n",
    "        hyper_par_is_free=True)"
   ]
  },
  {
   "cell_type": "code",
   "execution_count": 8,
   "metadata": {
    "collapsed": true
   },
   "outputs": [],
   "source": [
    "# This helper function lets us easily see the differences in parameters.\n",
    "def get_norm_param_diff(par1, par2):\n",
    "    diff = \\\n",
    "        norm_pattern.flatten(par1, free=False, validate=False) - \\\n",
    "        norm_pattern.flatten(par2, free=False, validate=False)\n",
    "    return norm_pattern.fold(diff, free=False, validate=False)"
   ]
  },
  {
   "cell_type": "code",
   "execution_count": 13,
   "metadata": {},
   "outputs": [
    {
     "name": "stdout",
     "output_type": "stream",
     "text": [
      "Warning: A bad approximation caused failure to predict improvement.\n",
      "         Current function value: 60.519174\n",
      "         Iterations: 5\n",
      "         Function evaluations: 7\n",
      "         Gradient evaluations: 6\n",
      "         Hessian evaluations: 6\n"
     ]
    }
   ],
   "source": [
    "# Change the prior.\n",
    "new_prior_dict = copy.deepcopy(orig_prior_dict)\n",
    "change_mean = False\n",
    "\n",
    "# Note: it does not seem to be working for the prior cov.  Is this\n",
    "# real nonlinearity or a bug?\n",
    "change_cov = True\n",
    "if change_mean:\n",
    "    new_prior_dict['prior_mean'] = orig_prior_dict['prior_mean'] + 100\n",
    "if change_cov:\n",
    "    new_prior_dict['prior_sd'] = 0.1 * orig_prior_dict['prior_sd']\n",
    "\n",
    "# Make sure we use the original weights.\n",
    "model.weights = orig_weights\n",
    "\n",
    "# Get the linear prediction at the new prior.\n",
    "pred_norm_param_dict = \\\n",
    "    prior_sens.predict_opt_par_from_hyper_par(new_prior_dict)\n",
    "\n",
    "# Re-optimize to check the prior sensitivity.\n",
    "model.prior_dict = new_prior_dict\n",
    "new_opt_par = get_optimum(mle_opt.x)\n",
    "new_norm_param_dict = norm_pattern.fold(new_opt_par.x, free=True)\n"
   ]
  },
  {
   "cell_type": "code",
   "execution_count": 14,
   "metadata": {},
   "outputs": [
    {
     "name": "stdout",
     "output_type": "stream",
     "text": [
      "Predicted mu differences:\n",
      "[-1.42066697e-05 -1.09848638e-04 -3.43445277e-04]\n",
      "Actual mu differences:\n",
      "[-0.00030444 -0.00235516 -0.00735512]\n",
      "Predicted sigma differences:\n",
      "[[8.76560699e-11 6.77772394e-10 2.11908112e-09]\n",
      " [6.77772394e-10 5.24065769e-09 1.63851163e-08]\n",
      " [2.11908112e-09 1.63851163e-08 5.12286895e-08]]\n",
      "Actual sigma differences:\n",
      "[[9.45669713e-08 7.31584245e-07 2.28446229e-06]\n",
      " [7.31584245e-07 5.65931792e-06 1.76737509e-05]\n",
      " [2.28446229e-06 1.76737509e-05 5.51946612e-05]]\n"
     ]
    }
   ],
   "source": [
    "# Look at the differences.\n",
    "pred_diff = get_norm_param_diff(\n",
    "    pred_norm_param_dict, opt_norm_param_dict)\n",
    "true_diff = get_norm_param_diff(\n",
    "    new_norm_param_dict, opt_norm_param_dict)\n",
    "for param in ['mu', 'sigma']:\n",
    "    print('Predicted {} differences:\\n{}'.format(param, pred_diff[param]))\n",
    "    print('Actual {} differences:\\n{}'.format(param, true_diff[param]))\n"
   ]
  },
  {
   "cell_type": "code",
   "execution_count": 11,
   "metadata": {
    "collapsed": true
   },
   "outputs": [],
   "source": [
    "# Sensitivity to data weights.\n",
    "model.prior_dict = orig_prior_dict\n",
    "model.weights = orig_weights\n",
    "weight_sens = \\\n",
    "    paragami.HyperparameterSensitivityLinearApproximation(\n",
    "        objective_fun=model.get_loss_by_weights,\n",
    "        opt_par_pattern=norm_pattern,\n",
    "        hyper_par_pattern=weight_pattern,\n",
    "        opt_par_folded_value=opt_norm_param_dict,\n",
    "        hyper_par_folded_value=orig_weights,\n",
    "        validate_optimum=False,\n",
    "        opt_par_is_free=True,\n",
    "        hyper_par_is_free=False)\n"
   ]
  },
  {
   "cell_type": "code",
   "execution_count": 16,
   "metadata": {},
   "outputs": [
    {
     "name": "stdout",
     "output_type": "stream",
     "text": [
      "Warning: A bad approximation caused failure to predict improvement.\n",
      "         Current function value: 61.428577\n",
      "         Iterations: 7\n",
      "         Function evaluations: 9\n",
      "         Gradient evaluations: 8\n",
      "         Hessian evaluations: 8\n",
      "Predicted mu differences:\n",
      "[-0.00097272  0.0014095  -0.00779786]\n",
      "Actual mu differences:\n",
      "[-0.00097859  0.00141801 -0.00784493]\n",
      "Predicted sigma differences:\n",
      "[[-0.00050164  0.00077615 -0.00224773]\n",
      " [ 0.00077615  0.00481816  0.00155291]\n",
      " [-0.00224773  0.00155291 -0.00174182]]\n",
      "Actual sigma differences:\n",
      "[[-0.00050893  0.00078918 -0.00228297]\n",
      " [ 0.00078918  0.00479762  0.00164688]\n",
      " [-0.00228297  0.00164688 -0.00194664]]\n"
     ]
    }
   ],
   "source": [
    "# Change the weights.\n",
    "obs = [ 15, 20, 50 ]\n",
    "new_weights = np.ones(num_obs)\n",
    "new_weights[obs] = 0.0\n",
    "\n",
    "# Make sure we use the original prior.\n",
    "model.prior_dict = orig_prior_dict\n",
    "\n",
    "# Get the linear prediction at the new prior.\n",
    "pred_norm_param_dict = \\\n",
    "    weight_sens.predict_opt_par_from_hyper_par(new_weights)\n",
    "\n",
    "# Re-optimize to check the prior sensitivity.\n",
    "model.weights = new_weights\n",
    "new_opt_par = get_optimum(mle_opt.x)\n",
    "new_norm_param_dict = norm_pattern.fold(new_opt_par.x, free=True)\n",
    "\n",
    "# Look at the differences.\n",
    "pred_diff = get_norm_param_diff(pred_norm_param_dict, opt_norm_param_dict)\n",
    "true_diff = get_norm_param_diff(new_norm_param_dict, opt_norm_param_dict)\n",
    "for param in ['mu', 'sigma']:\n",
    "    print('Predicted {} differences:\\n{}'.format(param, pred_diff[param]))\n",
    "    print('Actual {} differences:\\n{}'.format(param, true_diff[param]))"
   ]
  }
 ],
 "metadata": {
  "kernelspec": {
   "display_name": "Python 3",
   "language": "python",
   "name": "python3"
  },
  "language_info": {
   "codemirror_mode": {
    "name": "ipython",
    "version": 3
   },
   "file_extension": ".py",
   "mimetype": "text/x-python",
   "name": "python",
   "nbconvert_exporter": "python",
   "pygments_lexer": "ipython3",
   "version": "3.5.2"
  }
 },
 "nbformat": 4,
 "nbformat_minor": 2
}
