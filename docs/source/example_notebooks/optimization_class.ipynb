{
 "cells": [
  {
   "cell_type": "markdown",
   "metadata": {},
   "source": [
    "# Optimization Objectives."
   ]
  },
  {
   "cell_type": "markdown",
   "metadata": {},
   "source": [
    "When using ``paragami``, a typical workflow is as follows:\n",
    "\n",
    "1. Define an objective function.\n",
    "2. Define parameter patterns for the input to the objective function.\n",
    "3. Flatten the input of the objective function. \n",
    "4. Use ``autograd`` to define derivatives of the flat objective.\n",
    "5. Optimize.\n",
    "\n",
    "To help reduce the boilerplate in step 4, ``paragami`` provides an ``OptimizationObjective`` class.  In addition to defining all the ``autograd`` derivatives, optimization objectives also provide basic logging and progress displays."
   ]
  },
  {
   "cell_type": "code",
   "execution_count": 1,
   "metadata": {
    "collapsed": true
   },
   "outputs": [],
   "source": [
    "import autograd\n",
    "import autograd.numpy as np\n",
    "import scipy as sp\n",
    "import example_utils\n",
    "import matplotlib.pyplot as plt\n",
    "import paragami\n",
    "import time\n",
    "\n",
    "%matplotlib inline"
   ]
  },
  {
   "cell_type": "markdown",
   "metadata": {},
   "source": [
    "### Problem setup."
   ]
  },
  {
   "cell_type": "markdown",
   "metadata": {},
   "source": [
    "Let us consider again the multivariate normal objective.  The functionality in this section is described in previous notebooks.\n",
    "\n",
    "First, define some parameters and draw data."
   ]
  },
  {
   "cell_type": "code",
   "execution_count": 2,
   "metadata": {},
   "outputs": [
    {
     "data": {
      "text/plain": [
       "[<matplotlib.lines.Line2D at 0x7f030ffdeda0>]"
      ]
     },
     "execution_count": 2,
     "metadata": {},
     "output_type": "execute_result"
    },
    {
     "data": {
      "image/png": "[encoded data removed]",
      "text/plain": [
       "<Figure size 432x288 with 1 Axes>"
      ]
     },
     "metadata": {},
     "output_type": "display_data"
    }
   ],
   "source": [
    "dim = 2\n",
    "num_obs = 1000\n",
    "\n",
    "mean_true = np.random.random(dim)\n",
    "cov_true = np.random.random((dim, dim))\n",
    "cov_true = 0.1 * np.eye(dim) + np.full((dim, dim), 1.0)\n",
    "\n",
    "x = np.random.multivariate_normal(mean=mean_true, cov=cov_true, size=(num_obs, ))\n",
    "plt.plot(x[:, 0], x[:, 1], 'k.')"
   ]
  },
  {
   "cell_type": "markdown",
   "metadata": {},
   "source": [
    "Define ``paragami`` patterns and a loss function."
   ]
  },
  {
   "cell_type": "code",
   "execution_count": 3,
   "metadata": {
    "collapsed": true
   },
   "outputs": [],
   "source": [
    "mvn_pattern = paragami.PatternDict(free_default=True)\n",
    "mvn_pattern['mean'] = paragami.NumericVectorPattern(length=dim)\n",
    "mvn_pattern['cov'] = paragami.PSDSymmetricMatrixPattern(size=dim)\n",
    "\n",
    "# ``example_utils.get_normal_log_prob`` returns the log probability of\n",
    "# each datapoint x up to a constant.\n",
    "def get_loss(x, sigma, mu):\n",
    "    return -1 * np.sum(\n",
    "        example_utils.get_normal_log_prob(x, sigma, mu))\n",
    "       \n",
    "get_free_loss = paragami.FlattenFunctionInput(\n",
    "    lambda mvn_par: get_loss(x=x, sigma=mvn_par['cov'], mu=mvn_par['mean']),\n",
    "    patterns=mvn_pattern,\n",
    "    free=True)\n",
    "\n",
    "mvn_par = mvn_pattern.random()\n",
    "mvn_free = mvn_pattern.flatten(mvn_par)"
   ]
  },
  {
   "cell_type": "markdown",
   "metadata": {},
   "source": [
    "## Optimization objectives."
   ]
  },
  {
   "cell_type": "markdown",
   "metadata": {},
   "source": [
    "We can use ``get_free_loss`` to define an optimization objective and pass it to ``scipy.optimize.minimize``."
   ]
  },
  {
   "cell_type": "code",
   "execution_count": 4,
   "metadata": {},
   "outputs": [],
   "source": [
    "objective = paragami.OptimizationObjective(get_free_loss)\n",
    "\n",
    "def Optimize(objective, x0=np.zeros(mvn_pattern.flat_length())):\n",
    "    opt_result = sp.optimize.minimize(\n",
    "        x0=x0,\n",
    "        fun=objective.f,\n",
    "        jac=objective.grad,\n",
    "        hessp=objective.hessian_vector_product,\n",
    "        method='trust-ncg')\n",
    "    return opt_result"
   ]
  },
  {
   "cell_type": "markdown",
   "metadata": {},
   "source": [
    "### Controlling printing.\n",
    "\n",
    "The frequency of printing can be controlled with ``set_print_every()``, and the count can be reset with ``reset()``."
   ]
  },
  {
   "cell_type": "code",
   "execution_count": 5,
   "metadata": {},
   "outputs": [
    {
     "name": "stdout",
     "output_type": "stream",
     "text": [
      "\n",
      "Optimizing:\n",
      "Iter 0: f = 1290.22412134\n",
      "Iter 1: f = 539.49481319\n",
      "Iter 2: f = 449.15367362\n",
      "Iter 3: f = 272.45823141\n",
      "Iter 4: f = 255.05895262\n",
      "Iter 5: f = 254.63015576\n",
      "Iter 6: f = 254.47898697\n",
      "Iter 7: f = 254.47819241\n",
      "Iter 8: f = 254.47818845\n",
      "Iter 9: f = 254.47818845\n",
      "Optimization terminated successfully.\n",
      "\n",
      "Optimizing printing less:\n",
      "Iter 0: f = 1290.22412134\n",
      "Iter 5: f = 254.63015576\n",
      "Optimization terminated successfully.\n",
      "\n",
      "Optimizing without reset:\n",
      "Iter 10: f = 1290.22412134\n",
      "Iter 15: f = 254.63015576\n",
      "Optimization terminated successfully.\n",
      "\n",
      "Optimizing without printing:\n",
      "Optimization terminated successfully.\n"
     ]
    }
   ],
   "source": [
    "print('\\nOptimizing:')\n",
    "opt_result = Optimize(objective)\n",
    "print(opt_result.message)\n",
    "\n",
    "print('\\nOptimizing printing less:')\n",
    "objective.reset()\n",
    "objective.set_print_every(5)\n",
    "opt_result = Optimize(objective)\n",
    "print(opt_result.message)\n",
    "\n",
    "print('\\nOptimizing without reset:')\n",
    "opt_result = Optimize(objective)\n",
    "print(opt_result.message)\n",
    "\n",
    "print('\\nOptimizing without printing:')\n",
    "objective.set_print_every(0)\n",
    "opt_result = Optimize(objective)\n",
    "print(opt_result.message)\n"
   ]
  },
  {
   "cell_type": "markdown",
   "metadata": {},
   "source": [
    "### Accessing derivatives.\n",
    "\n",
    "The function value and derivatives are methods of the optimization objective.  Under the hood, all the derivatives are calcualted with ``autograd``."
   ]
  },
  {
   "cell_type": "code",
   "execution_count": 6,
   "metadata": {},
   "outputs": [
    {
     "name": "stdout",
     "output_type": "stream",
     "text": [
      "f() evaluates the objective:\n",
      "254.47818844774238 = 254.47818844774238\n",
      "\n",
      "grad() evaluates the gradient:\n",
      "[-9.38462682e-07 -8.28401150e-07  1.12731491e-06 -9.35645267e-07\n",
      "  3.23708426e-06]\n",
      "\n",
      "hessian() evaluates the Hessian matrix:\n",
      "[[ 4.80152064e+03 -4.37310150e+03  9.83363903e-06 -6.91901344e-06\n",
      "  -1.47624300e-06]\n",
      " [-4.37310150e+03  4.90797543e+03 -8.10149773e-06  8.64973804e-06\n",
      "   1.65680224e-06]\n",
      " [ 9.83363896e-06 -8.10149785e-06  6.30553475e+03 -4.59689665e+03\n",
      "  -1.75268882e-06]\n",
      " [-6.91901349e-06  8.64973810e-06 -4.59689665e+03  4.90797543e+03\n",
      "   1.87129286e-06]\n",
      " [-1.47624310e-06  1.65680237e-06 -1.75268281e-06  1.87129159e-06\n",
      "   1.99999999e+03]]\n",
      "\n",
      "hessian_vector_product() evaluates the Hessian-vector product:\n",
      "[-8.83365609e-04  3.82200615e-05  1.14093879e-02 -9.77427408e-03\n",
      "  6.47416850e-03]\n"
     ]
    }
   ],
   "source": [
    "opt_x = opt_result.x\n",
    "\n",
    "print('f() evaluates the objective:\\n{} = {}'.format(\n",
    "    objective.f(opt_x), get_free_loss(opt_x)))\n",
    "\n",
    "grad = objective.grad(opt_x)\n",
    "print('\\ngrad() evaluates the gradient:\\n{}'.format(grad))\n",
    "\n",
    "print('\\nhessian() evaluates the Hessian matrix:\\n{}'.format(objective.hessian(opt_x)))\n",
    "\n",
    "print('\\nhessian_vector_product() evaluates the Hessian-vector product:\\n{}'.format(\n",
    "    objective.hessian_vector_product(opt_x, grad)))"
   ]
  },
  {
   "cell_type": "markdown",
   "metadata": {},
   "source": [
    "### Logging.\n",
    "\n",
    "By default, an optimization objective does no logging.  But by using ``set_log_every`` with a number larger than ``0``, a log of the values is kept."
   ]
  },
  {
   "cell_type": "code",
   "execution_count": 7,
   "metadata": {},
   "outputs": [
    {
     "name": "stdout",
     "output_type": "stream",
     "text": [
      "\n",
      "Optimizing with logging:\n",
      "Optimization terminated successfully.\n"
     ]
    }
   ],
   "source": [
    "print('\\nOptimizing with logging:')\n",
    "objective.reset()\n",
    "objective.set_print_every(0)\n",
    "objective.set_log_every(2)\n",
    "opt_result = Optimize(objective)\n",
    "print(opt_result.message)"
   ]
  },
  {
   "cell_type": "markdown",
   "metadata": {},
   "source": [
    "The log is contained in the attribute ``optimization_log``.  By default, each entry in the log is a tuple containing the iteration number, argument, and function value."
   ]
  },
  {
   "cell_type": "code",
   "execution_count": 8,
   "metadata": {},
   "outputs": [
    {
     "name": "stdout",
     "output_type": "stream",
     "text": [
      "(0, array([0., 0., 0., 0., 0.]), 1290.2241213426291)\n",
      "(2, array([ 0.09798938,  0.57638205,  0.10194361,  0.92848007, -1.16334881]), 449.1536736241908)\n",
      "(4, array([ 0.10983197,  0.58725075,  0.05844622,  0.94244548, -0.80874364]), 255.05895261654913)\n",
      "(6, array([ 0.13464741,  0.61326864,  0.04907768,  0.9356453 , -0.7953923 ]), 254.47898697444145)\n",
      "(8, array([ 0.13480492,  0.61343579,  0.04990915,  0.93661793, -0.79543076]), 254.4781884477883)\n"
     ]
    },
    {
     "data": {
      "text/plain": [
       "Text(0.5, 0, 'Difference from optimum')"
      ]
     },
     "execution_count": 8,
     "metadata": {},
     "output_type": "execute_result"
    },
    {
     "data": {
      "image/png": "[encoded data removed]",
      "text/plain": [
       "<Figure size 432x288 with 1 Axes>"
      ]
     },
     "metadata": {},
     "output_type": "display_data"
    }
   ],
   "source": [
    "for log_entry in objective.optimization_log:\n",
    "    print(log_entry)\n",
    "\n",
    "plt.plot(\n",
    "    [ entry[0] for entry in objective.optimization_log],\n",
    "    [ entry[2] - opt_result.fun for entry in objective.optimization_log])\n",
    "plt.xlabel('Iteration')\n",
    "plt.xlabel('Difference from optimum')"
   ]
  },
  {
   "cell_type": "markdown",
   "metadata": {},
   "source": [
    "The method ``reset()`` clears the log as well as the iteration count.  Note that you can clear the log only using ``reset_log()`` and clear the iteration count only using ``reset_iteration_count()``."
   ]
  },
  {
   "cell_type": "code",
   "execution_count": 9,
   "metadata": {},
   "outputs": [
    {
     "name": "stdout",
     "output_type": "stream",
     "text": [
      "[]\n"
     ]
    }
   ],
   "source": [
    "objective.reset()\n",
    "print(objective.optimization_log)"
   ]
  },
  {
   "cell_type": "markdown",
   "metadata": {},
   "source": [
    "### Overloading.\n",
    "\n",
    "Both the logging and progress methods can be overloaded to provide custom behavior."
   ]
  },
  {
   "cell_type": "code",
   "execution_count": 17,
   "metadata": {},
   "outputs": [],
   "source": [
    "class CustomObjective(paragami.OptimizationObjective):\n",
    "    def print_value(self, num_f_evals, x, f_val):\n",
    "        grad = objective.grad(x)\n",
    "        print('Iteration {}: gradient norm = {:0.8f}'.format(\n",
    "            num_f_evals, np.linalg.norm(grad)))\n",
    "\n",
    "    def log_value(self, num_f_evals, x, f_val):\n",
    "        grad = self.grad(x)\n",
    "        self.optimization_log.append((num_f_evals, np.linalg.norm(grad)))\n",
    "\n",
    "custom_objective = CustomObjective(get_free_loss)"
   ]
  },
  {
   "cell_type": "code",
   "execution_count": 22,
   "metadata": {},
   "outputs": [
    {
     "name": "stdout",
     "output_type": "stream",
     "text": [
      "\n",
      "Optimizing with custom printing and logging:\n",
      "Iteration 0: gradient norm = 1325.81210303\n",
      "Iteration 1: gradient norm = 822.69307418\n",
      "Iteration 2: gradient norm = 1380.15778047\n",
      "Iteration 3: gradient norm = 343.45510333\n",
      "Iteration 4: gradient norm = 44.95265409\n",
      "Iteration 5: gradient norm = 14.74702496\n",
      "Iteration 6: gradient norm = 1.23658409\n",
      "Iteration 7: gradient norm = 0.09246396\n",
      "Iteration 8: gradient norm = 0.00029502\n",
      "Iteration 9: gradient norm = 0.00000377\n",
      "Optimization terminated successfully.\n"
     ]
    },
    {
     "data": {
      "text/plain": [
       "Text(0.5, 0, 'Log gradient norm')"
      ]
     },
     "execution_count": 22,
     "metadata": {},
     "output_type": "execute_result"
    },
    {
     "data": {
      "image/png": "[encoded data removed]",
      "text/plain": [
       "<Figure size 432x288 with 1 Axes>"
      ]
     },
     "metadata": {},
     "output_type": "display_data"
    }
   ],
   "source": [
    "print('\\nOptimizing with custom printing and logging:')\n",
    "custom_objective.reset()\n",
    "custom_objective.set_print_every(1)\n",
    "custom_objective.set_log_every(1)\n",
    "opt_result = Optimize(custom_objective)\n",
    "print(opt_result.message)\n",
    "\n",
    "plt.plot(\n",
    "    [ entry[0] for entry in custom_objective.optimization_log],\n",
    "    np.log([ entry[1] for entry in custom_objective.optimization_log]))\n",
    "plt.xlabel('Iteration')\n",
    "plt.xlabel('Log gradient norm')"
   ]
  }
 ],
 "metadata": {
  "kernelspec": {
   "display_name": "Python 3",
   "language": "python",
   "name": "python3"
  },
  "language_info": {
   "codemirror_mode": {
    "name": "ipython",
    "version": 3
   },
   "file_extension": ".py",
   "mimetype": "text/x-python",
   "name": "python",
   "nbconvert_exporter": "python",
   "pygments_lexer": "ipython3",
   "version": "3.5.2"
  }
 },
 "nbformat": 4,
 "nbformat_minor": 2
}
