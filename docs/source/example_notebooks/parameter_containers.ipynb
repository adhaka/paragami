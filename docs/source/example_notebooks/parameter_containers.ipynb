{
 "cells": [
  {
   "cell_type": "markdown",
   "metadata": {},
   "source": [
    "# Parameter containers."
   ]
  },
  {
   "cell_type": "markdown",
   "metadata": {},
   "source": [
    "Many models depend on several parameters of different types.  In this notebook, we demonstrate flattening and folding \"containers\", which are patterns containing other patterns."
   ]
  },
  {
   "cell_type": "markdown",
   "metadata": {},
   "source": [
    "## Parameter dictionaries."
   ]
  },
  {
   "cell_type": "code",
   "execution_count": 1,
   "metadata": {
    "collapsed": true
   },
   "outputs": [],
   "source": [
    "import autograd\n",
    "import autograd.numpy as np\n",
    "import example_utils\n",
    "import matplotlib.pyplot as plt\n",
    "import paragami\n",
    "import time\n",
    "\n",
    "%matplotlib inline"
   ]
  },
  {
   "cell_type": "markdown",
   "metadata": {},
   "source": [
    "Let's consider a multivariate normal example.  Define some parameters and draw some data."
   ]
  },
  {
   "cell_type": "code",
   "execution_count": 2,
   "metadata": {},
   "outputs": [
    {
     "data": {
      "text/plain": [
       "[<matplotlib.lines.Line2D at 0x7f6a3bd86dd8>]"
      ]
     },
     "execution_count": 2,
     "metadata": {},
     "output_type": "execute_result"
    },
    {
     "data": {
      "image/png": "[encoded data removed]",
      "text/plain": [
       "<Figure size 432x288 with 1 Axes>"
      ]
     },
     "metadata": {},
     "output_type": "display_data"
    }
   ],
   "source": [
    "dim = 2\n",
    "num_obs = 1000\n",
    "\n",
    "mean_true = np.random.random(dim)\n",
    "cov_true = np.random.random((dim, dim))\n",
    "cov_true = 0.1 * np.eye(dim) + np.full((dim, dim), 1.0)\n",
    "\n",
    "x = np.random.multivariate_normal(mean=mean_true, cov=cov_true, size=(num_obs, ))\n",
    "plt.plot(x[:, 0], x[:, 1], 'k.')"
   ]
  },
  {
   "cell_type": "markdown",
   "metadata": {},
   "source": [
    "A multivariate normal distribution depends on two parameters -- a mean and a positive definite covariance matrix. In Python, we might store these parameters in a dictionary with a member for the mean and a member for the covariance.  \n",
    "\n",
    "This can be represented with a pattern dictionary, i.e., a ``paragami.PatternDict`` pattern.  Each member of a pattern dictionary must itself be a pattern."
   ]
  },
  {
   "cell_type": "code",
   "execution_count": 3,
   "metadata": {
    "collapsed": true
   },
   "outputs": [],
   "source": [
    "mvn_pattern = paragami.PatternDict(free_default=True)\n",
    "mvn_pattern['mean'] = paragami.NumericVectorPattern(length=dim)\n",
    "mvn_pattern['cov'] = paragami.PSDSymmetricMatrixPattern(size=dim)"
   ]
  },
  {
   "cell_type": "markdown",
   "metadata": {},
   "source": [
    "Flattening and folding work with pattern dictionaries just as with ordinary patterns.  Note that folded pattern dicitonaries are ``OrderedDict`` by default."
   ]
  },
  {
   "cell_type": "code",
   "execution_count": 36,
   "metadata": {},
   "outputs": [
    {
     "name": "stdout",
     "output_type": "stream",
     "text": [
      "\n",
      "A dictionary of MVN parameters:\n",
      "{'cov': array([[1.1, 1. ],\n",
      "       [1. , 1.1]]), 'mean': array([0.87367236, 0.21280422])}\n",
      "\n",
      "A flat representation:\n",
      "[ 0.87367236  0.21280422  0.04765509  0.95346259 -0.82797896]\n",
      "\n",
      "Folding recovers the original parameters:\n",
      "OrderedDict([('mean', array([0.87367236, 0.21280422])), ('cov', array([[1.1, 1. ],\n",
      "       [1. , 1.1]]))])\n"
     ]
    }
   ],
   "source": [
    "true_mvn_par = dict()\n",
    "true_mvn_par['mean'] = mean_true\n",
    "true_mvn_par['cov'] = cov_true\n",
    "\n",
    "print('\\nA dictionary of MVN parameters:\\n{}'.format(\n",
    "      true_mvn_par))\n",
    "\n",
    "mvn_par_free = mvn_pattern.flatten(true_mvn_par)\n",
    "print('\\nA flat representation:\\n{}'.format(\n",
    "    mvn_pattern.flatten(true_mvn_par)))\n",
    "\n",
    "print('\\nFolding recovers the original parameters:\\n{}'.format(\n",
    "    mvn_pattern.fold(mvn_par_free)))"
   ]
  },
  {
   "cell_type": "markdown",
   "metadata": {},
   "source": [
    "Parameter dictionaries are particularly convenient for optimization problems involving multiple parameters.  A good working style is to implement the loss function using named arguments and then wrap it using a lambda function.\n",
    "\n",
    "To illustrate this, let us use ``get_normal_log_prob`` from ``example_utils``."
   ]
  },
  {
   "cell_type": "code",
   "execution_count": 6,
   "metadata": {},
   "outputs": [
    {
     "name": "stdout",
     "output_type": "stream",
     "text": [
      "Free loss:\t219.8143711666299\n",
      "Original loss:\t219.8143711666299\n"
     ]
    }
   ],
   "source": [
    "# ``example_utils.get_normal_log_prob`` returns the log probability of\n",
    "# each datapoint x up to a constant.\n",
    "def get_loss(x, sigma, mu):\n",
    "    return -1 * np.sum(\n",
    "        example_utils.get_normal_log_prob(x, sigma, mu))\n",
    "       \n",
    "get_free_loss = paragami.FlattenFunctionInput(\n",
    "    lambda mvn_par: get_loss(x=x, sigma=mvn_par['cov'], mu=mvn_par['mean']),\n",
    "    patterns=mvn_pattern,\n",
    "    free=True)\n",
    "\n",
    "print('Free loss:\\t{}'.format(get_free_loss(mvn_par_free)))\n",
    "print('Original loss:\\t{}'.format(get_loss(x, true_mvn_par['cov'], true_mvn_par['mean'])))"
   ]
  },
  {
   "cell_type": "markdown",
   "metadata": {},
   "source": [
    "As with other parameters, ``autograd`` works with parameter dictionaries."
   ]
  },
  {
   "cell_type": "code",
   "execution_count": 7,
   "metadata": {},
   "outputs": [
    {
     "name": "stdout",
     "output_type": "stream",
     "text": [
      "[-59.66882221  78.5304     -24.49767189 -12.36127117  36.00719091]\n"
     ]
    }
   ],
   "source": [
    "get_free_loss_grad = autograd.grad(get_free_loss)\n",
    "print(get_free_loss_grad(mvn_par_free))"
   ]
  },
  {
   "cell_type": "markdown",
   "metadata": {},
   "source": [
    "### Pattern dictionaries containing pattern dictionaries."
   ]
  },
  {
   "cell_type": "markdown",
   "metadata": {},
   "source": [
    "Pattern dictionaries can contain pattern dictionaries (and so on)."
   ]
  },
  {
   "cell_type": "code",
   "execution_count": 34,
   "metadata": {},
   "outputs": [
    {
     "name": "stdout",
     "output_type": "stream",
     "text": [
      "Folded mvns_par:\n",
      "{'mvn1': {'cov': array([[1.1, 1. ],\n",
      "       [1. , 1.1]]), 'mean': array([0.87367236, 0.21280422])}, 'mvn2': OrderedDict([('mean', array([0.9666736 , 0.24848757])), ('cov', array([[4.77849291, 1.56784344],\n",
      "       [1.56784344, 1.84355085]]))]), 'ez': array([[0.3, 0.7]])}\n",
      "\n",
      "Free mvns_par:\n",
      "[ 0.87367236  0.21280422  0.04765509  0.95346259 -0.82797896  0.9666736\n",
      "  0.24848757  0.7820626   0.71722798  0.14226413  0.84729786]\n"
     ]
    }
   ],
   "source": [
    "mvns_pattern = paragami.PatternDict(free_default=True)\n",
    "mvns_pattern['mvn1'] = mvn_pattern\n",
    "mvns_pattern['mvn2'] = mvn_pattern\n",
    "mvns_pattern['ez'] = paragami.SimplexArrayPattern(array_shape=(1, ), simplex_size=2)\n",
    "\n",
    "mvns_par = dict()\n",
    "mvns_par['mvn1'] = true_mvn_par\n",
    "mvns_par['mvn2'] = mvn_pattern.random()\n",
    "mvns_par['ez'] = np.array([[0.3, 0.7]])\n",
    "\n",
    "print('Folded mvns_par:\\n{}'.format(mvns_par))\n",
    "print('\\nFree mvns_par:\\n{}'.format(mvns_pattern.flatten(mvns_par)))"
   ]
  },
  {
   "cell_type": "markdown",
   "metadata": {},
   "source": [
    "Members of a pattern dictionary are just patterns, and can be used directly."
   ]
  },
  {
   "cell_type": "code",
   "execution_count": 37,
   "metadata": {},
   "outputs": [
    {
     "name": "stdout",
     "output_type": "stream",
     "text": [
      "\n",
      "A flat representation of true_mvn_par:\n",
      "[ 0.87367236  0.21280422  0.04765509  0.95346259 -0.82797896]\n"
     ]
    }
   ],
   "source": [
    "mvn_par_free = mvns_pattern['mvn1'].flatten(true_mvn_par)\n",
    "print('\\nA flat representation of true_mvn_par:\\n{}'.format(\n",
    "    mvn_pattern.flatten(true_mvn_par)))"
   ]
  },
  {
   "cell_type": "markdown",
   "metadata": {},
   "source": [
    "### Locking parameter dictionaries."
   ]
  },
  {
   "cell_type": "markdown",
   "metadata": {},
   "source": [
    "The meaning of a parameter dictionary changes as you add or assign elements."
   ]
  },
  {
   "cell_type": "code",
   "execution_count": 40,
   "metadata": {},
   "outputs": [
    {
     "name": "stdout",
     "output_type": "stream",
     "text": [
      "The flat length of example_pattern with par1:\t\t\t2\n",
      "The flat length of example_pattern with par1 and par2:\t\t5\n",
      "The flat length of example_pattern with new par1 and par2:\t13\n"
     ]
    }
   ],
   "source": [
    "example_pattern = paragami.PatternDict(free_default=True)\n",
    "\n",
    "example_pattern['par1'] = paragami.NumericVectorPattern(length=2)\n",
    "print('The flat length of example_pattern with par1:\\t\\t\\t{}'.format(\n",
    "    example_pattern.flat_length()))\n",
    "\n",
    "example_pattern['par2'] = paragami.NumericVectorPattern(length=3)\n",
    "print('The flat length of example_pattern with par1 and par2:\\t\\t{}'.format(\n",
    "    example_pattern.flat_length()))\n",
    "\n",
    "example_pattern['par1'] = paragami.NumericVectorPattern(length=10)\n",
    "print('The flat length of example_pattern with new par1 and par2:\\t{}'.format(\n",
    "    example_pattern.flat_length()))\n"
   ]
  },
  {
   "cell_type": "markdown",
   "metadata": {},
   "source": [
    "Sometime, you want to make sure the meaning of a parameter dictionary stays fixed.  In order to prevent a pattern dictionary from having more elements added, you can ``lock()`` it."
   ]
  },
  {
   "cell_type": "code",
   "execution_count": 43,
   "metadata": {},
   "outputs": [
    {
     "name": "stdout",
     "output_type": "stream",
     "text": [
      "Adding a new pattern failed with the following error:\n",
      "The dictionary is locked, and its values cannot be changed.\n",
      "\n",
      "Changing an existing pattern failed with the following error:\n",
      "The dictionary is locked, and its values cannot be changed.\n"
     ]
    }
   ],
   "source": [
    "example_pattern.lock()\n",
    "try:\n",
    "    example_pattern['par3'] = paragami.NumericVectorPattern(length=4)\n",
    "except ValueError as err:\n",
    "    print('Adding a new pattern failed with the following error:\\n{}'.format(err))\n",
    "\n",
    "try:\n",
    "    example_pattern['par1'] = paragami.NumericVectorPattern(length=4)\n",
    "except ValueError as err:\n",
    "    print('\\nChanging an existing pattern failed with the following error:\\n{}'.format(err))"
   ]
  },
  {
   "cell_type": "markdown",
   "metadata": {},
   "source": [
    "## Parameter arrays."
   ]
  },
  {
   "cell_type": "markdown",
   "metadata": {},
   "source": [
    "Sometimes it is useful to have arrays of patterns.  A classic use case is mixture distributions.  Suppose that, for some $K$, and probabilities $\\pi_{k}$ for $k=1$ to $K$,\n",
    "\n",
    "$$\n",
    "\\begin{align}\n",
    "P(y_n | \\pi, \\mu_1,...,\\mu_K, \\Sigma_1,...,\\Sigma_K) &= \\sum_{k=1}^K \\pi_{k} \\mathcal{N}\\left(y_n | \\mu_k, \\Sigma_k\\right).\n",
    "\\end{align}\n",
    "$$\n",
    "\n",
    "Then the random variable $y_n$ is distributed according to a mixture of normals.  Let us define parameters and draw some data."
   ]
  },
  {
   "cell_type": "code",
   "execution_count": 64,
   "metadata": {},
   "outputs": [
    {
     "data": {
      "image/png": "[encoded data removed]",
      "text/plain": [
       "<Figure size 432x288 with 1 Axes>"
      ]
     },
     "metadata": {},
     "output_type": "display_data"
    }
   ],
   "source": [
    "num_components = 4\n",
    "prob_true = np.arange(1, num_components + 1)\n",
    "prob_true = prob_true / np.sum(prob_true)\n",
    "\n",
    "k_true = np.random.choice(range(num_components), p=prob_true, size=num_obs)\n",
    "\n",
    "means_true = np.array([\n",
    "    np.full(dim, float(k)) for k in range(num_components) ])\n",
    "\n",
    "covs_true = np.array([\n",
    "    0.1 * (k + 1) * np.eye(dim) for k in range(num_components) ])\n",
    "\n",
    "y = np.array([\n",
    "    np.random.multivariate_normal(\n",
    "        means_true[k_true[n], :],\n",
    "        covs_true[k_true[n], :, :]) for n in range(num_obs) ])\n",
    "\n",
    "for k in range(num_components):\n",
    "    k_rows = k_true == k\n",
    "    plt.plot(y[k_rows, 0], y[k_rows, 1], '.')"
   ]
  },
  {
   "cell_type": "markdown",
   "metadata": {},
   "source": [
    "To define parameters for the mixture, we have defined arrays of shape ``(num_components, )`` containing the means and covariances.  The means can be represented with an orderinary ``NumericArrayPattern``.  But to represent the array of covariances with ``paragami``, we can use pattern arrays, i.e, ``paragami.PatternArray``."
   ]
  },
  {
   "cell_type": "code",
   "execution_count": 79,
   "metadata": {},
   "outputs": [
    {
     "name": "stdout",
     "output_type": "stream",
     "text": [
      "Folding recovers the true mixture parameters:\n",
      "OrderedDict([('prob', array([[0.1, 0.2, 0.3, 0.4]])), ('means', array([[0., 0.],\n",
      "       [1., 1.],\n",
      "       [2., 2.],\n",
      "       [3., 3.]])), ('covs', array([[[0.1, 0. ],\n",
      "        [0. , 0.1]],\n",
      "\n",
      "       [[0.2, 0. ],\n",
      "        [0. , 0.2]],\n",
      "\n",
      "       [[0.3, 0. ],\n",
      "        [0. , 0.3]],\n",
      "\n",
      "       [[0.4, 0. ],\n",
      "        [0. , 0.4]]]))])\n"
     ]
    }
   ],
   "source": [
    "mix_pattern = paragami.PatternDict(free_default=True)\n",
    "mix_pattern['prob'] = paragami.SimplexArrayPattern(\n",
    "    array_shape=(1, ), simplex_size=num_components)\n",
    "mix_pattern['means'] = paragami.NumericArrayPattern(shape=(num_components, dim))\n",
    "mix_pattern['covs'] = paragami.PatternArray(\n",
    "    array_shape=(num_components, ),\n",
    "    base_pattern=paragami.PSDSymmetricMatrixPattern(size=dim))\n",
    "\n",
    "true_mix_par = dict()\n",
    "true_mix_par['means'] = means_true\n",
    "true_mix_par['covs'] = covs_true\n",
    "true_mix_par['prob'] = np.expand_dims(prob_true, axis=0)\n",
    "\n",
    "true_mix_free = mix_pattern.flatten(true_mix_par)\n",
    "print('Folding recovers the true mixture parameters:\\n{}'.format(\n",
    "    mix_pattern.fold(true_mix_free)))"
   ]
  },
  {
   "cell_type": "markdown",
   "metadata": {},
   "source": [
    "Pattern arrays have some limitations.  For one, they can only contain numeric types.  This means you cannot have arrays of pattern dictionaries."
   ]
  },
  {
   "cell_type": "code",
   "execution_count": 76,
   "metadata": {},
   "outputs": [
    {
     "name": "stdout",
     "output_type": "stream",
     "text": [
      "Attempting to create a PatternArray of PatternDicts failed with the error:\n",
      "PatternArray does not support patterns whose folded values are not numpy.ndarray types.\n"
     ]
    }
   ],
   "source": [
    "example_pattern = paragami.PatternDict()\n",
    "example_pattern['a'] = paragami.NumericVectorPattern(length=2)\n",
    "\n",
    "try:\n",
    "    paragami.PatternArray(array_shape=(2, ), base_pattern=example_pattern)\n",
    "except NotImplementedError as err:\n",
    "    print('Attempting to create a PatternArray of PatternDicts failed with the error:\\n{}'.format(\n",
    "          err))"
   ]
  },
  {
   "cell_type": "markdown",
   "metadata": {},
   "source": [
    "Also, under the hood, ``PatternArray`` types fold and flatten using a for loop over the array elements.  For this reason, it is more effecient to use a different type if possible.  \n",
    "\n",
    "In particular, ``SimplexArray`` patterns will be more efficient than a ``PatternArray`` of ``SimplexArray``, as the following example shows."
   ]
  },
  {
   "cell_type": "code",
   "execution_count": 108,
   "metadata": {},
   "outputs": [
    {
     "name": "stdout",
     "output_type": "stream",
     "text": [
      "Array time:\t0.30515265464782715\n",
      "Simplex time:\t0.0015544891357421875\n"
     ]
    }
   ],
   "source": [
    "import time\n",
    "\n",
    "array_shape = (50, 10)\n",
    "test_array = paragami.PatternArray(\n",
    "    array_shape=array_shape,\n",
    "    base_pattern=paragami.SimplexArrayPattern(array_shape=(1, ), simplex_size=5))\n",
    "\n",
    "test_simplex = paragami.SimplexArrayPattern(array_shape=array_shape, simplex_size=5)\n",
    "\n",
    "simplex_val = test_simplex.random()\n",
    "simplex_array_val = np.expand_dims(simplex_val, axis=2)\n",
    "\n",
    "test_times = 10\n",
    "\n",
    "simplex_time = time.time()\n",
    "for i in range(test_times):\n",
    "    test_simplex.flatten(simplex_val, free=True)\n",
    "simplex_time = time.time() - simplex_time\n",
    "\n",
    "array_time = time.time()\n",
    "for i in range(test_times):\n",
    "    test_array.flatten(simplex_array_val, free=True)\n",
    "array_time = time.time() - array_time\n",
    "\n",
    "print('Array time:\\t{}\\nSimplex time:\\t{}'.format(array_time, simplex_time))"
   ]
  }
 ],
 "metadata": {
  "kernelspec": {
   "display_name": "Python 3",
   "language": "python",
   "name": "python3"
  },
  "language_info": {
   "codemirror_mode": {
    "name": "ipython",
    "version": 3
   },
   "file_extension": ".py",
   "mimetype": "text/x-python",
   "name": "python",
   "nbconvert_exporter": "python",
   "pygments_lexer": "ipython3",
   "version": "3.5.2"
  }
 },
 "nbformat": 4,
 "nbformat_minor": 2
}
