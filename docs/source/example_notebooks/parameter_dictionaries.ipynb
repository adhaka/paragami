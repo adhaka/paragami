{
 "cells": [
  {
   "cell_type": "markdown",
   "metadata": {},
   "source": [
    "# Parameter containers."
   ]
  },
  {
   "cell_type": "markdown",
   "metadata": {},
   "source": [
    "Many models depend on several parameters of different types.  In this notebook, we demonstrate flattening and folding \"containers\", which are patterns containing other patterns."
   ]
  },
  {
   "cell_type": "markdown",
   "metadata": {},
   "source": [
    "## Parameter dictionaries."
   ]
  },
  {
   "cell_type": "code",
   "execution_count": 1,
   "metadata": {
    "collapsed": true
   },
   "outputs": [],
   "source": [
    "import autograd\n",
    "import autograd.numpy as np\n",
    "import paragami\n",
    "import example_utils\n",
    "import inspect\n",
    "\n",
    "import matplotlib.pyplot as plt\n",
    "%matplotlib inline"
   ]
  },
  {
   "cell_type": "markdown",
   "metadata": {},
   "source": [
    "Let's consider a multivariate normal example.  Define some parameters and draw some data."
   ]
  },
  {
   "cell_type": "code",
   "execution_count": 2,
   "metadata": {},
   "outputs": [
    {
     "data": {
      "text/plain": [
       "[<matplotlib.lines.Line2D at 0x7f6a3bd86dd8>]"
      ]
     },
     "execution_count": 2,
     "metadata": {},
     "output_type": "execute_result"
    },
    {
     "data": {
      "image/png": "[encoded data removed]",
      "text/plain": [
       "<Figure size 432x288 with 1 Axes>"
      ]
     },
     "metadata": {},
     "output_type": "display_data"
    }
   ],
   "source": [
    "dim = 2\n",
    "num_obs = 1000\n",
    "\n",
    "mean_true = np.random.random(dim)\n",
    "cov_true = np.random.random((dim, dim))\n",
    "cov_true = 0.1 * np.eye(dim) + np.full((dim, dim), 1.0)\n",
    "\n",
    "x = np.random.multivariate_normal(mean=mean_true, cov=cov_true, size=(num_obs, ))\n",
    "plt.plot(x[:, 0], x[:, 1], 'k.')"
   ]
  },
  {
   "cell_type": "markdown",
   "metadata": {},
   "source": [
    "A multivariate normal distribution depends on two parameters -- a mean and a positive definite covariance matrix. In Python, we might store these parameters in a dictionary with a member for the mean and a member for the covariance.  \n",
    "\n",
    "This can be represented with a pattern dictionary, i.e., a ``paragami.PatternDict`` pattern.  Each member of a pattern dictionary must itself be a pattern."
   ]
  },
  {
   "cell_type": "code",
   "execution_count": 3,
   "metadata": {
    "collapsed": true
   },
   "outputs": [],
   "source": [
    "mvn_pattern = paragami.PatternDict(free_default=True)\n",
    "mvn_pattern['mean'] = paragami.NumericVectorPattern(length=dim)\n",
    "mvn_pattern['cov'] = paragami.PSDSymmetricMatrixPattern(size=dim)"
   ]
  },
  {
   "cell_type": "markdown",
   "metadata": {},
   "source": [
    "Flattening and folding work with pattern dictionaries just as with ordinary patterns.  Note that folded pattern dicitonaries are ``OrderedDict`` by default."
   ]
  },
  {
   "cell_type": "code",
   "execution_count": 36,
   "metadata": {},
   "outputs": [
    {
     "name": "stdout",
     "output_type": "stream",
     "text": [
      "\n",
      "A dictionary of MVN parameters:\n",
      "{'cov': array([[1.1, 1. ],\n",
      "       [1. , 1.1]]), 'mean': array([0.87367236, 0.21280422])}\n",
      "\n",
      "A flat representation:\n",
      "[ 0.87367236  0.21280422  0.04765509  0.95346259 -0.82797896]\n",
      "\n",
      "Folding recovers the original parameters:\n",
      "OrderedDict([('mean', array([0.87367236, 0.21280422])), ('cov', array([[1.1, 1. ],\n",
      "       [1. , 1.1]]))])\n"
     ]
    }
   ],
   "source": [
    "true_mvn_par = dict()\n",
    "true_mvn_par['mean'] = mean_true\n",
    "true_mvn_par['cov'] = cov_true\n",
    "\n",
    "print('\\nA dictionary of MVN parameters:\\n{}'.format(\n",
    "      true_mvn_par))\n",
    "\n",
    "mvn_par_free = mvn_pattern.flatten(true_mvn_par)\n",
    "print('\\nA flat representation:\\n{}'.format(\n",
    "    mvn_pattern.flatten(true_mvn_par)))\n",
    "\n",
    "print('\\nFolding recovers the original parameters:\\n{}'.format(\n",
    "    mvn_pattern.fold(mvn_par_free)))"
   ]
  },
  {
   "cell_type": "markdown",
   "metadata": {},
   "source": [
    "Parameter dictionaries are particularly convenient for optimization problems involving multiple parameters.  A good working style is to implement the loss function using named arguments and then wrap it using a lambda function.\n",
    "\n",
    "To illustrate this, let us use ``get_normal_log_prob`` from ``example_utils``."
   ]
  },
  {
   "cell_type": "code",
   "execution_count": 6,
   "metadata": {},
   "outputs": [
    {
     "name": "stdout",
     "output_type": "stream",
     "text": [
      "Free loss:\t219.8143711666299\n",
      "Original loss:\t219.8143711666299\n"
     ]
    }
   ],
   "source": [
    "# ``example_utils.get_normal_log_prob`` returns the log probability of\n",
    "# each datapoint x up to a constant.\n",
    "def get_loss(x, sigma, mu):\n",
    "    return -1 * np.sum(\n",
    "        example_utils.get_normal_log_prob(x, sigma, mu))\n",
    "       \n",
    "get_free_loss = paragami.FlattenFunctionInput(\n",
    "    lambda mvn_par: get_loss(x=x, sigma=mvn_par['cov'], mu=mvn_par['mean']),\n",
    "    patterns=mvn_pattern,\n",
    "    free=True)\n",
    "\n",
    "print('Free loss:\\t{}'.format(get_free_loss(mvn_par_free)))\n",
    "print('Original loss:\\t{}'.format(get_loss(x, true_mvn_par['cov'], true_mvn_par['mean'])))"
   ]
  },
  {
   "cell_type": "markdown",
   "metadata": {},
   "source": [
    "As with other parameters, ``autograd`` works with parameter dictionaries."
   ]
  },
  {
   "cell_type": "code",
   "execution_count": 7,
   "metadata": {},
   "outputs": [
    {
     "name": "stdout",
     "output_type": "stream",
     "text": [
      "[-59.66882221  78.5304     -24.49767189 -12.36127117  36.00719091]\n"
     ]
    }
   ],
   "source": [
    "get_free_loss_grad = autograd.grad(get_free_loss)\n",
    "print(get_free_loss_grad(mvn_par_free))"
   ]
  },
  {
   "cell_type": "markdown",
   "metadata": {},
   "source": [
    "### Pattern dictionaries containing pattern dictionaries."
   ]
  },
  {
   "cell_type": "markdown",
   "metadata": {},
   "source": [
    "Pattern dictionaries can contain pattern dictionaries (and so on)."
   ]
  },
  {
   "cell_type": "code",
   "execution_count": 34,
   "metadata": {},
   "outputs": [
    {
     "name": "stdout",
     "output_type": "stream",
     "text": [
      "Folded mvns_par:\n",
      "{'mvn1': {'cov': array([[1.1, 1. ],\n",
      "       [1. , 1.1]]), 'mean': array([0.87367236, 0.21280422])}, 'mvn2': OrderedDict([('mean', array([0.9666736 , 0.24848757])), ('cov', array([[4.77849291, 1.56784344],\n",
      "       [1.56784344, 1.84355085]]))]), 'ez': array([[0.3, 0.7]])}\n",
      "\n",
      "Free mvns_par:\n",
      "[ 0.87367236  0.21280422  0.04765509  0.95346259 -0.82797896  0.9666736\n",
      "  0.24848757  0.7820626   0.71722798  0.14226413  0.84729786]\n"
     ]
    }
   ],
   "source": [
    "mvns_pattern = paragami.PatternDict(free_default=True)\n",
    "mvns_pattern['mvn1'] = mvn_pattern\n",
    "mvns_pattern['mvn2'] = mvn_pattern\n",
    "mvns_pattern['ez'] = paragami.SimplexArrayPattern(array_shape=(1, ), simplex_size=2)\n",
    "\n",
    "mvns_par = dict()\n",
    "mvns_par['mvn1'] = true_mvn_par\n",
    "mvns_par['mvn2'] = mvn_pattern.random()\n",
    "mvns_par['ez'] = np.array([[0.3, 0.7]])\n",
    "\n",
    "print('Folded mvns_par:\\n{}'.format(mvns_par))\n",
    "print('\\nFree mvns_par:\\n{}'.format(mvns_pattern.flatten(mvns_par)))"
   ]
  },
  {
   "cell_type": "markdown",
   "metadata": {},
   "source": [
    "Members of a pattern dictionary are just patterns, and can be used directly."
   ]
  },
  {
   "cell_type": "code",
   "execution_count": 37,
   "metadata": {},
   "outputs": [
    {
     "name": "stdout",
     "output_type": "stream",
     "text": [
      "\n",
      "A flat representation of true_mvn_par:\n",
      "[ 0.87367236  0.21280422  0.04765509  0.95346259 -0.82797896]\n"
     ]
    }
   ],
   "source": [
    "mvn_par_free = mvns_pattern['mvn1'].flatten(true_mvn_par)\n",
    "print('\\nA flat representation of true_mvn_par:\\n{}'.format(\n",
    "    mvn_pattern.flatten(true_mvn_par)))"
   ]
  },
  {
   "cell_type": "markdown",
   "metadata": {},
   "source": [
    "### Locking parameter dictionaries."
   ]
  },
  {
   "cell_type": "markdown",
   "metadata": {},
   "source": [
    "The meaning of a parameter dictionary changes as you add or assign elements."
   ]
  },
  {
   "cell_type": "code",
   "execution_count": 40,
   "metadata": {},
   "outputs": [
    {
     "name": "stdout",
     "output_type": "stream",
     "text": [
      "The flat length of example_pattern with par1:\t\t\t2\n",
      "The flat length of example_pattern with par1 and par2:\t\t5\n",
      "The flat length of example_pattern with new par1 and par2:\t13\n"
     ]
    }
   ],
   "source": [
    "example_pattern = paragami.PatternDict(free_default=True)\n",
    "\n",
    "example_pattern['par1'] = paragami.NumericVectorPattern(length=2)\n",
    "print('The flat length of example_pattern with par1:\\t\\t\\t{}'.format(\n",
    "    example_pattern.flat_length()))\n",
    "\n",
    "example_pattern['par2'] = paragami.NumericVectorPattern(length=3)\n",
    "print('The flat length of example_pattern with par1 and par2:\\t\\t{}'.format(\n",
    "    example_pattern.flat_length()))\n",
    "\n",
    "example_pattern['par1'] = paragami.NumericVectorPattern(length=10)\n",
    "print('The flat length of example_pattern with new par1 and par2:\\t{}'.format(\n",
    "    example_pattern.flat_length()))\n"
   ]
  },
  {
   "cell_type": "markdown",
   "metadata": {},
   "source": [
    "Sometime, you want to make sure the meaning of a parameter dictionary stays fixed.  In order to prevent a pattern dictionary from having more elements added, you can ``lock()`` it."
   ]
  },
  {
   "cell_type": "code",
   "execution_count": 43,
   "metadata": {},
   "outputs": [
    {
     "name": "stdout",
     "output_type": "stream",
     "text": [
      "Adding a new pattern failed with the following error:\n",
      "The dictionary is locked, and its values cannot be changed.\n",
      "\n",
      "Changing an existing pattern failed with the following error:\n",
      "The dictionary is locked, and its values cannot be changed.\n"
     ]
    }
   ],
   "source": [
    "example_pattern.lock()\n",
    "try:\n",
    "    example_pattern['par3'] = paragami.NumericVectorPattern(length=4)\n",
    "except ValueError as err:\n",
    "    print('Adding a new pattern failed with the following error:\\n{}'.format(err))\n",
    "\n",
    "try:\n",
    "    example_pattern['par1'] = paragami.NumericVectorPattern(length=4)\n",
    "except ValueError as err:\n",
    "    print('\\nChanging an existing pattern failed with the following error:\\n{}'.format(err))"
   ]
  },
  {
   "cell_type": "markdown",
   "metadata": {},
   "source": [
    "## Parameter arrays."
   ]
  },
  {
   "cell_type": "markdown",
   "metadata": {},
   "source": [
    "Sometimes it is useful to have arrays of patterns.  A classic use case is mixture distributions.  Suppose that, for some $K$, and probabilities $pi_{k}$ for $k=1$ to $K$,\n",
    "\n",
    "$$\n",
    "\\begin{align}\n",
    "P(x_n | \\pi, \\mu_1,...,\\mu_K, \\Sigma_1,...,\\Sigma_K) &= \\sum_{k=1}^K \\pi_{k} \\mathcal{N}\\left(x_n | \\mu_k, \\Sigma_k\\right).\n",
    "\\end{align}\n",
    "$$\n",
    "\n",
    "Then the random variable $x_n$ is distributed according to a mixture of normals.  Let us define parameters and draw some data."
   ]
  },
  {
   "cell_type": "code",
   "execution_count": 55,
   "metadata": {},
   "outputs": [
    {
     "data": {
      "image/png": "[encoded data removed]",
      "text/plain": [
       "<Figure size 432x288 with 1 Axes>"
      ]
     },
     "metadata": {},
     "output_type": "display_data"
    }
   ],
   "source": [
    "num_components = 4\n",
    "pi_true = np.arange(1, num_components + 1)\n",
    "pi_true = pi_true / np.sum(pi_true)\n",
    "\n",
    "k_true = np.random.choice(range(num_components), p=pi_true, size=num_obs)\n",
    "\n",
    "# Draw the regression coefficients.\n",
    "true_means = np.array([\n",
    "    np.full(dim, float(k)) for k in range(num_components) ])\n",
    "\n",
    "true_covs = np.array([\n",
    "    0.1 * k * np.eye(dim) for k in range(num_components) ])\n",
    "\n",
    "# draw observations\n",
    "y = np.array([\n",
    "    np.random.multivariate_normal(\n",
    "        true_means[k_true[n], :],\n",
    "        true_covs[k_true[n], :, :]) for n in range(num_obs) ])\n",
    "\n",
    "for k in range(num_components):\n",
    "    k_rows = k_true == k\n",
    "    plt.plot(y[k_rows, 0], y[k_rows, 1], '.')"
   ]
  }
 ],
 "metadata": {
  "kernelspec": {
   "display_name": "Python 3",
   "language": "python",
   "name": "python3"
  },
  "language_info": {
   "codemirror_mode": {
    "name": "ipython",
    "version": 3
   },
   "file_extension": ".py",
   "mimetype": "text/x-python",
   "name": "python",
   "nbconvert_exporter": "python",
   "pygments_lexer": "ipython3",
   "version": "3.5.2"
  }
 },
 "nbformat": 4,
 "nbformat_minor": 2
}
