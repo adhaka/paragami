{
 "cells": [
  {
   "cell_type": "code",
   "execution_count": 18,
   "metadata": {
    "collapsed": true
   },
   "outputs": [],
   "source": [
    "import autograd\n",
    "import autograd.numpy as np\n",
    "import autograd.scipy as sp\n",
    "import paragami\n",
    "import scipy as osp"
   ]
  },
  {
   "cell_type": "code",
   "execution_count": 2,
   "metadata": {
    "collapsed": true
   },
   "outputs": [],
   "source": [
    "np.random.seed(42)\n",
    "\n",
    "num_obs = 1000\n",
    "\n",
    "# True values of parameters\n",
    "true_sigma = \\\n",
    "    np.eye(3) * np.diag(np.array([1, 2, 3])) + \\\n",
    "    np.random.random((3, 3)) * 0.1\n",
    "true_sigma = 0.5 * (true_sigma + true_sigma.T)\n",
    "\n",
    "true_mu = np.array([0, 1, 2])\n",
    "\n",
    "# Data\n",
    "x = np.random.multivariate_normal(\n",
    "    mean=true_mu, cov=true_sigma, size=(num_obs, ))\n",
    "\n",
    "# Original weights.\n",
    "original_weights = np.ones(num_obs)"
   ]
  },
  {
   "cell_type": "code",
   "execution_count": 41,
   "metadata": {},
   "outputs": [
    {
     "data": {
      "text/plain": [
       "5154.567522214259"
      ]
     },
     "execution_count": 41,
     "metadata": {},
     "output_type": "execute_result"
    }
   ],
   "source": [
    "def regularizer(par_dict, lam):\n",
    "    return lam * np.sum(par_dict['mu'] ** 2)\n",
    "\n",
    "def model_logpdf(par_dict, weights, x):\n",
    "    data_lpdf = sp.stats.multivariate_normal.logpdf(\n",
    "        x, mean=par_dict['mu'], cov=par_dict['sigma'])\n",
    "    return np.sum(weights * data_lpdf)\n",
    "\n",
    "def objective(par_dict, weights, lam, x):\n",
    "    return -model_logpdf(par_dict, weights, x) + regularizer(par_dict, lam)\n",
    "\n",
    "norm_par = dict()\n",
    "norm_par['mu'] = true_mu\n",
    "norm_par['sigma'] = true_sigma\n",
    "\n",
    "original_lam = 1\n",
    "\n",
    "objective(norm_par, original_weights, original_lam, x)"
   ]
  },
  {
   "cell_type": "code",
   "execution_count": 43,
   "metadata": {},
   "outputs": [],
   "source": [
    "norm_param_pattern = paragami.PatternDict()\n",
    "norm_param_pattern['sigma'] = paragami.PSDSymmetricMatrixPattern(size=3)\n",
    "norm_param_pattern['mu'] = paragami.NumericArrayPattern(shape=(3, ))\n",
    "\n",
    "objective_flat = paragami.FlattenFunctionInput(\n",
    "    lambda par_dict: objective(par_dict, original_weights, original_lam, x),\n",
    "    patterns=norm_param_pattern,\n",
    "    free=True)\n",
    "\n",
    "assert(\n",
    "    objective_flat(norm_param_pattern.flatten(par_dict, free=True)) == \\\n",
    "    objective(norm_par, original_weights, lam, x))"
   ]
  },
  {
   "cell_type": "code",
   "execution_count": null,
   "metadata": {
    "collapsed": true
   },
   "outputs": [],
   "source": [
    "#objective_flat_par = paragami."
   ]
  }
 ],
 "metadata": {
  "kernelspec": {
   "display_name": "Python 3",
   "language": "python",
   "name": "python3"
  },
  "language_info": {
   "codemirror_mode": {
    "name": "ipython",
    "version": 3
   },
   "file_extension": ".py",
   "mimetype": "text/x-python",
   "name": "python",
   "nbconvert_exporter": "python",
   "pygments_lexer": "ipython3",
   "version": "3.5.2"
  }
 },
 "nbformat": 4,
 "nbformat_minor": 2
}
