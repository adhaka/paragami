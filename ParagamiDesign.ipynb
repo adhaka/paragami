{
 "cells": [
  {
   "cell_type": "code",
   "execution_count": 1,
   "metadata": {
    "collapsed": true
   },
   "outputs": [],
   "source": [
    "import autograd\n",
    "from autograd import numpy as np"
   ]
  },
  {
   "cell_type": "code",
   "execution_count": 2,
   "metadata": {},
   "outputs": [],
   "source": [
    "from collections import OrderedDict\n",
    "import paragami"
   ]
  },
  {
   "cell_type": "code",
   "execution_count": 3,
   "metadata": {},
   "outputs": [
    {
     "name": "stdout",
     "output_type": "stream",
     "text": [
      "Inplace:  0.10280919075012207\n",
      "Not in place:  0.03980541229248047\n"
     ]
    }
   ],
   "source": [
    "import time\n",
    "\n",
    "a = np.full(100000, float('nan'))\n",
    "b = np.random.random(a.shape)\n",
    "\n",
    "def set_inplace(b, a):\n",
    "    a[:] = b + 2\n",
    "    return a\n",
    "\n",
    "def set_notinplace(b):\n",
    "    return b + 2\n",
    "\n",
    "set_inplace(b, a)\n",
    "\n",
    "t1 = time.time()\n",
    "for iter in range(1000):\n",
    "    set_inplace(b, a)\n",
    "print('Inplace: ', time.time() - t1)\n",
    "\n",
    "t1 = time.time()\n",
    "for iter in range(1000):\n",
    "    a = set_notinplace(b)\n",
    "print('Not in place: ', time.time() - t1)\n",
    "\n",
    "# WTF?  Try %memit and id"
   ]
  },
  {
   "cell_type": "code",
   "execution_count": 4,
   "metadata": {},
   "outputs": [
    {
     "name": "stdout",
     "output_type": "stream",
     "text": [
      "OrderedDict([('a', array([[[0.89358177, 0.89658284, 1.1121885 , 0.70436588],\n",
      "        [0.83263673, 1.13825349, 0.90575051, 0.85797621],\n",
      "        [0.89577067, 1.0274987 , 0.61030241, 0.77511769]],\n",
      "\n",
      "       [[0.62469266, 1.17655873, 0.71461202, 1.08348495],\n",
      "        [0.87832466, 1.10244331, 1.0606273 , 0.68987249],\n",
      "        [1.15039823, 0.53624353, 0.90259403, 0.88781202]]])), ('b', array([6.67444852, 6.02320974, 4.63945515, 4.95775229, 4.87335276])), ('c', array([[6.33539152, 6.49540207],\n",
      "       [5.32714664, 5.67921865],\n",
      "       [5.74776878, 4.56019538],\n",
      "       [4.51882782, 6.80849584],\n",
      "       [6.55545194, 5.78203494]]))])\n",
      "{'c': array([[6.33539152, 6.49540207],\n",
      "       [5.32714664, 5.67921865],\n",
      "       [5.74776878, 4.56019538],\n",
      "       [4.51882782, 6.80849584],\n",
      "       [6.55545194, 5.78203494]]), 'a': array([[[0.89358177, 0.89658284, 1.1121885 , 0.70436588],\n",
      "        [0.83263673, 1.13825349, 0.90575051, 0.85797621],\n",
      "        [0.89577067, 1.0274987 , 0.61030241, 0.77511769]],\n",
      "\n",
      "       [[0.62469266, 1.17655873, 0.71461202, 1.08348495],\n",
      "        [0.87832466, 1.10244331, 1.0606273 , 0.68987249],\n",
      "        [1.15039823, 0.53624353, 0.90259403, 0.88781202]]]), 'b': array([6.67444852, 6.02320974, 4.63945515, 4.95775229, 4.87335276])}\n"
     ]
    },
    {
     "data": {
      "text/plain": [
       "0.0"
      ]
     },
     "execution_count": 4,
     "metadata": {},
     "output_type": "execute_result"
    }
   ],
   "source": [
    "\n",
    "\n",
    "def check_dict_equal(dict1, dict2):\n",
    "    assert dict1.keys() == dict2.keys()\n",
    "    for key  in dict1:\n",
    "        assert_array_almost_equal(dict1[key], dict2[key])\n",
    "\n",
    "dict_pattern = paragami.OrderedDictPattern()\n",
    "dict_pattern['a'] = paragami.NumericArrayPattern((2, 3, 4), lb=-1, ub=2)\n",
    "dict_pattern['b'] = paragami.NumericArrayPattern((5, ), lb=-1, ub=10)\n",
    "dict_pattern['c'] = paragami.NumericArrayPattern((5, 2), lb=-1, ub=10)\n",
    "\n",
    "dict_val = dict_pattern.random()\n",
    "print(dict_val)\n",
    "dict_val2 = dict(dict_val)\n",
    "print(dict_val2)\n",
    "flat_val1 = dict_pattern.flatten(dict_val, free=True)\n",
    "flat_val2 = dict_pattern.flatten(dict_val2, free=True)\n",
    "\n",
    "np.linalg.norm(flat_val1 - flat_val2)"
   ]
  },
  {
   "cell_type": "code",
   "execution_count": 5,
   "metadata": {},
   "outputs": [
    {
     "data": {
      "text/plain": [
       "35.14800648802951"
      ]
     },
     "execution_count": 5,
     "metadata": {},
     "output_type": "execute_result"
    }
   ],
   "source": [
    "param_dict = dict_pattern.random()\n",
    "\n",
    "def test_function(param_dict):\n",
    "    a = param_dict['a']\n",
    "    b = param_dict['b']\n",
    "    return np.mean(a ** 2) + np.mean(b ** 2)\n",
    "\n",
    "test_function(param_dict)"
   ]
  },
  {
   "cell_type": "code",
   "execution_count": 11,
   "metadata": {},
   "outputs": [
    {
     "name": "stdout",
     "output_type": "stream",
     "text": [
      "Function: <function test_function at 0x7fe8a1a05f28>\n",
      "argnum: 0\n",
      "free: True\n",
      "pattern: OrderedDict:\n",
      "\t[a] = Array (2, 3, 4) (lb=-1, ub=2)\n",
      "\t[b] = Array (5,) (lb=-1, ub=10)\n",
      "\t[c] = Array (5, 2) (lb=-1, ub=10)\n"
     ]
    },
    {
     "data": {
      "text/plain": [
       "array([[0.04656489, 0.        , 0.        , ..., 0.        , 0.        ,\n",
       "        0.        ],\n",
       "       [0.        , 0.03302051, 0.        , ..., 0.        , 0.        ,\n",
       "        0.        ],\n",
       "       [0.        , 0.        , 0.02695071, ..., 0.        , 0.        ,\n",
       "        0.        ],\n",
       "       ...,\n",
       "       [0.        , 0.        , 0.        , ..., 0.        , 0.        ,\n",
       "        0.        ],\n",
       "       [0.        , 0.        , 0.        , ..., 0.        , 0.        ,\n",
       "        0.        ],\n",
       "       [0.        , 0.        , 0.        , ..., 0.        , 0.        ,\n",
       "        0.        ]])"
      ]
     },
     "execution_count": 11,
     "metadata": {},
     "output_type": "execute_result"
    }
   ],
   "source": [
    "class PatternedFunction:\n",
    "    def __init__(self, original_fun, pattern, free, argnum=0):\n",
    "        self._fun = original_fun\n",
    "        self._argnum = argnum\n",
    "        self.free = free\n",
    "        self._pattern = pattern\n",
    "        \n",
    "    def __str__(self):\n",
    "        return('Function: {}\\nargnum: {}\\nfree: {}\\npattern: {}'.format(\n",
    "            self._fun, self._argnum, self.free, self._pattern))\n",
    "    \n",
    "    def __call__(self, *args, **kwargs):\n",
    "        flat_val = args[self._argnum]\n",
    "        folded_val = self._pattern.fold(flat_val, free=self.free)\n",
    "        new_args = args[0:self._argnum] + (folded_val, ) + args[self._argnum + 1:-1]\n",
    "        return self._fun(*new_args, **kwargs)\n",
    "\n",
    "    \n",
    "patterned_test_function = PatternedFunction(test_function, dict_pattern, True)\n",
    "print(patterned_test_function)\n",
    "\n",
    "flat_param_dict = dict_pattern.flatten(param_dict, free=True)\n",
    "assert(np.abs(patterned_test_function(flat_param_dict) - test_function(param_dict)) < 1e-12)\n",
    "\n",
    "patterned_test_function_grad = autograd.grad(patterned_test_function)\n",
    "patterned_test_function_grad(flat_param_dict)\n",
    "\n",
    "patterned_test_function_hessian = autograd.hessian(patterned_test_function)\n",
    "patterned_test_function_hessian(flat_param_dict)"
   ]
  },
  {
   "cell_type": "code",
   "execution_count": 39,
   "metadata": {},
   "outputs": [
    {
     "name": "stdout",
     "output_type": "stream",
     "text": [
      "Function: <function test_function at 0x7fe8a14d3c80>\n",
      "argnums: [1 3]\n",
      "free: [ True  True]\n",
      "patterns: [<paragami.numeric_array_patterns.NumericArrayPattern object at 0x7fe8a1a0ba20>\n",
      " <paragami.numeric_array_patterns.NumericArrayPattern object at 0x7fe8a1a0b8d0>]\n"
     ]
    }
   ],
   "source": [
    "class FlattenedFunction:\n",
    "    def __init__(self, original_fun, patterns, free, argnums=None):\n",
    "        self._fun = original_fun\n",
    "        self._patterns = np.atleast_1d(patterns)\n",
    "        if argnums is None:\n",
    "            argnums = np.arange(0, len(self._patterns))\n",
    "        if len(self._patterns.shape) != 1:\n",
    "            raise ValueError('patterns must be a 1d vector.')\n",
    "        self._argnums = np.atleast_1d(argnums)\n",
    "        self._argnum_sort = np.argsort(self._argnums)\n",
    "        self.free = np.broadcast_to(free, self._patterns.shape)\n",
    "\n",
    "        self._validate_args()\n",
    "        \n",
    "    def _validate_args(self):\n",
    "        if len(self._argnums.shape) != 1:\n",
    "            raise ValueError('argnums must be a 1d vector.')\n",
    "        if len(self._argnums) != len(self._patterns):\n",
    "            raise ValueError('argnums must be the same length as patterns.')\n",
    "        if len(self.free.shape) != 1:\n",
    "            raise ValueError('free must be a single boolean or a 1d vector of booleans.')\n",
    "        if len(self.free) != len(self._patterns):\n",
    "            raise ValueError('free must broadcast to the same shape as patterns.')\n",
    "        \n",
    "    def __str__(self):\n",
    "        return('Function: {}\\nargnums: {}\\nfree: {}\\npatterns: {}'.format(\n",
    "            self._fun, self._argnums, self.free, self._patterns))\n",
    "    \n",
    "    def __call__(self, *args, **kwargs):\n",
    "        # Loop through the arguments from beginning to end, replacing parameters\n",
    "        # with their flattened values.\n",
    "        new_args = ()\n",
    "        last_argnum = 0\n",
    "        for i in self._argnum_sort:\n",
    "            argnum = self._argnums[i]\n",
    "            folded_val = self._patterns[i].fold(args[argnum], free=self.free[i])\n",
    "            new_args += args[last_argnum:argnum] + (folded_val, )\n",
    "            last_argnum = argnum + 1\n",
    "            \n",
    "        return self._fun(*new_args, **kwargs)\n",
    "\n",
    "\n",
    "def test_function(x, a, y, b):\n",
    "    return x ** 2 + y ** 2 + np.mean(a ** 2) + np.mean(b ** 2)\n",
    "\n",
    "\n",
    "x = 2\n",
    "y = 3\n",
    "a = param_dict['a']\n",
    "b = param_dict['b']\n",
    "a_flat = dict_pattern['a'].flatten(a, True)\n",
    "b_flat = dict_pattern['b'].flatten(b, True)\n",
    "\n",
    "\n",
    "patterns = [dict_pattern['a'], dict_pattern['b']]\n",
    "flat_test_function = FlattenedFunction(\n",
    "    test_function, patterns, free=[True, True], argnums=[1, 3])\n",
    "\n",
    "assert(np.linalg.norm(\n",
    "    test_function(x, a, y, b) - flat_test_function(x, a_flat, y, b_flat) < 1e-9))\n",
    "\n",
    "print(flat_test_function)\n",
    "\n",
    "\n",
    "\n",
    "\n",
    "def test_function(param_dict):\n",
    "    a = param_dict['a']\n",
    "    b = param_dict['b']\n",
    "    return np.mean(a ** 2) + np.mean(b ** 2)\n",
    "\n",
    "flat_test_function = FlattenedFunction(\n",
    "    test_function, dict_pattern, free=True)\n",
    "param_dict_flat = dict_pattern.flatten(param_dict, free=True)\n",
    "assert(np.linalg.norm(\n",
    "    test_function(param_dict) - flat_test_function(param_dict_flat) < 1e-9))\n",
    "\n"
   ]
  }
 ],
 "metadata": {
  "kernelspec": {
   "display_name": "Python 3",
   "language": "python",
   "name": "python3"
  },
  "language_info": {
   "codemirror_mode": {
    "name": "ipython",
    "version": 3
   },
   "file_extension": ".py",
   "mimetype": "text/x-python",
   "name": "python",
   "nbconvert_exporter": "python",
   "pygments_lexer": "ipython3",
   "version": "3.5.2"
  }
 },
 "nbformat": 4,
 "nbformat_minor": 2
}
