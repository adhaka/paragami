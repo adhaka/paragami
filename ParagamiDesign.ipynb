{
 "cells": [
  {
   "cell_type": "code",
   "execution_count": 1,
   "metadata": {
    "collapsed": true
   },
   "outputs": [],
   "source": [
    "import autograd\n",
    "from autograd import numpy as np"
   ]
  },
  {
   "cell_type": "code",
   "execution_count": 2,
   "metadata": {},
   "outputs": [],
   "source": [
    "from collections import OrderedDict\n",
    "import paragami"
   ]
  },
  {
   "cell_type": "code",
   "execution_count": 3,
   "metadata": {},
   "outputs": [
    {
     "name": "stdout",
     "output_type": "stream",
     "text": [
      "Inplace:  0.10280919075012207\n",
      "Not in place:  0.03980541229248047\n"
     ]
    }
   ],
   "source": [
    "import time\n",
    "\n",
    "a = np.full(100000, float('nan'))\n",
    "b = np.random.random(a.shape)\n",
    "\n",
    "def set_inplace(b, a):\n",
    "    a[:] = b + 2\n",
    "    return a\n",
    "\n",
    "def set_notinplace(b):\n",
    "    return b + 2\n",
    "\n",
    "set_inplace(b, a)\n",
    "\n",
    "t1 = time.time()\n",
    "for iter in range(1000):\n",
    "    set_inplace(b, a)\n",
    "print('Inplace: ', time.time() - t1)\n",
    "\n",
    "t1 = time.time()\n",
    "for iter in range(1000):\n",
    "    a = set_notinplace(b)\n",
    "print('Not in place: ', time.time() - t1)\n",
    "\n",
    "# WTF?  Try %memit and id"
   ]
  },
  {
   "cell_type": "code",
   "execution_count": 4,
   "metadata": {},
   "outputs": [
    {
     "name": "stdout",
     "output_type": "stream",
     "text": [
      "OrderedDict([('a', array([[[0.89358177, 0.89658284, 1.1121885 , 0.70436588],\n",
      "        [0.83263673, 1.13825349, 0.90575051, 0.85797621],\n",
      "        [0.89577067, 1.0274987 , 0.61030241, 0.77511769]],\n",
      "\n",
      "       [[0.62469266, 1.17655873, 0.71461202, 1.08348495],\n",
      "        [0.87832466, 1.10244331, 1.0606273 , 0.68987249],\n",
      "        [1.15039823, 0.53624353, 0.90259403, 0.88781202]]])), ('b', array([6.67444852, 6.02320974, 4.63945515, 4.95775229, 4.87335276])), ('c', array([[6.33539152, 6.49540207],\n",
      "       [5.32714664, 5.67921865],\n",
      "       [5.74776878, 4.56019538],\n",
      "       [4.51882782, 6.80849584],\n",
      "       [6.55545194, 5.78203494]]))])\n",
      "{'c': array([[6.33539152, 6.49540207],\n",
      "       [5.32714664, 5.67921865],\n",
      "       [5.74776878, 4.56019538],\n",
      "       [4.51882782, 6.80849584],\n",
      "       [6.55545194, 5.78203494]]), 'a': array([[[0.89358177, 0.89658284, 1.1121885 , 0.70436588],\n",
      "        [0.83263673, 1.13825349, 0.90575051, 0.85797621],\n",
      "        [0.89577067, 1.0274987 , 0.61030241, 0.77511769]],\n",
      "\n",
      "       [[0.62469266, 1.17655873, 0.71461202, 1.08348495],\n",
      "        [0.87832466, 1.10244331, 1.0606273 , 0.68987249],\n",
      "        [1.15039823, 0.53624353, 0.90259403, 0.88781202]]]), 'b': array([6.67444852, 6.02320974, 4.63945515, 4.95775229, 4.87335276])}\n"
     ]
    },
    {
     "data": {
      "text/plain": [
       "0.0"
      ]
     },
     "execution_count": 4,
     "metadata": {},
     "output_type": "execute_result"
    }
   ],
   "source": [
    "\n",
    "\n",
    "def check_dict_equal(dict1, dict2):\n",
    "    assert dict1.keys() == dict2.keys()\n",
    "    for key  in dict1:\n",
    "        assert_array_almost_equal(dict1[key], dict2[key])\n",
    "\n",
    "dict_pattern = paragami.OrderedDictPattern()\n",
    "dict_pattern['a'] = paragami.ArrayPattern((2, 3, 4), lb=-1, ub=2)\n",
    "dict_pattern['b'] = paragami.ArrayPattern((5, ), lb=-1, ub=10)\n",
    "dict_pattern['c'] = paragami.ArrayPattern((5, 2), lb=-1, ub=10)\n",
    "\n",
    "dict_val = dict_pattern.random()\n",
    "print(dict_val)\n",
    "dict_val2 = dict(dict_val)\n",
    "print(dict_val2)\n",
    "flat_val1 = dict_pattern.flatten(dict_val, free=True)\n",
    "flat_val2 = dict_pattern.flatten(dict_val2, free=True)\n",
    "\n",
    "np.linalg.norm(flat_val1 - flat_val2)"
   ]
  },
  {
   "cell_type": "code",
   "execution_count": 5,
   "metadata": {},
   "outputs": [
    {
     "data": {
      "text/plain": [
       "35.14800648802951"
      ]
     },
     "execution_count": 5,
     "metadata": {},
     "output_type": "execute_result"
    }
   ],
   "source": [
    "param_dict = dict_pattern.random()\n",
    "\n",
    "def test_function(param_dict):\n",
    "    a = param_dict['a']\n",
    "    b = param_dict['b']\n",
    "    return np.mean(a ** 2) + np.mean(b ** 2)\n",
    "\n",
    "test_function(param_dict)"
   ]
  },
  {
   "cell_type": "code",
   "execution_count": 6,
   "metadata": {},
   "outputs": [
    {
     "name": "stdout",
     "output_type": "stream",
     "text": [
      "Function: <function test_function at 0x7fe8a1a05f28>\n",
      "argnum: 0\n",
      "free: True\n",
      "pattern: OrderedDict:\n",
      "\t[a] = Array (2, 3, 4) (lb=-1, ub=2)\n",
      "\t[b] = Array (5,) (lb=-1, ub=10)\n",
      "\t[c] = Array (5, 2) (lb=-1, ub=10)\n"
     ]
    },
    {
     "data": {
      "text/plain": [
       "0.0"
      ]
     },
     "execution_count": 6,
     "metadata": {},
     "output_type": "execute_result"
    }
   ],
   "source": [
    "class PatternedFunction:\n",
    "    def __init__(self, original_fun, pattern, free, argnum=0):\n",
    "        self._fun = original_fun\n",
    "        self._argnum = argnum\n",
    "        self.free = free\n",
    "        self._pattern = pattern\n",
    "        \n",
    "    def __str__(self):\n",
    "        return('Function: {}\\nargnum: {}\\nfree: {}\\npattern: {}'.format(\n",
    "            self._fun, self._argnum, self.free, self._pattern))\n",
    "    \n",
    "    def __call__(self, *args, **kwargs):\n",
    "        flat_val = args[self._argnum]\n",
    "        folded_val = self._pattern.fold(flat_val, free=self.free)\n",
    "        new_args = args[0:self._argnum] + (folded_val, ) + args[self._argnum + 1:-1]\n",
    "        return self._fun(*new_args, **kwargs)\n",
    "\n",
    "    \n",
    "patterned_test_function = PatternedFunction(test_function, dict_pattern, True)\n",
    "print(patterned_test_function)\n",
    "\n",
    "flat_param_dict = dict_pattern.flatten(param_dict, free=True)\n",
    "patterned_test_function(flat_param_dict) - test_function(param_dict)"
   ]
  },
  {
   "cell_type": "code",
   "execution_count": 8,
   "metadata": {},
   "outputs": [
    {
     "name": "stdout",
     "output_type": "stream",
     "text": [
      "[[0.81361886 0.22538117 0.98482184]\n",
      " [0.58187934 0.33741591 0.29781347]\n",
      " [0.97099098 0.23581807 0.80127502]]\n",
      "0.429360845062225\n"
     ]
    },
    {
     "data": {
      "text/plain": [
       "array([0.03212793, 0.04840759, 0.05202783, 0.05837063, 0.05719376,\n",
       "       0.04569522, 0.05536747, 0.05306069, 0.05400606, 0.04750543,\n",
       "       0.03409702, 0.05701079, 0.05344063, 0.05066153, 0.03737994,\n",
       "       0.04303505, 0.04201406, 0.04715034, 0.05075709, 0.04502291,\n",
       "       0.0532399 , 0.05701906, 0.05196926, 0.03859918, 5.60911406,\n",
       "       5.95767544, 5.98015571, 6.1706432 , 6.04188541, 0.        ,\n",
       "       0.        , 0.        , 0.        , 0.        , 0.        ,\n",
       "       0.        , 0.        , 0.        , 0.        ])"
      ]
     },
     "execution_count": 8,
     "metadata": {},
     "output_type": "execute_result"
    }
   ],
   "source": [
    "patterned_test_function_grad = autograd.grad(patterned_test_function)\n",
    "patterned_test_function_grad(flat_param_dict)"
   ]
  }
 ],
 "metadata": {
  "kernelspec": {
   "display_name": "Python 3",
   "language": "python",
   "name": "python3"
  },
  "language_info": {
   "codemirror_mode": {
    "name": "ipython",
    "version": 3
   },
   "file_extension": ".py",
   "mimetype": "text/x-python",
   "name": "python",
   "nbconvert_exporter": "python",
   "pygments_lexer": "ipython3",
   "version": "3.5.2"
  }
 },
 "nbformat": 4,
 "nbformat_minor": 2
}
