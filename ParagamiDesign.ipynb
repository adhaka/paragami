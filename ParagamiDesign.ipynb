{
 "cells": [
  {
   "cell_type": "code",
   "execution_count": 1,
   "metadata": {
    "collapsed": true
   },
   "outputs": [],
   "source": [
    "import numpy as np"
   ]
  },
  {
   "cell_type": "code",
   "execution_count": 2,
   "metadata": {},
   "outputs": [
    {
     "ename": "ImportError",
     "evalue": "No module named 'base_patterns'",
     "output_type": "error",
     "traceback": [
      "\u001b[0;31m---------------------------------------------------------------------------\u001b[0m",
      "\u001b[0;31mImportError\u001b[0m                               Traceback (most recent call last)",
      "\u001b[0;32m<ipython-input-2-16d62cfe6810>\u001b[0m in \u001b[0;36m<module>\u001b[0;34m()\u001b[0m\n\u001b[1;32m      1\u001b[0m \u001b[0;32mfrom\u001b[0m \u001b[0mcollections\u001b[0m \u001b[0;32mimport\u001b[0m \u001b[0mOrderedDict\u001b[0m\u001b[0;34m\u001b[0m\u001b[0m\n\u001b[0;32m----> 2\u001b[0;31m \u001b[0;32mimport\u001b[0m \u001b[0mparagami\u001b[0m\u001b[0;34m\u001b[0m\u001b[0m\n\u001b[0m",
      "\u001b[0;32m~/Documents/git_repos/paragami/paragami/__init__.py\u001b[0m in \u001b[0;36m<module>\u001b[0;34m()\u001b[0m\n\u001b[1;32m      1\u001b[0m \u001b[0;32mfrom\u001b[0m \u001b[0mparagami\u001b[0m\u001b[0;34m.\u001b[0m\u001b[0mversion\u001b[0m \u001b[0;32mimport\u001b[0m \u001b[0m__version__\u001b[0m\u001b[0;34m\u001b[0m\u001b[0m\n\u001b[1;32m      2\u001b[0m \u001b[0;34m\u001b[0m\u001b[0m\n\u001b[0;32m----> 3\u001b[0;31m \u001b[0;32mfrom\u001b[0m \u001b[0mbase_patterns\u001b[0m \u001b[0;32mimport\u001b[0m \u001b[0mOrderedDictPattern\u001b[0m\u001b[0;34m\u001b[0m\u001b[0m\n\u001b[0m\u001b[1;32m      4\u001b[0m \u001b[0;32mfrom\u001b[0m \u001b[0marray_patterns\u001b[0m \u001b[0;32mimport\u001b[0m \u001b[0mArrayPattern\u001b[0m\u001b[0;34m\u001b[0m\u001b[0m\n\u001b[1;32m      5\u001b[0m \u001b[0;32mfrom\u001b[0m \u001b[0mpdmatrix_patterns\u001b[0m \u001b[0;32mimport\u001b[0m \u001b[0mPDMatrixPattern\u001b[0m\u001b[0;34m\u001b[0m\u001b[0m\n",
      "\u001b[0;31mImportError\u001b[0m: No module named 'base_patterns'"
     ]
    }
   ],
   "source": [
    "from collections import OrderedDict\n",
    "import paragami"
   ]
  },
  {
   "cell_type": "code",
   "execution_count": null,
   "metadata": {},
   "outputs": [],
   "source": [
    "foo = OrderedDict()\n",
    "bar = OrderedDict()\n",
    "\n",
    "def setdict(key, val):\n",
    "    foo[key] = val\n",
    "    bar[key] = str(val)\n",
    "\n",
    "setdict('b', 6)\n",
    "setdict('a', 5)\n",
    "setdict('c', 12)\n",
    "\n",
    "print(foo, '\\n', bar)\n",
    "\n",
    "setdict('a', 10)\n",
    "\n",
    "print(foo, '\\n', bar)\n",
    "\n",
    "foo.pop('a')\n",
    "\n",
    "for k in foo:\n",
    "    print(k, foo[k])\n",
    "\n",
    "x = 5 if True else 6\n",
    "print(x)\n",
    "\n",
    "x = 5 if False else 6\n",
    "print(x)"
   ]
  },
  {
   "cell_type": "code",
   "execution_count": null,
   "metadata": {},
   "outputs": [],
   "source": [
    "import time\n",
    "\n",
    "a = np.full(100000, float('nan'))\n",
    "b = np.random.random(a.shape)\n",
    "\n",
    "def set_inplace(b, a):\n",
    "    a[:] = b + 2\n",
    "    return a\n",
    "\n",
    "def set_notinplace(b):\n",
    "    return b + 2\n",
    "\n",
    "set_inplace(b, a)\n",
    "\n",
    "t1 = time.time()\n",
    "for iter in range(1000):\n",
    "    set_inplace(b, a)\n",
    "print('Inplace: ', time.time() - t1)\n",
    "\n",
    "t1 = time.time()\n",
    "for iter in range(1000):\n",
    "    a = set_notinplace(b)\n",
    "print('Not in place: ', time.time() - t1)\n",
    "\n",
    "# WTF?  Try %memit and id"
   ]
  },
  {
   "cell_type": "code",
   "execution_count": null,
   "metadata": {},
   "outputs": [],
   "source": [
    "import LinearResponseVariationalBayes as lrvb\n",
    "import LinearResponseVariationalBayes.base_parameters as paragami\n",
    "\n",
    "def check_equal(a, b, tol=1e-9):\n",
    "    return np.linalg.norm(a - b) < tol"
   ]
  },
  {
   "cell_type": "code",
   "execution_count": null,
   "metadata": {},
   "outputs": [],
   "source": [
    "test_shape = (2, 3, 4)\n",
    "a = np.random.random(test_shape)\n",
    "\n",
    "array_pattern = paragami.ArrayPattern('a', test_shape, lb=-1, ub=2)\n",
    "\n",
    "a_flat = array_pattern.flatten(a, free=False)\n",
    "print(a_flat)\n",
    "a_fold = array_pattern.fold(a_flat, free=False)\n",
    "assert check_equal(a, a_fold)\n",
    "\n",
    "a_flat = array_pattern.flatten(a, free=True)\n",
    "print(a_flat)\n",
    "a_fold = array_pattern.fold(a_flat, free=True)\n",
    "assert check_equal(a, a_fold)\n"
   ]
  },
  {
   "cell_type": "code",
   "execution_count": null,
   "metadata": {},
   "outputs": [],
   "source": [
    "dict_pattern = paragami.OrderedDictPattern('dict')\n",
    "\n",
    "dict_pattern['a'] = paragami.ArrayPattern('a', (2, 3, 4), lb=-1, ub=2)\n",
    "dict_pattern['b'] = paragami.ArrayPattern('b', (5, ), lb=-1, ub=10)\n",
    "\n",
    "dict_val = dict_pattern.random()\n",
    "print(dict_val['a'])\n",
    "print(dict_val['b'])\n",
    "\n",
    "for free in [True, False]:\n",
    "    dict_flat = dict_pattern.flatten(dict_val, free=free)\n",
    "    dict_fold = dict_pattern.fold(dict_flat, free=free)\n",
    "    for key  in dict_fold:\n",
    "        assert check_equal(dict_fold[key], dict_val[key])\n"
   ]
  }
 ],
 "metadata": {
  "kernelspec": {
   "display_name": "Python 3",
   "language": "python",
   "name": "python3"
  },
  "language_info": {
   "codemirror_mode": {
    "name": "ipython",
    "version": 3
   },
   "file_extension": ".py",
   "mimetype": "text/x-python",
   "name": "python",
   "nbconvert_exporter": "python",
   "pygments_lexer": "ipython3",
   "version": "3.5.2"
  }
 },
 "nbformat": 4,
 "nbformat_minor": 2
}
