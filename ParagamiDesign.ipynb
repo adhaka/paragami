{
 "cells": [
  {
   "cell_type": "code",
   "execution_count": 1,
   "metadata": {
    "collapsed": true
   },
   "outputs": [],
   "source": [
    "import numpy as np"
   ]
  },
  {
   "cell_type": "code",
   "execution_count": 2,
   "metadata": {
    "collapsed": true
   },
   "outputs": [],
   "source": [
    "from collections import OrderedDict\n"
   ]
  },
  {
   "cell_type": "code",
   "execution_count": 3,
   "metadata": {},
   "outputs": [
    {
     "name": "stdout",
     "output_type": "stream",
     "text": [
      "OrderedDict([('b', 6), ('a', 5), ('c', 12)]) \n",
      " OrderedDict([('b', '6'), ('a', '5'), ('c', '12')])\n",
      "OrderedDict([('b', 6), ('a', 10), ('c', 12)]) \n",
      " OrderedDict([('b', '6'), ('a', '10'), ('c', '12')])\n",
      "b 6\n",
      "c 12\n",
      "5\n",
      "6\n"
     ]
    }
   ],
   "source": [
    "foo = OrderedDict()\n",
    "bar = OrderedDict()\n",
    "\n",
    "def setdict(key, val):\n",
    "    foo[key] = val\n",
    "    bar[key] = str(val)\n",
    "\n",
    "setdict('b', 6)\n",
    "setdict('a', 5)\n",
    "setdict('c', 12)\n",
    "\n",
    "print(foo, '\\n', bar)\n",
    "\n",
    "setdict('a', 10)\n",
    "\n",
    "print(foo, '\\n', bar)\n",
    "\n",
    "foo.pop('a')\n",
    "\n",
    "for k in foo:\n",
    "    print(k, foo[k])\n",
    "\n",
    "x = 5 if True else 6\n",
    "print(x)\n",
    "\n",
    "x = 5 if False else 6\n",
    "print(x)"
   ]
  },
  {
   "cell_type": "code",
   "execution_count": 4,
   "metadata": {},
   "outputs": [
    {
     "name": "stdout",
     "output_type": "stream",
     "text": [
      "Inplace:  0.09440231323242188\n",
      "Not in place:  0.036246299743652344\n"
     ]
    }
   ],
   "source": [
    "import time\n",
    "\n",
    "a = np.full(100000, float('nan'))\n",
    "b = np.random.random(a.shape)\n",
    "\n",
    "def set_inplace(b, a):\n",
    "    a[:] = b + 2\n",
    "    return a\n",
    "\n",
    "def set_notinplace(b):\n",
    "    return b + 2\n",
    "\n",
    "set_inplace(b, a)\n",
    "\n",
    "t1 = time.time()\n",
    "for iter in range(1000):\n",
    "    set_inplace(b, a)\n",
    "print('Inplace: ', time.time() - t1)\n",
    "\n",
    "t1 = time.time()\n",
    "for iter in range(1000):\n",
    "    a = set_notinplace(b)\n",
    "print('Not in place: ', time.time() - t1)\n",
    "\n",
    "# WTF?  Try %memit and id"
   ]
  },
  {
   "cell_type": "code",
   "execution_count": 5,
   "metadata": {},
   "outputs": [],
   "source": [
    "import LinearResponseVariationalBayes as lrvb\n",
    "import LinearResponseVariationalBayes.base_parameters as paragami\n",
    "\n",
    "def check_equal(a, b, tol=1e-9):\n",
    "    return np.linalg.norm(a - b) < tol"
   ]
  },
  {
   "cell_type": "code",
   "execution_count": 6,
   "metadata": {},
   "outputs": [
    {
     "name": "stdout",
     "output_type": "stream",
     "text": [
      "[0.45292199 0.55853823 0.85089023 0.17482649 0.96159127 0.68673721\n",
      " 0.14356915 0.87932682 0.04517392 0.31614431 0.38384897 0.23907924\n",
      " 0.33634637 0.83819625 0.93259715 0.85592736 0.72670324 0.67798559\n",
      " 0.28974318 0.70044957 0.7036994  0.74029653 0.94597235 0.95886136]\n",
      "[-0.0627913   0.07809064  0.4766792  -0.44055459  0.63606654  0.2502813\n",
      " -0.48450154  0.51698408 -0.62611793 -0.24637974 -0.15517869 -0.35146828\n",
      " -0.21907686  0.45881104  0.59363631  0.48379011  0.30460454  0.23843738\n",
      " -0.28220043  0.26887429  0.27328749  0.32317916  0.61314309  0.63204841]\n"
     ]
    }
   ],
   "source": [
    "test_shape = (2, 3, 4)\n",
    "a = np.random.random(test_shape)\n",
    "\n",
    "array_pattern = paragami.ArrayPattern('a', test_shape, lb=-1, ub=2)\n",
    "\n",
    "a_flat = array_pattern.flatten(a, free=False)\n",
    "print(a_flat)\n",
    "a_fold = array_pattern.fold(a_flat, free=False)\n",
    "assert check_equal(a, a_fold)\n",
    "\n",
    "a_flat = array_pattern.flatten(a, free=True)\n",
    "print(a_flat)\n",
    "a_fold = array_pattern.fold(a_flat, free=True)\n",
    "assert check_equal(a, a_fold)\n"
   ]
  },
  {
   "cell_type": "code",
   "execution_count": 9,
   "metadata": {},
   "outputs": [
    {
     "name": "stdout",
     "output_type": "stream",
     "text": [
      "[[[0.74825363 1.12788397 0.98899394 1.12944821]\n",
      "  [0.98223271 0.86427251 0.921915   0.91401276]\n",
      "  [0.76841251 0.60613742 0.6835455  1.18215452]]\n",
      "\n",
      " [[0.53480266 0.52985149 1.01409674 0.7925295 ]\n",
      "  [0.53032578 0.92112758 1.17194045 0.78292009]\n",
      "  [1.15896461 0.56307696 1.04925017 1.11886708]]]\n",
      "[5.64711752 4.86122949 6.27539548 4.87421    6.95195518]\n",
      "[0.3340777  0.89196085 0.67668302 0.89449092 0.66661254 0.49559749\n",
      " 0.57813576 0.56671248 0.36177828 0.14175345 0.24595985 0.98139457\n",
      " 0.04641187 0.03980725 0.71436786 0.39510007 0.04043988 0.57699585\n",
      " 0.96429119 0.38179805 0.9427503  0.08415224 0.76797826 0.87742833\n",
      " 0.42334504 0.13154554 0.66953749 0.13628692 0.95891749]\n",
      "[0.74825363 1.12788397 0.98899394 1.12944821 0.98223271 0.86427251\n",
      " 0.921915   0.91401276 0.76841251 0.60613742 0.6835455  1.18215452\n",
      " 0.53480266 0.52985149 1.01409674 0.7925295  0.53032578 0.92112758\n",
      " 1.17194045 0.78292009 1.15896461 0.56307696 1.04925017 1.11886708\n",
      " 5.64711752 4.86122949 6.27539548 4.87421    6.95195518]\n"
     ]
    }
   ],
   "source": [
    "dict_pattern = paragami.OrderedDictPattern('dict')\n",
    "\n",
    "dict_pattern['a'] = paragami.ArrayPattern('a', (2, 3, 4), lb=-1, ub=2)\n",
    "dict_pattern['b'] = paragami.ArrayPattern('b', (5, ), lb=-1, ub=10)\n",
    "\n",
    "dict_val = dict_pattern.random()\n",
    "print(dict_val['a'])\n",
    "print(dict_val['b'])\n",
    "\n",
    "for free in [True, False]:\n",
    "    dict_flat = dict_pattern.flatten(dict_val, free=free)\n",
    "    dict_fold = dict_pattern.fold(dict_flat, free=free)\n",
    "    for key  in dict_fold:\n",
    "        assert check_equal(dict_fold[key], dict_val[key])\n"
   ]
  }
 ],
 "metadata": {
  "kernelspec": {
   "display_name": "Python 3",
   "language": "python",
   "name": "python3"
  },
  "language_info": {
   "codemirror_mode": {
    "name": "ipython",
    "version": 3
   },
   "file_extension": ".py",
   "mimetype": "text/x-python",
   "name": "python",
   "nbconvert_exporter": "python",
   "pygments_lexer": "ipython3",
   "version": "3.5.2"
  }
 },
 "nbformat": 4,
 "nbformat_minor": 2
}
