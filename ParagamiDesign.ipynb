{
 "cells": [
  {
   "cell_type": "code",
   "execution_count": 1,
   "metadata": {
    "collapsed": true
   },
   "outputs": [],
   "source": [
    "import autograd\n",
    "from autograd import numpy as np\n",
    "import paragami\n",
    "from collections import OrderedDict"
   ]
  },
  {
   "cell_type": "code",
   "execution_count": 3,
   "metadata": {},
   "outputs": [
    {
     "name": "stdout",
     "output_type": "stream",
     "text": [
      "Locking the included dictionary.\n",
      "Array (2,) (lb=-inf, ub=inf)\n",
      "True\n"
     ]
    }
   ],
   "source": [
    "dict_pattern = paragami.PatternDict()\n",
    "dict_pattern['a'] = paragami.NumericArrayPattern((3, ))\n",
    "embedded_dict = paragami.PatternDict()\n",
    "embedded_dict['c'] = paragami.NumericArrayPattern((2, ))\n",
    "dict_pattern['b'] = embedded_dict\n",
    "\n",
    "print(dict_pattern['b']['c'])\n",
    "\n",
    "print(type(dict_pattern) is paragami.PatternDict)\n",
    "\n",
    "val = dict_pattern.random()"
   ]
  }
 ],
 "metadata": {
  "kernelspec": {
   "display_name": "Python 3",
   "language": "python",
   "name": "python3"
  },
  "language_info": {
   "codemirror_mode": {
    "name": "ipython",
    "version": 3
   },
   "file_extension": ".py",
   "mimetype": "text/x-python",
   "name": "python",
   "nbconvert_exporter": "python",
   "pygments_lexer": "ipython3",
   "version": "3.5.2"
  }
 },
 "nbformat": 4,
 "nbformat_minor": 2
}
