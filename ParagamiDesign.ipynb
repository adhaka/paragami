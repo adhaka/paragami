{
 "cells": [
  {
   "cell_type": "code",
   "execution_count": 1,
   "metadata": {
    "collapsed": true
   },
   "outputs": [],
   "source": [
    "import autograd\n",
    "from autograd import numpy as np"
   ]
  },
  {
   "cell_type": "code",
   "execution_count": 2,
   "metadata": {
    "collapsed": true
   },
   "outputs": [],
   "source": [
    "from collections import OrderedDict\n",
    "import paragami"
   ]
  },
  {
   "cell_type": "code",
   "execution_count": 3,
   "metadata": {},
   "outputs": [
    {
     "name": "stdout",
     "output_type": "stream",
     "text": [
      "Inplace:  0.1567983627319336\n",
      "Not in place:  0.0527186393737793\n"
     ]
    }
   ],
   "source": [
    "import time\n",
    "\n",
    "a = np.full(100000, float('nan'))\n",
    "b = np.random.random(a.shape)\n",
    "\n",
    "def set_inplace(b, a):\n",
    "    a[:] = b + 2\n",
    "    return a\n",
    "\n",
    "def set_notinplace(b):\n",
    "    return b + 2\n",
    "\n",
    "set_inplace(b, a)\n",
    "\n",
    "t1 = time.time()\n",
    "for iter in range(1000):\n",
    "    set_inplace(b, a)\n",
    "print('Inplace: ', time.time() - t1)\n",
    "\n",
    "t1 = time.time()\n",
    "for iter in range(1000):\n",
    "    a = set_notinplace(b)\n",
    "print('Not in place: ', time.time() - t1)\n",
    "\n",
    "# WTF?  Try %memit and id"
   ]
  },
  {
   "cell_type": "code",
   "execution_count": 4,
   "metadata": {},
   "outputs": [
    {
     "name": "stdout",
     "output_type": "stream",
     "text": [
      "OrderedDict([('a', array([[[0.66437677, 0.89573098, 0.53377016, 0.86179103],\n",
      "        [0.81194044, 0.87549005, 0.80827975, 0.97037133],\n",
      "        [0.84310819, 1.02873991, 0.73023418, 0.58747051]],\n",
      "\n",
      "       [[1.0063148 , 1.17924352, 0.94890452, 0.53149581],\n",
      "        [0.9008666 , 0.99752516, 1.10443646, 1.04338153],\n",
      "        [0.9861887 , 0.86280289, 0.8387656 , 0.83128506]]])), ('b', array([4.51412276, 6.68489851, 5.0041398 , 7.02296879, 6.21435241])), ('c', array([[5.92897591, 6.304292  ],\n",
      "       [5.55899665, 4.57259256],\n",
      "       [4.50770571, 5.34007301],\n",
      "       [6.39642929, 6.37029544],\n",
      "       [7.02907154, 4.61861735]]))])\n",
      "{'b': array([4.51412276, 6.68489851, 5.0041398 , 7.02296879, 6.21435241]), 'a': array([[[0.66437677, 0.89573098, 0.53377016, 0.86179103],\n",
      "        [0.81194044, 0.87549005, 0.80827975, 0.97037133],\n",
      "        [0.84310819, 1.02873991, 0.73023418, 0.58747051]],\n",
      "\n",
      "       [[1.0063148 , 1.17924352, 0.94890452, 0.53149581],\n",
      "        [0.9008666 , 0.99752516, 1.10443646, 1.04338153],\n",
      "        [0.9861887 , 0.86280289, 0.8387656 , 0.83128506]]]), 'c': array([[5.92897591, 6.304292  ],\n",
      "       [5.55899665, 4.57259256],\n",
      "       [4.50770571, 5.34007301],\n",
      "       [6.39642929, 6.37029544],\n",
      "       [7.02907154, 4.61861735]])}\n"
     ]
    },
    {
     "data": {
      "text/plain": [
       "0.0"
      ]
     },
     "execution_count": 4,
     "metadata": {},
     "output_type": "execute_result"
    }
   ],
   "source": [
    "\n",
    "\n",
    "def check_dict_equal(dict1, dict2):\n",
    "    assert dict1.keys() == dict2.keys()\n",
    "    for key  in dict1:\n",
    "        assert_array_almost_equal(dict1[key], dict2[key])\n",
    "\n",
    "dict_pattern = paragami.PatternDict()\n",
    "dict_pattern['a'] = paragami.NumericArrayPattern((2, 3, 4), lb=-1, ub=2)\n",
    "dict_pattern['b'] = paragami.NumericArrayPattern((5, ), lb=-1, ub=10)\n",
    "dict_pattern['c'] = paragami.NumericArrayPattern((5, 2), lb=-1, ub=10)\n",
    "\n",
    "dict_val = dict_pattern.random()\n",
    "print(dict_val)\n",
    "dict_val2 = dict(dict_val)\n",
    "print(dict_val2)\n",
    "flat_val1 = dict_pattern.flatten(dict_val, free=True)\n",
    "flat_val2 = dict_pattern.flatten(dict_val2, free=True)\n",
    "\n",
    "np.linalg.norm(flat_val1 - flat_val2)"
   ]
  },
  {
   "cell_type": "code",
   "execution_count": 5,
   "metadata": {},
   "outputs": [
    {
     "data": {
      "text/plain": [
       "39.604015332871924"
      ]
     },
     "execution_count": 5,
     "metadata": {},
     "output_type": "execute_result"
    }
   ],
   "source": [
    "param_dict = dict_pattern.random()\n",
    "\n",
    "def test_function(param_dict):\n",
    "    a = param_dict['a']\n",
    "    b = param_dict['b']\n",
    "    return np.mean(a ** 2) + np.mean(b ** 2)\n",
    "\n",
    "test_function(param_dict)"
   ]
  },
  {
   "cell_type": "code",
   "execution_count": 6,
   "metadata": {},
   "outputs": [
    {
     "name": "stdout",
     "output_type": "stream",
     "text": [
      "Function: <function test_function at 0x7f362a34c9d8>\n",
      "argnum: 0\n",
      "free: True\n",
      "pattern: OrderedDict:\n",
      "\t[a] = Array (2, 3, 4) (lb=-1, ub=2)\n",
      "\t[b] = Array (5,) (lb=-1, ub=10)\n",
      "\t[c] = Array (5, 2) (lb=-1, ub=10)\n"
     ]
    },
    {
     "data": {
      "text/plain": [
       "array([[0.01973457, 0.        , 0.        , ..., 0.        , 0.        ,\n",
       "        0.        ],\n",
       "       [0.        , 0.04455786, 0.        , ..., 0.        , 0.        ,\n",
       "        0.        ],\n",
       "       [0.        , 0.        , 0.03807713, ..., 0.        , 0.        ,\n",
       "        0.        ],\n",
       "       ...,\n",
       "       [0.        , 0.        , 0.        , ..., 0.        , 0.        ,\n",
       "        0.        ],\n",
       "       [0.        , 0.        , 0.        , ..., 0.        , 0.        ,\n",
       "        0.        ],\n",
       "       [0.        , 0.        , 0.        , ..., 0.        , 0.        ,\n",
       "        0.        ]])"
      ]
     },
     "execution_count": 6,
     "metadata": {},
     "output_type": "execute_result"
    }
   ],
   "source": [
    "class PatternedFunction:\n",
    "    def __init__(self, original_fun, pattern, free, argnum=0):\n",
    "        self._fun = original_fun\n",
    "        self._argnum = argnum\n",
    "        self.free = free\n",
    "        self._pattern = pattern\n",
    "        \n",
    "    def __str__(self):\n",
    "        return('Function: {}\\nargnum: {}\\nfree: {}\\npattern: {}'.format(\n",
    "            self._fun, self._argnum, self.free, self._pattern))\n",
    "    \n",
    "    def __call__(self, *args, **kwargs):\n",
    "        flat_val = args[self._argnum]\n",
    "        folded_val = self._pattern.fold(flat_val, free=self.free)\n",
    "        new_args = args[0:self._argnum] + (folded_val, ) + args[self._argnum + 1:-1]\n",
    "        return self._fun(*new_args, **kwargs)\n",
    "\n",
    "    \n",
    "patterned_test_function = PatternedFunction(test_function, dict_pattern, True)\n",
    "print(patterned_test_function)\n",
    "\n",
    "flat_param_dict = dict_pattern.flatten(param_dict, free=True)\n",
    "assert(np.abs(patterned_test_function(flat_param_dict) - test_function(param_dict)) < 1e-12)\n",
    "\n",
    "patterned_test_function_grad = autograd.grad(patterned_test_function)\n",
    "patterned_test_function_grad(flat_param_dict)\n",
    "\n",
    "patterned_test_function_hessian = autograd.hessian(patterned_test_function)\n",
    "patterned_test_function_hessian(flat_param_dict)"
   ]
  },
  {
   "cell_type": "code",
   "execution_count": 7,
   "metadata": {},
   "outputs": [
    {
     "name": "stdout",
     "output_type": "stream",
     "text": [
      "Function: <function test_function at 0x7f362a34cae8>\n",
      "argnums: [1 3]\n",
      "free: [ True  True]\n",
      "patterns: [<paragami.numeric_array_patterns.NumericArrayPattern object at 0x7f362a368278>\n",
      " <paragami.numeric_array_patterns.NumericArrayPattern object at 0x7f362a3681d0>]\n"
     ]
    }
   ],
   "source": [
    "class FlattenedFunction:\n",
    "    def __init__(self, original_fun, patterns, free, argnums=None):\n",
    "        self._fun = original_fun\n",
    "        self._patterns = np.atleast_1d(patterns)\n",
    "        if argnums is None:\n",
    "            argnums = np.arange(0, len(self._patterns))\n",
    "        if len(self._patterns.shape) != 1:\n",
    "            raise ValueError('patterns must be a 1d vector.')\n",
    "        self._argnums = np.atleast_1d(argnums)\n",
    "        self._argnum_sort = np.argsort(self._argnums)\n",
    "        self.free = np.broadcast_to(free, self._patterns.shape)\n",
    "\n",
    "        self._validate_args()\n",
    "        \n",
    "    def _validate_args(self):\n",
    "        if len(self._argnums.shape) != 1:\n",
    "            raise ValueError('argnums must be a 1d vector.')\n",
    "        if len(self._argnums) != len(self._patterns):\n",
    "            raise ValueError('argnums must be the same length as patterns.')\n",
    "        if len(self.free.shape) != 1:\n",
    "            raise ValueError('free must be a single boolean or a 1d vector of booleans.')\n",
    "        if len(self.free) != len(self._patterns):\n",
    "            raise ValueError('free must broadcast to the same shape as patterns.')\n",
    "        \n",
    "    def __str__(self):\n",
    "        return('Function: {}\\nargnums: {}\\nfree: {}\\npatterns: {}'.format(\n",
    "            self._fun, self._argnums, self.free, self._patterns))\n",
    "    \n",
    "    def __call__(self, *args, **kwargs):\n",
    "        # Loop through the arguments from beginning to end, replacing parameters\n",
    "        # with their flattened values.\n",
    "        new_args = ()\n",
    "        last_argnum = 0\n",
    "        for i in self._argnum_sort:\n",
    "            argnum = self._argnums[i]\n",
    "            folded_val = self._patterns[i].fold(args[argnum], free=self.free[i])\n",
    "            new_args += args[last_argnum:argnum] + (folded_val, )\n",
    "            last_argnum = argnum + 1\n",
    "            \n",
    "        return self._fun(*new_args, **kwargs)\n",
    "\n",
    "\n",
    "def test_function(x, a, y, b):\n",
    "    return x ** 2 + y ** 2 + np.mean(a ** 2) + np.mean(b ** 2)\n",
    "\n",
    "\n",
    "x = 2\n",
    "y = 3\n",
    "a = param_dict['a']\n",
    "b = param_dict['b']\n",
    "a_flat = dict_pattern['a'].flatten(a, True)\n",
    "b_flat = dict_pattern['b'].flatten(b, True)\n",
    "\n",
    "\n",
    "patterns = [dict_pattern['a'], dict_pattern['b']]\n",
    "flat_test_function = FlattenedFunction(\n",
    "    test_function, patterns, free=[True, True], argnums=[1, 3])\n",
    "\n",
    "assert(np.linalg.norm(\n",
    "    test_function(x, a, y, b) - flat_test_function(x, a_flat, y, b_flat) < 1e-9))\n",
    "\n",
    "print(flat_test_function)\n",
    "\n",
    "\n",
    "\n",
    "\n",
    "def test_function(param_dict):\n",
    "    a = param_dict['a']\n",
    "    b = param_dict['b']\n",
    "    return np.mean(a ** 2) + np.mean(b ** 2)\n",
    "\n",
    "flat_test_function = FlattenedFunction(\n",
    "    test_function, dict_pattern, free=True)\n",
    "param_dict_flat = dict_pattern.flatten(param_dict, free=True)\n",
    "assert(np.linalg.norm(\n",
    "    test_function(param_dict) - flat_test_function(param_dict_flat) < 1e-9))\n",
    "\n"
   ]
  },
  {
   "cell_type": "code",
   "execution_count": 8,
   "metadata": {},
   "outputs": [
    {
     "data": {
      "text/plain": [
       "array([array(datetime.datetime(2018, 10, 25, 15, 40, 26, 10484), dtype=object)],\n",
       "      dtype=object)"
      ]
     },
     "execution_count": 8,
     "metadata": {},
     "output_type": "execute_result"
    }
   ],
   "source": [
    "import datetime\n",
    "np.array([datetime.datetime.now()])"
   ]
  },
  {
   "cell_type": "code",
   "execution_count": 9,
   "metadata": {},
   "outputs": [
    {
     "name": "stdout",
     "output_type": "stream",
     "text": [
      "a:  [[0.37173823 0.37938577]\n",
      " [0.75542049 0.90285716]]\n",
      "(3, 4)\n",
      "[[0.37173823 0.37938577]\n",
      " [0.75542049 0.90285716]]\n"
     ]
    }
   ],
   "source": [
    "a = np.random.random((2, 2))\n",
    "print('a: ', a)\n",
    "\n",
    "shape = (3, 4)\n",
    "foo = np.empty(shape, dtype='object')\n",
    "for i in range(3):\n",
    "    for j in range(4):\n",
    "        foo[i, j] = a\n",
    "print(foo.shape)\n",
    "print(foo[0, 1])"
   ]
  },
  {
   "cell_type": "code",
   "execution_count": 10,
   "metadata": {},
   "outputs": [
    {
     "name": "stdout",
     "output_type": "stream",
     "text": [
      "[[0.95159685 0.56446536]\n",
      " [0.83483776 0.77302476]]\n",
      "(12, 2, 2)\n",
      "float64\n",
      "With shape broadcasting:\n",
      " [0.95159685 0.56446536]\n",
      "Of a dict:\n",
      "(3, 4)\n",
      "{'a': 5}\n",
      "\n",
      "Of an object array:\n",
      "[[0.2466555802189665 0.443340827643413]\n",
      " [0.7321678304150749 0.0741130893572356]]\n",
      "(3, 4, 2, 2)\n",
      "object\n"
     ]
    }
   ],
   "source": [
    "a = np.random.random((2, 2))\n",
    "print(a)\n",
    "shape = (3, 4)\n",
    "#foo = np.reshape(np.array([a for i in range(np.prod(shape))]), shape + a.shape)\n",
    "foo = np.array([a for i in range(np.prod(shape))])\n",
    "print(foo.shape)\n",
    "print(foo.dtype)\n",
    "print('With shape broadcasting:\\n', foo[0, 0])\n",
    "\n",
    "print('Of a dict:')\n",
    "a = dict(a=5)\n",
    "shape = (3, 4)\n",
    "foo = np.reshape(np.array([a for i in range(np.prod(shape))], dtype='object'), shape)\n",
    "print(foo.shape)\n",
    "print(foo[0, 0])\n",
    "\n",
    "\n",
    "print('\\nOf an object array:')\n",
    "a = np.array(np.random.random((2, 2)), dtype='object')\n",
    "print(a)\n",
    "shape = (3, 4)\n",
    "foo = np.reshape(np.array([a for i in range(np.prod(shape))]), shape + a.shape)\n",
    "print(foo.shape)\n",
    "print(foo.dtype)\n"
   ]
  },
  {
   "cell_type": "code",
   "execution_count": 11,
   "metadata": {},
   "outputs": [
    {
     "name": "stdout",
     "output_type": "stream",
     "text": [
      "True\n",
      "True\n",
      "False\n"
     ]
    }
   ],
   "source": [
    "def is_np(a):\n",
    "    return(type(a) is np.ndarray)\n",
    "\n",
    "print(is_np(np.random.random((2, 2))))\n",
    "\n",
    "a = np.array(np.random.random((2, 2)), dtype='object')\n",
    "print(is_np(a))\n",
    "\n",
    "print(is_np(dict(a=4)))\n"
   ]
  },
  {
   "cell_type": "code",
   "execution_count": 13,
   "metadata": {},
   "outputs": [
    {
     "name": "stdout",
     "output_type": "stream",
     "text": [
      "(2, 3, 2)\n",
      "[[[4.9039154  4.99681502]\n",
      "  [6.23815611 5.94067709]\n",
      "  [6.77417041 6.85706096]]\n",
      "\n",
      " [[6.7673582  6.15262281]\n",
      "  [7.02905015 5.34491116]\n",
      "  [6.94208903 5.76084896]]]\n"
     ]
    },
    {
     "data": {
      "text/plain": [
       "array([4.9039154 , 4.99681502, 6.23815611, 5.94067709, 6.77417041,\n",
       "       6.85706096, 6.7673582 , 6.15262281, 7.02905015, 5.34491116,\n",
       "       6.94208903, 5.76084896])"
      ]
     },
     "execution_count": 13,
     "metadata": {},
     "output_type": "execute_result"
    }
   ],
   "source": [
    "# Array\n",
    "from paragami.base_patterns import PatternArray\n",
    "\n",
    "pattern_array = PatternArray(\n",
    "    (2, 3), paragami.NumericArrayPattern(shape=(2, ), lb=-1, ub=10.0))\n",
    "\n",
    "val = pattern_array.random()\n",
    "print(val.shape)\n",
    "print(val)\n",
    "\n",
    "pattern_array.flatten(val, True)\n",
    "pattern_array.flatten(val, False)\n",
    "\n"
   ]
  }
 ],
 "metadata": {
  "kernelspec": {
   "display_name": "Python 3",
   "language": "python",
   "name": "python3"
  },
  "language_info": {
   "codemirror_mode": {
    "name": "ipython",
    "version": 3
   },
   "file_extension": ".py",
   "mimetype": "text/x-python",
   "name": "python",
   "nbconvert_exporter": "python",
   "pygments_lexer": "ipython3",
   "version": "3.5.2"
  }
 },
 "nbformat": 4,
 "nbformat_minor": 2
}
